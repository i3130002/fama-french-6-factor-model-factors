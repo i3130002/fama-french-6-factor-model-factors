{
 "cells": [
  {
   "cell_type": "code",
   "execution_count": 1,
   "metadata": {},
   "outputs": [],
   "source": [
    "import pandas\n",
    "import math\n",
    "from sklearn import linear_model\n",
    "from sklearn.metrics import *\n",
    "\n",
    "\n",
    "def saveDFToExcel(dataFrame,fileName,sheetName):\n",
    "  regressionDF = pandas.DataFrame(dataFrame)\n",
    "  regressionDF.to_excel(fileName + '.xlsx', sheet_name=sheetName,index=False)\n",
    "\n",
    "df = pandas.read_excel(\"Factors (with market & industries).xlsx\", \"Factors\")\n",
    "rollingSize = 6\n",
    "offsetMonths = 36 \n",
    "industryCount = 50\n",
    "\n",
    "for i in range(1,industryCount+1):\n",
    "  rollingAverage = []\n",
    "  for monthIndex in range(0,offsetMonths):\n",
    "    rollingAverage.append(None)\n",
    "  for monthIndex in range(offsetMonths,len(df)-1):\n",
    "    rollingWindow = df[\"Industry\"+str(i)][monthIndex-rollingSize+1:monthIndex+1]\n",
    "    avg = sum(rollingWindow) / rollingSize\n",
    "    rollingAverage.append(avg)\n",
    "  rollingAverage.append(None)\n",
    "  df[\"rollingAverage\"+str(i)] = rollingAverage\n",
    "  \n",
    "saveDFToExcel(df,\"IndustryMomentumRollingAverages\",\"RollingAverages\")\n"
   ]
  },
  {
   "cell_type": "code",
   "execution_count": 2,
   "metadata": {},
   "outputs": [
    {
     "name": "stdout",
     "output_type": "stream",
     "text": [
      "[[12, 23, 27, 31, 50], [3, 26, 27, 31, 50], [26, 27, 31, 35, 44], [6, 26, 27, 35, 45], [4, 26, 27, 39, 45], [5, 6, 21, 26, 45, 49], [15, 18, 21, 40, 45, 49], [6, 9, 10, 15, 18, 21], [6, 9, 10, 15, 18, 30], [6, 9, 12, 15, 18, 30], [9, 15, 18, 25, 30], [7, 10, 12, 19, 23, 25], [6, 7, 12, 25, 34], [7, 10, 12, 23, 34], [7, 10, 20, 28, 34], [1, 10, 20, 28, 34], [1, 20, 34, 38, 41], [1, 26, 28, 34, 41], [1, 4, 20, 26, 34], [1, 4, 26, 38, 40]]\n"
     ]
    }
   ],
   "source": [
    "acceptedIndustriesList = []\n",
    "for monthIndex in range(offsetMonths, len(df)):\n",
    "  allRollings = []\n",
    "  for i in range(1,industryCount+1):\n",
    "    allRollings.append(df[\"rollingAverage\"+str(i)][monthIndex])\n",
    "  allRollings.sort()\n",
    "  lastAcceptable = allRollings[int(industryCount * -0.1)]\n",
    "  acceptedIndustries = []\n",
    "  for i in range(1,industryCount+1):\n",
    "    if df[\"rollingAverage\"+str(i)][monthIndex]>= lastAcceptable:\n",
    "      acceptedIndustries.append(i)\n",
    "  acceptedIndustriesList.append(acceptedIndustries)\n",
    "\n",
    "print(acceptedIndustriesList[:20])"
   ]
  },
  {
   "cell_type": "code",
   "execution_count": 3,
   "metadata": {},
   "outputs": [
    {
     "name": "stdout",
     "output_type": "stream",
     "text": [
      "1.1946160684626892\n"
     ]
    }
   ],
   "source": [
    "strategyYield = 1\n",
    "monthlyYieldHistory = {\"month\":[],\"yield\":[],\"strategyYield\":[]}\n",
    "for monthIndex in range(offsetMonths, len(df)-1):\n",
    "  weight = 1/ int(industryCount * 0.1)\n",
    "  monthYield = 0\n",
    "  for acceptedIndustry in acceptedIndustriesList[monthIndex-offsetMonths]:\n",
    "      monthYield += weight* df[\"Industry\"+str(acceptedIndustry)][monthIndex+1]\n",
    "  strategyYield *= 1+monthYield\n",
    "  monthlyYieldHistory[\"month\"].append(df[\"month\"][monthIndex+1])\n",
    "  monthlyYieldHistory[\"yield\"].append(monthYield)\n",
    "  monthlyYieldHistory[\"strategyYield\"].append(strategyYield)\n",
    "\n",
    "print(strategyYield)\n",
    "\n",
    "saveDFToExcel(monthlyYieldHistory,\"IndustryMomentumStrategy\",\"Monthly yields\")"
   ]
  }
 ],
 "metadata": {
  "interpreter": {
   "hash": "1448b48b023bcc9c3d4a79e814720a10ca6d4244f75e0f7ce4af58f96ba2b7d3"
  },
  "kernelspec": {
   "display_name": "Python 3.8.8 64-bit ('base': conda)",
   "name": "python3"
  },
  "language_info": {
   "codemirror_mode": {
    "name": "ipython",
    "version": 3
   },
   "file_extension": ".py",
   "mimetype": "text/x-python",
   "name": "python",
   "nbconvert_exporter": "python",
   "pygments_lexer": "ipython3",
   "version": "3.8.8"
  },
  "orig_nbformat": 4
 },
 "nbformat": 4,
 "nbformat_minor": 2
}
