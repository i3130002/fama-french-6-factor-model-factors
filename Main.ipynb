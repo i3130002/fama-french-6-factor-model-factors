{
 "cells": [
  {
   "cell_type": "markdown",
   "metadata": {},
   "source": [
    "# Prepare excel read with pandas"
   ]
  },
  {
   "cell_type": "code",
   "execution_count": 136,
   "metadata": {},
   "outputs": [],
   "source": [
    "import pandas as pd\n",
    "# data = pd.read_excel(r'monthly_market_data - Copy.xlsx')\n",
    "data = pd.read_excel(r'monthly market data.xlsx')\n",
    "\n",
    "# print(data)\n"
   ]
  },
  {
   "cell_type": "markdown",
   "metadata": {},
   "source": [
    "# Read Excel to memnory and create classes"
   ]
  },
  {
   "cell_type": "code",
   "execution_count": 137,
   "metadata": {},
   "outputs": [],
   "source": [
    "import operator\n",
    "\n",
    "class CompanyInfo:\n",
    "    def __init__(self, tickerKey, name, month,numberOfOutstandingShares, marketcap,b2m, adjClose,inv,op,sourceSubsectorCode\n",
    "):\n",
    "        self.tickerKey = tickerKey\n",
    "        self.name = name\n",
    "        self.month = month\n",
    "        self.rollingAverage = None\n",
    "        self.numberOfOutstandingShares = numberOfOutstandingShares if not pd.isnull(numberOfOutstandingShares) else None\n",
    "        self.marketcap = marketcap if not pd.isnull(marketcap) else None\n",
    "        self.b2m = b2m if not pd.isnull(b2m) else None\n",
    "        self.closeAdjust = adjClose\n",
    "        self.momentum = None\n",
    "        self.sizeMOM = None\n",
    "        self.sizeHML = None\n",
    "        self.sizeRMW = None\n",
    "        self.sizeCMA = None\n",
    "        self.CMASize = None\n",
    "        self.RMWSize = None\n",
    "        self.BperMSize = None\n",
    "        self.currentYield = None\n",
    "        self.inv = inv if not pd.isnull(inv) else None\n",
    "        self.op = op if not pd.isnull(op) else None\n",
    "        self.sourceSubsectorCode = sourceSubsectorCode\n",
    "\n",
    "\n",
    "    def __repr__(self):\n",
    "         return self.__str__()\n",
    "\n",
    "    def __str__(self):\n",
    "        return \"tickerKey:\"+str(self.tickerKey) + \\\n",
    "            \"\\t month:\" + str(self.month) + \\\n",
    "            \"\\t closeAdjust:\" + str(self.closeAdjust) + \\\n",
    "            \"\\t currentYield:\" + str(self.currentYield) + \\\n",
    "            \"\\t numberOfOutstandingShares:\" + str(self.numberOfOutstandingShares) + \\\n",
    "            \"\\t marketcap:\" + str(self.marketcap) + \\\n",
    "            \"\\t b2m:\" + str(self.b2m) + \\\n",
    "            \"\\t rollingAverage:\" + str(self.rollingAverage) + \\\n",
    "            \"\\t momentum:\" + str(self.momentum) + \\\n",
    "            \"\\t sizeMOM:\" + str(self.sizeMOM) + \\\n",
    "            \"\\t sizeHML:\" + str(self.sizeHML) + \\\n",
    "            \"\\t sizeRMW:\" + str(self.sizeRMW) + \\\n",
    "            \"\\t sizeCMA:\" + str(self.sizeCMA) +\"\\n\"\n",
    "\n",
    "    def convertToList(self):\n",
    "      return [getattr(self,atr) for atr in self.__dict__]\n",
    "\n",
    "\n",
    "companyInfoDict  = {}\n",
    "def addCompanyInfoToList(companyInfo:CompanyInfo):\n",
    "    if companyInfo.tickerKey not in companyInfoDict:\n",
    "      companyInfoDict[companyInfo.tickerKey]={}\n",
    "    if companyInfo.month not in companyInfoDict[companyInfo.tickerKey]:\n",
    "      companyInfoDict[companyInfo.tickerKey][companyInfo.month]=companyInfo\n",
    "    else:\n",
    "      raise Exception(\"Company info exists.\" + str(companyInfo))\n",
    "\n",
    "def findCompanyInfo(tickerKey, month):\n",
    "    if tickerKey in companyInfoDict and month in companyInfoDict[tickerKey]:\n",
    "      return companyInfoDict[tickerKey][month]\n",
    "    return None\n",
    "\n",
    "def displayCompanyInfoHeader():\n",
    "  for tickerKey in companyInfoDict.keys():\n",
    "      for month in companyInfoDict[tickerKey].keys():\n",
    "        company:CompanyInfo = findCompanyInfo(tickerKey,month)\n",
    "        if company is None:\n",
    "          continue\n",
    "        attrs = []\n",
    "        for attribute in vars(company):\n",
    "          attrs.append(attribute)\n",
    "        print(attrs)\n",
    "        return\n",
    "\n",
    "def displayCompanyInfo(tickerKeys:list,months:list):\n",
    "    displayCompanyInfoHeader()\n",
    "    for tickerKey in tickerKeys:\n",
    "      sortedMonths = sorted(months)\n",
    "      for month in sortedMonths:\n",
    "        company:CompanyInfo = findCompanyInfo(tickerKey,month)\n",
    "        if company is None:\n",
    "          continue\n",
    "        print(company.convertToList())\n",
    "\n",
    "allMonths = []\n",
    "\n",
    "\n",
    "for i, companyInfoPandas in data.iterrows():\n",
    "    ci = CompanyInfo(tickerKey=companyInfoPandas[\"TickerKey\"],\n",
    "                                       name=companyInfoPandas[\"TickerNamePooyaFA\"],\n",
    "                                       month=companyInfoPandas[\"DayKeyFA\"]// 100,\n",
    "                                       numberOfOutstandingShares=companyInfoPandas[\"NumberOfOutstandingShares\"],\n",
    "                                       marketcap=companyInfoPandas[\"marketcap\"],\n",
    "                                       b2m=companyInfoPandas[\"B2M\"],\n",
    "                                       adjClose=companyInfoPandas[\"AdjClose\"],\n",
    "                                       inv=companyInfoPandas[\"INV\"],\n",
    "                                       op=companyInfoPandas[\"OP\"],\n",
    "                                       sourceSubsectorCode=companyInfoPandas[\"SourceSubsectorCode\"],\n",
    "                                       )\n",
    "    addCompanyInfoToList(ci)\n",
    "    allMonths.append(ci.month)\n",
    "\n",
    "allMonths = list(set(allMonths))\n",
    "allMonths.sort()\n"
   ]
  },
  {
   "cell_type": "code",
   "execution_count": 138,
   "metadata": {},
   "outputs": [],
   "source": [
    "# companies to excel\n",
    "def exportCompanyListToExcel(excelFileName):\n",
    "  rows = []\n",
    "  for company in companyInfoDict.keys():\n",
    "    for month in sorted(companyInfoDict[company].keys()):\n",
    "      rows.append(companyInfoDict[company][month].convertToList())\n",
    "\n",
    "  company_ = None\n",
    "  for tickerKey in companyInfoDict.keys():\n",
    "      for month in sorted(companyInfoDict[company].keys()):\n",
    "        company:CompanyInfo = findCompanyInfo(tickerKey,month)\n",
    "        if company is None:\n",
    "          continue\n",
    "        company_ = company\n",
    "        break\n",
    "      if company_ is not None:\n",
    "        break\n",
    "  dfOut = pd.DataFrame(rows,columns=company_.__dict__)\n",
    "  dfOut.to_excel(excelFileName+'.xlsx', sheet_name='TMPExport')"
   ]
  },
  {
   "cell_type": "markdown",
   "metadata": {},
   "source": [
    "# Dict access sample and test"
   ]
  },
  {
   "cell_type": "code",
   "execution_count": 139,
   "metadata": {},
   "outputs": [
    {
     "name": "stdout",
     "output_type": "stream",
     "text": [
      "[1, 9, 10, 219, 223, 231, 234, 239, 243, 247]\n",
      "[139712, 139801, 139802, 139803, 139804, 139805, 139806, 139807, 139808, 139809]\n",
      "tickerKey:1\t month:139712\t closeAdjust:802.5232992867204\t currentYield:None\t numberOfOutstandingShares:3000000000.0\t marketcap:4959000000000.0\t b2m:1.2906721802\t rollingAverage:None\t momentum:None\t sizeMOM:None\t sizeHML:None\t sizeRMW:None\t sizeCMA:None\n",
      "\n"
     ]
    }
   ],
   "source": [
    "print(list(companyInfoDict.keys())[:10])\n",
    "print(list(companyInfoDict[1].keys())[:10])\n",
    "print(companyInfoDict[1][139712])\n"
   ]
  },
  {
   "cell_type": "markdown",
   "metadata": {},
   "source": [
    "# Extract company names"
   ]
  },
  {
   "cell_type": "code",
   "execution_count": 140,
   "metadata": {},
   "outputs": [
    {
     "name": "stdout",
     "output_type": "stream",
     "text": [
      "[1, 9, 10, 219, 223, 231, 234, 239, 243, 247, 251, 255, 259, 263, 267, 271, 275, 279, 283, 287, 291, 295, 301, 303, 307, 311, 315, 320, 323, 327, 336, 340, 344, 347, 350, 355, 359, 363, 370, 375, 378, 383, 389, 395, 398, 403, 406, 411, 414, 422, 423, 430, 432, 434, 438, 446, 447, 450, 454, 458, 463, 466, 474, 475, 478, 483, 487, 490, 494, 499, 502, 510, 511, 515, 517, 526, 527, 534, 538, 547, 550, 558, 559, 563, 566, 574, 575, 578, 583, 587, 591, 599, 603, 607, 610, 615, 622, 627, 631, 635, 640, 646, 647, 654, 655, 659, 662, 667, 670, 675, 680, 687, 689, 698, 708, 711, 718, 724, 725, 731, 733, 743, 744, 747, 751, 754, 759, 762, 767, 772, 774, 779, 786, 787, 791, 794, 798, 801, 807, 810, 815, 820, 822, 827, 839, 842, 847, 852, 855, 863, 866, 871, 875, 879, 883, 887, 890, 893, 899, 902, 908, 909, 915, 922, 931, 935, 939, 943, 947, 951, 955, 958, 965, 968, 969, 981, 985, 990, 993, 1003, 1010, 1013, 1020, 1028, 1032, 1033, 1041, 1044, 1048, 1053, 1059, 1064, 1068, 1074, 1077, 1084, 1088, 1093, 1099, 1101, 1106, 1109, 1110, 1117, 1120, 1125, 1133, 1137, 1141, 1144, 1149, 1152, 1157, 1161, 1169, 1174, 1177, 1180, 1185, 1187, 1193, 1197, 1200, 1205, 1211, 1214, 1215, 1222, 1224, 1226, 1233, 1235, 1242, 1247, 1252, 1256, 1261, 1265, 1269, 1273, 1281, 1283, 1284, 1288, 1297, 1301, 1304, 1310, 1315, 1318, 1323, 1331, 1333, 1335, 1338, 1345, 1349, 1354, 1356, 1364, 1366, 1369, 1373, 1376, 1380, 1387, 1389, 1394, 1397, 1401, 1405, 1413, 1417, 1421, 1424, 1430, 1433, 1436, 1444, 1452, 1455, 1458, 1459, 1465, 1468, 1473, 1477, 1481, 1493, 1499, 1505, 1509, 1512, 1517, 1524, 1525, 1529, 1536, 1537, 1544, 1549, 1553, 1565, 1567, 1573, 1577, 1584, 1590, 1603, 1609, 1614, 1617, 1780, 1783, 1789, 1801, 1803, 1813, 1823, 1828, 1836, 1848, 1857, 1865, 1867, 1872, 1905, 2080, 2137, 2139, 2215, 2511, 2521, 2535, 2551, 2583, 2632, 2682, 2728, 2742, 2745, 2769, 2777, 2785, 2788, 2801, 2817, 2823, 2843, 2845, 2858, 2903, 2908, 2935, 2956, 2969, 2978, 3003, 3006, 3019, 3055, 3081, 3091, 3093, 4711, 4726, 4734, 4742, 4827, 4892, 5450, 5454, 5475, 5530, 5574, 5597, 5603, 5621, 5623, 5640, 74108, 74132, 74138, 74151, 74153, 74156, 74165, 74167, 74185, 74238, 74294, 74311, 74315, 74418, 74450, 74516, 74536, 74546, 74587, 74605, 74637, 74642, 74652, 74672, 74699, 74722, 74753, 74769, 74888, 74896, 74912, 74918, 74927, 74935, 74975, 74978, 74995, 75039, 75247, 75251, 75329, 75338, 75406, 75418, 75431, 75438, 75449, 75470, 75546, 75585, 75616, 75646, 75686, 75706, 75734, 75809, 75884, 75889, 75986, 75993, 76002, 76034, 76074, 76178, 76222, 76298, 76383, 76391, 76527, 77226, 78553, 78680, 78797, 78873, 78897, 78937, 79045, 79065, 79570, 79581, 79585, 79665, 79685, 79985, 80158, 80299, 80375, 80427, 80702, 81089, 81109, 81130, 81246, 81474, 82566, 82570, 82574, 82734, 83218, 83474, 83478, 83594, 83762, 85342, 85346, 85362, 85451, 85595, 85731, 85843, 86487, 86499, 86503, 86507, 86511, 86515, 86547, 86949, 87002, 87103, 87793, 89401, 90391, 90394, 90606, 90926, 91218, 91586, 91594, 92266, 92294, 92405, 93470, 93649, 94054, 94330, 94807, 96077, 96140, 96181, 96324, 96325, 96335, 96338, 96516, 96604, 96813, 99626, 100743, 101001, 101021, 101033, 101060, 101294, 101872, 102007, 102543, 102749, 102799, 102926, 102971, 103015, 103025, 103036, 103039, 103046, 103049, 103064, 103065, 103067, 103069, 103076, 103082, 103084, 103093, 103095, 103124, 103130, 103134, 103139, 103143, 103145, 103150, 103154, 103155, 103156, 103164, 103197, 103315, 103316, 103318, 103681, 103742, 104894, 104898, 104978, 105479, 105638, 105765, 105828, 106325, 106470, 106643, 107059, 107696, 107874, 108032]\n"
     ]
    }
   ],
   "source": [
    "companyTickerSet = list(companyInfoDict.keys())\n",
    "print(companyTickerSet)\n"
   ]
  },
  {
   "cell_type": "markdown",
   "metadata": {},
   "source": [
    "# Extract company months"
   ]
  },
  {
   "cell_type": "code",
   "execution_count": 141,
   "metadata": {},
   "outputs": [
    {
     "name": "stdout",
     "output_type": "stream",
     "text": [
      "[138001, 138002, 138003, 138004, 138005, 138006, 138007, 138008, 138009, 138010, 138011, 138012, 138101, 138102, 138103, 138104, 138105, 138106, 138107, 138108, 138109, 138110, 138111, 138112, 138201, 138202, 138203, 138204, 138205, 138206, 138207, 138208, 138209, 138210, 138211, 138212, 138301, 138302, 138303, 138304, 138305, 138306, 138307, 138308, 138309, 138310, 138311, 138312, 138401, 138402, 138403, 138404, 138405, 138406, 138407, 138408, 138409, 138410, 138411, 138412, 138501, 138502, 138503, 138504, 138505, 138506, 138507, 138508, 138509, 138510, 138511, 138512, 138601, 138602, 138603, 138604, 138605, 138606, 138607, 138608, 138609, 138610, 138611, 138612, 138701, 138702, 138703, 138704, 138705, 138706, 138707, 138708, 138709, 138710, 138711, 138712, 138801, 138802, 138803, 138804, 138805, 138806, 138807, 138808, 138809, 138810, 138811, 138812, 138901, 138902, 138903, 138904, 138905, 138906, 138907, 138908, 138909, 138910, 138911, 138912, 139001, 139002, 139003, 139004, 139005, 139006, 139007, 139008, 139009, 139010, 139011, 139012, 139101, 139102, 139103, 139104, 139105, 139106, 139107, 139108, 139109, 139110, 139111, 139112, 139201, 139202, 139203, 139204, 139205, 139206, 139207, 139208, 139209, 139210, 139211, 139212, 139301, 139302, 139303, 139304, 139305, 139306, 139307, 139308, 139309, 139310, 139311, 139312, 139401, 139402, 139403, 139404, 139405, 139406, 139407, 139408, 139409, 139410, 139411, 139412, 139501, 139502, 139503, 139504, 139505, 139506, 139507, 139508, 139509, 139510, 139511, 139512, 139601, 139602, 139603, 139604, 139605, 139606, 139607, 139608, 139609, 139610, 139611, 139612, 139701, 139702, 139703, 139704, 139705, 139706, 139707, 139708, 139709, 139710, 139711, 139712, 139801, 139802, 139803, 139804, 139805, 139806, 139807, 139808, 139809, 139810, 139811, 139812, 139901, 139902, 139903, 139904, 139905, 139906, 139907, 139908, 139909, 139910, 139911, 139912, 140001, 140002, 140003, 140004]\n",
      "Total: 244\n"
     ]
    }
   ],
   "source": [
    "print(allMonths)\n",
    "print(\"Total:\",len(allMonths))"
   ]
  },
  {
   "cell_type": "code",
   "execution_count": 142,
   "metadata": {},
   "outputs": [
    {
     "name": "stdout",
     "output_type": "stream",
     "text": [
      "['tickerKey', 'name', 'month', 'rollingAverage', 'numberOfOutstandingShares', 'marketcap', 'b2m', 'closeAdjust', 'momentum', 'sizeMOM', 'sizeHML', 'sizeRMW', 'sizeCMA', 'CMASize', 'RMWSize', 'BperMSize', 'currentYield', 'inv', 'op', 'sourceSubsectorCode']\n",
      "[9, 'پاکسان\\u200c', 138001, None, 90000000.0, 460800000000.0, 4.9385362299, 10.282307670219264, None, None, None, None, None, None, None, None, None, 0.8095322274960436, 0.29584800863123173, 4424]\n",
      "[9, 'پاکسان\\u200c', 138002, None, 90000000.0, 481500000000.0, 5.1603845371, 10.744208210092395, None, None, None, None, None, None, None, None, None, 0.9470740522344644, 0.12900261418635073, 4424]\n",
      "[9, 'پاکسان\\u200c', 138003, None, 90000000.0, 494910000000.0, 5.3041036578, 11.043439429401511, None, None, None, None, None, None, None, None, None, 0.3608801681067647, 0.8296664347356032, 4424]\n"
     ]
    }
   ],
   "source": [
    "displayCompanyInfo(companyTickerSet[:3],allMonths[:3])"
   ]
  },
  {
   "cell_type": "markdown",
   "metadata": {},
   "source": [
    "# Fill missing close adjust"
   ]
  },
  {
   "cell_type": "code",
   "execution_count": 143,
   "metadata": {},
   "outputs": [
    {
     "name": "stdout",
     "output_type": "stream",
     "text": [
      "None privuse marketcap tickerKey:2511\t month:138608\t closeAdjust:306.273415\t currentYield:None\t numberOfOutstandingShares:None\t marketcap:None\t b2m:None\t rollingAverage:None\t momentum:None\t sizeMOM:None\t sizeHML:None\t sizeRMW:None\t sizeCMA:None\n",
      "\n",
      "None privuse marketcap tickerKey:2511\t month:139004\t closeAdjust:281.955124\t currentYield:None\t numberOfOutstandingShares:None\t marketcap:None\t b2m:None\t rollingAverage:None\t momentum:None\t sizeMOM:None\t sizeHML:None\t sizeRMW:None\t sizeCMA:None\n",
      "\n",
      "None privuse marketcap tickerKey:2551\t month:138502\t closeAdjust:22.141126906876828\t currentYield:None\t numberOfOutstandingShares:None\t marketcap:None\t b2m:None\t rollingAverage:None\t momentum:None\t sizeMOM:None\t sizeHML:None\t sizeRMW:None\t sizeCMA:None\n",
      "\n",
      "None privuse marketcap tickerKey:2551\t month:138708\t closeAdjust:83.16439779553711\t currentYield:None\t numberOfOutstandingShares:None\t marketcap:None\t b2m:None\t rollingAverage:None\t momentum:None\t sizeMOM:None\t sizeHML:None\t sizeRMW:None\t sizeCMA:None\n",
      "\n",
      "***\tNo market cap while having closed adjust for TickerKey:2583 Month:138804\n",
      "None privuse marketcap tickerKey:2583\t month:138901\t closeAdjust:44.172271\t currentYield:None\t numberOfOutstandingShares:None\t marketcap:None\t b2m:None\t rollingAverage:None\t momentum:None\t sizeMOM:None\t sizeHML:None\t sizeRMW:None\t sizeCMA:None\n",
      "\n",
      "None privuse marketcap tickerKey:2583\t month:138903\t closeAdjust:47.330218\t currentYield:None\t numberOfOutstandingShares:None\t marketcap:None\t b2m:None\t rollingAverage:None\t momentum:None\t sizeMOM:None\t sizeHML:None\t sizeRMW:None\t sizeCMA:None\n",
      "\n",
      "None privuse marketcap tickerKey:2583\t month:139011\t closeAdjust:26.316225\t currentYield:None\t numberOfOutstandingShares:None\t marketcap:None\t b2m:None\t rollingAverage:None\t momentum:None\t sizeMOM:None\t sizeHML:None\t sizeRMW:None\t sizeCMA:None\n",
      "\n",
      "None privuse marketcap tickerKey:2632\t month:138402\t closeAdjust:13266.46602\t currentYield:None\t numberOfOutstandingShares:None\t marketcap:None\t b2m:None\t rollingAverage:None\t momentum:None\t sizeMOM:None\t sizeHML:None\t sizeRMW:None\t sizeCMA:None\n",
      "\n",
      "None privuse marketcap tickerKey:2632\t month:138903\t closeAdjust:4071.2\t currentYield:None\t numberOfOutstandingShares:None\t marketcap:None\t b2m:None\t rollingAverage:None\t momentum:None\t sizeMOM:None\t sizeHML:None\t sizeRMW:None\t sizeCMA:None\n",
      "\n",
      "***\tNo market cap while having closed adjust for TickerKey:2728 Month:138404\n",
      "None privuse marketcap tickerKey:2728\t month:138902\t closeAdjust:678.0\t currentYield:None\t numberOfOutstandingShares:None\t marketcap:None\t b2m:None\t rollingAverage:None\t momentum:None\t sizeMOM:None\t sizeHML:None\t sizeRMW:None\t sizeCMA:None\n",
      "\n",
      "None privuse marketcap tickerKey:2728\t month:138907\t closeAdjust:1084.0\t currentYield:None\t numberOfOutstandingShares:None\t marketcap:None\t b2m:None\t rollingAverage:None\t momentum:None\t sizeMOM:None\t sizeHML:None\t sizeRMW:None\t sizeCMA:None\n",
      "\n",
      "None privuse marketcap tickerKey:2769\t month:138810\t closeAdjust:89.72566627923757\t currentYield:None\t numberOfOutstandingShares:None\t marketcap:None\t b2m:None\t rollingAverage:None\t momentum:None\t sizeMOM:None\t sizeHML:None\t sizeRMW:None\t sizeCMA:None\n",
      "\n",
      "None privuse marketcap tickerKey:2769\t month:138907\t closeAdjust:111.57811043544345\t currentYield:None\t numberOfOutstandingShares:None\t marketcap:None\t b2m:None\t rollingAverage:None\t momentum:None\t sizeMOM:None\t sizeHML:None\t sizeRMW:None\t sizeCMA:None\n",
      "\n",
      "***\tNo market cap while having closed adjust for TickerKey:2777 Month:138512\n",
      "None privuse marketcap tickerKey:2777\t month:138603\t closeAdjust:1400.5025929714352\t currentYield:None\t numberOfOutstandingShares:None\t marketcap:None\t b2m:None\t rollingAverage:None\t momentum:None\t sizeMOM:None\t sizeHML:None\t sizeRMW:None\t sizeCMA:None\n",
      "\n",
      "None privuse marketcap tickerKey:2777\t month:138606\t closeAdjust:1400.5025929714352\t currentYield:None\t numberOfOutstandingShares:None\t marketcap:None\t b2m:None\t rollingAverage:None\t momentum:None\t sizeMOM:None\t sizeHML:None\t sizeRMW:None\t sizeCMA:None\n",
      "\n",
      "None privuse marketcap tickerKey:2777\t month:138701\t closeAdjust:1979.9924828236535\t currentYield:None\t numberOfOutstandingShares:None\t marketcap:None\t b2m:None\t rollingAverage:None\t momentum:None\t sizeMOM:None\t sizeHML:None\t sizeRMW:None\t sizeCMA:None\n",
      "\n",
      "None privuse marketcap tickerKey:2777\t month:138706\t closeAdjust:1807.9005523373296\t currentYield:None\t numberOfOutstandingShares:None\t marketcap:None\t b2m:None\t rollingAverage:None\t momentum:None\t sizeMOM:None\t sizeHML:None\t sizeRMW:None\t sizeCMA:None\n",
      "\n",
      "None privuse marketcap tickerKey:2777\t month:138804\t closeAdjust:1326.838879159369\t currentYield:None\t numberOfOutstandingShares:None\t marketcap:None\t b2m:None\t rollingAverage:None\t momentum:None\t sizeMOM:None\t sizeHML:None\t sizeRMW:None\t sizeCMA:None\n",
      "\n",
      "None privuse marketcap tickerKey:2777\t month:138808\t closeAdjust:1399.2119089316984\t currentYield:None\t numberOfOutstandingShares:None\t marketcap:None\t b2m:None\t rollingAverage:None\t momentum:None\t sizeMOM:None\t sizeHML:None\t sizeRMW:None\t sizeCMA:None\n",
      "\n",
      "None privuse marketcap tickerKey:2777\t month:138812\t closeAdjust:1107.789842381786\t currentYield:None\t numberOfOutstandingShares:None\t marketcap:None\t b2m:None\t rollingAverage:None\t momentum:None\t sizeMOM:None\t sizeHML:None\t sizeRMW:None\t sizeCMA:None\n",
      "\n",
      "***\tNo market cap while having closed adjust for TickerKey:2785 Month:138308\n",
      "None privuse marketcap tickerKey:2785\t month:138409\t closeAdjust:139.330368\t currentYield:None\t numberOfOutstandingShares:None\t marketcap:None\t b2m:None\t rollingAverage:None\t momentum:None\t sizeMOM:None\t sizeHML:None\t sizeRMW:None\t sizeCMA:None\n",
      "\n",
      "None privuse marketcap tickerKey:2785\t month:138412\t closeAdjust:134.671688\t currentYield:None\t numberOfOutstandingShares:None\t marketcap:None\t b2m:None\t rollingAverage:None\t momentum:None\t sizeMOM:None\t sizeHML:None\t sizeRMW:None\t sizeCMA:None\n",
      "\n",
      "None privuse marketcap tickerKey:2785\t month:138506\t closeAdjust:156.24496\t currentYield:None\t numberOfOutstandingShares:None\t marketcap:None\t b2m:None\t rollingAverage:None\t momentum:None\t sizeMOM:None\t sizeHML:None\t sizeRMW:None\t sizeCMA:None\n",
      "\n",
      "None privuse marketcap tickerKey:2785\t month:138902\t closeAdjust:181.33016\t currentYield:None\t numberOfOutstandingShares:None\t marketcap:None\t b2m:None\t rollingAverage:None\t momentum:None\t sizeMOM:None\t sizeHML:None\t sizeRMW:None\t sizeCMA:None\n",
      "\n",
      "None privuse marketcap tickerKey:2785\t month:138910\t closeAdjust:173.159552\t currentYield:None\t numberOfOutstandingShares:None\t marketcap:None\t b2m:None\t rollingAverage:None\t momentum:None\t sizeMOM:None\t sizeHML:None\t sizeRMW:None\t sizeCMA:None\n",
      "\n",
      "None privuse marketcap tickerKey:2785\t month:139009\t closeAdjust:169.002576\t currentYield:None\t numberOfOutstandingShares:None\t marketcap:None\t b2m:None\t rollingAverage:None\t momentum:None\t sizeMOM:None\t sizeHML:None\t sizeRMW:None\t sizeCMA:None\n",
      "\n",
      "None privuse marketcap tickerKey:2817\t month:138305\t closeAdjust:143.7115\t currentYield:None\t numberOfOutstandingShares:None\t marketcap:None\t b2m:None\t rollingAverage:None\t momentum:None\t sizeMOM:None\t sizeHML:None\t sizeRMW:None\t sizeCMA:None\n",
      "\n",
      "None privuse marketcap tickerKey:2817\t month:138309\t closeAdjust:322.5849\t currentYield:None\t numberOfOutstandingShares:None\t marketcap:None\t b2m:None\t rollingAverage:None\t momentum:None\t sizeMOM:None\t sizeHML:None\t sizeRMW:None\t sizeCMA:None\n",
      "\n",
      "None privuse marketcap tickerKey:2817\t month:138404\t closeAdjust:390.64725\t currentYield:None\t numberOfOutstandingShares:None\t marketcap:None\t b2m:None\t rollingAverage:None\t momentum:None\t sizeMOM:None\t sizeHML:None\t sizeRMW:None\t sizeCMA:None\n",
      "\n",
      "None privuse marketcap tickerKey:2817\t month:138902\t closeAdjust:411.05860199999995\t currentYield:None\t numberOfOutstandingShares:None\t marketcap:None\t b2m:None\t rollingAverage:None\t momentum:None\t sizeMOM:None\t sizeHML:None\t sizeRMW:None\t sizeCMA:None\n",
      "\n",
      "None privuse marketcap tickerKey:2817\t month:138908\t closeAdjust:392.204194\t currentYield:None\t numberOfOutstandingShares:None\t marketcap:None\t b2m:None\t rollingAverage:None\t momentum:None\t sizeMOM:None\t sizeHML:None\t sizeRMW:None\t sizeCMA:None\n",
      "\n",
      "None privuse marketcap tickerKey:2817\t month:139002\t closeAdjust:432.35107999999997\t currentYield:None\t numberOfOutstandingShares:None\t marketcap:None\t b2m:None\t rollingAverage:None\t momentum:None\t sizeMOM:None\t sizeHML:None\t sizeRMW:None\t sizeCMA:None\n",
      "\n",
      "None privuse marketcap tickerKey:2823\t month:138410\t closeAdjust:251.0046075274009\t currentYield:None\t numberOfOutstandingShares:None\t marketcap:None\t b2m:None\t rollingAverage:None\t momentum:None\t sizeMOM:None\t sizeHML:None\t sizeRMW:None\t sizeCMA:None\n",
      "\n",
      "None privuse marketcap tickerKey:2823\t month:138501\t closeAdjust:201.125486800802\t currentYield:None\t numberOfOutstandingShares:None\t marketcap:None\t b2m:None\t rollingAverage:None\t momentum:None\t sizeMOM:None\t sizeHML:None\t sizeRMW:None\t sizeCMA:None\n",
      "\n",
      "None privuse marketcap tickerKey:2823\t month:138709\t closeAdjust:113.63590004245313\t currentYield:None\t numberOfOutstandingShares:None\t marketcap:None\t b2m:None\t rollingAverage:None\t momentum:None\t sizeMOM:None\t sizeHML:None\t sizeRMW:None\t sizeCMA:None\n",
      "\n",
      "None privuse marketcap tickerKey:2823\t month:138803\t closeAdjust:118.26178623887158\t currentYield:None\t numberOfOutstandingShares:None\t marketcap:None\t b2m:None\t rollingAverage:None\t momentum:None\t sizeMOM:None\t sizeHML:None\t sizeRMW:None\t sizeCMA:None\n",
      "\n",
      "None privuse marketcap tickerKey:2823\t month:138904\t closeAdjust:140.184464300159\t currentYield:None\t numberOfOutstandingShares:None\t marketcap:None\t b2m:None\t rollingAverage:None\t momentum:None\t sizeMOM:None\t sizeHML:None\t sizeRMW:None\t sizeCMA:None\n",
      "\n",
      "None privuse marketcap tickerKey:2823\t month:138911\t closeAdjust:160.66125456167603\t currentYield:None\t numberOfOutstandingShares:None\t marketcap:None\t b2m:None\t rollingAverage:None\t momentum:None\t sizeMOM:None\t sizeHML:None\t sizeRMW:None\t sizeCMA:None\n",
      "\n",
      "None privuse marketcap tickerKey:2823\t month:139008\t closeAdjust:165.84387567656879\t currentYield:None\t numberOfOutstandingShares:None\t marketcap:None\t b2m:None\t rollingAverage:None\t momentum:None\t sizeMOM:None\t sizeHML:None\t sizeRMW:None\t sizeCMA:None\n",
      "\n",
      "None privuse marketcap tickerKey:2903\t month:138803\t closeAdjust:1146.649449\t currentYield:None\t numberOfOutstandingShares:None\t marketcap:None\t b2m:None\t rollingAverage:None\t momentum:None\t sizeMOM:None\t sizeHML:None\t sizeRMW:None\t sizeCMA:None\n",
      "\n",
      "None privuse marketcap tickerKey:2903\t month:138808\t closeAdjust:808.3754250000001\t currentYield:None\t numberOfOutstandingShares:None\t marketcap:None\t b2m:None\t rollingAverage:None\t momentum:None\t sizeMOM:None\t sizeHML:None\t sizeRMW:None\t sizeCMA:None\n",
      "\n",
      "None privuse marketcap tickerKey:2903\t month:138811\t closeAdjust:801.742601\t currentYield:None\t numberOfOutstandingShares:None\t marketcap:None\t b2m:None\t rollingAverage:None\t momentum:None\t sizeMOM:None\t sizeHML:None\t sizeRMW:None\t sizeCMA:None\n",
      "\n",
      "None privuse marketcap tickerKey:2935\t month:138412\t closeAdjust:1462.0\t currentYield:None\t numberOfOutstandingShares:None\t marketcap:None\t b2m:None\t rollingAverage:None\t momentum:None\t sizeMOM:None\t sizeHML:None\t sizeRMW:None\t sizeCMA:None\n",
      "\n",
      "None privuse marketcap tickerKey:2935\t month:138803\t closeAdjust:2735.0\t currentYield:None\t numberOfOutstandingShares:None\t marketcap:None\t b2m:None\t rollingAverage:None\t momentum:None\t sizeMOM:None\t sizeHML:None\t sizeRMW:None\t sizeCMA:None\n",
      "\n",
      "None privuse marketcap tickerKey:2935\t month:138812\t closeAdjust:5304.0\t currentYield:None\t numberOfOutstandingShares:None\t marketcap:None\t b2m:None\t rollingAverage:None\t momentum:None\t sizeMOM:None\t sizeHML:None\t sizeRMW:None\t sizeCMA:None\n",
      "\n",
      "***\tNo market cap while having closed adjust for TickerKey:2956 Month:138509\n",
      "None privuse marketcap tickerKey:2956\t month:138601\t closeAdjust:99.7923255363781\t currentYield:None\t numberOfOutstandingShares:None\t marketcap:None\t b2m:None\t rollingAverage:None\t momentum:None\t sizeMOM:None\t sizeHML:None\t sizeRMW:None\t sizeCMA:None\n",
      "\n",
      "None privuse marketcap tickerKey:2956\t month:138604\t closeAdjust:74.31214003988669\t currentYield:None\t numberOfOutstandingShares:None\t marketcap:None\t b2m:None\t rollingAverage:None\t momentum:None\t sizeMOM:None\t sizeHML:None\t sizeRMW:None\t sizeCMA:None\n",
      "\n",
      "None privuse marketcap tickerKey:2956\t month:138607\t closeAdjust:107.79963331946314\t currentYield:None\t numberOfOutstandingShares:None\t marketcap:None\t b2m:None\t rollingAverage:None\t momentum:None\t sizeMOM:None\t sizeHML:None\t sizeRMW:None\t sizeCMA:None\n",
      "\n",
      "None privuse marketcap tickerKey:2956\t month:138704\t closeAdjust:41.63988163125278\t currentYield:None\t numberOfOutstandingShares:None\t marketcap:None\t b2m:None\t rollingAverage:None\t momentum:None\t sizeMOM:None\t sizeHML:None\t sizeRMW:None\t sizeCMA:None\n",
      "\n",
      "None privuse marketcap tickerKey:2956\t month:138904\t closeAdjust:207.007905519225\t currentYield:None\t numberOfOutstandingShares:None\t marketcap:None\t b2m:None\t rollingAverage:None\t momentum:None\t sizeMOM:None\t sizeHML:None\t sizeRMW:None\t sizeCMA:None\n",
      "\n",
      "None privuse marketcap tickerKey:2969\t month:138707\t closeAdjust:1023.6034644823409\t currentYield:None\t numberOfOutstandingShares:None\t marketcap:None\t b2m:None\t rollingAverage:None\t momentum:None\t sizeMOM:None\t sizeHML:None\t sizeRMW:None\t sizeCMA:None\n",
      "\n",
      "None privuse marketcap tickerKey:2969\t month:138709\t closeAdjust:1058.2180743923718\t currentYield:None\t numberOfOutstandingShares:None\t marketcap:None\t b2m:None\t rollingAverage:None\t momentum:None\t sizeMOM:None\t sizeHML:None\t sizeRMW:None\t sizeCMA:None\n",
      "\n",
      "None privuse marketcap tickerKey:2969\t month:138712\t closeAdjust:1055.2511078286548\t currentYield:None\t numberOfOutstandingShares:None\t marketcap:None\t b2m:None\t rollingAverage:None\t momentum:None\t sizeMOM:None\t sizeHML:None\t sizeRMW:None\t sizeCMA:None\n",
      "\n",
      "None privuse marketcap tickerKey:2969\t month:138802\t closeAdjust:1056.2400966832272\t currentYield:None\t numberOfOutstandingShares:None\t marketcap:None\t b2m:None\t rollingAverage:None\t momentum:None\t sizeMOM:None\t sizeHML:None\t sizeRMW:None\t sizeCMA:None\n",
      "\n",
      "None privuse marketcap tickerKey:2969\t month:138903\t closeAdjust:1269.861689270846\t currentYield:None\t numberOfOutstandingShares:None\t marketcap:None\t b2m:None\t rollingAverage:None\t momentum:None\t sizeMOM:None\t sizeHML:None\t sizeRMW:None\t sizeCMA:None\n",
      "\n",
      "None privuse marketcap tickerKey:2969\t month:138912\t closeAdjust:1376.6724855646555\t currentYield:None\t numberOfOutstandingShares:None\t marketcap:None\t b2m:None\t rollingAverage:None\t momentum:None\t sizeMOM:None\t sizeHML:None\t sizeRMW:None\t sizeCMA:None\n",
      "\n",
      "None privuse marketcap tickerKey:2969\t month:139004\t closeAdjust:1376.6724855646555\t currentYield:None\t numberOfOutstandingShares:None\t marketcap:None\t b2m:None\t rollingAverage:None\t momentum:None\t sizeMOM:None\t sizeHML:None\t sizeRMW:None\t sizeCMA:None\n",
      "\n",
      "None privuse marketcap tickerKey:3055\t month:138003\t closeAdjust:1899.9688561952705\t currentYield:None\t numberOfOutstandingShares:None\t marketcap:None\t b2m:None\t rollingAverage:None\t momentum:None\t sizeMOM:None\t sizeHML:None\t sizeRMW:None\t sizeCMA:None\n",
      "\n",
      "None privuse marketcap tickerKey:3055\t month:138012\t closeAdjust:2802.7241262217267\t currentYield:None\t numberOfOutstandingShares:None\t marketcap:None\t b2m:None\t rollingAverage:None\t momentum:None\t sizeMOM:None\t sizeHML:None\t sizeRMW:None\t sizeCMA:None\n",
      "\n",
      "None privuse marketcap tickerKey:3055\t month:138105\t closeAdjust:3229.219476227371\t currentYield:None\t numberOfOutstandingShares:None\t marketcap:None\t b2m:None\t rollingAverage:None\t momentum:None\t sizeMOM:None\t sizeHML:None\t sizeRMW:None\t sizeCMA:None\n",
      "\n",
      "None privuse marketcap tickerKey:3055\t month:138205\t closeAdjust:4438.050960845735\t currentYield:None\t numberOfOutstandingShares:None\t marketcap:None\t b2m:None\t rollingAverage:None\t momentum:None\t sizeMOM:None\t sizeHML:None\t sizeRMW:None\t sizeCMA:None\n",
      "\n",
      "None privuse marketcap tickerKey:3055\t month:138402\t closeAdjust:4445.307618531021\t currentYield:None\t numberOfOutstandingShares:None\t marketcap:None\t b2m:None\t rollingAverage:None\t momentum:None\t sizeMOM:None\t sizeHML:None\t sizeRMW:None\t sizeCMA:None\n",
      "\n",
      "None privuse marketcap tickerKey:3055\t month:138406\t closeAdjust:4562.975929179163\t currentYield:None\t numberOfOutstandingShares:None\t marketcap:None\t b2m:None\t rollingAverage:None\t momentum:None\t sizeMOM:None\t sizeHML:None\t sizeRMW:None\t sizeCMA:None\n",
      "\n",
      "None privuse marketcap tickerKey:3055\t month:138409\t closeAdjust:4643.38367119765\t currentYield:None\t numberOfOutstandingShares:None\t marketcap:None\t b2m:None\t rollingAverage:None\t momentum:None\t sizeMOM:None\t sizeHML:None\t sizeRMW:None\t sizeCMA:None\n",
      "\n",
      "***\tNo market cap while having closed adjust for TickerKey:3091 Month:138406\n",
      "None privuse marketcap tickerKey:3091\t month:138712\t closeAdjust:976.0532862779652\t currentYield:None\t numberOfOutstandingShares:None\t marketcap:None\t b2m:None\t rollingAverage:None\t momentum:None\t sizeMOM:None\t sizeHML:None\t sizeRMW:None\t sizeCMA:None\n",
      "\n",
      "None privuse marketcap tickerKey:3091\t month:138808\t closeAdjust:1177.7965836385683\t currentYield:None\t numberOfOutstandingShares:None\t marketcap:None\t b2m:None\t rollingAverage:None\t momentum:None\t sizeMOM:None\t sizeHML:None\t sizeRMW:None\t sizeCMA:None\n",
      "\n",
      "None privuse marketcap tickerKey:3091\t month:138912\t closeAdjust:851.1645783880681\t currentYield:None\t numberOfOutstandingShares:None\t marketcap:None\t b2m:None\t rollingAverage:None\t momentum:None\t sizeMOM:None\t sizeHML:None\t sizeRMW:None\t sizeCMA:None\n",
      "\n",
      "None privuse marketcap tickerKey:76527\t month:138412\t closeAdjust:1462.0\t currentYield:None\t numberOfOutstandingShares:None\t marketcap:None\t b2m:None\t rollingAverage:None\t momentum:None\t sizeMOM:None\t sizeHML:None\t sizeRMW:None\t sizeCMA:None\n",
      "\n",
      "None privuse marketcap tickerKey:76527\t month:138803\t closeAdjust:2735.0\t currentYield:None\t numberOfOutstandingShares:None\t marketcap:None\t b2m:None\t rollingAverage:None\t momentum:None\t sizeMOM:None\t sizeHML:None\t sizeRMW:None\t sizeCMA:None\n",
      "\n",
      "None privuse marketcap tickerKey:76527\t month:138812\t closeAdjust:5304.0\t currentYield:None\t numberOfOutstandingShares:None\t marketcap:None\t b2m:None\t rollingAverage:None\t momentum:None\t sizeMOM:None\t sizeHML:None\t sizeRMW:None\t sizeCMA:None\n",
      "\n",
      "None privuse marketcap tickerKey:90926\t month:138303\t closeAdjust:107.9498903550658\t currentYield:None\t numberOfOutstandingShares:None\t marketcap:None\t b2m:None\t rollingAverage:None\t momentum:None\t sizeMOM:None\t sizeHML:None\t sizeRMW:None\t sizeCMA:None\n",
      "\n",
      "None privuse marketcap tickerKey:90926\t month:138306\t closeAdjust:106.68116796796006\t currentYield:None\t numberOfOutstandingShares:None\t marketcap:None\t b2m:None\t rollingAverage:None\t momentum:None\t sizeMOM:None\t sizeHML:None\t sizeRMW:None\t sizeCMA:None\n",
      "\n"
     ]
    }
   ],
   "source": [
    "def calculateCloseAdjust(tickerKey, monthIndex):\n",
    "  privuseMonthCompanyInfo:CompanyInfo = findCompanyInfo(tickerKey, allMonths[monthIndex-1])\n",
    "  if privuseMonthCompanyInfo is None:\n",
    "    return None\n",
    "  nextMonthCompanyInfo:CompanyInfo = findCompanyInfo(tickerKey, allMonths[monthIndex+1])\n",
    "\n",
    "  if nextMonthCompanyInfo is not None:\n",
    "    return ((nextMonthCompanyInfo.closeAdjust / privuseMonthCompanyInfo.closeAdjust) ** (1/2)) * privuseMonthCompanyInfo.closeAdjust\n",
    "\n",
    "  if monthIndex + 2 >= len(allMonths):\n",
    "    return None\n",
    "  secondNextMonthCompanyInfo:CompanyInfo = findCompanyInfo(tickerKey, allMonths[monthIndex+2])\n",
    "  if secondNextMonthCompanyInfo is None:\n",
    "    return None\n",
    "  return ((secondNextMonthCompanyInfo.closeAdjust / privuseMonthCompanyInfo.closeAdjust) ** (1/3)) * privuseMonthCompanyInfo.closeAdjust\n",
    "  \n",
    "def calculateMarketcapAdjust(tickerKey, monthIndex):\n",
    "  privuseMonthCompanyInfo:CompanyInfo = findCompanyInfo(tickerKey, allMonths[monthIndex-1])\n",
    "  if privuseMonthCompanyInfo is None or privuseMonthCompanyInfo.marketcap is None:\n",
    "    return None\n",
    "  nextMonthCompanyInfo:CompanyInfo = findCompanyInfo(tickerKey, allMonths[monthIndex+1])\n",
    "\n",
    "  if nextMonthCompanyInfo is not None and nextMonthCompanyInfo.marketcap is not None:\n",
    "    return ((nextMonthCompanyInfo.marketcap / privuseMonthCompanyInfo.marketcap) ** (1/2)) * privuseMonthCompanyInfo.marketcap\n",
    "\n",
    "  if monthIndex + 2 >= len(allMonths):\n",
    "    return None\n",
    "  secondNextMonthCompanyInfo:CompanyInfo = findCompanyInfo(tickerKey, allMonths[monthIndex+2])\n",
    "  if secondNextMonthCompanyInfo is None or secondNextMonthCompanyInfo.marketcap is None:\n",
    "    return None\n",
    "  return ((secondNextMonthCompanyInfo.marketcap / privuseMonthCompanyInfo.marketcap) ** (1/3)) * privuseMonthCompanyInfo.marketcap\n",
    "  \n",
    "  # print(calculatedCloseAdjust)\n",
    "\n",
    "_missingData = []\n",
    "for tickerKey in companyTickerSet:\n",
    "  # companyHistoricalData = [companyInfo for companyInfo in companyInfoList if companyInfo.tickerKey == tickerKey]\n",
    "  startOfData = False\n",
    "  for monthIndex in range(1,len(allMonths)-1):\n",
    "    currentCompanyInfo = findCompanyInfo(tickerKey,allMonths[monthIndex])\n",
    "    if currentCompanyInfo is not None:\n",
    "        startOfData = True\n",
    "        continue\n",
    "    if currentCompanyInfo is None:\n",
    "      closeAdjust = calculateCloseAdjust(tickerKey,monthIndex)\n",
    "      if closeAdjust is None: \n",
    "        if startOfData :\n",
    "          _missingData.append([\"closeAdjust for tick\",tickerKey,\" Month\",allMonths[monthIndex],\" Is None\"])\n",
    "        continue\n",
    "      privuseMonthCompanyInfo:CompanyInfo = findCompanyInfo(tickerKey, allMonths[monthIndex-1])\n",
    "\n",
    "      adjustedCompanyInfo = CompanyInfo(tickerKey,privuseMonthCompanyInfo.name,allMonths[monthIndex],None,None,None,None,None,None,privuseMonthCompanyInfo.sourceSubsectorCode)\n",
    "      adjustedCompanyInfo.closeAdjust = closeAdjust\n",
    "      # print(tickerKey,allMonths[month],privuseMonthCompanyInfo) # log before adjusted\n",
    "      if privuseMonthCompanyInfo.numberOfOutstandingShares == None:\n",
    "        print(\"None privuse marketcap\" ,privuseMonthCompanyInfo)\n",
    "        continue\n",
    "      adjustedCompanyInfo.marketcap = calculateMarketcapAdjust(tickerKey,monthIndex)\n",
    "      if adjustedCompanyInfo.marketcap is None:\n",
    "        print(\"***\\tNo market cap while having closed adjust for TickerKey:\" +  str(adjustedCompanyInfo.tickerKey) + \" Month:\" + str(adjustedCompanyInfo.month))\n",
    "        continue\n",
    "      if privuseMonthCompanyInfo.numberOfOutstandingShares == None:\n",
    "        print(\"None numberOfOutstandingShares\" ,privuseMonthCompanyInfo)\n",
    "        continue\n",
    "      adjustedCompanyInfo.numberOfOutstandingShares = privuseMonthCompanyInfo.numberOfOutstandingShares\n",
    "      addCompanyInfoToList(adjustedCompanyInfo)\n",
    "      # print(tickerKey,allMonths[month]) # log adjusted\n",
    "\n",
    "\n",
    "# print([companyInfo for companyInfo in _missingData if companyInfo[1] == 9])"
   ]
  },
  {
   "cell_type": "code",
   "execution_count": 144,
   "metadata": {},
   "outputs": [
    {
     "name": "stdout",
     "output_type": "stream",
     "text": [
      "8336 of 1062292\n",
      "[['closeAdjust for tick', 9, ' Month', 138403, ' Is None'], ['closeAdjust for tick', 9, ' Month', 138404, ' Is None'], ['closeAdjust for tick', 9, ' Month', 138405, ' Is None'], ['closeAdjust for tick', 223, ' Month', 139307, ' Is None'], ['closeAdjust for tick', 223, ' Month', 139308, ' Is None'], ['closeAdjust for tick', 223, ' Month', 139309, ' Is None'], ['closeAdjust for tick', 231, ' Month', 138311, ' Is None'], ['closeAdjust for tick', 231, ' Month', 138312, ' Is None'], ['closeAdjust for tick', 231, ' Month', 138401, ' Is None'], ['closeAdjust for tick', 234, ' Month', 138907, ' Is None']]\n"
     ]
    }
   ],
   "source": [
    "print(\"{} of {}\".format(len(_missingData),data.size))\n",
    "print(_missingData[:10])"
   ]
  },
  {
   "cell_type": "markdown",
   "metadata": {},
   "source": [
    "# Test data"
   ]
  },
  {
   "cell_type": "code",
   "execution_count": 145,
   "metadata": {},
   "outputs": [
    {
     "name": "stdout",
     "output_type": "stream",
     "text": [
      "['tickerKey', 'name', 'month', 'rollingAverage', 'numberOfOutstandingShares', 'marketcap', 'b2m', 'closeAdjust', 'momentum', 'sizeMOM', 'sizeHML', 'sizeRMW', 'sizeCMA', 'CMASize', 'RMWSize', 'BperMSize', 'currentYield', 'inv', 'op', 'sourceSubsectorCode']\n",
      "[9, 'پاکسان\\u200c', 138001, None, 90000000.0, 460800000000.0, 4.9385362299, 10.282307670219264, None, None, None, None, None, None, None, None, None, 0.8095322274960436, 0.29584800863123173, 4424]\n",
      "[9, 'پاکسان\\u200c', 138002, None, 90000000.0, 481500000000.0, 5.1603845371, 10.744208210092395, None, None, None, None, None, None, None, None, None, 0.9470740522344644, 0.12900261418635073, 4424]\n",
      "[9, 'پاکسان\\u200c', 138003, None, 90000000.0, 494910000000.0, 5.3041036578, 11.043439429401511, None, None, None, None, None, None, None, None, None, 0.3608801681067647, 0.8296664347356032, 4424]\n"
     ]
    }
   ],
   "source": [
    "\n",
    "displayCompanyInfo(companyTickerSet[:3],allMonths[:3])"
   ]
  },
  {
   "cell_type": "markdown",
   "metadata": {},
   "source": [
    "# Yield calculations"
   ]
  },
  {
   "cell_type": "code",
   "execution_count": 146,
   "metadata": {},
   "outputs": [],
   "source": [
    "for tickerKey in companyTickerSet:\n",
    "  for monthIndex in range(1,len(allMonths)):\n",
    "    lastMonthData:CompanyInfo = findCompanyInfo(tickerKey,allMonths[monthIndex-1])\n",
    "    if lastMonthData is None:\n",
    "      continue\n",
    "    thisMonthData:CompanyInfo = findCompanyInfo(tickerKey,allMonths[monthIndex])\n",
    "    if thisMonthData is None:\n",
    "      continue\n",
    "    thisMonthData.currentYield = thisMonthData.closeAdjust / lastMonthData.closeAdjust - 1"
   ]
  },
  {
   "cell_type": "code",
   "execution_count": 147,
   "metadata": {},
   "outputs": [
    {
     "name": "stdout",
     "output_type": "stream",
     "text": [
      "['tickerKey', 'name', 'month', 'rollingAverage', 'numberOfOutstandingShares', 'marketcap', 'b2m', 'closeAdjust', 'momentum', 'sizeMOM', 'sizeHML', 'sizeRMW', 'sizeCMA', 'CMASize', 'RMWSize', 'BperMSize', 'currentYield', 'inv', 'op', 'sourceSubsectorCode']\n",
      "[9, 'پاکسان\\u200c', 138001, None, 90000000.0, 460800000000.0, 4.9385362299, 10.282307670219264, None, None, None, None, None, None, None, None, None, 0.8095322274960436, 0.29584800863123173, 4424]\n",
      "[9, 'پاکسان\\u200c', 138002, None, 90000000.0, 481500000000.0, 5.1603845371, 10.744208210092395, None, None, None, None, None, None, None, None, 0.044921875, 0.9470740522344644, 0.12900261418635073, 4424]\n",
      "[9, 'پاکسان\\u200c', 138003, None, 90000000.0, 494910000000.0, 5.3041036578, 11.043439429401511, None, None, None, None, None, None, None, None, 0.027850467289719738, 0.3608801681067647, 0.8296664347356032, 4424]\n"
     ]
    }
   ],
   "source": [
    "displayCompanyInfo(companyTickerSet[:3],allMonths[:3])"
   ]
  },
  {
   "cell_type": "markdown",
   "metadata": {},
   "source": [
    "# Calculate rolling average"
   ]
  },
  {
   "cell_type": "code",
   "execution_count": 148,
   "metadata": {},
   "outputs": [],
   "source": [
    "def getRollingDataWindow(tickerKey,rollingWindowSize,endMonthIndex):\n",
    "  rollingDataWindow = []\n",
    "  for monthIndex in range(endMonthIndex+1 - rollingWindowSize,endMonthIndex+1):\n",
    "    currentCompanyInfo = findCompanyInfo(tickerKey,allMonths[monthIndex])\n",
    "    if currentCompanyInfo is None:\n",
    "        continue\n",
    "    rollingDataWindow.append(currentCompanyInfo)\n",
    "  return rollingDataWindow"
   ]
  },
  {
   "cell_type": "code",
   "execution_count": 149,
   "metadata": {},
   "outputs": [],
   "source": [
    "def average(dataList):\n",
    "    if len(dataList)==0:\n",
    "        return None\n",
    "    data = [info.currentYield for info in dataList]\n",
    "    if None in data:\n",
    "      return None\n",
    "    # print(data)\n",
    "    return sum(data) / len(dataList)\n",
    "\n",
    "def valueWeightedAverage(dataList):\n",
    "    if len(dataList)==0:\n",
    "        return None\n",
    "    lastMonth = allMonths[allMonths.index(dataList[0].month) - 1]\n",
    "    data = [info.currentYield * findCompanyInfo(info.tickerKey,lastMonth).marketcap for info in dataList]\n",
    "    marketcapSum = sum([findCompanyInfo(info.tickerKey,lastMonth).marketcap for info in dataList])\n",
    "    if None in data:\n",
    "      return None\n",
    "    # print(data)\n",
    "    return sum(data) / marketcapSum\n",
    "\n",
    "# print(companyInfoList)\n",
    "rollingAverageWindowSize = 6     #Can be change\n",
    "for tickerKey in companyTickerSet:\n",
    "    # print(\"tickerKey\",tickerKey)\n",
    "    for endMonthIndex in range(rollingAverageWindowSize-1,len(allMonths)):\n",
    "      # print(\"endMonthIndex\",endMonthIndex)\n",
    "      rollingDataWindow = getRollingDataWindow(tickerKey, rollingAverageWindowSize,endMonthIndex)\n",
    "      if len(rollingDataWindow) != rollingAverageWindowSize: continue\n",
    "      currentCompanyInfo:CompanyInfo = findCompanyInfo(tickerKey,allMonths[endMonthIndex])\n",
    "      currentCompanyInfo.rollingAverage = average(rollingDataWindow)"
   ]
  },
  {
   "cell_type": "code",
   "execution_count": 150,
   "metadata": {},
   "outputs": [
    {
     "name": "stdout",
     "output_type": "stream",
     "text": [
      "['tickerKey', 'name', 'month', 'rollingAverage', 'numberOfOutstandingShares', 'marketcap', 'b2m', 'closeAdjust', 'momentum', 'sizeMOM', 'sizeHML', 'sizeRMW', 'sizeCMA', 'CMASize', 'RMWSize', 'BperMSize', 'currentYield', 'inv', 'op', 'sourceSubsectorCode']\n",
      "[9, 'پاکسان\\u200c', 138001, None, 90000000.0, 460800000000.0, 4.9385362299, 10.282307670219264, None, None, None, None, None, None, None, None, None, 0.8095322274960436, 0.29584800863123173, 4424]\n",
      "[9, 'پاکسان\\u200c', 138002, None, 90000000.0, 481500000000.0, 5.1603845371, 10.744208210092395, None, None, None, None, None, None, None, None, 0.044921875, 0.9470740522344644, 0.12900261418635073, 4424]\n",
      "[9, 'پاکسان\\u200c', 138003, None, 90000000.0, 494910000000.0, 5.3041036578, 11.043439429401511, None, None, None, None, None, None, None, None, 0.027850467289719738, 0.3608801681067647, 0.8296664347356032, 4424]\n"
     ]
    }
   ],
   "source": [
    "displayCompanyInfo(companyTickerSet[:3],allMonths[:3])"
   ]
  },
  {
   "cell_type": "markdown",
   "metadata": {},
   "source": [
    "# set size"
   ]
  },
  {
   "cell_type": "code",
   "execution_count": 151,
   "metadata": {},
   "outputs": [],
   "source": [
    "def getCompaniesInMonth(month):\n",
    "  compainesInMonth = []\n",
    "  for tickerKey in companyInfoDict.keys():\n",
    "    if month in companyInfoDict[tickerKey]:\n",
    "      compainesInMonth.append(companyInfoDict[tickerKey][month])\n",
    "  return compainesInMonth"
   ]
  },
  {
   "cell_type": "code",
   "execution_count": 152,
   "metadata": {},
   "outputs": [
    {
     "name": "stdout",
     "output_type": "stream",
     "text": [
      "[]\n"
     ]
    }
   ],
   "source": [
    "import math\n",
    "for index,month in enumerate(allMonths[:-1]):\n",
    "    companiesInMonth = [x for x in getCompaniesInMonth(month) if x.rollingAverage is not None and x.marketcap is not None]\n",
    "    companiesInMonth = [x for x in companiesInMonth if findCompanyInfo(x.tickerKey,allMonths[index+1]) is not None and findCompanyInfo(x.tickerKey,allMonths[index+1]).currentYield is not None]\n",
    "    companiesInMonth.sort(key=operator.attrgetter(\"marketcap\"), reverse=True)\n",
    "    median = math.ceil(len(companiesInMonth) / 2)\n",
    "    for company in companiesInMonth[0:median]:\n",
    "        company.sizeMOM = \"Big\"\n",
    "    for company in companiesInMonth[median:]:\n",
    "        company.sizeMOM = \"Small\"\n",
    "\n",
    "print ([x for x in getCompaniesInMonth(allMonths[-1]) if x.sizeMOM ][-10:])"
   ]
  },
  {
   "cell_type": "code",
   "execution_count": 153,
   "metadata": {},
   "outputs": [
    {
     "name": "stdout",
     "output_type": "stream",
     "text": [
      "[tickerKey:103155\t month:140003\t closeAdjust:680.0\t currentYield:-0.16666666666666663\t numberOfOutstandingShares:114518370483.0\t marketcap:80849969560998.0\t b2m:0.6337402775\t rollingAverage:-0.03401663695781341\t momentum:Notural\t sizeMOM:Big\t sizeHML:None\t sizeRMW:None\t sizeCMA:None\n",
      ", tickerKey:103315\t month:140003\t closeAdjust:10820.0\t currentYield:0.08488986814483468\t numberOfOutstandingShares:2500000000.0\t marketcap:27007500000000.0\t b2m:3.9789218637\t rollingAverage:-0.06501226714057151\t momentum:Low\t sizeMOM:Big\t sizeHML:None\t sizeRMW:None\t sizeCMA:None\n",
      ", tickerKey:103316\t month:140003\t closeAdjust:18745.0\t currentYield:-0.3444120837011866\t numberOfOutstandingShares:3000000000.0\t marketcap:56823000000000.0\t b2m:8.6749608558\t rollingAverage:-0.05712690122137463\t momentum:Notural\t sizeMOM:Big\t sizeHML:None\t sizeRMW:None\t sizeCMA:None\n",
      ", tickerKey:103318\t month:140003\t closeAdjust:11528.0\t currentYield:0.13734747341582243\t numberOfOutstandingShares:3000000000.0\t marketcap:34200000000000.0\t b2m:8.327343781\t rollingAverage:-0.13018377850687812\t momentum:Low\t sizeMOM:Big\t sizeHML:None\t sizeRMW:None\t sizeCMA:None\n",
      ", tickerKey:103681\t month:140003\t closeAdjust:1670.0\t currentYield:0.19370979270907784\t numberOfOutstandingShares:35317000000.0\t marketcap:59226609000000.0\t b2m:1.5118010261\t rollingAverage:-0.03779203038961141\t momentum:Notural\t sizeMOM:Big\t sizeHML:None\t sizeRMW:None\t sizeCMA:None\n",
      ", tickerKey:103742\t month:140003\t closeAdjust:9094.0\t currentYield:-0.00010995052226503432\t numberOfOutstandingShares:30000000000.0\t marketcap:272820000000000.0\t b2m:5.2191127267\t rollingAverage:-0.01689530902028215\t momentum:Notural\t sizeMOM:Big\t sizeHML:None\t sizeRMW:None\t sizeCMA:None\n",
      ", tickerKey:104894\t month:140003\t closeAdjust:51790.0\t currentYield:-0.17945313064335822\t numberOfOutstandingShares:4318749000.0\t marketcap:223594591977000.0\t b2m:17.0014379717\t rollingAverage:-0.07246633906602246\t momentum:Low\t sizeMOM:Big\t sizeHML:None\t sizeRMW:None\t sizeCMA:None\n",
      ", tickerKey:104978\t month:140003\t closeAdjust:33180.0\t currentYield:0.03957138828837303\t numberOfOutstandingShares:200000000.0\t marketcap:6553200000000.0\t b2m:9.3813086332\t rollingAverage:0.08961030779296737\t momentum:High\t sizeMOM:Small\t sizeHML:None\t sizeRMW:None\t sizeCMA:None\n",
      ", tickerKey:105765\t month:140003\t closeAdjust:39980.24135815092\t currentYield:0.0073710073710073765\t numberOfOutstandingShares:3500000000.0\t marketcap:158900000000000.0\t b2m:6.4438537046\t rollingAverage:-0.029039467116164303\t momentum:Notural\t sizeMOM:Big\t sizeHML:None\t sizeRMW:None\t sizeCMA:None\n",
      ", tickerKey:108032\t month:140003\t closeAdjust:59800.0\t currentYield:0.04609777625921829\t numberOfOutstandingShares:1300000000.0\t marketcap:78026000000000.0\t b2m:5.1885335145\t rollingAverage:0.005611237050777318\t momentum:High\t sizeMOM:Big\t sizeHML:None\t sizeRMW:None\t sizeCMA:None\n",
      "]\n"
     ]
    }
   ],
   "source": [
    "\n",
    "    \n",
    "    \n",
    "for index,month in enumerate(allMonths[:-1]):\n",
    "    companiesInMonth = [x for x in getCompaniesInMonth(month) if x.rollingAverage is not None and x.marketcap is not None]\n",
    "    companiesInMonth = [x for x in companiesInMonth if findCompanyInfo(x.tickerKey,allMonths[index+1]) is not None and findCompanyInfo(x.tickerKey,allMonths[index+1]).currentYield is not None]\n",
    "    companiesInMonth.sort(key=operator.attrgetter(\"rollingAverage\"), reverse=True)\n",
    "    count = math.floor(len(companiesInMonth) * 0.3) #It might be better to round it up instead of down to increase valid data\n",
    "    for company in companiesInMonth[0:count]:\n",
    "        company.momentum = \"High\"\n",
    "    for company in companiesInMonth[len(companiesInMonth) - count:]:\n",
    "        company.momentum = \"Low\"\n",
    "    for company in companiesInMonth[count:len(companiesInMonth) - count]:\n",
    "        company.momentum = \"Notural\"\n",
    "\n",
    "print ([x for x in getCompaniesInMonth(allMonths[-2]) if x.momentum is not None ][-10:])"
   ]
  },
  {
   "cell_type": "code",
   "execution_count": 154,
   "metadata": {},
   "outputs": [],
   "source": [
    "def avgTriple(first, second, third):\n",
    "    avg = 0\n",
    "    count = 0\n",
    "    if first is not None:\n",
    "        count += 1\n",
    "        avg += first\n",
    "    if second is not None:\n",
    "        count += 1\n",
    "        avg += second\n",
    "    if third is not None:\n",
    "        count += 1\n",
    "        avg += third\n",
    "    if count != 0:\n",
    "        avg /= count\n",
    "    return avg"
   ]
  },
  {
   "cell_type": "markdown",
   "metadata": {},
   "source": [
    "# MomentomFactor factor (MOM)"
   ]
  },
  {
   "cell_type": "code",
   "execution_count": 155,
   "metadata": {},
   "outputs": [
    {
     "name": "stdout",
     "output_type": "stream",
     "text": [
      "{138001: 0, 138002: 0, 138003: 0, 138004: 0, 138005: 0, 138006: 0, 138007: 0.050605533044555596, 138008: 0.039632358199331474, 138009: 0.057557775911981475, 138010: 0.012179434287274464, 138011: 0.11379667641635757, 138012: 0.030938173835893028, 138101: 0.11872634357341363, 138102: 0.08867768887857716, 138103: 0.13185507239267638, 138104: 0.06767217299891831, 138105: 0.014663454055563817, 138106: -0.011025297204854834, 138107: 0.039568039601327244, 138108: 0.044374178553870755, 138109: 0.04674525169824294, 138110: 0.035971968308430725, 138111: 0.012125443793257253, 138112: 0.0457545908672497, 138201: 0.09236209581892066, 138202: 0.1292485224160534, 138203: 0.201406882234963, 138204: 0.06837476147172283, 138205: 0.006134700795202008, 138206: -0.04758047471133903, 138207: 0.09673655856830277, 138208: -0.055082778745565386, 138209: 0.037962382672156444, 138210: -0.031856262461863315, 138211: -0.010243132654243297, 138212: -0.03723238540661818, 138301: 0.04566693180105387, 138302: 0.029798547379374152, 138303: 0.19318095486242043, 138304: 0.1463292237948143, 138305: 0.02547452846867026, 138306: -0.012528891643113708, 138307: 0.009713621754952606, 138308: -0.050260019558156815, 138309: -0.04552805195363141, 138310: 0.024404741917628286, 138311: -0.007040064180220858, 138312: -0.042103399643942385, 138401: 0.0759724099769214, 138402: 0.07936618463075383, 138403: -0.14405031449324607, 138404: 0.04054527353623247, 138405: 0.023200409446246052, 138406: 0.002244388484575803, 138407: -0.016760276154108567, 138408: 0.006766736206738393, 138409: 0.0008953603708262668, 138410: 0.030952745234205697, 138411: 0.01972117234815906, 138412: 0.018382913195594142, 138501: 0.05077441242864188, 138502: 0.056549097356166714, 138503: 0.05496430676003753, 138504: 0.17182978282354933, 138505: 0.07124654038753435, 138506: 0.011985593879722357, 138507: 0.0723636191100874, 138508: 0.1370163676816514, 138509: -0.04016813161702274, 138510: -0.05428015834745377, 138511: -0.04287142518540753, 138512: -0.09430455571139441, 138601: 0.03748866822887009, 138602: 0.014221856285069478, 138603: 0.020078946719290988, 138604: 0.03078103580307847, 138605: 0.0755772170268833, 138606: 0.06797662033080593, 138607: 0.0024833706980673872, 138608: 0.016067555097639272, 138609: 0.03364910889410826, 138610: 0.015429531568237204, 138611: 0.08417827535031971, 138612: 0.026296311537159417, 138701: 0.08402412402018278, 138702: 0.060038121328911086, 138703: 0.05126739489039507, 138704: -0.17422712961976655, 138705: -0.07917623365358685, 138706: -0.005949222978265223, 138707: -0.015027045783684176, 138708: 0.02442933580630194, 138709: 0.03399997845067776, 138710: 0.06588014412131865, 138711: 0.06721726489641282, 138712: -0.045554253929567766, 138801: -0.01989678859779362, 138802: -0.02165263960237647, 138803: -0.03652976745089337, 138804: 0.09621132146727256, 138805: 0.03909488256243507, 138806: -0.004188163554974297, 138807: -0.058007646684341024, 138808: -0.020425983781705778, 138809: 0.06280717794280258, 138810: 0.041663553625858905, 138811: 0.0019167369182755967, 138812: -0.012783415200682463, 138901: -0.03463984378284386, 138902: -0.02868748841308464, 138903: 0.05728103938436045, 138904: 0.04771637787288695, 138905: -0.0029573916425530006, 138906: -0.045788134274235164, 138907: 0.01198410192569747, 138908: 0.018246529151862974, 138909: 0.0010159112704564432, 138910: -0.009091217072565397, 138911: 0.024708550447632482, 138912: 0.06483658361443945, 139001: -0.0050967565706308005, 139002: -0.034392557276898855, 139003: 0.04899762831444478, 139004: 0.02525857517163947, 139005: 0.0018621419749627194, 139006: -0.03284521695480593, 139007: 0.07558280313651755, 139008: 0.06123944873363782, 139009: -0.04754651339595386, 139010: 0.13080759826770239, 139011: 0.01644235753536745, 139012: -0.018727120509618365, 139101: -0.04587504528075063, 139102: -0.013667882489474113, 139103: -0.012949597068314424, 139104: 0.038857305673983725, 139105: -0.004587182294965159, 139106: 0.09199317109981962, 139107: 0.02439161098514262, 139108: 0.09199797551536014, 139109: 0.0630154035444286, 139110: 0.0719371664236482, 139111: -0.025426208201346008, 139112: 0.046819653151193893, 139201: 0.009972393608821462, 139202: 0.06952202930158563, 139203: 0.05611231047513754, 139204: -0.055778060026491674, 139205: 0.012574418315338134, 139206: -0.07089375307863405, 139207: 0.07286862998614727, 139208: 0.060839587471508055, 139209: -0.01408853842456453, 139210: -0.08023350847780003, 139211: -0.024292867039669118, 139212: -0.0032356924193602463, 139301: -0.012041365938679705, 139302: 0.031695723301445086, 139303: -0.019481537948297958, 139304: -0.007246677083562643, 139305: 0.009936751380746208, 139306: -0.03606051500208734, 139307: -0.0019831366312509993, 139308: 0.03151366757641845, 139309: -0.011706785044264229, 139310: 3.851118236100799e-05, 139311: -0.018450203376339215, 139312: 0.033049918617409725, 139401: -0.0015593981321556857, 139402: 0.0064757362018205145, 139403: 0.012888153983865155, 139404: -0.004504975100537982, 139405: -0.0018831983961279178, 139406: -0.011073468276694521, 139407: 0.042572034098623326, 139408: 0.04559573021495682, 139409: -0.031226840637281872, 139410: -0.052677991466868884, 139411: 0.03568716988632201, 139412: -0.03279790917430174, 139501: 0.024789814164031265, 139502: -0.034006478924641044, 139503: 0.032381536570756986, 139504: 0.035983757845048876, 139505: -0.004750969071732058, 139506: -0.007820102473565321, 139507: -0.015275600265266087, 139508: 0.01004562396066131, 139509: 0.04349974197045907, 139510: 0.014818306979804009, 139511: -0.02843236029031704, 139512: -0.07085953204964307, 139601: -0.014377371033594787, 139602: 0.004171168352880408, 139603: -0.010994290449519967, 139604: -0.03322137592540148, 139605: -0.0016467091078826504, 139606: 0.034596698554255276, 139607: 0.011153078333458168, 139608: 0.003923429852510922, 139609: 0.06835904795945409, 139610: 0.021516718900366345, 139611: 0.007469579529736427, 139612: 0.033371823402464, 139701: -0.021375505953463082, 139702: 0.05173578987814814, 139703: 0.0169584214889024, 139704: 0.09013657744511863, 139705: -0.2216922110764571, 139706: 0.004171528353486512, 139707: -0.035950516645970584, 139708: -0.019069774382245157, 139709: -0.01307132122560517, 139710: -0.01005994500516514, 139711: -0.007458041511473945, 139712: -0.07386730186024287, 139801: 0.07033076839834713, 139802: 0.015506279044116195, 139803: -0.03217017623477797, 139804: 0.09224524826247615, 139805: -0.022448322696156237, 139806: -0.07366910736458344, 139807: 0.0627280578218544, 139808: 0.004687277319147531, 139809: -0.03231161183709569, 139810: 0.0702679247811489, 139811: 0.02377896193410435, 139812: -0.03654477551400859, 139901: -0.09910153056218096, 139902: -0.04101990386629589, 139903: 0.09499106149544007, 139904: -0.025534121095572154, 139905: 0.02316562165019964, 139906: -0.08952781156028981, 139907: -0.026924926818801858, 139908: -0.10853441662368099, 139909: -0.06645543812670794, 139910: -0.07370035965821198, 139911: 0.01432663379872725, 139912: 0.058214434229781044, 140001: 0.05703212127755311, 140002: -0.06487939811431301, 140003: -0.027299781125234776}\n"
     ]
    }
   ],
   "source": [
    "\n",
    "\n",
    "MoMFactor = {}\n",
    "\n",
    "for index,month in enumerate(allMonths[:-1]):\n",
    "    # Get companies of corrent month\n",
    "    companiesInMonth = getCompaniesInMonth(month)\n",
    "    # Get companis for these filters SL SH BL BH\n",
    "    SL = [company for company in companiesInMonth if company.sizeMOM == \"Small\" and company.momentum == \"Low\"]\n",
    "    SH = [company for company in companiesInMonth if company.sizeMOM == \"Small\" and company.momentum == \"High\"]\n",
    "    BL = [company for company in companiesInMonth if company.sizeMOM == \"Big\" and company.momentum == \"Low\"]\n",
    "    BH = [company for company in companiesInMonth if company.sizeMOM == \"Big\" and company.momentum == \"High\"]\n",
    "    # Get companies next month info\n",
    "    BH_nextMonth = [findCompanyInfo(company.tickerKey,allMonths[index+1]) for company in BH]\n",
    "    BL_nextMonth = [findCompanyInfo(company.tickerKey,allMonths[index+1]) for company in BL]\n",
    "    SH_nextMonth = [findCompanyInfo(company.tickerKey,allMonths[index+1]) for company in SH]\n",
    "    SL_nextMonth = [findCompanyInfo(company.tickerKey,allMonths[index+1]) for company in SL]\n",
    "    # Get companies next month currentYield\n",
    "    BH_average = valueWeightedAverage([x for x in BH_nextMonth if x is not None])\n",
    "    BL_average = valueWeightedAverage([x for x in BL_nextMonth if x is not None])\n",
    "    SH_average = valueWeightedAverage([x for x in SH_nextMonth if x is not None])\n",
    "    SL_average = valueWeightedAverage([x for x in SL_nextMonth if x is not None])\n",
    "    \n",
    "    MoMFactor[month]=avgTriple(SH_average, BH_average,None) - avgTriple(SL_average, BL_average,None)\n",
    "\n",
    "print(MoMFactor)\n"
   ]
  },
  {
   "cell_type": "markdown",
   "metadata": {},
   "source": [
    "# Book to market Calc"
   ]
  },
  {
   "cell_type": "code",
   "execution_count": 156,
   "metadata": {},
   "outputs": [
    {
     "name": "stdout",
     "output_type": "stream",
     "text": [
      "tickerKey:1\t month:138001\t closeAdjust:None\t currentYield:None\t numberOfOutstandingShares:None\t marketcap:None\t b2m:None\t rollingAverage:None\t momentum:None\t sizeMOM:None\t sizeHML:None\t sizeRMW:None\t sizeCMA:None\n",
      "\n",
      "tickerKey:1\t month:138002\t closeAdjust:None\t currentYield:None\t numberOfOutstandingShares:None\t marketcap:None\t b2m:None\t rollingAverage:None\t momentum:None\t sizeMOM:None\t sizeHML:None\t sizeRMW:None\t sizeCMA:None\n",
      "\n",
      "tickerKey:1\t month:138003\t closeAdjust:None\t currentYield:None\t numberOfOutstandingShares:None\t marketcap:None\t b2m:None\t rollingAverage:None\t momentum:None\t sizeMOM:None\t sizeHML:None\t sizeRMW:None\t sizeCMA:None\n",
      "\n",
      "tickerKey:1\t month:138004\t closeAdjust:None\t currentYield:None\t numberOfOutstandingShares:None\t marketcap:None\t b2m:None\t rollingAverage:None\t momentum:None\t sizeMOM:None\t sizeHML:None\t sizeRMW:None\t sizeCMA:None\n",
      "\n",
      "tickerKey:1\t month:138005\t closeAdjust:None\t currentYield:None\t numberOfOutstandingShares:None\t marketcap:None\t b2m:None\t rollingAverage:None\t momentum:None\t sizeMOM:None\t sizeHML:None\t sizeRMW:None\t sizeCMA:None\n",
      "\n",
      "tickerKey:1\t month:138006\t closeAdjust:None\t currentYield:None\t numberOfOutstandingShares:None\t marketcap:None\t b2m:None\t rollingAverage:None\t momentum:None\t sizeMOM:None\t sizeHML:None\t sizeRMW:None\t sizeCMA:None\n",
      "\n",
      "tickerKey:1\t month:138007\t closeAdjust:None\t currentYield:None\t numberOfOutstandingShares:None\t marketcap:None\t b2m:None\t rollingAverage:None\t momentum:None\t sizeMOM:None\t sizeHML:None\t sizeRMW:None\t sizeCMA:None\n",
      "\n",
      "tickerKey:1\t month:138008\t closeAdjust:None\t currentYield:None\t numberOfOutstandingShares:None\t marketcap:None\t b2m:None\t rollingAverage:None\t momentum:None\t sizeMOM:None\t sizeHML:None\t sizeRMW:None\t sizeCMA:None\n",
      "\n",
      "tickerKey:1\t month:138009\t closeAdjust:None\t currentYield:None\t numberOfOutstandingShares:None\t marketcap:None\t b2m:None\t rollingAverage:None\t momentum:None\t sizeMOM:None\t sizeHML:None\t sizeRMW:None\t sizeCMA:None\n",
      "\n",
      "tickerKey:1\t month:138010\t closeAdjust:None\t currentYield:None\t numberOfOutstandingShares:None\t marketcap:None\t b2m:None\t rollingAverage:None\t momentum:None\t sizeMOM:None\t sizeHML:None\t sizeRMW:None\t sizeCMA:None\n",
      "\n"
     ]
    }
   ],
   "source": [
    "#  Fill all marketcap based on the last one\n",
    "for companyTicker in companyTickerSet:\n",
    "  for index,month in enumerate(allMonths):\n",
    "    if month not in companyInfoDict[companyTicker]:\n",
    "      firstData:CompanyInfo = companyInfoDict[companyTicker][list(companyInfoDict[companyTicker].keys())[0]]\n",
    "      c = CompanyInfo(companyTicker,firstData.name,month,None,None,None,None,None,None, firstData.sourceSubsectorCode)\n",
    "      if index > 0 and allMonths[index-1] in companyInfoDict[companyTicker]:\n",
    "        c.marketcap = companyInfoDict[companyTicker][allMonths[index-1]].marketcap\n",
    "        c.b2m = companyInfoDict[companyTicker][allMonths[index-1]].b2m\n",
    "        c.inv = companyInfoDict[companyTicker][allMonths[index-1]].inv\n",
    "        c.op = companyInfoDict[companyTicker][allMonths[index-1]].op\n",
    "      companyInfoDict[companyTicker][month] = c\n",
    "  # print(companyInfoDict[companyTicker][139712])\n",
    "\n",
    "for month in sorted(companyInfoDict[1].keys())[:10]:\n",
    "  print(companyInfoDict[1][month])"
   ]
  },
  {
   "cell_type": "code",
   "execution_count": 157,
   "metadata": {},
   "outputs": [
    {
     "data": {
      "text/plain": [
       "'\\nfor companyTicker in companyTickerSet:\\n  lastB2MOfTheYear = None\\n  lastINVOfTheYear = None\\n  lastOpOfTheYear = None\\n  for month in allMonths:\\n    if month % 100 == 5:\\n      lastB2MOfTheYear = companyInfoDict[companyTicker][month].b2m\\n      lastINVOfTheYear = companyInfoDict[companyTicker][month].inv\\n      lastOpOfTheYear = companyInfoDict[companyTicker][month].op\\n    companyInfoDict[companyTicker][month].b2m = lastB2MOfTheYear     \\n    companyInfoDict[companyTicker][month].inv = lastINVOfTheYear     \\n    companyInfoDict[companyTicker][month].op = lastOpOfTheYear     \\n'"
      ]
     },
     "execution_count": 157,
     "metadata": {},
     "output_type": "execute_result"
    }
   ],
   "source": [
    "# This calculation are done manually; Enable this to make it automated.\n",
    "\"\"\"\n",
    "for companyTicker in companyTickerSet:\n",
    "  lastB2MOfTheYear = None\n",
    "  lastINVOfTheYear = None\n",
    "  lastOpOfTheYear = None\n",
    "  for month in allMonths:\n",
    "    if month % 100 == 5:\n",
    "      lastB2MOfTheYear = companyInfoDict[companyTicker][month].b2m\n",
    "      lastINVOfTheYear = companyInfoDict[companyTicker][month].inv\n",
    "      lastOpOfTheYear = companyInfoDict[companyTicker][month].op\n",
    "    companyInfoDict[companyTicker][month].b2m = lastB2MOfTheYear     \n",
    "    companyInfoDict[companyTicker][month].inv = lastINVOfTheYear     \n",
    "    companyInfoDict[companyTicker][month].op = lastOpOfTheYear     \n",
    "\"\"\""
   ]
  },
  {
   "cell_type": "code",
   "execution_count": 158,
   "metadata": {},
   "outputs": [],
   "source": [
    "# for month in sorted(companyInfoDict[1].keys())[:10]:\n",
    "#   print(companyInfoDict[9][month])"
   ]
  },
  {
   "cell_type": "code",
   "execution_count": 159,
   "metadata": {},
   "outputs": [],
   "source": [
    "# Book To market ranking\n",
    "\n",
    "for index,month in enumerate(allMonths[:-1]):\n",
    "  b2mMonthList = []\n",
    "  for companyTicker in companyTickerSet:\n",
    "    if companyInfoDict[companyTicker][month].b2m == None or \\\n",
    "      companyInfoDict[companyTicker][month].marketcap == None or \\\n",
    "      findCompanyInfo(companyTicker,allMonths[index+1]).currentYield == None :\n",
    "      continue\n",
    "    b2mMonthList.append(companyInfoDict[companyTicker][month].b2m)\n",
    "  if len(b2mMonthList) == 0 :\n",
    "    continue\n",
    "  b2mMonthList.sort()\n",
    "  # print(len(b2mMonthList),int(len(b2mMonthList)*0.3))\n",
    "  lowBookToMarket = b2mMonthList[int(len(b2mMonthList)*0.3)]\n",
    "  highBookToMarket = b2mMonthList[int(-len(b2mMonthList)*0.3)]\n",
    "\n",
    "  for companyTicker in companyTickerSet:\n",
    "    if companyInfoDict[companyTicker][month].b2m == None:\n",
    "      continue\n",
    "    if companyInfoDict[companyTicker][month].currentYield == None:\n",
    "      continue\n",
    "    if companyInfoDict[companyTicker][month].b2m <= lowBookToMarket:\n",
    "      companyInfoDict[companyTicker][month].BperMSize = \"Low\"\n",
    "    elif companyInfoDict[companyTicker][month].b2m >= highBookToMarket:\n",
    "      companyInfoDict[companyTicker][month].BperMSize = \"High\"\n",
    "    else:\n",
    "      companyInfoDict[companyTicker][month].BperMSize = \"Neutral\"\n",
    "\n"
   ]
  },
  {
   "cell_type": "code",
   "execution_count": 160,
   "metadata": {},
   "outputs": [],
   "source": [
    "# RMW (Operational profit) ranking\n",
    "\n",
    "for index,month in enumerate(allMonths[:-1]):\n",
    "  dataMonthList = []\n",
    "  for companyTicker in companyTickerSet:\n",
    "    if companyInfoDict[companyTicker][month].op == None or \\\n",
    "      companyInfoDict[companyTicker][month].marketcap == None or \\\n",
    "      findCompanyInfo(companyTicker,allMonths[index+1]).currentYield == None :\n",
    "      continue\n",
    "    dataMonthList.append(companyInfoDict[companyTicker][month].op)\n",
    "  if len(dataMonthList) == 0 :\n",
    "    continue\n",
    "  dataMonthList.sort()\n",
    "  # print(len(dataMonthList),int(len(dataMonthList)*0.3))\n",
    "  weakValue = dataMonthList[int(len(dataMonthList)*0.3)]\n",
    "  robustValue = dataMonthList[int(-len(dataMonthList)*0.3)]\n",
    "  # if month == 139902:\n",
    "  #   print(dataMonthList)\n",
    "  for companyTicker in companyTickerSet:\n",
    "    if companyInfoDict[companyTicker][month].op == None:\n",
    "      continue\n",
    "    if companyInfoDict[companyTicker][month].currentYield == None:\n",
    "      continue\n",
    "    if companyInfoDict[companyTicker][month].op <= weakValue:\n",
    "      companyInfoDict[companyTicker][month].RMWSize = \"Weak\"\n",
    "    elif companyInfoDict[companyTicker][month].op >= robustValue:\n",
    "      companyInfoDict[companyTicker][month].RMWSize = \"Robust\"\n",
    "    else:\n",
    "      companyInfoDict[companyTicker][month].RMWSize = \"Neutral\""
   ]
  },
  {
   "cell_type": "code",
   "execution_count": 161,
   "metadata": {},
   "outputs": [
    {
     "name": "stdout",
     "output_type": "stream",
     "text": [
      "Robust\n",
      "Robust\n",
      "Neutral\n",
      "Robust\n",
      "Robust\n",
      "Weak\n",
      "Neutral\n",
      "Neutral\n",
      "Weak\n",
      "Weak\n"
     ]
    }
   ],
   "source": [
    "\n",
    "for companyTicker in companyTickerSet[:10]:\n",
    "  print(companyInfoDict[companyTicker][139807].RMWSize)"
   ]
  },
  {
   "cell_type": "code",
   "execution_count": 162,
   "metadata": {},
   "outputs": [],
   "source": [
    "# CMA (Investment) ranking\n",
    "\n",
    "for index,month in enumerate(allMonths[:-1]):\n",
    "  dataMonthList = []\n",
    "  for companyTicker in companyTickerSet:\n",
    "    if companyInfoDict[companyTicker][month].inv == None or \\\n",
    "      companyInfoDict[companyTicker][month].marketcap == None or \\\n",
    "      findCompanyInfo(companyTicker,allMonths[index+1]).currentYield == None :\n",
    "      continue   \n",
    "    dataMonthList.append(companyInfoDict[companyTicker][month].inv)\n",
    "  if len(dataMonthList) == 0 :\n",
    "    continue\n",
    "  dataMonthList.sort()\n",
    "  # print(len(dataMonthList),int(len(dataMonthList)*0.3))\n",
    "  weakValue = dataMonthList[int(len(dataMonthList)*0.3)]\n",
    "  robustValue = dataMonthList[int(-len(dataMonthList)*0.3)]\n",
    "  # if month == 139902:\n",
    "  #   print(dataMonthList)\n",
    "  for companyTicker in companyTickerSet:\n",
    "    if companyInfoDict[companyTicker][month].inv == None:\n",
    "      continue\n",
    "    if companyInfoDict[companyTicker][month].currentYield == None:\n",
    "      continue\n",
    "    if companyInfoDict[companyTicker][month].inv <= weakValue:\n",
    "      companyInfoDict[companyTicker][month].CMASize = \"Conservative\"\n",
    "    elif companyInfoDict[companyTicker][month].inv >= robustValue:\n",
    "      companyInfoDict[companyTicker][month].CMASize = \"Aggressive\"\n",
    "    else:\n",
    "      companyInfoDict[companyTicker][month].CMASize = \"Neutral\""
   ]
  },
  {
   "cell_type": "code",
   "execution_count": 163,
   "metadata": {},
   "outputs": [],
   "source": [
    "def getNextMonth(currentMonth):\n",
    "  return allMonths[allMonths.index(currentMonth)+1]\n",
    "\n",
    "def getNextMonthCompaniesHavingYeild(companyInfoList):\n",
    "  response = []\n",
    "  for companyInfo in companyInfoList:\n",
    "    nextMoonth = companyInfoDict[companyInfo.tickerKey][getNextMonth(companyInfo.month)]\n",
    "    if nextMoonth.currentYield != None:\n",
    "      response.append(nextMoonth)\n",
    "  return response\n"
   ]
  },
  {
   "cell_type": "code",
   "execution_count": 164,
   "metadata": {},
   "outputs": [
    {
     "name": "stdout",
     "output_type": "stream",
     "text": [
      "[]\n"
     ]
    }
   ],
   "source": [
    "import math\n",
    "for index,month in enumerate(allMonths[:-1]):\n",
    "    companiesInMonth = [x for x in getCompaniesInMonth(month) if x.b2m is not None and x.marketcap is not None]\n",
    "    companiesInMonth = [x for x in companiesInMonth if findCompanyInfo(x.tickerKey,allMonths[index+1]) is not None and findCompanyInfo(x.tickerKey,allMonths[index+1]).currentYield is not None]\n",
    "    companiesInMonth.sort(key=operator.attrgetter(\"marketcap\"), reverse=True)\n",
    "    median = math.ceil(len(companiesInMonth) / 2)\n",
    "    for company in companiesInMonth[0:median]:\n",
    "        company.sizeHML = \"Big\"\n",
    "    for company in companiesInMonth[median:]:\n",
    "        company.sizeHML = \"Small\"\n",
    "\n",
    "print ([x for x in getCompaniesInMonth(allMonths[-1]) if x.sizeHML ][-10:])"
   ]
  },
  {
   "cell_type": "code",
   "execution_count": 165,
   "metadata": {},
   "outputs": [
    {
     "name": "stdout",
     "output_type": "stream",
     "text": [
      "0\n",
      "0.0038989841984604437\n",
      "0.02291386935525331\n",
      "0.05640435648533565\n",
      "-0.024684754966975808\n",
      "0.0014765126165046712\n",
      "0.019141134043749293\n",
      "-0.002299456377792067\n",
      "0.02195206636740205\n",
      "-0.029414204569927545\n"
     ]
    }
   ],
   "source": [
    "HMLFactor = {}\n",
    "SMBBTMFactor = {}\n",
    "for month in allMonths[:-1]:\n",
    "  SH = [companyInfoDict[companyTicker][month] for companyTicker in companyTickerSet if companyInfoDict[companyTicker][month].BperMSize == \"High\" and \\\n",
    "        companyInfoDict[companyTicker][month].sizeHML == \"Small\"]\n",
    "  SN = [companyInfoDict[companyTicker][month] for companyTicker in companyTickerSet if companyInfoDict[companyTicker][month].BperMSize == \"Neutral\" and \\\n",
    "        companyInfoDict[companyTicker][month].sizeHML == \"Small\"]\n",
    "  SL = [companyInfoDict[companyTicker][month] for companyTicker in companyTickerSet if companyInfoDict[companyTicker][month].BperMSize == \"Low\" and \\\n",
    "        companyInfoDict[companyTicker][month].sizeHML == \"Small\"]\n",
    "  BH = [companyInfoDict[companyTicker][month] for companyTicker in companyTickerSet if companyInfoDict[companyTicker][month].BperMSize == \"High\" and \\\n",
    "        companyInfoDict[companyTicker][month].sizeHML == \"Big\"]\n",
    "  BN = [companyInfoDict[companyTicker][month] for companyTicker in companyTickerSet if companyInfoDict[companyTicker][month].BperMSize == \"Neutral\" and \\\n",
    "        companyInfoDict[companyTicker][month].sizeHML == \"Big\"]\n",
    "  BL = [companyInfoDict[companyTicker][month] for companyTicker in companyTickerSet if companyInfoDict[companyTicker][month].BperMSize == \"Low\" and \\\n",
    "        companyInfoDict[companyTicker][month].sizeHML == \"Big\"]\n",
    "  \n",
    "  \n",
    "  SH_average = valueWeightedAverage(getNextMonthCompaniesHavingYeild(SH))\n",
    "  SN_average = valueWeightedAverage(getNextMonthCompaniesHavingYeild(SN))\n",
    "  SL_average = valueWeightedAverage(getNextMonthCompaniesHavingYeild(SL))\n",
    "  BH_average = valueWeightedAverage(getNextMonthCompaniesHavingYeild(BH))\n",
    "  BN_average = valueWeightedAverage(getNextMonthCompaniesHavingYeild(BN))\n",
    "  BL_average = valueWeightedAverage(getNextMonthCompaniesHavingYeild(BL))\n",
    "  \n",
    "  SMBBTMFactor[month] = avgTriple(SH_average,SN_average,SL_average) - avgTriple(BH_average, BN_average, BL_average)\n",
    "  HMLFactor[month] = avgTriple(SH_average, BH_average,None)  - avgTriple(SL_average , BL_average,None)\n",
    "for month in list(HMLFactor.keys())[:10]:\n",
    "  print(HMLFactor[month])"
   ]
  },
  {
   "cell_type": "code",
   "execution_count": 166,
   "metadata": {},
   "outputs": [
    {
     "name": "stdout",
     "output_type": "stream",
     "text": [
      "[]\n"
     ]
    }
   ],
   "source": [
    "import math\n",
    "for index,month in enumerate(allMonths[:-1]):\n",
    "    companiesInMonth = [x for x in getCompaniesInMonth(month) if x.op is not None and x.marketcap is not None]\n",
    "    companiesInMonth = [x for x in companiesInMonth if findCompanyInfo(x.tickerKey,allMonths[index+1]) is not None and findCompanyInfo(x.tickerKey,allMonths[index+1]).currentYield is not None]\n",
    "    companiesInMonth.sort(key=operator.attrgetter(\"marketcap\"), reverse=True)\n",
    "    median = math.ceil(len(companiesInMonth) / 2)\n",
    "    for company in companiesInMonth[0:median]:\n",
    "        company.sizeRMW = \"Big\"\n",
    "    for company in companiesInMonth[median:]:\n",
    "        company.sizeRMW = \"Small\"\n",
    "\n",
    "print ([x for x in getCompaniesInMonth(allMonths[-1]) if x.sizeRMW ][-10:])"
   ]
  },
  {
   "cell_type": "code",
   "execution_count": 167,
   "metadata": {},
   "outputs": [
    {
     "name": "stdout",
     "output_type": "stream",
     "text": [
      "0\n",
      "0.018465601505908022\n",
      "0.00856511081428378\n",
      "0.03858368974668194\n",
      "0.0028669732955785704\n",
      "0.01120282839688961\n",
      "-0.01773046853530759\n",
      "-0.017240285062923414\n",
      "0.01767527712420763\n",
      "-0.000212743716439384\n"
     ]
    }
   ],
   "source": [
    "RMWFactor = {}\n",
    "SMBRMWFactor = {}\n",
    "for month in allMonths[:-1]:\n",
    "  SR = [companyInfoDict[companyTicker][month] for companyTicker in companyTickerSet if companyInfoDict[companyTicker][month].RMWSize == \"Robust\" and \\\n",
    "        companyInfoDict[companyTicker][month].sizeRMW == \"Small\"]\n",
    "  SN = [companyInfoDict[companyTicker][month] for companyTicker in companyTickerSet if companyInfoDict[companyTicker][month].RMWSize == \"Neutral\" and \\\n",
    "        companyInfoDict[companyTicker][month].sizeRMW == \"Small\"]\n",
    "  SW = [companyInfoDict[companyTicker][month] for companyTicker in companyTickerSet if companyInfoDict[companyTicker][month].RMWSize == \"Weak\" and \\\n",
    "        companyInfoDict[companyTicker][month].sizeRMW == \"Small\"]\n",
    "  BR = [companyInfoDict[companyTicker][month] for companyTicker in companyTickerSet if companyInfoDict[companyTicker][month].RMWSize == \"Robust\" and \\\n",
    "        companyInfoDict[companyTicker][month].sizeRMW == \"Big\"]\n",
    "  BN = [companyInfoDict[companyTicker][month] for companyTicker in companyTickerSet if companyInfoDict[companyTicker][month].RMWSize == \"Neutral\" and \\\n",
    "        companyInfoDict[companyTicker][month].sizeRMW == \"Big\"]\n",
    "  BW = [companyInfoDict[companyTicker][month] for companyTicker in companyTickerSet if companyInfoDict[companyTicker][month].RMWSize == \"Weak\" and \\\n",
    "        companyInfoDict[companyTicker][month].sizeRMW == \"Big\"]\n",
    "  \n",
    "  SR_average = valueWeightedAverage(getNextMonthCompaniesHavingYeild(SR))\n",
    "  SN_average = valueWeightedAverage(getNextMonthCompaniesHavingYeild(SN))\n",
    "  SW_average = valueWeightedAverage(getNextMonthCompaniesHavingYeild(SW))\n",
    "  BR_average = valueWeightedAverage(getNextMonthCompaniesHavingYeild(BR))\n",
    "  BN_average = valueWeightedAverage(getNextMonthCompaniesHavingYeild(BN))\n",
    "  BW_average = valueWeightedAverage(getNextMonthCompaniesHavingYeild(BW))\n",
    "\n",
    "  SMBRMWFactor[month] = avgTriple(SR_average , SN_average, SW_average) - avgTriple(BR_average, BN_average, BW_average)\n",
    "  RMWFactor[month] = avgTriple(SR_average, BW_average,None) - avgTriple(SW_average, BW_average,None)\n",
    "for month in list(RMWFactor.keys())[:10]:\n",
    "  print(RMWFactor[month])"
   ]
  },
  {
   "cell_type": "code",
   "execution_count": 168,
   "metadata": {},
   "outputs": [
    {
     "name": "stdout",
     "output_type": "stream",
     "text": [
      "[]\n"
     ]
    }
   ],
   "source": [
    "import math\n",
    "for index,month in enumerate(allMonths[:-1]):\n",
    "    companiesInMonth = [x for x in getCompaniesInMonth(month) if x.op is not None and x.marketcap is not None]\n",
    "    companiesInMonth = [x for x in companiesInMonth if findCompanyInfo(x.tickerKey,allMonths[index+1]) is not None and findCompanyInfo(x.tickerKey,allMonths[index+1]).currentYield is not None]\n",
    "    companiesInMonth.sort(key=operator.attrgetter(\"marketcap\"), reverse=True)\n",
    "    median = math.ceil(len(companiesInMonth) / 2)\n",
    "    for company in companiesInMonth[0:median]:\n",
    "        company.sizeCMA = \"Big\"\n",
    "    for company in companiesInMonth[median:]:\n",
    "        company.sizeCMA = \"Small\"\n",
    "\n",
    "print ([x for x in getCompaniesInMonth(allMonths[-1]) if x.sizeCMA ][-10:])"
   ]
  },
  {
   "cell_type": "code",
   "execution_count": 169,
   "metadata": {},
   "outputs": [
    {
     "name": "stdout",
     "output_type": "stream",
     "text": [
      "0\n",
      "-0.022069992949631523\n",
      "-0.00541160012636114\n",
      "-0.018548747656179143\n",
      "0.00930233880376085\n",
      "3.6003457451663085e-05\n",
      "0.030504184483581023\n",
      "0.005630102351359842\n",
      "0.00889257138108445\n",
      "-0.014336779233293672\n"
     ]
    }
   ],
   "source": [
    "CMAFactor = {}\n",
    "SMBCMAFactor = {}\n",
    "for month in allMonths[:-1]:\n",
    "  SA = [companyInfoDict[companyTicker][month] for companyTicker in companyTickerSet if companyInfoDict[companyTicker][month].CMASize == \"Aggressive\" and \\\n",
    "        companyInfoDict[companyTicker][month].sizeCMA == \"Small\"]\n",
    "  SN = [companyInfoDict[companyTicker][month] for companyTicker in companyTickerSet if companyInfoDict[companyTicker][month].CMASize == \"Neutral\" and \\\n",
    "        companyInfoDict[companyTicker][month].sizeCMA == \"Small\"]\n",
    "  SC = [companyInfoDict[companyTicker][month] for companyTicker in companyTickerSet if companyInfoDict[companyTicker][month].CMASize == \"Conservative\" and \\\n",
    "        companyInfoDict[companyTicker][month].sizeCMA == \"Small\"]\n",
    "  BA = [companyInfoDict[companyTicker][month] for companyTicker in companyTickerSet if companyInfoDict[companyTicker][month].CMASize == \"Aggressive\" and \\\n",
    "        companyInfoDict[companyTicker][month].sizeCMA == \"Big\"]\n",
    "  BN = [companyInfoDict[companyTicker][month] for companyTicker in companyTickerSet if companyInfoDict[companyTicker][month].CMASize == \"Neutral\" and \\\n",
    "        companyInfoDict[companyTicker][month].sizeCMA == \"Big\"]\n",
    "  BC = [companyInfoDict[companyTicker][month] for companyTicker in companyTickerSet if companyInfoDict[companyTicker][month].CMASize == \"Conservative\" and \\\n",
    "        companyInfoDict[companyTicker][month].sizeCMA == \"Big\"]\n",
    "  \n",
    "  SA_average = valueWeightedAverage(getNextMonthCompaniesHavingYeild(SA))\n",
    "  SN_average = valueWeightedAverage(getNextMonthCompaniesHavingYeild(SN))\n",
    "  SC_average = valueWeightedAverage(getNextMonthCompaniesHavingYeild(SC))\n",
    "  BA_average = valueWeightedAverage(getNextMonthCompaniesHavingYeild(BA))\n",
    "  BN_average = valueWeightedAverage(getNextMonthCompaniesHavingYeild(BN))\n",
    "  BC_average = valueWeightedAverage(getNextMonthCompaniesHavingYeild(BC))\n",
    "\n",
    "  SMBCMAFactor[month] = avgTriple(SA_average, SN_average, SC_average) - avgTriple(BA_average, BN_average, BC_average)\n",
    "  CMAFactor[month] = avgTriple(SC_average, BC_average,None)  - avgTriple(SA_average, BA_average,None)\n",
    "for month in list(CMAFactor.keys())[:10]:\n",
    "  print(CMAFactor[month])"
   ]
  },
  {
   "cell_type": "code",
   "execution_count": 170,
   "metadata": {},
   "outputs": [],
   "source": [
    "SMBFactor = {}\n",
    "for month in SMBBTMFactor.keys():\n",
    "  SMBFactor[month] = (SMBBTMFactor[month] + SMBCMAFactor[month] + SMBRMWFactor[month]) / 3\n"
   ]
  },
  {
   "cell_type": "markdown",
   "metadata": {},
   "source": [
    "# Export company list to excel"
   ]
  },
  {
   "cell_type": "code",
   "execution_count": 171,
   "metadata": {},
   "outputs": [],
   "source": [
    "# Example to excel function\n",
    "exportCompanyListToExcel(\"calculations\")"
   ]
  },
  {
   "cell_type": "code",
   "execution_count": 172,
   "metadata": {},
   "outputs": [],
   "source": [
    "# Factors to excel\n",
    "rows = []\n",
    "for month in allMonths:\n",
    "     rows.append([\n",
    "       month,\n",
    "       SMBFactor[month] if month in SMBFactor else None,\n",
    "       HMLFactor[month] if month in HMLFactor else None,\n",
    "       RMWFactor[month] if month in RMWFactor else None,\n",
    "       CMAFactor[month] if month in CMAFactor else None,\n",
    "       MoMFactor[month] if month in MoMFactor else None,\n",
    "     ])\n",
    "dfOut = pd.DataFrame(rows, columns=['month',\"SMBFactor\", \"HMLFactor\", \"RMWFactor\", \"CMAFactor\", \"MoMFactor\"])\n",
    "dfOut.to_excel('Factors.xlsx', sheet_name='Factors')"
   ]
  }
 ],
 "metadata": {
  "interpreter": {
   "hash": "31f2aee4e71d21fbe5cf8b01ff0e069b9275f58929596ceb00d14d90e3e16cd6"
  },
  "kernelspec": {
   "display_name": "Python 3.8.10 64-bit",
   "name": "python3"
  },
  "language_info": {
   "codemirror_mode": {
    "name": "ipython",
    "version": 3
   },
   "file_extension": ".py",
   "mimetype": "text/x-python",
   "name": "python",
   "nbconvert_exporter": "python",
   "pygments_lexer": "ipython3",
   "version": "3.8.10"
  },
  "orig_nbformat": 4
 },
 "nbformat": 4,
 "nbformat_minor": 2
}
