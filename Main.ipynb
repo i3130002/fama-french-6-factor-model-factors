{
 "cells": [
  {
   "cell_type": "markdown",
   "metadata": {},
   "source": [
    "# Prepare excel read with pandas"
   ]
  },
  {
   "cell_type": "code",
   "execution_count": 22,
   "metadata": {},
   "outputs": [],
   "source": [
    "import pandas as pd\n",
    "# data = pd.read_excel(r'monthly_market_data - Copy.xlsx')\n",
    "data = pd.read_excel(r'monthly_market_data - Copy (2).xlsx')\n",
    "\n",
    "# print(data)\n"
   ]
  },
  {
   "cell_type": "markdown",
   "metadata": {},
   "source": [
    "# Read Excel to memnory and create classes"
   ]
  },
  {
   "cell_type": "code",
   "execution_count": 23,
   "metadata": {},
   "outputs": [],
   "source": [
    "import operator\n",
    "\n",
    "class CompanyInfo:\n",
    "    def __init__(self, tickerKey, name, month,numberOfOutstandingShares, marketcap,b2m, adjClose,inv,op,sourceSubsectorCode\n",
    "):\n",
    "        self.tickerKey = tickerKey\n",
    "        self.name = name\n",
    "        self.month = month\n",
    "        self.rollingAverage = None\n",
    "        self.numberOfOutstandingShares = numberOfOutstandingShares if not pd.isnull(numberOfOutstandingShares) else None\n",
    "        self.marketcap = marketcap if not pd.isnull(marketcap) else None\n",
    "        self.b2m = b2m if not pd.isnull(b2m) else None\n",
    "        self.closeAdjust = adjClose\n",
    "        self.momentum = None\n",
    "        self.size = None\n",
    "        self.RMWSize = None\n",
    "        self.CMASize = None\n",
    "        self.BperMSize = None\n",
    "        self.currentYield = None\n",
    "        self.inv = inv if not pd.isnull(inv) else None\n",
    "        self.op = op if not pd.isnull(op) else None\n",
    "        self.sourceSubsectorCode = sourceSubsectorCode\n",
    "\n",
    "\n",
    "    def __repr__(self):\n",
    "         return self.__str__()\n",
    "\n",
    "    def __str__(self):\n",
    "        return \"tickerKey:\"+str(self.tickerKey) + \\\n",
    "            \"\\t month:\" + str(self.month) + \\\n",
    "            \"\\t closeAdjust:\" + str(self.closeAdjust) + \\\n",
    "            \"\\t currentYield:\" + str(self.currentYield) + \\\n",
    "            \"\\t numberOfOutstandingShares:\" + str(self.numberOfOutstandingShares) + \\\n",
    "            \"\\t marketcap:\" + str(self.marketcap) + \\\n",
    "            \"\\t b2m:\" + str(self.b2m) + \\\n",
    "            \"\\t rollingAverage:\" + str(self.rollingAverage) + \\\n",
    "            \"\\t momentum:\" + str(self.momentum) + \\\n",
    "            \"\\t size:\" + str(self.size)+\"\\n\"\n",
    "\n",
    "    def convertToList(self):\n",
    "      return [getattr(self,atr) for atr in self.__dict__]\n",
    "\n",
    "\n",
    "companyInfoDict  = {}\n",
    "def addCompanyInfoToList(companyInfo:CompanyInfo):\n",
    "    if companyInfo.tickerKey not in companyInfoDict:\n",
    "      companyInfoDict[companyInfo.tickerKey]={}\n",
    "    if companyInfo.month not in companyInfoDict[companyInfo.tickerKey]:\n",
    "      companyInfoDict[companyInfo.tickerKey][companyInfo.month]=companyInfo\n",
    "    else:\n",
    "      raise Exception(\"Company info exists.\" + str(companyInfo))\n",
    "\n",
    "def findCompanyInfo(tickerKey, month):\n",
    "    if tickerKey in companyInfoDict and month in companyInfoDict[tickerKey]:\n",
    "      return companyInfoDict[tickerKey][month]\n",
    "    return None\n",
    "\n",
    "def displayCompanyInfoHeader():\n",
    "  for tickerKey in companyInfoDict.keys():\n",
    "      for month in companyInfoDict[tickerKey].keys():\n",
    "        company:CompanyInfo = findCompanyInfo(month, tickerKey)\n",
    "        if company is None:\n",
    "          continue\n",
    "        attrs = []\n",
    "        for attribute in vars(company):\n",
    "          attrs.append(attribute)\n",
    "        print(attrs)\n",
    "        return\n",
    "\n",
    "def displayCompanyInfo(tickerKeys:list,months:list):\n",
    "    displayCompanyInfoHeader()\n",
    "    for tickerKey in tickerKeys:\n",
    "      for month in months:\n",
    "        company:CompanyInfo = findCompanyInfo(month, tickerKey)\n",
    "        if company is None:\n",
    "          continue\n",
    "        print(company.convertToList())\n",
    "\n",
    "allMonths = []\n",
    "\n",
    "\n",
    "for i, companyInfoPandas in data.iterrows():\n",
    "    ci = CompanyInfo(tickerKey=companyInfoPandas[\"TickerKey\"],\n",
    "                                       name=companyInfoPandas[\"TickerNamePooyaFA\"],\n",
    "                                       month=companyInfoPandas[\"DayKeyFA\"]// 100,\n",
    "                                       numberOfOutstandingShares=companyInfoPandas[\"NumberOfOutstandingShares\"],\n",
    "                                       marketcap=companyInfoPandas[\"marketcap\"],\n",
    "                                       b2m=companyInfoPandas[\"B2M\"],\n",
    "                                       adjClose=companyInfoPandas[\"AdjClose\"],\n",
    "                                       inv=companyInfoPandas[\"INV\"],\n",
    "                                       op=companyInfoPandas[\"OP\"],\n",
    "                                       sourceSubsectorCode=companyInfoPandas[\"SourceSubsectorCode\"],\n",
    "                                       )\n",
    "    addCompanyInfoToList(ci)\n",
    "    allMonths.append(ci.month)\n",
    "\n",
    "allMonths = list(set(allMonths))\n",
    "allMonths.sort()\n"
   ]
  },
  {
   "cell_type": "code",
   "execution_count": 24,
   "metadata": {},
   "outputs": [],
   "source": [
    "# companies to excel\n",
    "def exportCompanyListToExcel(companyList):\n",
    "  rows = []\n",
    "  for company in companyList:\n",
    "      rows.append(company.convertToList())\n",
    "      \n",
    "  dfOut = pd.DataFrame(rows,columns=companyList[0].__dict__)\n",
    "  dfOut.to_excel('TMPExport.xlsx', sheet_name='TMPExport')"
   ]
  },
  {
   "cell_type": "markdown",
   "metadata": {},
   "source": [
    "# Dict access sample and test"
   ]
  },
  {
   "cell_type": "code",
   "execution_count": 25,
   "metadata": {},
   "outputs": [
    {
     "name": "stdout",
     "output_type": "stream",
     "text": [
      "[1, 9, 10, 219, 223, 231, 234, 239, 243, 247]\n",
      "[139712, 139801, 139802, 139803, 139804, 139805, 139806, 139807, 139808, 139809]\n",
      "tickerKey:1\t month:139712\t closeAdjust:802.52329928672\t currentYield:None\t numberOfOutstandingShares:3000000000.0\t marketcap:4959000000000.0\t b2m:1.2906721802\t rollingAverage:None\t momentum:None\t size:None\n",
      "\n"
     ]
    }
   ],
   "source": [
    "print(list(companyInfoDict.keys())[:10])\n",
    "print(list(companyInfoDict[1].keys())[:10])\n",
    "print(companyInfoDict[1][139712])\n"
   ]
  },
  {
   "cell_type": "markdown",
   "metadata": {},
   "source": [
    "# Extract company names"
   ]
  },
  {
   "cell_type": "code",
   "execution_count": 26,
   "metadata": {},
   "outputs": [
    {
     "name": "stdout",
     "output_type": "stream",
     "text": [
      "[1, 9, 10, 219, 223, 231, 234, 239, 243, 247, 251, 255, 259, 263, 267, 271, 275, 279, 283, 287, 291, 295, 301, 303, 307, 311, 315, 320, 323, 327, 336, 340, 344, 347, 350, 355, 359, 363, 370, 375, 378, 383, 389, 395, 398, 403, 406, 411, 414, 422, 423, 430, 432, 434, 438, 446, 447, 450, 454, 458, 463, 466, 474, 475, 478, 483, 487, 490, 494, 499, 502, 510, 511, 515, 517, 526, 527, 534, 538, 547, 550, 558, 559, 563, 566, 574, 575, 578, 583, 587, 591, 599, 603, 607, 610, 615, 622, 627, 631, 635, 640, 646, 647, 654, 655, 659, 662, 667, 670, 675, 680, 687, 689, 698, 708, 711, 718, 724, 725, 731, 733, 743, 744, 747, 751, 754, 759, 762, 767, 772, 774, 779, 786, 787, 791, 794, 798, 801, 807, 810, 815, 820, 822, 827, 839, 842, 847, 852, 855, 863, 866, 871, 875, 879, 883, 887, 890, 893, 899, 902, 908, 909, 915, 922, 931, 935, 939, 943, 947, 951, 955, 958, 965, 968, 969, 981, 985, 990, 993, 1003, 1010, 1013, 1020, 1028, 1032, 1033, 1041, 1044, 1048, 1053, 1059, 1064, 1068, 1074, 1077, 1084, 1088, 1093, 1099, 1101, 1106, 1109, 1110, 1117, 1120, 1125, 1133, 1137, 1141, 1144, 1149, 1152, 1157, 1161, 1169, 1174, 1177, 1180, 1185, 1187, 1193, 1197, 1200, 1205, 1211, 1214, 1215, 1222, 1224, 1226, 1233, 1235, 1242, 1247, 1252, 1256, 1261, 1265, 1269, 1273, 1281, 1283, 1284, 1288, 1297, 1301, 1304, 1310, 1315, 1318, 1323, 1331, 1333, 1335, 1338, 1345, 1349, 1354, 1356, 1364, 1366, 1369, 1373, 1376, 1380, 1387, 1389, 1394, 1397, 1401, 1405, 1413, 1417, 1421, 1424, 1430, 1433, 1436, 1444, 1452, 1455, 1458, 1459, 1465, 1468, 1473, 1477, 1481, 1493, 1499, 1505, 1509, 1512, 1517, 1524, 1525, 1529, 1536, 1537, 1544, 1549, 1553, 1565, 1567, 1573, 1577, 1584, 1590, 1603, 1609, 1614, 1617, 1780, 1783, 1789, 1801, 1803, 1813, 1823, 1828, 1836, 1848, 1857, 1865, 1867, 1872, 1905, 2080, 2137, 2139, 2215, 2511, 2521, 2535, 2551, 2583, 2632, 2682, 2728, 2742, 2745, 2769, 2777, 2785, 2788, 2801, 2817, 2823, 2843, 2845, 2858, 2903, 2908, 2935, 2956, 2969, 2978, 3003, 3006, 3019, 3055, 3081, 3091, 3093, 4711, 4726, 4734, 4742, 4827, 4892, 5450, 5454, 5475, 5530, 5574, 5597, 5603, 5621, 5623, 5640, 74108, 74132, 74138, 74151, 74153, 74156, 74165, 74167, 74185, 74238, 74294, 74311, 74315, 74418, 74450, 74516, 74536, 74546, 74587, 74605, 74637, 74642, 74652, 74672, 74699, 74722, 74753, 74769, 74888, 74896, 74912, 74918, 74927, 74935, 74975, 74978, 74995, 75039, 75247, 75251, 75329, 75338, 75406, 75418, 75431, 75438, 75449, 75470, 75546, 75585, 75616, 75646, 75686, 75706, 75734, 75809, 75884, 75889, 75986, 75993, 76002, 76034, 76074, 76178, 76222, 76298, 76383, 76391, 76527, 77226, 78553, 78680, 78797, 78873, 78897, 78937, 79045, 79065, 79570, 79581, 79585, 79665, 79685, 79985, 80158, 80299, 80375, 80427, 80702, 81089, 81109, 81130, 81246, 81474, 82566, 82570, 82574, 82734, 83218, 83474, 83478, 83594, 83762, 85342, 85346, 85362, 85451, 85595, 85731, 85843, 86487, 86499, 86503, 86507, 86511, 86515, 86547, 86949, 87002, 87103, 87793, 89401, 90391, 90394, 90606, 90926, 91218, 91586, 91594, 92266, 92294, 92405, 93470, 93649, 94054, 94330, 94807, 96077, 96140, 96181, 96324, 96325, 96335, 96338, 96516, 96604, 96813, 99626, 100743, 101001, 101021, 101033, 101060, 101294, 101872, 102007, 102543, 102749, 102799, 102926, 102971, 103015, 103025, 103036, 103039, 103046, 103049, 103064, 103065, 103067, 103069, 103076, 103082, 103084, 103093, 103095, 103124, 103130, 103134, 103139, 103143, 103145, 103150, 103154, 103155, 103156, 103164, 103197, 103315, 103316, 103318, 103681, 103742, 104894, 104898, 104978, 105479, 105638, 105765, 105828, 106325, 106470, 106643, 107059, 107696, 107874, 108032]\n"
     ]
    }
   ],
   "source": [
    "companyTickerSet = list(companyInfoDict.keys())\n",
    "print(companyTickerSet)\n"
   ]
  },
  {
   "cell_type": "markdown",
   "metadata": {},
   "source": [
    "# Extract company months"
   ]
  },
  {
   "cell_type": "code",
   "execution_count": 27,
   "metadata": {},
   "outputs": [
    {
     "name": "stdout",
     "output_type": "stream",
     "text": [
      "[138001, 138002, 138003, 138004, 138005, 138006, 138007, 138008, 138009, 138010, 138011, 138012, 138101, 138102, 138103, 138104, 138105, 138106, 138107, 138108, 138109, 138110, 138111, 138112, 138201, 138202, 138203, 138204, 138205, 138206, 138207, 138208, 138209, 138210, 138211, 138212, 138301, 138302, 138303, 138304, 138305, 138306, 138307, 138308, 138309, 138310, 138311, 138312, 138401, 138402, 138403, 138404, 138405, 138406, 138407, 138408, 138409, 138410, 138411, 138412, 138501, 138502, 138503, 138504, 138505, 138506, 138507, 138508, 138509, 138510, 138511, 138512, 138601, 138602, 138603, 138604, 138605, 138606, 138607, 138608, 138609, 138610, 138611, 138612, 138701, 138702, 138703, 138704, 138705, 138706, 138707, 138708, 138709, 138710, 138711, 138712, 138801, 138802, 138803, 138804, 138805, 138806, 138807, 138808, 138809, 138810, 138811, 138812, 138901, 138902, 138903, 138904, 138905, 138906, 138907, 138908, 138909, 138910, 138911, 138912, 139001, 139002, 139003, 139004, 139005, 139006, 139007, 139008, 139009, 139010, 139011, 139012, 139101, 139102, 139103, 139104, 139105, 139106, 139107, 139108, 139109, 139110, 139111, 139112, 139201, 139202, 139203, 139204, 139205, 139206, 139207, 139208, 139209, 139210, 139211, 139212, 139301, 139302, 139303, 139304, 139305, 139306, 139307, 139308, 139309, 139310, 139311, 139312, 139401, 139402, 139403, 139404, 139405, 139406, 139407, 139408, 139409, 139410, 139411, 139412, 139501, 139502, 139503, 139504, 139505, 139506, 139507, 139508, 139509, 139510, 139511, 139512, 139601, 139602, 139603, 139604, 139605, 139606, 139607, 139608, 139609, 139610, 139611, 139612, 139701, 139702, 139703, 139704, 139705, 139706, 139707, 139708, 139709, 139710, 139711, 139712, 139801, 139802, 139803, 139804, 139805, 139806, 139807, 139808, 139809, 139810, 139811, 139812, 139901, 139902, 139903, 139904, 139905, 139906, 139907, 139908, 139909, 139910, 139911, 139912, 140001, 140002, 140003, 140004]\n",
      "Total: 244\n"
     ]
    }
   ],
   "source": [
    "print(allMonths)\n",
    "print(\"Total:\",len(allMonths))"
   ]
  },
  {
   "cell_type": "code",
   "execution_count": 28,
   "metadata": {},
   "outputs": [],
   "source": [
    "displayCompanyInfo(companyTickerSet[:3],allMonths[:3])"
   ]
  },
  {
   "cell_type": "markdown",
   "metadata": {},
   "source": [
    "# Fill missing close adjust"
   ]
  },
  {
   "cell_type": "code",
   "execution_count": 30,
   "metadata": {},
   "outputs": [
    {
     "name": "stdout",
     "output_type": "stream",
     "text": [
      "None privuse marketcap tickerKey:2511\t month:138608\t closeAdjust:306.273415\t currentYield:None\t numberOfOutstandingShares:None\t marketcap:None\t b2m:None\t rollingAverage:None\t momentum:None\t size:None\n",
      "\n",
      "None privuse marketcap tickerKey:2511\t month:139004\t closeAdjust:281.955124\t currentYield:None\t numberOfOutstandingShares:None\t marketcap:None\t b2m:None\t rollingAverage:None\t momentum:None\t size:None\n",
      "\n",
      "None privuse marketcap tickerKey:2551\t month:138502\t closeAdjust:22.1411269068768\t currentYield:None\t numberOfOutstandingShares:None\t marketcap:None\t b2m:None\t rollingAverage:None\t momentum:None\t size:None\n",
      "\n",
      "None privuse marketcap tickerKey:2551\t month:138708\t closeAdjust:83.1643977955371\t currentYield:None\t numberOfOutstandingShares:None\t marketcap:None\t b2m:None\t rollingAverage:None\t momentum:None\t size:None\n",
      "\n",
      "None privuse marketcap tickerKey:2583\t month:138901\t closeAdjust:44.172271\t currentYield:None\t numberOfOutstandingShares:None\t marketcap:None\t b2m:None\t rollingAverage:None\t momentum:None\t size:None\n",
      "\n",
      "None privuse marketcap tickerKey:2583\t month:138903\t closeAdjust:47.330218\t currentYield:None\t numberOfOutstandingShares:None\t marketcap:None\t b2m:None\t rollingAverage:None\t momentum:None\t size:None\n",
      "\n",
      "None privuse marketcap tickerKey:2583\t month:139011\t closeAdjust:26.316225\t currentYield:None\t numberOfOutstandingShares:None\t marketcap:None\t b2m:None\t rollingAverage:None\t momentum:None\t size:None\n",
      "\n",
      "None privuse marketcap tickerKey:2632\t month:138402\t closeAdjust:13266.46602\t currentYield:None\t numberOfOutstandingShares:None\t marketcap:None\t b2m:None\t rollingAverage:None\t momentum:None\t size:None\n",
      "\n",
      "None privuse marketcap tickerKey:2632\t month:138903\t closeAdjust:4071.2\t currentYield:None\t numberOfOutstandingShares:None\t marketcap:None\t b2m:None\t rollingAverage:None\t momentum:None\t size:None\n",
      "\n",
      "None privuse marketcap tickerKey:2728\t month:138902\t closeAdjust:678.0\t currentYield:None\t numberOfOutstandingShares:None\t marketcap:None\t b2m:None\t rollingAverage:None\t momentum:None\t size:None\n",
      "\n",
      "None privuse marketcap tickerKey:2728\t month:138907\t closeAdjust:1084.0\t currentYield:None\t numberOfOutstandingShares:None\t marketcap:None\t b2m:None\t rollingAverage:None\t momentum:None\t size:None\n",
      "\n",
      "None privuse marketcap tickerKey:2769\t month:138810\t closeAdjust:89.7256662792376\t currentYield:None\t numberOfOutstandingShares:None\t marketcap:None\t b2m:None\t rollingAverage:None\t momentum:None\t size:None\n",
      "\n",
      "None privuse marketcap tickerKey:2769\t month:138907\t closeAdjust:111.578110435443\t currentYield:None\t numberOfOutstandingShares:None\t marketcap:None\t b2m:None\t rollingAverage:None\t momentum:None\t size:None\n",
      "\n",
      "None privuse marketcap tickerKey:2777\t month:138603\t closeAdjust:1400.50259297144\t currentYield:None\t numberOfOutstandingShares:None\t marketcap:None\t b2m:None\t rollingAverage:None\t momentum:None\t size:None\n",
      "\n",
      "None privuse marketcap tickerKey:2777\t month:138606\t closeAdjust:1400.50259297144\t currentYield:None\t numberOfOutstandingShares:None\t marketcap:None\t b2m:None\t rollingAverage:None\t momentum:None\t size:None\n",
      "\n",
      "None privuse marketcap tickerKey:2777\t month:138701\t closeAdjust:1979.99248282365\t currentYield:None\t numberOfOutstandingShares:None\t marketcap:None\t b2m:None\t rollingAverage:None\t momentum:None\t size:None\n",
      "\n",
      "None privuse marketcap tickerKey:2777\t month:138706\t closeAdjust:1807.90055233733\t currentYield:None\t numberOfOutstandingShares:None\t marketcap:None\t b2m:None\t rollingAverage:None\t momentum:None\t size:None\n",
      "\n",
      "None privuse marketcap tickerKey:2777\t month:138804\t closeAdjust:1326.83887915937\t currentYield:None\t numberOfOutstandingShares:None\t marketcap:None\t b2m:None\t rollingAverage:None\t momentum:None\t size:None\n",
      "\n",
      "None privuse marketcap tickerKey:2777\t month:138808\t closeAdjust:1399.2119089317\t currentYield:None\t numberOfOutstandingShares:None\t marketcap:None\t b2m:None\t rollingAverage:None\t momentum:None\t size:None\n",
      "\n",
      "None privuse marketcap tickerKey:2777\t month:138812\t closeAdjust:1107.78984238179\t currentYield:None\t numberOfOutstandingShares:None\t marketcap:None\t b2m:None\t rollingAverage:None\t momentum:None\t size:None\n",
      "\n",
      "None privuse marketcap tickerKey:2785\t month:138409\t closeAdjust:139.330368\t currentYield:None\t numberOfOutstandingShares:None\t marketcap:None\t b2m:None\t rollingAverage:None\t momentum:None\t size:None\n",
      "\n",
      "None privuse marketcap tickerKey:2785\t month:138412\t closeAdjust:134.671688\t currentYield:None\t numberOfOutstandingShares:None\t marketcap:None\t b2m:None\t rollingAverage:None\t momentum:None\t size:None\n",
      "\n",
      "None privuse marketcap tickerKey:2785\t month:138506\t closeAdjust:156.24496\t currentYield:None\t numberOfOutstandingShares:None\t marketcap:None\t b2m:None\t rollingAverage:None\t momentum:None\t size:None\n",
      "\n",
      "None privuse marketcap tickerKey:2785\t month:138902\t closeAdjust:181.33016\t currentYield:None\t numberOfOutstandingShares:None\t marketcap:None\t b2m:None\t rollingAverage:None\t momentum:None\t size:None\n",
      "\n",
      "None privuse marketcap tickerKey:2785\t month:138910\t closeAdjust:173.159552\t currentYield:None\t numberOfOutstandingShares:None\t marketcap:None\t b2m:None\t rollingAverage:None\t momentum:None\t size:None\n",
      "\n",
      "None privuse marketcap tickerKey:2785\t month:139009\t closeAdjust:169.002576\t currentYield:None\t numberOfOutstandingShares:None\t marketcap:None\t b2m:None\t rollingAverage:None\t momentum:None\t size:None\n",
      "\n",
      "None privuse marketcap tickerKey:2817\t month:138305\t closeAdjust:143.7115\t currentYield:None\t numberOfOutstandingShares:None\t marketcap:None\t b2m:None\t rollingAverage:None\t momentum:None\t size:None\n",
      "\n",
      "None privuse marketcap tickerKey:2817\t month:138309\t closeAdjust:322.5849\t currentYield:None\t numberOfOutstandingShares:None\t marketcap:None\t b2m:None\t rollingAverage:None\t momentum:None\t size:None\n",
      "\n",
      "None privuse marketcap tickerKey:2817\t month:138404\t closeAdjust:390.64725\t currentYield:None\t numberOfOutstandingShares:None\t marketcap:None\t b2m:None\t rollingAverage:None\t momentum:None\t size:None\n",
      "\n",
      "None privuse marketcap tickerKey:2817\t month:138902\t closeAdjust:411.058602\t currentYield:None\t numberOfOutstandingShares:None\t marketcap:None\t b2m:None\t rollingAverage:None\t momentum:None\t size:None\n",
      "\n",
      "None privuse marketcap tickerKey:2817\t month:138908\t closeAdjust:392.204194\t currentYield:None\t numberOfOutstandingShares:None\t marketcap:None\t b2m:None\t rollingAverage:None\t momentum:None\t size:None\n",
      "\n",
      "None privuse marketcap tickerKey:2817\t month:139002\t closeAdjust:432.35108\t currentYield:None\t numberOfOutstandingShares:None\t marketcap:None\t b2m:None\t rollingAverage:None\t momentum:None\t size:None\n",
      "\n",
      "None privuse marketcap tickerKey:2823\t month:138410\t closeAdjust:251.004607527401\t currentYield:None\t numberOfOutstandingShares:None\t marketcap:None\t b2m:None\t rollingAverage:None\t momentum:None\t size:None\n",
      "\n",
      "None privuse marketcap tickerKey:2823\t month:138501\t closeAdjust:201.125486800802\t currentYield:None\t numberOfOutstandingShares:None\t marketcap:None\t b2m:None\t rollingAverage:None\t momentum:None\t size:None\n",
      "\n",
      "None privuse marketcap tickerKey:2823\t month:138709\t closeAdjust:113.635900042453\t currentYield:None\t numberOfOutstandingShares:None\t marketcap:None\t b2m:None\t rollingAverage:None\t momentum:None\t size:None\n",
      "\n",
      "None privuse marketcap tickerKey:2823\t month:138803\t closeAdjust:118.261786238872\t currentYield:None\t numberOfOutstandingShares:None\t marketcap:None\t b2m:None\t rollingAverage:None\t momentum:None\t size:None\n",
      "\n",
      "None privuse marketcap tickerKey:2823\t month:138904\t closeAdjust:140.184464300159\t currentYield:None\t numberOfOutstandingShares:None\t marketcap:None\t b2m:None\t rollingAverage:None\t momentum:None\t size:None\n",
      "\n",
      "None privuse marketcap tickerKey:2823\t month:138911\t closeAdjust:160.661254561676\t currentYield:None\t numberOfOutstandingShares:None\t marketcap:None\t b2m:None\t rollingAverage:None\t momentum:None\t size:None\n",
      "\n",
      "None privuse marketcap tickerKey:2823\t month:139008\t closeAdjust:165.843875676569\t currentYield:None\t numberOfOutstandingShares:None\t marketcap:None\t b2m:None\t rollingAverage:None\t momentum:None\t size:None\n",
      "\n",
      "None privuse marketcap tickerKey:2903\t month:138803\t closeAdjust:1146.649449\t currentYield:None\t numberOfOutstandingShares:None\t marketcap:None\t b2m:None\t rollingAverage:None\t momentum:None\t size:None\n",
      "\n",
      "None privuse marketcap tickerKey:2903\t month:138808\t closeAdjust:808.375425\t currentYield:None\t numberOfOutstandingShares:None\t marketcap:None\t b2m:None\t rollingAverage:None\t momentum:None\t size:None\n",
      "\n",
      "None privuse marketcap tickerKey:2903\t month:138811\t closeAdjust:801.742601\t currentYield:None\t numberOfOutstandingShares:None\t marketcap:None\t b2m:None\t rollingAverage:None\t momentum:None\t size:None\n",
      "\n",
      "None privuse marketcap tickerKey:2935\t month:138412\t closeAdjust:1462.0\t currentYield:None\t numberOfOutstandingShares:None\t marketcap:None\t b2m:None\t rollingAverage:None\t momentum:None\t size:None\n",
      "\n",
      "None privuse marketcap tickerKey:2935\t month:138803\t closeAdjust:2735.0\t currentYield:None\t numberOfOutstandingShares:None\t marketcap:None\t b2m:None\t rollingAverage:None\t momentum:None\t size:None\n",
      "\n",
      "None privuse marketcap tickerKey:2935\t month:138812\t closeAdjust:5304.0\t currentYield:None\t numberOfOutstandingShares:None\t marketcap:None\t b2m:None\t rollingAverage:None\t momentum:None\t size:None\n",
      "\n",
      "None privuse marketcap tickerKey:2956\t month:138601\t closeAdjust:99.7923255363781\t currentYield:None\t numberOfOutstandingShares:None\t marketcap:None\t b2m:None\t rollingAverage:None\t momentum:None\t size:None\n",
      "\n",
      "None privuse marketcap tickerKey:2956\t month:138604\t closeAdjust:74.3121400398867\t currentYield:None\t numberOfOutstandingShares:None\t marketcap:None\t b2m:None\t rollingAverage:None\t momentum:None\t size:None\n",
      "\n",
      "None privuse marketcap tickerKey:2956\t month:138607\t closeAdjust:107.799633319463\t currentYield:None\t numberOfOutstandingShares:None\t marketcap:None\t b2m:None\t rollingAverage:None\t momentum:None\t size:None\n",
      "\n",
      "None privuse marketcap tickerKey:2956\t month:138704\t closeAdjust:41.6398816312528\t currentYield:None\t numberOfOutstandingShares:None\t marketcap:None\t b2m:None\t rollingAverage:None\t momentum:None\t size:None\n",
      "\n",
      "None privuse marketcap tickerKey:2956\t month:138904\t closeAdjust:207.007905519225\t currentYield:None\t numberOfOutstandingShares:None\t marketcap:None\t b2m:None\t rollingAverage:None\t momentum:None\t size:None\n",
      "\n",
      "None privuse marketcap tickerKey:2969\t month:138707\t closeAdjust:1023.60346448234\t currentYield:None\t numberOfOutstandingShares:None\t marketcap:None\t b2m:None\t rollingAverage:None\t momentum:None\t size:None\n",
      "\n",
      "None privuse marketcap tickerKey:2969\t month:138709\t closeAdjust:1058.21807439237\t currentYield:None\t numberOfOutstandingShares:None\t marketcap:None\t b2m:None\t rollingAverage:None\t momentum:None\t size:None\n",
      "\n",
      "None privuse marketcap tickerKey:2969\t month:138712\t closeAdjust:1055.25110782866\t currentYield:None\t numberOfOutstandingShares:None\t marketcap:None\t b2m:None\t rollingAverage:None\t momentum:None\t size:None\n",
      "\n",
      "None privuse marketcap tickerKey:2969\t month:138802\t closeAdjust:1056.24009668323\t currentYield:None\t numberOfOutstandingShares:None\t marketcap:None\t b2m:None\t rollingAverage:None\t momentum:None\t size:None\n",
      "\n",
      "None privuse marketcap tickerKey:2969\t month:138903\t closeAdjust:1269.86168927085\t currentYield:None\t numberOfOutstandingShares:None\t marketcap:None\t b2m:None\t rollingAverage:None\t momentum:None\t size:None\n",
      "\n",
      "None privuse marketcap tickerKey:2969\t month:138912\t closeAdjust:1376.67248556466\t currentYield:None\t numberOfOutstandingShares:None\t marketcap:None\t b2m:None\t rollingAverage:None\t momentum:None\t size:None\n",
      "\n",
      "None privuse marketcap tickerKey:2969\t month:139004\t closeAdjust:1376.67248556466\t currentYield:None\t numberOfOutstandingShares:None\t marketcap:None\t b2m:None\t rollingAverage:None\t momentum:None\t size:None\n",
      "\n",
      "None privuse marketcap tickerKey:3055\t month:138003\t closeAdjust:1899.96885619527\t currentYield:None\t numberOfOutstandingShares:None\t marketcap:None\t b2m:None\t rollingAverage:None\t momentum:None\t size:None\n",
      "\n",
      "None privuse marketcap tickerKey:3055\t month:138012\t closeAdjust:2802.72412622173\t currentYield:None\t numberOfOutstandingShares:None\t marketcap:None\t b2m:None\t rollingAverage:None\t momentum:None\t size:None\n",
      "\n",
      "None privuse marketcap tickerKey:3055\t month:138105\t closeAdjust:3229.21947622737\t currentYield:None\t numberOfOutstandingShares:None\t marketcap:None\t b2m:None\t rollingAverage:None\t momentum:None\t size:None\n",
      "\n",
      "None privuse marketcap tickerKey:3055\t month:138205\t closeAdjust:4438.05096084574\t currentYield:None\t numberOfOutstandingShares:None\t marketcap:None\t b2m:None\t rollingAverage:None\t momentum:None\t size:None\n",
      "\n",
      "None privuse marketcap tickerKey:3055\t month:138402\t closeAdjust:4445.30761853102\t currentYield:None\t numberOfOutstandingShares:None\t marketcap:None\t b2m:None\t rollingAverage:None\t momentum:None\t size:None\n",
      "\n",
      "None privuse marketcap tickerKey:3055\t month:138406\t closeAdjust:4562.97592917916\t currentYield:None\t numberOfOutstandingShares:None\t marketcap:None\t b2m:None\t rollingAverage:None\t momentum:None\t size:None\n",
      "\n",
      "None privuse marketcap tickerKey:3055\t month:138409\t closeAdjust:4643.38367119765\t currentYield:None\t numberOfOutstandingShares:None\t marketcap:None\t b2m:None\t rollingAverage:None\t momentum:None\t size:None\n",
      "\n",
      "None privuse marketcap tickerKey:3091\t month:138712\t closeAdjust:976.053286277965\t currentYield:None\t numberOfOutstandingShares:None\t marketcap:None\t b2m:None\t rollingAverage:None\t momentum:None\t size:None\n",
      "\n",
      "None privuse marketcap tickerKey:3091\t month:138808\t closeAdjust:1177.79658363857\t currentYield:None\t numberOfOutstandingShares:None\t marketcap:None\t b2m:None\t rollingAverage:None\t momentum:None\t size:None\n",
      "\n",
      "None privuse marketcap tickerKey:3091\t month:138912\t closeAdjust:851.164578388068\t currentYield:None\t numberOfOutstandingShares:None\t marketcap:None\t b2m:None\t rollingAverage:None\t momentum:None\t size:None\n",
      "\n",
      "None privuse marketcap tickerKey:76527\t month:138412\t closeAdjust:1462.0\t currentYield:None\t numberOfOutstandingShares:None\t marketcap:None\t b2m:None\t rollingAverage:None\t momentum:None\t size:None\n",
      "\n",
      "None privuse marketcap tickerKey:76527\t month:138803\t closeAdjust:2735.0\t currentYield:None\t numberOfOutstandingShares:None\t marketcap:None\t b2m:None\t rollingAverage:None\t momentum:None\t size:None\n",
      "\n",
      "None privuse marketcap tickerKey:76527\t month:138812\t closeAdjust:5304.0\t currentYield:None\t numberOfOutstandingShares:None\t marketcap:None\t b2m:None\t rollingAverage:None\t momentum:None\t size:None\n",
      "\n",
      "None privuse marketcap tickerKey:90926\t month:138303\t closeAdjust:107.949890355066\t currentYield:None\t numberOfOutstandingShares:None\t marketcap:None\t b2m:None\t rollingAverage:None\t momentum:None\t size:None\n",
      "\n",
      "None privuse marketcap tickerKey:90926\t month:138306\t closeAdjust:106.68116796796\t currentYield:None\t numberOfOutstandingShares:None\t marketcap:None\t b2m:None\t rollingAverage:None\t momentum:None\t size:None\n",
      "\n"
     ]
    }
   ],
   "source": [
    "def calculateCloseAdjust(tickerKey, monthIndex):\n",
    "  privuseMonthCompanyInfo:CompanyInfo = findCompanyInfo(tickerKey, allMonths[monthIndex-1])\n",
    "  if privuseMonthCompanyInfo is None:\n",
    "    return None\n",
    "  nextMonthCompanyInfo:CompanyInfo = findCompanyInfo(tickerKey, allMonths[monthIndex+1])\n",
    "\n",
    "  if nextMonthCompanyInfo is not None:\n",
    "    return ((nextMonthCompanyInfo.closeAdjust / privuseMonthCompanyInfo.closeAdjust) ** (1/2)) * privuseMonthCompanyInfo.closeAdjust\n",
    "\n",
    "  if monthIndex + 2 >= len(allMonths):\n",
    "    return None\n",
    "  secondNextMonthCompanyInfo:CompanyInfo = findCompanyInfo(tickerKey, allMonths[monthIndex+2])\n",
    "  if secondNextMonthCompanyInfo is None:\n",
    "    return None\n",
    "  return ((secondNextMonthCompanyInfo.closeAdjust / privuseMonthCompanyInfo.closeAdjust) ** (1/3)) * privuseMonthCompanyInfo.closeAdjust\n",
    "  \n",
    "  # print(calculatedCloseAdjust)\n",
    "\n",
    "_missingData = []\n",
    "for tickerKey in companyTickerSet:\n",
    "  # companyHistoricalData = [companyInfo for companyInfo in companyInfoList if companyInfo.tickerKey == tickerKey]\n",
    "  startOfData = False\n",
    "  for monthIndex in range(1,len(allMonths)-1):\n",
    "    currentCompanyInfo = findCompanyInfo(tickerKey,allMonths[monthIndex])\n",
    "    if currentCompanyInfo is not None:\n",
    "        startOfData = True\n",
    "        continue\n",
    "    if currentCompanyInfo is None:\n",
    "      closeAdjust = calculateCloseAdjust(tickerKey,monthIndex)\n",
    "      if closeAdjust is None: \n",
    "        if startOfData :\n",
    "          _missingData.append([\"closeAdjust for tick\",tickerKey,\" Month\",allMonths[monthIndex],\" Is None\"])\n",
    "        continue\n",
    "      privuseMonthCompanyInfo:CompanyInfo = findCompanyInfo(tickerKey, allMonths[monthIndex-1])\n",
    "\n",
    "      adjustedCompanyInfo = CompanyInfo(tickerKey,privuseMonthCompanyInfo.name,allMonths[monthIndex],None,None,None,None,None,None,privuseMonthCompanyInfo.sourceSubsectorCode)\n",
    "      adjustedCompanyInfo.closeAdjust = closeAdjust\n",
    "      # print(tickerKey,allMonths[month],privuseMonthCompanyInfo) # log before adjusted\n",
    "      if privuseMonthCompanyInfo.numberOfOutstandingShares == None:\n",
    "        print(\"None privuse marketcap\" ,privuseMonthCompanyInfo)\n",
    "        continue;\n",
    "      adjustedCompanyInfo.marketcap = closeAdjust/privuseMonthCompanyInfo.closeAdjust * privuseMonthCompanyInfo.marketcap\n",
    "      if privuseMonthCompanyInfo.numberOfOutstandingShares == None:\n",
    "        print(\"None numberOfOutstandingShares\" ,privuseMonthCompanyInfo)\n",
    "        continue;\n",
    "      adjustedCompanyInfo.numberOfOutstandingShares = privuseMonthCompanyInfo.numberOfOutstandingShares\n",
    "      addCompanyInfoToList(adjustedCompanyInfo)\n",
    "      # print(tickerKey,allMonths[month]) # log adjusted\n",
    "\n",
    "\n",
    "# print([companyInfo for companyInfo in _missingData if companyInfo[1] == 9])"
   ]
  },
  {
   "cell_type": "code",
   "execution_count": 31,
   "metadata": {},
   "outputs": [
    {
     "name": "stdout",
     "output_type": "stream",
     "text": [
      "8334\n",
      "[['closeAdjust for tick', 9, ' Month', 138403, ' Is None'], ['closeAdjust for tick', 9, ' Month', 138404, ' Is None'], ['closeAdjust for tick', 9, ' Month', 138405, ' Is None'], ['closeAdjust for tick', 223, ' Month', 139307, ' Is None'], ['closeAdjust for tick', 223, ' Month', 139308, ' Is None'], ['closeAdjust for tick', 223, ' Month', 139309, ' Is None'], ['closeAdjust for tick', 231, ' Month', 138311, ' Is None'], ['closeAdjust for tick', 231, ' Month', 138312, ' Is None'], ['closeAdjust for tick', 231, ' Month', 138401, ' Is None'], ['closeAdjust for tick', 234, ' Month', 138907, ' Is None']]\n"
     ]
    }
   ],
   "source": [
    "print(len(_missingData))\n",
    "print(_missingData[:10])"
   ]
  },
  {
   "cell_type": "markdown",
   "metadata": {},
   "source": [
    "# Test data"
   ]
  },
  {
   "cell_type": "code",
   "execution_count": null,
   "metadata": {},
   "outputs": [
    {
     "name": "stdout",
     "output_type": "stream",
     "text": [
      "[tickerKey:9\t month:138001\t closeAdjust:10.2823076702193\t currentYield:None\t numberOfOutstandingShares:90000000.0\t marketcap:460800000000.0\t b2m:None\t rollingAverage:None\t momentum:None\t size:None\n",
      ", tickerKey:9\t month:138002\t closeAdjust:10.7442082100924\t currentYield:0.04492187499999689\t numberOfOutstandingShares:90000000.0\t marketcap:481500000000.0\t b2m:None\t rollingAverage:None\t momentum:None\t size:None\n",
      ", tickerKey:9\t month:138003\t closeAdjust:11.0434394294015\t currentYield:0.027850467289718184\t numberOfOutstandingShares:90000000.0\t marketcap:494910000000.0\t b2m:None\t rollingAverage:None\t momentum:None\t size:None\n",
      ", tickerKey:9\t month:138004\t closeAdjust:11.5314473910936\t currentYield:0.0441898527004958\t numberOfOutstandingShares:90000000.0\t marketcap:516780000000.0\t b2m:None\t rollingAverage:None\t momentum:None\t size:None\n",
      ", tickerKey:9\t month:138005\t closeAdjust:15.7183394944309\t currentYield:0.36308469885324857\t numberOfOutstandingShares:90000000.0\t marketcap:552150000000.0\t b2m:5.9175624551\t rollingAverage:None\t momentum:None\t size:None\n",
      ", tickerKey:9\t month:138006\t closeAdjust:15.3929557754753\t currentYield:-0.020700896495516208\t numberOfOutstandingShares:90000000.0\t marketcap:540720000000.0\t b2m:5.9175624551\t rollingAverage:None\t momentum:None\t size:None\n",
      ", tickerKey:9\t month:138007\t closeAdjust:15.1316239696999\t currentYield:-0.016977363515314314\t numberOfOutstandingShares:90000000.0\t marketcap:531540000000.0\t b2m:5.9175624551\t rollingAverage:None\t momentum:None\t size:None\n",
      ", tickerKey:9\t month:138008\t closeAdjust:16.0898405908763\t currentYield:0.06332543176430816\t numberOfOutstandingShares:90000000.0\t marketcap:565200000000.0\t b2m:5.9175624551\t rollingAverage:None\t momentum:None\t size:None\n",
      ", tickerKey:9\t month:138009\t closeAdjust:16.1257096622572\t currentYield:0.0022292993630552704\t numberOfOutstandingShares:90000000.0\t marketcap:566460000000.0\t b2m:5.9175624551\t rollingAverage:None\t momentum:None\t size:None\n",
      ", tickerKey:9\t month:138010\t closeAdjust:15.4595697651827\t currentYield:-0.041309183349221845\t numberOfOutstandingShares:90000000.0\t marketcap:543060000000.0\t b2m:5.9175624551\t rollingAverage:None\t momentum:None\t size:None\n",
      "]\n"
     ]
    }
   ],
   "source": [
    "\n",
    "dataToShow = [companyInfo for companyInfo in companyInfoList if companyInfo.tickerKey == 9]\n",
    "dataToShow.sort(key=operator.attrgetter(\"month\"), reverse=False)\n",
    "print(dataToShow[:10])"
   ]
  },
  {
   "cell_type": "markdown",
   "metadata": {},
   "source": [
    "# Yield calculations"
   ]
  },
  {
   "cell_type": "code",
   "execution_count": null,
   "metadata": {},
   "outputs": [
    {
     "name": "stdout",
     "output_type": "stream",
     "text": [
      "[tickerKey:9\t month:138001\t closeAdjust:10.2823076702193\t currentYield:None\t numberOfOutstandingShares:90000000.0\t marketcap:460800000000.0\t b2m:None\t rollingAverage:None\t momentum:None\t size:None\n",
      ", tickerKey:9\t month:138002\t closeAdjust:10.7442082100924\t currentYield:0.04492187499999689\t numberOfOutstandingShares:90000000.0\t marketcap:481500000000.0\t b2m:None\t rollingAverage:None\t momentum:None\t size:None\n",
      ", tickerKey:9\t month:138003\t closeAdjust:11.0434394294015\t currentYield:0.027850467289718184\t numberOfOutstandingShares:90000000.0\t marketcap:494910000000.0\t b2m:None\t rollingAverage:None\t momentum:None\t size:None\n",
      ", tickerKey:9\t month:138004\t closeAdjust:11.5314473910936\t currentYield:0.0441898527004958\t numberOfOutstandingShares:90000000.0\t marketcap:516780000000.0\t b2m:None\t rollingAverage:None\t momentum:None\t size:None\n",
      ", tickerKey:9\t month:138005\t closeAdjust:15.7183394944309\t currentYield:0.36308469885324857\t numberOfOutstandingShares:90000000.0\t marketcap:552150000000.0\t b2m:5.9175624551\t rollingAverage:None\t momentum:None\t size:None\n",
      ", tickerKey:9\t month:138006\t closeAdjust:15.3929557754753\t currentYield:-0.020700896495516208\t numberOfOutstandingShares:90000000.0\t marketcap:540720000000.0\t b2m:5.9175624551\t rollingAverage:None\t momentum:None\t size:None\n",
      ", tickerKey:9\t month:138007\t closeAdjust:15.1316239696999\t currentYield:-0.016977363515314314\t numberOfOutstandingShares:90000000.0\t marketcap:531540000000.0\t b2m:5.9175624551\t rollingAverage:None\t momentum:None\t size:None\n",
      ", tickerKey:9\t month:138008\t closeAdjust:16.0898405908763\t currentYield:0.06332543176430816\t numberOfOutstandingShares:90000000.0\t marketcap:565200000000.0\t b2m:5.9175624551\t rollingAverage:None\t momentum:None\t size:None\n",
      ", tickerKey:9\t month:138009\t closeAdjust:16.1257096622572\t currentYield:0.0022292993630552704\t numberOfOutstandingShares:90000000.0\t marketcap:566460000000.0\t b2m:5.9175624551\t rollingAverage:None\t momentum:None\t size:None\n",
      ", tickerKey:9\t month:138010\t closeAdjust:15.4595697651827\t currentYield:-0.041309183349221845\t numberOfOutstandingShares:90000000.0\t marketcap:543060000000.0\t b2m:5.9175624551\t rollingAverage:None\t momentum:None\t size:None\n",
      "]\n"
     ]
    }
   ],
   "source": [
    "for tickerKey in companyTickerSet:\n",
    "  companyHistoricalData = [companyInfo for companyInfo in companyInfoList if companyInfo.tickerKey == tickerKey]\n",
    "  for month in range(1,len(allMonths)):\n",
    "    lastMonthData = [companyInfo for companyInfo in companyHistoricalData if companyInfo.month == allMonths[month - 1]]\n",
    "    if len(lastMonthData)==0:\n",
    "      continue\n",
    "    thisMonthData = [companyInfo for companyInfo in companyHistoricalData if companyInfo.month == allMonths[month]]\n",
    "    if len(thisMonthData)==0:\n",
    "      continue\n",
    "    lastMonthData:CompanyInfo = lastMonthData[0]\n",
    "    thisMonthData:CompanyInfo = thisMonthData[0]\n",
    "    thisMonthData.currentYield = thisMonthData.closeAdjust / lastMonthData.closeAdjust - 1\n",
    "    \n",
    "\n",
    "dataToShow = [companyInfo for companyInfo in companyInfoList if companyInfo.tickerKey == 9]\n",
    "dataToShow.sort(key=operator.attrgetter(\"month\"), reverse=False)\n",
    "print(dataToShow[:10])"
   ]
  },
  {
   "cell_type": "markdown",
   "metadata": {},
   "source": [
    "# Calculate rolling average"
   ]
  },
  {
   "cell_type": "code",
   "execution_count": null,
   "metadata": {},
   "outputs": [],
   "source": [
    "def getRollingDataWindow(companyHistoricalData,allMonths,rollingWindowSize,endMonthIndex):\n",
    "  rollingDataWindow = []\n",
    "  for monthIndex in range(endMonthIndex+1 - rollingWindowSize,endMonthIndex+1):\n",
    "    currentCompanyInfo = [x for x in companyHistoricalData if x.month == allMonths[monthIndex]]\n",
    "    if len(currentCompanyInfo) == 0:\n",
    "        return rollingDataWindow\n",
    "    if len(currentCompanyInfo) > 1:\n",
    "        raise Exception(\"A company cannot have two similar months:\"+ tickerKey+\" month:\"+ allMonths[monthIndex])\n",
    "    rollingDataWindow.append(currentCompanyInfo[0])\n",
    "  return rollingDataWindow"
   ]
  },
  {
   "cell_type": "code",
   "execution_count": null,
   "metadata": {},
   "outputs": [
    {
     "name": "stdout",
     "output_type": "stream",
     "text": [
      "[tickerKey:1\t month:139712\t closeAdjust:802.52329928672\t currentYield:None\t numberOfOutstandingShares:3000000000.0\t marketcap:4959000000000.0\t b2m:None\t rollingAverage:None\t momentum:None\t size:None\n",
      ", tickerKey:1\t month:139801\t closeAdjust:1424.9279391449\t currentYield:0.7755595886267366\t numberOfOutstandingShares:3000000000.0\t marketcap:8469000000000.0\t b2m:None\t rollingAverage:None\t momentum:None\t size:None\n",
      ", tickerKey:1\t month:139802\t closeAdjust:1550.67115421766\t currentYield:0.08824531516184497\t numberOfOutstandingShares:3000000000.0\t marketcap:9537000000000.0\t b2m:None\t rollingAverage:None\t momentum:None\t size:None\n",
      ", tickerKey:1\t month:139803\t closeAdjust:1688.06625022379\t currentYield:0.08860363180963926\t numberOfOutstandingShares:3000000000.0\t marketcap:10419000000000.0\t b2m:None\t rollingAverage:None\t momentum:None\t size:None\n",
      ", tickerKey:1\t month:139804\t closeAdjust:1810.8964950632\t currentYield:0.07276387690538\t numberOfOutstandingShares:3000000000.0\t marketcap:11298000000000.0\t b2m:None\t rollingAverage:None\t momentum:None\t size:None\n",
      ", tickerKey:1\t month:139805\t closeAdjust:2593.30717941068\t currentYield:0.43205709795146174\t numberOfOutstandingShares:3000000000.0\t marketcap:15483000000000.0\t b2m:3.8629816991\t rollingAverage:None\t momentum:None\t size:None\n",
      ", tickerKey:1\t month:139806\t closeAdjust:3179.23425358436\t currentYield:0.22593816838421343\t numberOfOutstandingShares:3000000000.0\t marketcap:18915000000000.0\t b2m:3.8629816991\t rollingAverage:None\t momentum:None\t size:None\n",
      ", tickerKey:1\t month:139807\t closeAdjust:2508.09059117028\t currentYield:-0.21110229976209316\t numberOfOutstandingShares:3000000000.0\t marketcap:15198000000000.0\t b2m:3.8629816991\t rollingAverage:None\t momentum:None\t size:None\n",
      ", tickerKey:1\t month:139808\t closeAdjust:3007.79259676934\t currentYield:0.1992360273421776\t numberOfOutstandingShares:3000000000.0\t marketcap:18000000000000.0\t b2m:3.8629816991\t rollingAverage:None\t momentum:None\t size:None\n",
      ", tickerKey:1\t month:139809\t closeAdjust:3799.95389928814\t currentYield:0.2633696563285839\t numberOfOutstandingShares:3000000000.0\t marketcap:22653000000000.0\t b2m:3.8629816991\t rollingAverage:None\t momentum:None\t size:None\n",
      "]\n"
     ]
    }
   ],
   "source": [
    "def average(dataList):\n",
    "    if len(dataList)==0:\n",
    "        return None\n",
    "    data = [info.currentYield for info in dataList]\n",
    "    if None in data:\n",
    "      return None\n",
    "    # print(data)\n",
    "    return sum(data) / len(dataList)\n",
    "\n",
    "# print(companyInfoList)\n",
    "rollingAverageWindowSize = 12     #Can be change\n",
    "for tickerKey in companyTickerSet:\n",
    "    # print(\"tickerKey\",tickerKey)\n",
    "    companyHistoricalData = [companyInfo for companyInfo in companyInfoList if companyInfo.tickerKey == tickerKey]\n",
    "    for endMonthIndex in range(rollingAverageWindowSize-1,len(allMonths)):\n",
    "      # print(\"endMonthIndex\",endMonthIndex)\n",
    "      rollingDataWindow = getRollingDataWindow(companyHistoricalData,allMonths, rollingAverageWindowSize,endMonthIndex)\n",
    "      if len(rollingDataWindow) != rollingAverageWindowSize: continue\n",
    "      currentCompanyInfo = [x for x in companyHistoricalData if x.month == allMonths[endMonthIndex]]\n",
    "      currentCompanyInfo:CompanyInfo = currentCompanyInfo[0]\n",
    "      currentCompanyInfo.rollingAverage = average(rollingDataWindow)\n",
    "\n",
    "print(companyInfoList[:10])"
   ]
  },
  {
   "cell_type": "markdown",
   "metadata": {},
   "source": [
    "# Sample Export to Excel"
   ]
  },
  {
   "cell_type": "code",
   "execution_count": null,
   "metadata": {},
   "outputs": [],
   "source": [
    "# Example to excel function\n",
    "# exportCompanyListToExcel(companyInfoList)"
   ]
  },
  {
   "cell_type": "markdown",
   "metadata": {},
   "source": [
    "# set size"
   ]
  },
  {
   "cell_type": "code",
   "execution_count": null,
   "metadata": {},
   "outputs": [
    {
     "name": "stdout",
     "output_type": "stream",
     "text": [
      "[tickerKey:474\t month:140004\t closeAdjust:26780.0\t currentYield:-0.014354066985645897\t numberOfOutstandingShares:153000000.0\t marketcap:3981060000000.0\t b2m:60.4109239679\t rollingAverage:-0.060176016603814296\t momentum:None\t size:Small\n",
      ", tickerKey:1215\t month:140004\t closeAdjust:4600.0\t currentYield:-0.039665970772442605\t numberOfOutstandingShares:819175360.0\t marketcap:3826368106560.0\t b2m:4.4976506822\t rollingAverage:-0.06542554575790921\t momentum:None\t size:Small\n",
      ", tickerKey:239\t month:140004\t closeAdjust:78810.0\t currentYield:0.18120503597122295\t numberOfOutstandingShares:49535498.0\t marketcap:3822654380660.0\t b2m:77.4128411571\t rollingAverage:-0.009663578698073763\t momentum:None\t size:Small\n",
      ", tickerKey:3006\t month:140004\t closeAdjust:24390.0\t currentYield:0.0567590987868285\t numberOfOutstandingShares:145000000.0\t marketcap:3507115000000.0\t b2m:54.6339763932\t rollingAverage:-0.04895767997992262\t momentum:None\t size:Small\n",
      ", tickerKey:1413\t month:140004\t closeAdjust:15440.0\t currentYield:-0.055657492354740046\t numberOfOutstandingShares:200000000.0\t marketcap:3110000000000.0\t b2m:None\t rollingAverage:-0.04277452500822851\t momentum:None\t size:Small\n",
      ", tickerKey:74108\t month:140004\t closeAdjust:16901.0\t currentYield:-0.033400057191878774\t numberOfOutstandingShares:120960000.0\t marketcap:2128654080000.0\t b2m:None\t rollingAverage:0.08212308618264089\t momentum:None\t size:Small\n",
      ", tickerKey:2769\t month:140004\t closeAdjust:9794.0\t currentYield:0.0012267429973420452\t numberOfOutstandingShares:200000000.0\t marketcap:1865600000000.0\t b2m:None\t rollingAverage:0.006001988871454607\t momentum:None\t size:Small\n",
      ", tickerKey:2551\t month:140004\t closeAdjust:6868.0\t currentYield:0.0027741276098700585\t numberOfOutstandingShares:228000000.0\t marketcap:1520304000000.0\t b2m:None\t rollingAverage:0.04759793880966137\t momentum:None\t size:Small\n",
      ", tickerKey:76298\t month:140004\t closeAdjust:19300.0\t currentYield:0.0\t numberOfOutstandingShares:49190000.0\t marketcap:949367000000.0\t b2m:None\t rollingAverage:0.02125127970490952\t momentum:None\t size:Small\n",
      ", tickerKey:2511\t month:140004\t closeAdjust:5314.0\t currentYield:-0.009690644800596337\t numberOfOutstandingShares:93900000.0\t marketcap:495134700000.0\t b2m:None\t rollingAverage:0.018694012886716137\t momentum:None\t size:Small\n",
      "]\n"
     ]
    }
   ],
   "source": [
    "import math\n",
    "for month in allMonths:\n",
    "    companiesInMonth = [x for x in companyInfoList if x.month == month and x.rollingAverage is not None and x.marketcap is not None]\n",
    "    companiesInMonth.sort(key=operator.attrgetter(\"marketcap\"), reverse=True)\n",
    "    median = math.ceil(len(companiesInMonth) / 2)\n",
    "    for company in companiesInMonth[0:median]:\n",
    "        company.size = \"Big\"\n",
    "    for company in companiesInMonth[median:]:\n",
    "        company.size = \"Small\"\n",
    "\n",
    "print ([x for x in companiesInMonth if x.size ][-10:])"
   ]
  },
  {
   "cell_type": "code",
   "execution_count": null,
   "metadata": {},
   "outputs": [
    {
     "name": "stdout",
     "output_type": "stream",
     "text": [
      "[tickerKey:81474\t month:140001\t closeAdjust:20483.319764807307\t currentYield:-0.0008136700093996918\t numberOfOutstandingShares:405000000.0\t marketcap:8295744504746.959\t b2m:28.8624892691\t rollingAverage:0.06955683644241617\t momentum:Notural\t size:Small\n",
      ", tickerKey:81474\t month:140002\t closeAdjust:20466.65310182174\t currentYield:-0.0008136700093996918\t numberOfOutstandingShares:405000000.0\t marketcap:8288994506237.804\t b2m:28.8624892691\t rollingAverage:0.07193782847116682\t momentum:High\t size:Small\n",
      ", tickerKey:83478\t month:139407\t closeAdjust:495.86355399033783\t currentYield:-0.16038054125149204\t numberOfOutstandingShares:800000000.0\t marketcap:768419728646.6345\t b2m:0.8101857132\t rollingAverage:-0.02401019365482158\t momentum:Low\t size:Small\n",
      ", tickerKey:83478\t month:139609\t closeAdjust:540.1177108064813\t currentYield:0.01970383855673785\t numberOfOutstandingShares:1500000000.0\t marketcap:1511201088741.0854\t b2m:1.4073774133\t rollingAverage:0.023911928831471613\t momentum:Notural\t size:Small\n",
      ", tickerKey:83478\t month:139705\t closeAdjust:586.8486959150342\t currentYield:0.09673741797892998\t numberOfOutstandingShares:1500000000.0\t marketcap:1628655065698.711\t b2m:None\t rollingAverage:0.011871021209638039\t momentum:Notural\t size:Small\n",
      ", tickerKey:83478\t month:139706\t closeAdjust:643.6189235021569\t currentYield:0.09673741797892998\t numberOfOutstandingShares:1500000000.0\t marketcap:1786206951532.7087\t b2m:None\t rollingAverage:0.018433971209380774\t momentum:Low\t size:Small\n",
      ", tickerKey:85342\t month:139808\t closeAdjust:8331.674278987432\t currentYield:0.037482028985813765\t numberOfOutstandingShares:12300000000.0\t marketcap:219885289949891.06\t b2m:6.9673140842\t rollingAverage:0.07620153991146207\t momentum:Notural\t size:Big\n",
      ", tickerKey:86515\t month:139812\t closeAdjust:118611.88560391402\t currentYield:-0.052615658472713434\t numberOfOutstandingShares:1860000000.0\t marketcap:80353350310978.34\t b2m:None\t rollingAverage:0.048584663618096\t momentum:Low\t size:Big\n",
      ", tickerKey:86515\t month:139901\t closeAdjust:112371.04314017393\t currentYield:-0.052615658472713434\t numberOfOutstandingShares:1860000000.0\t marketcap:76125505873877.61\t b2m:None\t rollingAverage:0.006877904325447752\t momentum:Low\t size:Big\n",
      ", tickerKey:102543\t month:139608\t closeAdjust:507.6946793147214\t currentYield:0.0866697123918505\t numberOfOutstandingShares:1315596000.0\t marketcap:5283869336384.54\t b2m:None\t rollingAverage:0.04759412600308199\t momentum:High\t size:Big\n",
      "]\n"
     ]
    }
   ],
   "source": [
    "\n",
    "    \n",
    "    \n",
    "for index,month in enumerate(allMonths[:-1]):\n",
    "    companiesInMonth = [x for x in companyInfoList if x.month== month and x.rollingAverage is not None and x.marketcap is not None]\n",
    "    companiesInMonth = [x for x in companiesInMonth if findCompanyInfo(allMonths[index+1],x.tickerKey) is not None]\n",
    "    companiesInMonth = [x for x in companiesInMonth if findCompanyInfo(allMonths[index+1],x.tickerKey).currentYield is not None]\n",
    "    companiesInMonth.sort(key=operator.attrgetter(\"rollingAverage\"), reverse=True)\n",
    "    count = math.floor(len(companiesInMonth) / 3) #It might be better to round it up instead of down to increase valid data\n",
    "    for company in companiesInMonth[0:count]:\n",
    "        company.momentum = \"High\"\n",
    "    for company in companiesInMonth[len(companiesInMonth) - count:]:\n",
    "        company.momentum = \"Low\"\n",
    "    for company in companiesInMonth[count:len(companiesInMonth) - count]:\n",
    "        company.momentum = \"Notural\"\n",
    "\n",
    "print ([x for x in companyInfoList if x.rollingAverage ][-10:])"
   ]
  },
  {
   "cell_type": "markdown",
   "metadata": {},
   "source": [
    "# MomentomFactor factor (MOM)"
   ]
  },
  {
   "cell_type": "code",
   "execution_count": null,
   "metadata": {},
   "outputs": [
    {
     "name": "stdout",
     "output_type": "stream",
     "text": [
      "{}\n"
     ]
    }
   ],
   "source": [
    "\n",
    "\n",
    "MoMFactor = {}\n",
    "\n",
    "for index,month in enumerate(allMonths[:-1]):\n",
    "    # Get companies of corrent month\n",
    "    companiesInMonth = [x for x in companyInfoList if x.month== month]\n",
    "    # Get companis for these filters SL SH BL BH\n",
    "    SL = [company for company in companiesInMonth if company.size == \"Small\" and company.momentum == \"Low\"]\n",
    "    SH = [company for company in companiesInMonth if company.size == \"Small\" and company.momentum == \"High\"]\n",
    "    BL = [company for company in companiesInMonth if company.size == \"Big\" and company.momentum == \"Low\"]\n",
    "    BH = [company for company in companiesInMonth if company.size == \"Big\" and company.momentum == \"High\"]\n",
    "    # Get companies next month info\n",
    "    BH_nextMonth = [findCompanyInfo(allMonths[index+1],company.tickerKey) for company in BH]\n",
    "    BL_nextMonth = [findCompanyInfo(allMonths[index+1],company.tickerKey) for company in BL]\n",
    "    SH_nextMonth = [findCompanyInfo(allMonths[index+1],company.tickerKey) for company in SH]\n",
    "    SL_nextMonth = [findCompanyInfo(allMonths[index+1],company.tickerKey) for company in SL]\n",
    "    # Get companies next month currentYield\n",
    "    BH_average = average([x for x in BH_nextMonth if x is not None])\n",
    "    BL_average = average([x for x in BL_nextMonth if x is not None])\n",
    "    SH_average = average([x for x in SH_nextMonth if x is not None])\n",
    "    SL_average = average([x for x in SL_nextMonth if x is not None])\n",
    "    \n",
    "    # If all were filled, Add to momentomFactor\n",
    "    if (BH_average and BL_average and SH_average and SL_average ):\n",
    "        MoMFactor[month]=(0.5 * (SH_average + BH_average) - 0.5 * (SL_average + BL_average))\n",
    "\n",
    "print(MoMFactor)\n"
   ]
  },
  {
   "cell_type": "markdown",
   "metadata": {},
   "source": [
    "# Book to market Calc"
   ]
  },
  {
   "cell_type": "code",
   "execution_count": null,
   "metadata": {},
   "outputs": [
    {
     "name": "stdout",
     "output_type": "stream",
     "text": [
      "tickerKey:9\t month:138001\t closeAdjust:10.2823076702193\t currentYield:None\t numberOfOutstandingShares:90000000.0\t marketcap:460800000000.0\t b2m:4.9385362299\t rollingAverage:None\t momentum:None\t size:None\n",
      "\n",
      "tickerKey:9\t month:138002\t closeAdjust:10.7442082100924\t currentYield:None\t numberOfOutstandingShares:90000000.0\t marketcap:481500000000.0\t b2m:5.1603845371\t rollingAverage:None\t momentum:None\t size:None\n",
      "\n",
      "tickerKey:9\t month:138003\t closeAdjust:11.0434394294015\t currentYield:None\t numberOfOutstandingShares:90000000.0\t marketcap:494910000000.0\t b2m:5.3041036578\t rollingAverage:None\t momentum:None\t size:None\n",
      "\n",
      "tickerKey:9\t month:138004\t closeAdjust:11.5314473910936\t currentYield:None\t numberOfOutstandingShares:90000000.0\t marketcap:516780000000.0\t b2m:5.5384912172\t rollingAverage:None\t momentum:None\t size:None\n",
      "\n",
      "tickerKey:9\t month:138005\t closeAdjust:15.7183394944309\t currentYield:None\t numberOfOutstandingShares:90000000.0\t marketcap:552150000000.0\t b2m:5.9175624551\t rollingAverage:None\t momentum:None\t size:None\n",
      "\n",
      "tickerKey:9\t month:138006\t closeAdjust:15.3929557754753\t currentYield:None\t numberOfOutstandingShares:90000000.0\t marketcap:540720000000.0\t b2m:5.7950636072\t rollingAverage:None\t momentum:None\t size:None\n",
      "\n",
      "tickerKey:9\t month:138007\t closeAdjust:15.1316239696999\t currentYield:None\t numberOfOutstandingShares:90000000.0\t marketcap:531540000000.0\t b2m:5.6966787058\t rollingAverage:None\t momentum:None\t size:None\n",
      "\n",
      "tickerKey:9\t month:138008\t closeAdjust:16.0898405908763\t currentYield:None\t numberOfOutstandingShares:90000000.0\t marketcap:565200000000.0\t b2m:6.0574233444\t rollingAverage:None\t momentum:None\t size:None\n",
      "\n",
      "tickerKey:9\t month:138009\t closeAdjust:16.1257096622572\t currentYield:None\t numberOfOutstandingShares:90000000.0\t marketcap:566460000000.0\t b2m:6.0709271544\t rollingAverage:None\t momentum:None\t size:None\n",
      "\n",
      "tickerKey:9\t month:138010\t closeAdjust:15.4595697651827\t currentYield:None\t numberOfOutstandingShares:90000000.0\t marketcap:543060000000.0\t b2m:5.8201421115\t rollingAverage:None\t momentum:None\t size:None\n",
      "\n"
     ]
    }
   ],
   "source": [
    "#  Fill all marketcap based on the last one\n",
    "for companyTicker in companyTickerSet:\n",
    "  for index,month in enumerate(allMonths):\n",
    "    if month not in companyInfoDict[companyTicker]:\n",
    "      firstData:CompanyInfo = companyInfoDict[companyTicker][list(companyInfoDict[companyTicker].keys())[0]]\n",
    "      c = CompanyInfo(companyTicker,firstData.name,month,None,None,None,None,None,None, firstData.sourceSubsectorCode)\n",
    "      if index > 0 and allMonths[index-1] in companyInfoDict[companyTicker]:\n",
    "        c.marketcap = companyInfoDict[companyTicker][allMonths[index-1]].marketcap\n",
    "        c.b2m = companyInfoDict[companyTicker][allMonths[index-1]].b2m\n",
    "        c.inv = companyInfoDict[companyTicker][allMonths[index-1]].inv\n",
    "        c.op = companyInfoDict[companyTicker][allMonths[index-1]].op\n",
    "      companyInfoDict[companyTicker][month] = c\n",
    "  # print(companyInfoDict[companyTicker][139712])\n",
    "\n",
    "for month in sorted(companyInfoDict[1].keys())[:10]:\n",
    "  print(companyInfoDict[9][month])"
   ]
  },
  {
   "cell_type": "code",
   "execution_count": null,
   "metadata": {},
   "outputs": [],
   "source": [
    "for companyTicker in companyTickerSet:\n",
    "  lastB2MOfTheYear = None\n",
    "  lastINVOfTheYear = None\n",
    "  lastOpOfTheYear = None\n",
    "  for month in allMonths:\n",
    "    if month % 100 == 5:\n",
    "      lastB2MOfTheYear = companyInfoDict[companyTicker][month].b2m\n",
    "      lastINVOfTheYear = companyInfoDict[companyTicker][month].inv\n",
    "      lastOpOfTheYear = companyInfoDict[companyTicker][month].op\n",
    "    companyInfoDict[companyTicker][month].b2m = lastB2MOfTheYear     \n",
    "    companyInfoDict[companyTicker][month].inv = lastINVOfTheYear     \n",
    "    companyInfoDict[companyTicker][month].op = lastOpOfTheYear     \n",
    "\n"
   ]
  },
  {
   "cell_type": "code",
   "execution_count": null,
   "metadata": {},
   "outputs": [],
   "source": [
    "# for month in sorted(companyInfoDict[1].keys())[:10]:\n",
    "#   print(companyInfoDict[9][month])"
   ]
  },
  {
   "cell_type": "code",
   "execution_count": null,
   "metadata": {},
   "outputs": [],
   "source": [
    "# Book To market ranking\n",
    "\n",
    "for month in allMonths:\n",
    "  b2mMonthList = []\n",
    "  for companyTicker in companyTickerSet:\n",
    "    if companyInfoDict[companyTicker][month].b2m == None:\n",
    "      continue\n",
    "    if companyInfoDict[companyTicker][month].currentYield == None:\n",
    "      continue\n",
    "    b2mMonthList.append(companyInfoDict[companyTicker][month].b2m)\n",
    "  if len(b2mMonthList) == 0 :\n",
    "    continue\n",
    "  b2mMonthList.sort()\n",
    "  # print(len(b2mMonthList),int(len(b2mMonthList)*0.3))\n",
    "  lowBookToMarket = b2mMonthList[int(len(b2mMonthList)*0.3)]\n",
    "  highBookToMarket = b2mMonthList[int(-len(b2mMonthList)*0.3)]\n",
    "\n",
    "  for companyTicker in companyTickerSet:\n",
    "    if companyInfoDict[companyTicker][month].b2m == None:\n",
    "      continue\n",
    "    if companyInfoDict[companyTicker][month].currentYield == None:\n",
    "      continue\n",
    "    if companyInfoDict[companyTicker][month].b2m <= lowBookToMarket:\n",
    "      companyInfoDict[companyTicker][month].BperMSize = \"Low\"\n",
    "    elif companyInfoDict[companyTicker][month].b2m >= highBookToMarket:\n",
    "      companyInfoDict[companyTicker][month].BperMSize = \"High\"\n",
    "    else:\n",
    "      companyInfoDict[companyTicker][month].BperMSize = \"Neutral\"\n",
    "\n"
   ]
  },
  {
   "cell_type": "code",
   "execution_count": null,
   "metadata": {},
   "outputs": [],
   "source": [
    "# RMW (Operational profit) ranking\n",
    "\n",
    "for month in allMonths:\n",
    "  dataMonthList = []\n",
    "  for companyTicker in companyTickerSet:\n",
    "    if companyInfoDict[companyTicker][month].op == None:\n",
    "      continue\n",
    "    if companyInfoDict[companyTicker][month].currentYield == None:\n",
    "      continue\n",
    "    dataMonthList.append(companyInfoDict[companyTicker][month].op)\n",
    "  if len(dataMonthList) == 0 :\n",
    "    continue\n",
    "  dataMonthList.sort()\n",
    "  # print(len(dataMonthList),int(len(dataMonthList)*0.3))\n",
    "  weakValue = dataMonthList[int(len(dataMonthList)*0.3)]\n",
    "  robustValue = dataMonthList[int(-len(dataMonthList)*0.3)]\n",
    "  # if month == 139902:\n",
    "  #   print(dataMonthList)\n",
    "  for companyTicker in companyTickerSet:\n",
    "    if companyInfoDict[companyTicker][month].op == None:\n",
    "      continue\n",
    "    if companyInfoDict[companyTicker][month].currentYield == None:\n",
    "      continue\n",
    "    if companyInfoDict[companyTicker][month].op <= weakValue:\n",
    "      companyInfoDict[companyTicker][month].RMWSize = \"Weak\"\n",
    "    elif companyInfoDict[companyTicker][month].op >= robustValue:\n",
    "      companyInfoDict[companyTicker][month].RMWSize = \"Robust\"\n",
    "    else:\n",
    "      companyInfoDict[companyTicker][month].RMWSize = \"Neutral\""
   ]
  },
  {
   "cell_type": "code",
   "execution_count": null,
   "metadata": {},
   "outputs": [
    {
     "name": "stdout",
     "output_type": "stream",
     "text": [
      "None\n",
      "None\n",
      "None\n",
      "None\n",
      "None\n",
      "None\n",
      "None\n",
      "None\n",
      "None\n",
      "None\n"
     ]
    }
   ],
   "source": [
    "\n",
    "for companyTicker in companyTickerSet[:10]:\n",
    "  print(companyInfoDict[companyTicker][139902].RMWSize)"
   ]
  },
  {
   "cell_type": "code",
   "execution_count": null,
   "metadata": {},
   "outputs": [],
   "source": [
    "# CMA (Investment) ranking\n",
    "\n",
    "for month in allMonths:\n",
    "  dataMonthList = []\n",
    "  for companyTicker in companyTickerSet:\n",
    "    if companyInfoDict[companyTicker][month].inv == None:\n",
    "      continue\n",
    "    if companyInfoDict[companyTicker][month].currentYield == None:\n",
    "      continue    \n",
    "    dataMonthList.append(companyInfoDict[companyTicker][month].inv)\n",
    "  if len(dataMonthList) == 0 :\n",
    "    continue\n",
    "  dataMonthList.sort()\n",
    "  # print(len(dataMonthList),int(len(dataMonthList)*0.3))\n",
    "  weakValue = dataMonthList[int(len(dataMonthList)*0.3)]\n",
    "  robustValue = dataMonthList[int(-len(dataMonthList)*0.3)]\n",
    "  # if month == 139902:\n",
    "  #   print(dataMonthList)\n",
    "  for companyTicker in companyTickerSet:\n",
    "    if companyInfoDict[companyTicker][month].inv == None:\n",
    "      continue\n",
    "    if companyInfoDict[companyTicker][month].currentYield == None:\n",
    "      continue\n",
    "    if companyInfoDict[companyTicker][month].inv <= weakValue:\n",
    "      companyInfoDict[companyTicker][month].CMASize = \"Conservative\"\n",
    "    elif companyInfoDict[companyTicker][month].inv >= robustValue:\n",
    "      companyInfoDict[companyTicker][month].CMASize = \"Aggressive\"\n",
    "    else:\n",
    "      companyInfoDict[companyTicker][month].CMASize = \"Neutral\""
   ]
  },
  {
   "cell_type": "code",
   "execution_count": null,
   "metadata": {},
   "outputs": [],
   "source": [
    "def getNextMonth(currentMonth):\n",
    "  return allMonths[allMonths.index(currentMonth)+1]\n",
    "\n",
    "def getNextMonthCompaniesHavingYeild(companyInfoList):\n",
    "  response = []\n",
    "  for companyInfo in companyInfoList:\n",
    "    nextMoonth = companyInfoDict[companyInfo.tickerKey][getNextMonth(companyInfo.month)]\n",
    "    if nextMoonth.currentYield != None:\n",
    "      response.append(nextMoonth)\n",
    "  return response\n"
   ]
  },
  {
   "cell_type": "code",
   "execution_count": null,
   "metadata": {},
   "outputs": [],
   "source": [
    "HMLFactor = {}\n",
    "SMBBTMFactor = {}\n",
    "for month in allMonths[:-1]:\n",
    "  SH = [companyInfoDict[companyTicker][month] for companyTicker in companyTickerSet if companyInfoDict[companyTicker][month].BperMSize == \"High\" and \\\n",
    "        companyInfoDict[companyTicker][month].size == \"Small\"]\n",
    "  SN = [companyInfoDict[companyTicker][month] for companyTicker in companyTickerSet if companyInfoDict[companyTicker][month].BperMSize == \"Neutral\" and \\\n",
    "        companyInfoDict[companyTicker][month].size == \"Small\"]\n",
    "  SL = [companyInfoDict[companyTicker][month] for companyTicker in companyTickerSet if companyInfoDict[companyTicker][month].BperMSize == \"Low\" and \\\n",
    "        companyInfoDict[companyTicker][month].size == \"Small\"]\n",
    "  BH = [companyInfoDict[companyTicker][month] for companyTicker in companyTickerSet if companyInfoDict[companyTicker][month].BperMSize == \"High\" and \\\n",
    "        companyInfoDict[companyTicker][month].size == \"Big\"]\n",
    "  BN = [companyInfoDict[companyTicker][month] for companyTicker in companyTickerSet if companyInfoDict[companyTicker][month].BperMSize == \"Neutral\" and \\\n",
    "        companyInfoDict[companyTicker][month].size == \"Big\"]\n",
    "  BL = [companyInfoDict[companyTicker][month] for companyTicker in companyTickerSet if companyInfoDict[companyTicker][month].BperMSize == \"Low\" and \\\n",
    "        companyInfoDict[companyTicker][month].size == \"Big\"]\n",
    "  \n",
    "  \n",
    "  SH_average = average(getNextMonthCompaniesHavingYeild(SH))\n",
    "  SN_average = average(getNextMonthCompaniesHavingYeild(SN))\n",
    "  SL_average = average(getNextMonthCompaniesHavingYeild(SL))\n",
    "  BH_average = average(getNextMonthCompaniesHavingYeild(BH))\n",
    "  BN_average = average(getNextMonthCompaniesHavingYeild(BN))\n",
    "  BL_average = average(getNextMonthCompaniesHavingYeild(BL))\n",
    "  \n",
    "  if BL_average == None:\n",
    "    continue\n",
    "  \n",
    "  SMBBTMFactor[month] = (SH_average + SN_average + SL_average) / 3 - (BH_average + BN_average + BL_average) / 3 \n",
    "  HMLFactor[month] = (SH_average + BH_average) / 2 - (SL_average + BL_average) / 2 \n",
    "for month in list(HMLFactor.keys())[:10]:\n",
    "  print(HMLFactor[month])"
   ]
  },
  {
   "cell_type": "code",
   "execution_count": null,
   "metadata": {},
   "outputs": [],
   "source": [
    "RMWFactor = {}\n",
    "SMBRMWFactor = {}\n",
    "for month in allMonths[:-1]:\n",
    "  SR = [companyInfoDict[companyTicker][month] for companyTicker in companyTickerSet if companyInfoDict[companyTicker][month].RMWSize == \"Robust\" and \\\n",
    "        companyInfoDict[companyTicker][month].size == \"Small\"]\n",
    "  SN = [companyInfoDict[companyTicker][month] for companyTicker in companyTickerSet if companyInfoDict[companyTicker][month].RMWSize == \"Neutral\" and \\\n",
    "        companyInfoDict[companyTicker][month].size == \"Small\"]\n",
    "  SW = [companyInfoDict[companyTicker][month] for companyTicker in companyTickerSet if companyInfoDict[companyTicker][month].RMWSize == \"Weak\" and \\\n",
    "        companyInfoDict[companyTicker][month].size == \"Small\"]\n",
    "  BR = [companyInfoDict[companyTicker][month] for companyTicker in companyTickerSet if companyInfoDict[companyTicker][month].RMWSize == \"Robust\" and \\\n",
    "        companyInfoDict[companyTicker][month].size == \"Big\"]\n",
    "  BN = [companyInfoDict[companyTicker][month] for companyTicker in companyTickerSet if companyInfoDict[companyTicker][month].RMWSize == \"Neutral\" and \\\n",
    "        companyInfoDict[companyTicker][month].size == \"Big\"]\n",
    "  BW = [companyInfoDict[companyTicker][month] for companyTicker in companyTickerSet if companyInfoDict[companyTicker][month].RMWSize == \"Weak\" and \\\n",
    "        companyInfoDict[companyTicker][month].size == \"Big\"]\n",
    "  \n",
    "  SR_average = average(getNextMonthCompaniesHavingYeild(SR))\n",
    "  SN_average = average(getNextMonthCompaniesHavingYeild(SN))\n",
    "  SW_average = average(getNextMonthCompaniesHavingYeild(SW))\n",
    "  BR_average = average(getNextMonthCompaniesHavingYeild(BR))\n",
    "  BN_average = average(getNextMonthCompaniesHavingYeild(BN))\n",
    "  BW_average = average(getNextMonthCompaniesHavingYeild(BW))\n",
    "\n",
    "  if SR_average == None:\n",
    "    continue\n",
    "  SMBRMWFactor[month] = (SR_average + SN_average + SW_average) / 3 - (BR_average + BN_average + BW_average) / 3 \n",
    "  RMWFactor[month] = (SR_average + BW_average) / 2 - (SW_average + BW_average) / 2 \n",
    "for month in list(RMWFactor.keys())[:10]:\n",
    "  print(RMWFactor[month])"
   ]
  },
  {
   "cell_type": "code",
   "execution_count": null,
   "metadata": {},
   "outputs": [],
   "source": [
    "CMAFactor = {}\n",
    "SMBCMAFactor = {}\n",
    "for month in allMonths[:-1]:\n",
    "  SA = [companyInfoDict[companyTicker][month] for companyTicker in companyTickerSet if companyInfoDict[companyTicker][month].CMASize == \"Aggressive\" and \\\n",
    "        companyInfoDict[companyTicker][month].size == \"Small\"]\n",
    "  SN = [companyInfoDict[companyTicker][month] for companyTicker in companyTickerSet if companyInfoDict[companyTicker][month].CMASize == \"Neutral\" and \\\n",
    "        companyInfoDict[companyTicker][month].size == \"Small\"]\n",
    "  SC = [companyInfoDict[companyTicker][month] for companyTicker in companyTickerSet if companyInfoDict[companyTicker][month].CMASize == \"Conservative\" and \\\n",
    "        companyInfoDict[companyTicker][month].size == \"Small\"]\n",
    "  BA = [companyInfoDict[companyTicker][month] for companyTicker in companyTickerSet if companyInfoDict[companyTicker][month].CMASize == \"Aggressive\" and \\\n",
    "        companyInfoDict[companyTicker][month].size == \"Big\"]\n",
    "  BN = [companyInfoDict[companyTicker][month] for companyTicker in companyTickerSet if companyInfoDict[companyTicker][month].CMASize == \"Neutral\" and \\\n",
    "        companyInfoDict[companyTicker][month].size == \"Big\"]\n",
    "  BC = [companyInfoDict[companyTicker][month] for companyTicker in companyTickerSet if companyInfoDict[companyTicker][month].CMASize == \"Conservative\" and \\\n",
    "        companyInfoDict[companyTicker][month].size == \"Big\"]\n",
    "  \n",
    "  SA_average = average(getNextMonthCompaniesHavingYeild(SA))\n",
    "  SN_average = average(getNextMonthCompaniesHavingYeild(SN))\n",
    "  SC_average = average(getNextMonthCompaniesHavingYeild(SC))\n",
    "  BA_average = average(getNextMonthCompaniesHavingYeild(BA))\n",
    "  BN_average = average(getNextMonthCompaniesHavingYeild(BN))\n",
    "  BC_average = average(getNextMonthCompaniesHavingYeild(BC))\n",
    "\n",
    "  if SA_average == None:\n",
    "    continue\n",
    "  SMBCMAFactor[month] = (SA_average + SN_average + SC_average) / 3 - (BA_average + BN_average + BC_average) / 3 \n",
    "  CMAFactor[month] = (SC_average + BC_average) / 2 - (SA_average + BA_average) / 2 \n",
    "for month in list(CMAFactor.keys())[:10]:\n",
    "  print(CMAFactor[month])"
   ]
  },
  {
   "cell_type": "code",
   "execution_count": null,
   "metadata": {},
   "outputs": [],
   "source": [
    "SMBFactor = {}\n",
    "for month in SMBBTMFactor.keys():\n",
    "  SMBFactor[month] = (SMBBTMFactor[month] + SMBCMAFactor[month] + SMBRMWFactor[month]) / 3\n"
   ]
  },
  {
   "cell_type": "code",
   "execution_count": null,
   "metadata": {},
   "outputs": [],
   "source": [
    "# Factors to excel\n",
    "rows = []\n",
    "for month in allMonths:\n",
    "     rows.append([\n",
    "       month,\n",
    "       SMBFactor[month] if month in SMBFactor else None,\n",
    "       HMLFactor[month] if month in HMLFactor else None,\n",
    "       RMWFactor[month] if month in RMWFactor else None,\n",
    "       CMAFactor[month] if month in CMAFactor else None,\n",
    "       MoMFactor[month] if month in MoMFactor else None,\n",
    "     ])\n",
    "dfOut = pd.DataFrame(rows, columns=['month',\"SMBFactor\", \"HMLFactor\", \"RMWFactor\", \"CMAFactor\", \"MoMFactor\"])\n",
    "dfOut.to_excel('Factors.xlsx', sheet_name='Factors')"
   ]
  }
 ],
 "metadata": {
  "interpreter": {
   "hash": "31f2aee4e71d21fbe5cf8b01ff0e069b9275f58929596ceb00d14d90e3e16cd6"
  },
  "kernelspec": {
   "display_name": "Python 3.8.10 64-bit",
   "name": "python3"
  },
  "language_info": {
   "codemirror_mode": {
    "name": "ipython",
    "version": 3
   },
   "file_extension": ".py",
   "mimetype": "text/x-python",
   "name": "python",
   "nbconvert_exporter": "python",
   "pygments_lexer": "ipython3",
   "version": "3.8.10"
  },
  "orig_nbformat": 4
 },
 "nbformat": 4,
 "nbformat_minor": 2
}
