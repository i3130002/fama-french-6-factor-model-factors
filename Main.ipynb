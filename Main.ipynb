{
 "cells": [
  {
   "cell_type": "markdown",
   "metadata": {},
   "source": [
    "# Prepare excel read with pandas"
   ]
  },
  {
   "cell_type": "code",
   "execution_count": 1,
   "metadata": {},
   "outputs": [],
   "source": [
    "import pandas as pd\n",
    "# data = pd.read_excel(r'monthly_market_data - Copy.xlsx')\n",
    "data = pd.read_excel(r'CRSP.xlsx')\n",
    "\n",
    "# print(data)\n"
   ]
  },
  {
   "cell_type": "markdown",
   "metadata": {},
   "source": [
    "# Read Excel to memnory and create classes"
   ]
  },
  {
   "cell_type": "code",
   "execution_count": 2,
   "metadata": {},
   "outputs": [],
   "source": [
    "import operator\n",
    "\n",
    "class CompanyInfo:\n",
    "    def __init__(self, tickerKey, name, month,numberOfOutstandingShares, marketcap,b2m, adjClose,inv,op,sourceSubsectorCode\n",
    "):\n",
    "        self.tickerKey = tickerKey\n",
    "        self.name = name\n",
    "        self.month = month\n",
    "        self.rollingAverage = None\n",
    "        self.numberOfOutstandingShares = numberOfOutstandingShares if not pd.isnull(numberOfOutstandingShares) else None\n",
    "        self.marketcap = marketcap if not pd.isnull(marketcap) else None\n",
    "        self.b2m = b2m if not pd.isnull(b2m) else None\n",
    "        self.closeAdjust = adjClose\n",
    "        self.momentum = None\n",
    "        self.sizeMOM = None\n",
    "        self.sizeHML = None\n",
    "        self.sizeRMW = None\n",
    "        self.sizeCMA = None\n",
    "        self.sizeLabel = None\n",
    "        self.CMALabel = None\n",
    "        self.RMWLabel = None\n",
    "        self.B2MLabel = None\n",
    "        self.currentYield = None\n",
    "        self.inv = inv if not pd.isnull(inv) else None\n",
    "        self.op = op if not pd.isnull(op) else None\n",
    "        self.sourceSubsectorCode = sourceSubsectorCode\n",
    "\n",
    "\n",
    "    def __repr__(self):\n",
    "         return self.__str__()\n",
    "\n",
    "    def __str__(self):\n",
    "        return \"tickerKey:\"+str(self.tickerKey) + \\\n",
    "            \"\\t month:\" + str(self.month) + \\\n",
    "            \"\\t closeAdjust:\" + str(self.closeAdjust) + \\\n",
    "            \"\\t currentYield:\" + str(self.currentYield) + \\\n",
    "            \"\\t numberOfOutstandingShares:\" + str(self.numberOfOutstandingShares) + \\\n",
    "            \"\\t marketcap:\" + str(self.marketcap) + \\\n",
    "            \"\\t b2m:\" + str(self.b2m) + \\\n",
    "            \"\\t rollingAverage:\" + str(self.rollingAverage) + \\\n",
    "            \"\\t momentum:\" + str(self.momentum) + \\\n",
    "            \"\\t sizeLabel:\" + str(self.sizeLabel) + \\\n",
    "            \"\\t sizeHML:\" + str(self.sizeHML) + \\\n",
    "            \"\\t sizeRMW:\" + str(self.sizeRMW) + \\\n",
    "            \"\\t sizeCMA:\" + str(self.sizeCMA) +\"\\n\"\n",
    "\n",
    "    def convertToList(self):\n",
    "      return [getattr(self,atr) for atr in self.__dict__]\n",
    "\n",
    "\n",
    "companyInfoDict  = {}\n",
    "def addCompanyInfoToList(companyInfo:CompanyInfo):\n",
    "    if companyInfo.tickerKey not in companyInfoDict:\n",
    "      companyInfoDict[companyInfo.tickerKey]={}\n",
    "    if companyInfo.month not in companyInfoDict[companyInfo.tickerKey]:\n",
    "      companyInfoDict[companyInfo.tickerKey][companyInfo.month]=companyInfo\n",
    "    else:\n",
    "      raise Exception(\"Company info exists.\" + str(companyInfo))\n",
    "\n",
    "def findCompanyInfo(tickerKey, month):\n",
    "    if tickerKey in companyInfoDict and month in companyInfoDict[tickerKey]:\n",
    "      return companyInfoDict[tickerKey][month]\n",
    "    return None\n",
    "\n",
    "def displayCompanyInfoHeader():\n",
    "  for tickerKey in companyInfoDict.keys():\n",
    "      for month in companyInfoDict[tickerKey].keys():\n",
    "        company:CompanyInfo = findCompanyInfo(tickerKey,month)\n",
    "        if company is None:\n",
    "          continue\n",
    "        attrs = []\n",
    "        for attribute in vars(company):\n",
    "          attrs.append(attribute)\n",
    "        print(attrs)\n",
    "        return\n",
    "\n",
    "def displayCompanyInfo(tickerKeys:list,months:list):\n",
    "    displayCompanyInfoHeader()\n",
    "    for tickerKey in tickerKeys:\n",
    "      sortedMonths = sorted(months)\n",
    "      for month in sortedMonths:\n",
    "        company:CompanyInfo = findCompanyInfo(tickerKey,month)\n",
    "        if company is None:\n",
    "          continue\n",
    "        print(company.convertToList())\n",
    "\n",
    "allMonths = []\n",
    "\n",
    "\n",
    "for i, companyInfoPandas in data.iterrows():\n",
    "    ci = CompanyInfo(tickerKey=companyInfoPandas[\"TickerKey\"],\n",
    "                                       name=companyInfoPandas[\"TickerNamePooyaFA\"],\n",
    "                                       month=companyInfoPandas[\"DayKeyFA\"]// 100,\n",
    "                                       numberOfOutstandingShares=companyInfoPandas[\"NumberOfOutstandingShares\"],\n",
    "                                       marketcap=companyInfoPandas[\"marketcap\"],\n",
    "                                       b2m=companyInfoPandas[\"B2M\"],\n",
    "                                       adjClose=companyInfoPandas[\"AdjClose\"],\n",
    "                                       inv=companyInfoPandas[\"INV\"],\n",
    "                                       op=companyInfoPandas[\"OP\"],\n",
    "                                       sourceSubsectorCode=companyInfoPandas[\"SourceSubsectorCode\"],\n",
    "                                       )\n",
    "    addCompanyInfoToList(ci)\n",
    "    allMonths.append(ci.month)\n",
    "\n",
    "allMonths = list(set(allMonths))\n",
    "allMonths.sort()\n"
   ]
  },
  {
   "cell_type": "code",
   "execution_count": 3,
   "metadata": {},
   "outputs": [],
   "source": [
    "# companies to excel\n",
    "def exportCompanyListToExcel(excelFileName):\n",
    "  rows = []\n",
    "  for company in companyInfoDict.keys():\n",
    "    for month in sorted(companyInfoDict[company].keys()):\n",
    "      rows.append(companyInfoDict[company][month].convertToList())\n",
    "\n",
    "  company_ = None\n",
    "  for tickerKey in companyInfoDict.keys():\n",
    "      for month in sorted(companyInfoDict[company].keys()):\n",
    "        company:CompanyInfo = findCompanyInfo(tickerKey,month)\n",
    "        if company is None:\n",
    "          continue\n",
    "        company_ = company\n",
    "        break\n",
    "      if company_ is not None:\n",
    "        break\n",
    "  dfOut = pd.DataFrame(rows,columns=company_.__dict__)\n",
    "  dfOut.to_excel(excelFileName+'.xlsx', sheet_name='TMPExport')"
   ]
  },
  {
   "cell_type": "markdown",
   "metadata": {},
   "source": [
    "# Dict access sample and test"
   ]
  },
  {
   "cell_type": "code",
   "execution_count": 4,
   "metadata": {},
   "outputs": [
    {
     "name": "stdout",
     "output_type": "stream",
     "text": [
      "[1, 9, 10, 223, 234, 239, 243, 247, 251, 255]\n",
      "[139712, 139801, 139802, 139803, 139804, 139805, 139806, 139807, 139808, 139809]\n",
      "tickerKey:1\t month:139712\t closeAdjust:802.523299286721\t currentYield:None\t numberOfOutstandingShares:3000000000.0\t marketcap:4959000000000.0\t b2m:0.786263157894737\t rollingAverage:None\t momentum:None\t sizeLabel:None\t sizeHML:None\t sizeRMW:None\t sizeCMA:None\n",
      "\n"
     ]
    }
   ],
   "source": [
    "print(list(companyInfoDict.keys())[:10])\n",
    "print(list(companyInfoDict[1].keys())[:10])\n",
    "print(companyInfoDict[1][139712])\n"
   ]
  },
  {
   "cell_type": "markdown",
   "metadata": {},
   "source": [
    "# Extract company names"
   ]
  },
  {
   "cell_type": "code",
   "execution_count": 5,
   "metadata": {},
   "outputs": [
    {
     "name": "stdout",
     "output_type": "stream",
     "text": [
      "[1, 9, 10, 223, 234, 239, 243, 247, 251, 255, 259, 271, 279, 283, 287, 291, 303, 315, 323, 347, 350, 383, 389, 395, 398, 403, 406, 411, 414, 422, 423, 430, 434, 438, 446, 447, 450, 454, 458, 463, 466, 474, 475, 478, 487, 490, 494, 499, 502, 510, 511, 515, 517, 526, 527, 534, 538, 550, 558, 563, 566, 574, 575, 578, 587, 591, 599, 603, 610, 615, 622, 627, 631, 635, 640, 646, 647, 655, 659, 667, 670, 680, 687, 689, 698, 708, 711, 718, 724, 725, 731, 733, 743, 744, 747, 754, 759, 762, 767, 772, 774, 779, 786, 787, 791, 798, 801, 820, 822, 827, 839, 842, 847, 852, 855, 863, 866, 871, 875, 879, 887, 890, 899, 902, 908, 909, 922, 931, 935, 939, 947, 951, 955, 968, 981, 990, 993, 1010, 1013, 1020, 1028, 1032, 1041, 1044, 1048, 1053, 1059, 1064, 1068, 1074, 1084, 1093, 1099, 1101, 1109, 1117, 1120, 1137, 1149, 1152, 1157, 1161, 1169, 1174, 1177, 1180, 1185, 1193, 1197, 1200, 1205, 1211, 1215, 1222, 1224, 1226, 1233, 1235, 1242, 1247, 1252, 1256, 1261, 1265, 1269, 1273, 1283, 1284, 1288, 1297, 1301, 1315, 1323, 1331, 1333, 1335, 1338, 1349, 1354, 1364, 1366, 1369, 1373, 1376, 1380, 1387, 1389, 1394, 1401, 1413, 1417, 1421, 1430, 1433, 1452, 1455, 1465, 1473, 1477, 1481, 1512, 1517, 1537, 1544, 1549, 1553, 1573, 1590, 1603, 1614, 1617, 1780, 1783, 1803, 1823, 1828, 1836, 1848, 1857, 1865, 1867, 2215, 2511, 2521, 2535, 2551, 2583, 2632, 2682, 2728, 2742, 2745, 2769, 2777, 2785, 2788, 2801, 2817, 2823, 2843, 2845, 2858, 2903, 2908, 2935, 2956, 2969, 2978, 3003, 3006, 3019, 3055, 3081, 3091, 3093, 4711, 4742, 4827, 4892, 5454, 5475, 5530, 5574, 5621, 5640, 74108, 74132, 74151, 74153, 74156, 74165, 74167, 74185, 74238, 74294, 74315, 74516, 74536, 74546, 74587, 74605, 74637, 74672, 74699, 74722, 74769, 74888, 74896, 74927, 74935, 74975, 75039, 75251, 75329, 75338, 75406, 75418, 75470, 75546, 75616, 75646, 75686, 75706, 75734, 75809, 75884, 75889, 75993, 76002, 76034, 76178, 76298, 76383, 76391, 76527, 78553, 78797, 78873, 78937, 79045, 79065, 79570, 79581, 79685, 79985, 80158, 80427, 80702, 81089, 81109, 81246, 81474, 82566, 82570, 82574, 82734, 83218, 83474, 83762, 85342, 85346, 85451, 85595, 85843, 86487, 86499, 86547, 86949, 87002, 90394, 90606, 90926, 92266, 92405, 93470, 94330, 94807, 96077, 96140, 96181, 96335, 96338, 96516, 99626, 101001, 101294, 101872, 102007, 102543, 102749, 102799, 103069, 103318, 104894, 104978, 105479, 105638, 105765, 106325, 106470, 106643, 107874, 108032]\n"
     ]
    }
   ],
   "source": [
    "companyTickerSet = list(companyInfoDict.keys())\n",
    "print(companyTickerSet)\n"
   ]
  },
  {
   "cell_type": "markdown",
   "metadata": {},
   "source": [
    "# Extract company months"
   ]
  },
  {
   "cell_type": "code",
   "execution_count": 6,
   "metadata": {},
   "outputs": [
    {
     "name": "stdout",
     "output_type": "stream",
     "text": [
      "[138001, 138002, 138003, 138004, 138005, 138006, 138007, 138008, 138009, 138010, 138011, 138012, 138101, 138102, 138103, 138104, 138105, 138106, 138107, 138108, 138109, 138110, 138111, 138112, 138201, 138202, 138203, 138204, 138205, 138206, 138207, 138208, 138209, 138210, 138211, 138212, 138301, 138302, 138303, 138304, 138305, 138306, 138307, 138308, 138309, 138310, 138311, 138312, 138401, 138402, 138403, 138404, 138405, 138406, 138407, 138408, 138409, 138410, 138411, 138412, 138501, 138502, 138503, 138504, 138505, 138506, 138507, 138508, 138509, 138510, 138511, 138512, 138601, 138602, 138603, 138604, 138605, 138606, 138607, 138608, 138609, 138610, 138611, 138612, 138701, 138702, 138703, 138704, 138705, 138706, 138707, 138708, 138709, 138710, 138711, 138712, 138801, 138802, 138803, 138804, 138805, 138806, 138807, 138808, 138809, 138810, 138811, 138812, 138901, 138902, 138903, 138904, 138905, 138906, 138907, 138908, 138909, 138910, 138911, 138912, 139001, 139002, 139003, 139004, 139005, 139006, 139007, 139008, 139009, 139010, 139011, 139012, 139101, 139102, 139103, 139104, 139105, 139106, 139107, 139108, 139109, 139110, 139111, 139112, 139201, 139202, 139203, 139204, 139205, 139206, 139207, 139208, 139209, 139210, 139211, 139212, 139301, 139302, 139303, 139304, 139305, 139306, 139307, 139308, 139309, 139310, 139311, 139312, 139401, 139402, 139403, 139404, 139405, 139406, 139407, 139408, 139409, 139410, 139411, 139412, 139501, 139502, 139503, 139504, 139505, 139506, 139507, 139508, 139509, 139510, 139511, 139512, 139601, 139602, 139603, 139604, 139605, 139606, 139607, 139608, 139609, 139610, 139611, 139612, 139701, 139702, 139703, 139704, 139705, 139706, 139707, 139708, 139709, 139710, 139711, 139712, 139801, 139802, 139803, 139804, 139805, 139806, 139807, 139808, 139809, 139810, 139811, 139812, 139901, 139902, 139903, 139904, 139905, 139906, 139907, 139908, 139909, 139910, 139911, 139912, 140001, 140002, 140003, 140004]\n",
      "Total: 244\n"
     ]
    }
   ],
   "source": [
    "print(allMonths)\n",
    "print(\"Total:\",len(allMonths))"
   ]
  },
  {
   "cell_type": "code",
   "execution_count": 7,
   "metadata": {},
   "outputs": [
    {
     "name": "stdout",
     "output_type": "stream",
     "text": [
      "['tickerKey', 'name', 'month', 'rollingAverage', 'numberOfOutstandingShares', 'marketcap', 'b2m', 'closeAdjust', 'momentum', 'sizeMOM', 'sizeHML', 'sizeRMW', 'sizeCMA', 'sizeLabel', 'CMALabel', 'RMWLabel', 'B2MLabel', 'currentYield', 'inv', 'op', 'sourceSubsectorCode']\n",
      "[9, 'پاکسان\\u200c', 138001, None, 90000000.0, 460800000000.0, None, 10.2823076702193, None, None, None, None, None, None, None, None, None, None, None, None, 4424]\n",
      "[9, 'پاکسان\\u200c', 138002, None, 90000000.0, 481500000000.0, None, 10.7442082100924, None, None, None, None, None, None, None, None, None, None, None, None, 4424]\n",
      "[9, 'پاکسان\\u200c', 138003, None, 90000000.0, 494910000000.0, None, 11.0434394294015, None, None, None, None, None, None, None, None, None, None, None, None, 4424]\n"
     ]
    }
   ],
   "source": [
    "displayCompanyInfo(companyTickerSet[:3],allMonths[:3])"
   ]
  },
  {
   "cell_type": "markdown",
   "metadata": {},
   "source": [
    "# Fill missing close adjust"
   ]
  },
  {
   "cell_type": "code",
   "execution_count": 8,
   "metadata": {},
   "outputs": [
    {
     "name": "stdout",
     "output_type": "stream",
     "text": [
      "None privuse marketcap tickerKey:2511\t month:138608\t closeAdjust:306.273415\t currentYield:None\t numberOfOutstandingShares:None\t marketcap:None\t b2m:1.62189583333333\t rollingAverage:None\t momentum:None\t sizeLabel:None\t sizeHML:None\t sizeRMW:None\t sizeCMA:None\n",
      "\n",
      "None privuse marketcap tickerKey:2511\t month:139004\t closeAdjust:281.955124\t currentYield:None\t numberOfOutstandingShares:None\t marketcap:None\t b2m:1.62189583333333\t rollingAverage:None\t momentum:None\t sizeLabel:None\t sizeHML:None\t sizeRMW:None\t sizeCMA:None\n",
      "\n",
      "None privuse marketcap tickerKey:2551\t month:138502\t closeAdjust:22.1411269068768\t currentYield:None\t numberOfOutstandingShares:None\t marketcap:None\t b2m:None\t rollingAverage:None\t momentum:None\t sizeLabel:None\t sizeHML:None\t sizeRMW:None\t sizeCMA:None\n",
      "\n",
      "None privuse marketcap tickerKey:2551\t month:138708\t closeAdjust:83.1643977955371\t currentYield:None\t numberOfOutstandingShares:None\t marketcap:None\t b2m:None\t rollingAverage:None\t momentum:None\t sizeLabel:None\t sizeHML:None\t sizeRMW:None\t sizeCMA:None\n",
      "\n",
      "***\tNo market cap while having closed adjust for TickerKey:2583 Month:138804\n",
      "None privuse marketcap tickerKey:2583\t month:138901\t closeAdjust:44.172271\t currentYield:None\t numberOfOutstandingShares:None\t marketcap:None\t b2m:0.837182356050895\t rollingAverage:None\t momentum:None\t sizeLabel:None\t sizeHML:None\t sizeRMW:None\t sizeCMA:None\n",
      "\n",
      "None privuse marketcap tickerKey:2583\t month:138903\t closeAdjust:47.330218\t currentYield:None\t numberOfOutstandingShares:None\t marketcap:None\t b2m:0.837182356050895\t rollingAverage:None\t momentum:None\t sizeLabel:None\t sizeHML:None\t sizeRMW:None\t sizeCMA:None\n",
      "\n",
      "None privuse marketcap tickerKey:2583\t month:139011\t closeAdjust:26.316225\t currentYield:None\t numberOfOutstandingShares:None\t marketcap:None\t b2m:0.837182356050895\t rollingAverage:None\t momentum:None\t sizeLabel:None\t sizeHML:None\t sizeRMW:None\t sizeCMA:None\n",
      "\n",
      "None privuse marketcap tickerKey:2632\t month:138402\t closeAdjust:13266.46602\t currentYield:None\t numberOfOutstandingShares:None\t marketcap:None\t b2m:0.122322855620671\t rollingAverage:None\t momentum:None\t sizeLabel:None\t sizeHML:None\t sizeRMW:None\t sizeCMA:None\n",
      "\n",
      "None privuse marketcap tickerKey:2632\t month:138903\t closeAdjust:4071.2\t currentYield:None\t numberOfOutstandingShares:None\t marketcap:None\t b2m:0.122322855620671\t rollingAverage:None\t momentum:None\t sizeLabel:None\t sizeHML:None\t sizeRMW:None\t sizeCMA:None\n",
      "\n",
      "***\tNo market cap while having closed adjust for TickerKey:2728 Month:138404\n",
      "None privuse marketcap tickerKey:2728\t month:138902\t closeAdjust:678.0\t currentYield:None\t numberOfOutstandingShares:None\t marketcap:None\t b2m:None\t rollingAverage:None\t momentum:None\t sizeLabel:None\t sizeHML:None\t sizeRMW:None\t sizeCMA:None\n",
      "\n",
      "None privuse marketcap tickerKey:2728\t month:138907\t closeAdjust:1084.0\t currentYield:None\t numberOfOutstandingShares:None\t marketcap:None\t b2m:None\t rollingAverage:None\t momentum:None\t sizeLabel:None\t sizeHML:None\t sizeRMW:None\t sizeCMA:None\n",
      "\n",
      "None privuse marketcap tickerKey:2769\t month:138810\t closeAdjust:89.7256662792376\t currentYield:None\t numberOfOutstandingShares:None\t marketcap:None\t b2m:0.472058764661143\t rollingAverage:None\t momentum:None\t sizeLabel:None\t sizeHML:None\t sizeRMW:None\t sizeCMA:None\n",
      "\n",
      "None privuse marketcap tickerKey:2769\t month:138907\t closeAdjust:111.578110435443\t currentYield:None\t numberOfOutstandingShares:None\t marketcap:None\t b2m:0.472058764661143\t rollingAverage:None\t momentum:None\t sizeLabel:None\t sizeHML:None\t sizeRMW:None\t sizeCMA:None\n",
      "\n",
      "***\tNo market cap while having closed adjust for TickerKey:2777 Month:138512\n",
      "None privuse marketcap tickerKey:2777\t month:138603\t closeAdjust:1400.50259297144\t currentYield:None\t numberOfOutstandingShares:None\t marketcap:None\t b2m:0.81512811502784\t rollingAverage:None\t momentum:None\t sizeLabel:None\t sizeHML:None\t sizeRMW:None\t sizeCMA:None\n",
      "\n",
      "None privuse marketcap tickerKey:2777\t month:138606\t closeAdjust:1400.50259297144\t currentYield:None\t numberOfOutstandingShares:None\t marketcap:None\t b2m:0.81512811502784\t rollingAverage:None\t momentum:None\t sizeLabel:None\t sizeHML:None\t sizeRMW:None\t sizeCMA:None\n",
      "\n",
      "None privuse marketcap tickerKey:2777\t month:138701\t closeAdjust:1979.99248282365\t currentYield:None\t numberOfOutstandingShares:None\t marketcap:None\t b2m:0.81512811502784\t rollingAverage:None\t momentum:None\t sizeLabel:None\t sizeHML:None\t sizeRMW:None\t sizeCMA:None\n",
      "\n",
      "None privuse marketcap tickerKey:2777\t month:138706\t closeAdjust:1807.90055233733\t currentYield:None\t numberOfOutstandingShares:None\t marketcap:None\t b2m:0.81512811502784\t rollingAverage:None\t momentum:None\t sizeLabel:None\t sizeHML:None\t sizeRMW:None\t sizeCMA:None\n",
      "\n",
      "None privuse marketcap tickerKey:2777\t month:138804\t closeAdjust:1326.83887915937\t currentYield:None\t numberOfOutstandingShares:None\t marketcap:None\t b2m:0.81512811502784\t rollingAverage:None\t momentum:None\t sizeLabel:None\t sizeHML:None\t sizeRMW:None\t sizeCMA:None\n",
      "\n",
      "None privuse marketcap tickerKey:2777\t month:138808\t closeAdjust:1399.2119089317\t currentYield:None\t numberOfOutstandingShares:None\t marketcap:None\t b2m:0.81512811502784\t rollingAverage:None\t momentum:None\t sizeLabel:None\t sizeHML:None\t sizeRMW:None\t sizeCMA:None\n",
      "\n",
      "None privuse marketcap tickerKey:2777\t month:138812\t closeAdjust:1107.78984238179\t currentYield:None\t numberOfOutstandingShares:None\t marketcap:None\t b2m:0.81512811502784\t rollingAverage:None\t momentum:None\t sizeLabel:None\t sizeHML:None\t sizeRMW:None\t sizeCMA:None\n",
      "\n",
      "***\tNo market cap while having closed adjust for TickerKey:2785 Month:138308\n",
      "None privuse marketcap tickerKey:2785\t month:138409\t closeAdjust:139.330368\t currentYield:None\t numberOfOutstandingShares:None\t marketcap:None\t b2m:0.339235188035384\t rollingAverage:None\t momentum:None\t sizeLabel:None\t sizeHML:None\t sizeRMW:None\t sizeCMA:None\n",
      "\n",
      "None privuse marketcap tickerKey:2785\t month:138412\t closeAdjust:134.671688\t currentYield:None\t numberOfOutstandingShares:None\t marketcap:None\t b2m:0.339235188035384\t rollingAverage:None\t momentum:None\t sizeLabel:None\t sizeHML:None\t sizeRMW:None\t sizeCMA:None\n",
      "\n",
      "None privuse marketcap tickerKey:2785\t month:138506\t closeAdjust:156.24496\t currentYield:None\t numberOfOutstandingShares:None\t marketcap:None\t b2m:0.339235188035384\t rollingAverage:None\t momentum:None\t sizeLabel:None\t sizeHML:None\t sizeRMW:None\t sizeCMA:None\n",
      "\n",
      "None privuse marketcap tickerKey:2785\t month:138902\t closeAdjust:181.33016\t currentYield:None\t numberOfOutstandingShares:None\t marketcap:None\t b2m:0.339235188035384\t rollingAverage:None\t momentum:None\t sizeLabel:None\t sizeHML:None\t sizeRMW:None\t sizeCMA:None\n",
      "\n",
      "None privuse marketcap tickerKey:2785\t month:138910\t closeAdjust:173.159552\t currentYield:None\t numberOfOutstandingShares:None\t marketcap:None\t b2m:0.339235188035384\t rollingAverage:None\t momentum:None\t sizeLabel:None\t sizeHML:None\t sizeRMW:None\t sizeCMA:None\n",
      "\n",
      "None privuse marketcap tickerKey:2785\t month:139009\t closeAdjust:169.002576\t currentYield:None\t numberOfOutstandingShares:None\t marketcap:None\t b2m:0.339235188035384\t rollingAverage:None\t momentum:None\t sizeLabel:None\t sizeHML:None\t sizeRMW:None\t sizeCMA:None\n",
      "\n",
      "None privuse marketcap tickerKey:2817\t month:138305\t closeAdjust:143.7115\t currentYield:None\t numberOfOutstandingShares:None\t marketcap:None\t b2m:None\t rollingAverage:None\t momentum:None\t sizeLabel:None\t sizeHML:None\t sizeRMW:None\t sizeCMA:None\n",
      "\n",
      "None privuse marketcap tickerKey:2817\t month:138309\t closeAdjust:322.5849\t currentYield:None\t numberOfOutstandingShares:None\t marketcap:None\t b2m:None\t rollingAverage:None\t momentum:None\t sizeLabel:None\t sizeHML:None\t sizeRMW:None\t sizeCMA:None\n",
      "\n",
      "None privuse marketcap tickerKey:2817\t month:138404\t closeAdjust:390.64725\t currentYield:None\t numberOfOutstandingShares:None\t marketcap:None\t b2m:None\t rollingAverage:None\t momentum:None\t sizeLabel:None\t sizeHML:None\t sizeRMW:None\t sizeCMA:None\n",
      "\n",
      "None privuse marketcap tickerKey:2817\t month:138902\t closeAdjust:411.058602\t currentYield:None\t numberOfOutstandingShares:None\t marketcap:None\t b2m:None\t rollingAverage:None\t momentum:None\t sizeLabel:None\t sizeHML:None\t sizeRMW:None\t sizeCMA:None\n",
      "\n",
      "None privuse marketcap tickerKey:2817\t month:138908\t closeAdjust:392.204194\t currentYield:None\t numberOfOutstandingShares:None\t marketcap:None\t b2m:None\t rollingAverage:None\t momentum:None\t sizeLabel:None\t sizeHML:None\t sizeRMW:None\t sizeCMA:None\n",
      "\n",
      "None privuse marketcap tickerKey:2817\t month:139002\t closeAdjust:432.35108\t currentYield:None\t numberOfOutstandingShares:None\t marketcap:None\t b2m:None\t rollingAverage:None\t momentum:None\t sizeLabel:None\t sizeHML:None\t sizeRMW:None\t sizeCMA:None\n",
      "\n",
      "None privuse marketcap tickerKey:2823\t month:138410\t closeAdjust:251.004607527401\t currentYield:None\t numberOfOutstandingShares:None\t marketcap:None\t b2m:0.227530864197531\t rollingAverage:None\t momentum:None\t sizeLabel:None\t sizeHML:None\t sizeRMW:None\t sizeCMA:None\n",
      "\n",
      "None privuse marketcap tickerKey:2823\t month:138501\t closeAdjust:201.125486800802\t currentYield:None\t numberOfOutstandingShares:None\t marketcap:None\t b2m:0.227530864197531\t rollingAverage:None\t momentum:None\t sizeLabel:None\t sizeHML:None\t sizeRMW:None\t sizeCMA:None\n",
      "\n",
      "None privuse marketcap tickerKey:2823\t month:138709\t closeAdjust:113.635900042453\t currentYield:None\t numberOfOutstandingShares:None\t marketcap:None\t b2m:0.227530864197531\t rollingAverage:None\t momentum:None\t sizeLabel:None\t sizeHML:None\t sizeRMW:None\t sizeCMA:None\n",
      "\n",
      "None privuse marketcap tickerKey:2823\t month:138803\t closeAdjust:118.261786238872\t currentYield:None\t numberOfOutstandingShares:None\t marketcap:None\t b2m:0.227530864197531\t rollingAverage:None\t momentum:None\t sizeLabel:None\t sizeHML:None\t sizeRMW:None\t sizeCMA:None\n",
      "\n",
      "None privuse marketcap tickerKey:2823\t month:138904\t closeAdjust:140.184464300159\t currentYield:None\t numberOfOutstandingShares:None\t marketcap:None\t b2m:0.227530864197531\t rollingAverage:None\t momentum:None\t sizeLabel:None\t sizeHML:None\t sizeRMW:None\t sizeCMA:None\n",
      "\n",
      "None privuse marketcap tickerKey:2823\t month:138911\t closeAdjust:160.661254561676\t currentYield:None\t numberOfOutstandingShares:None\t marketcap:None\t b2m:0.227530864197531\t rollingAverage:None\t momentum:None\t sizeLabel:None\t sizeHML:None\t sizeRMW:None\t sizeCMA:None\n",
      "\n",
      "None privuse marketcap tickerKey:2823\t month:139008\t closeAdjust:165.843875676569\t currentYield:None\t numberOfOutstandingShares:None\t marketcap:None\t b2m:0.227530864197531\t rollingAverage:None\t momentum:None\t sizeLabel:None\t sizeHML:None\t sizeRMW:None\t sizeCMA:None\n",
      "\n",
      "None privuse marketcap tickerKey:2903\t month:138803\t closeAdjust:1146.649449\t currentYield:None\t numberOfOutstandingShares:None\t marketcap:None\t b2m:None\t rollingAverage:None\t momentum:None\t sizeLabel:None\t sizeHML:None\t sizeRMW:None\t sizeCMA:None\n",
      "\n",
      "None privuse marketcap tickerKey:2903\t month:138808\t closeAdjust:808.375425\t currentYield:None\t numberOfOutstandingShares:None\t marketcap:None\t b2m:None\t rollingAverage:None\t momentum:None\t sizeLabel:None\t sizeHML:None\t sizeRMW:None\t sizeCMA:None\n",
      "\n",
      "None privuse marketcap tickerKey:2903\t month:138811\t closeAdjust:801.742601\t currentYield:None\t numberOfOutstandingShares:None\t marketcap:None\t b2m:None\t rollingAverage:None\t momentum:None\t sizeLabel:None\t sizeHML:None\t sizeRMW:None\t sizeCMA:None\n",
      "\n",
      "None privuse marketcap tickerKey:2935\t month:138412\t closeAdjust:1462.0\t currentYield:None\t numberOfOutstandingShares:None\t marketcap:None\t b2m:None\t rollingAverage:None\t momentum:None\t sizeLabel:None\t sizeHML:None\t sizeRMW:None\t sizeCMA:None\n",
      "\n",
      "None privuse marketcap tickerKey:2935\t month:138803\t closeAdjust:2735.0\t currentYield:None\t numberOfOutstandingShares:None\t marketcap:None\t b2m:None\t rollingAverage:None\t momentum:None\t sizeLabel:None\t sizeHML:None\t sizeRMW:None\t sizeCMA:None\n",
      "\n",
      "None privuse marketcap tickerKey:2935\t month:138812\t closeAdjust:5304.0\t currentYield:None\t numberOfOutstandingShares:None\t marketcap:None\t b2m:None\t rollingAverage:None\t momentum:None\t sizeLabel:None\t sizeHML:None\t sizeRMW:None\t sizeCMA:None\n",
      "\n",
      "***\tNo market cap while having closed adjust for TickerKey:2956 Month:138509\n",
      "None privuse marketcap tickerKey:2956\t month:138601\t closeAdjust:99.7923255363781\t currentYield:None\t numberOfOutstandingShares:None\t marketcap:None\t b2m:0.241837290215933\t rollingAverage:None\t momentum:None\t sizeLabel:None\t sizeHML:None\t sizeRMW:None\t sizeCMA:None\n",
      "\n",
      "None privuse marketcap tickerKey:2956\t month:138604\t closeAdjust:74.3121400398867\t currentYield:None\t numberOfOutstandingShares:None\t marketcap:None\t b2m:0.241837290215933\t rollingAverage:None\t momentum:None\t sizeLabel:None\t sizeHML:None\t sizeRMW:None\t sizeCMA:None\n",
      "\n",
      "None privuse marketcap tickerKey:2956\t month:138607\t closeAdjust:107.799633319463\t currentYield:None\t numberOfOutstandingShares:None\t marketcap:None\t b2m:0.241837290215933\t rollingAverage:None\t momentum:None\t sizeLabel:None\t sizeHML:None\t sizeRMW:None\t sizeCMA:None\n",
      "\n",
      "None privuse marketcap tickerKey:2956\t month:138704\t closeAdjust:41.6398816312528\t currentYield:None\t numberOfOutstandingShares:None\t marketcap:None\t b2m:0.241837290215933\t rollingAverage:None\t momentum:None\t sizeLabel:None\t sizeHML:None\t sizeRMW:None\t sizeCMA:None\n",
      "\n",
      "None privuse marketcap tickerKey:2956\t month:138904\t closeAdjust:207.007905519225\t currentYield:None\t numberOfOutstandingShares:None\t marketcap:None\t b2m:0.241837290215933\t rollingAverage:None\t momentum:None\t sizeLabel:None\t sizeHML:None\t sizeRMW:None\t sizeCMA:None\n",
      "\n",
      "None privuse marketcap tickerKey:2969\t month:138707\t closeAdjust:1023.60346448234\t currentYield:None\t numberOfOutstandingShares:None\t marketcap:None\t b2m:0.721838697340111\t rollingAverage:None\t momentum:None\t sizeLabel:None\t sizeHML:None\t sizeRMW:None\t sizeCMA:None\n",
      "\n",
      "None privuse marketcap tickerKey:2969\t month:138709\t closeAdjust:1058.21807439237\t currentYield:None\t numberOfOutstandingShares:None\t marketcap:None\t b2m:0.721838697340111\t rollingAverage:None\t momentum:None\t sizeLabel:None\t sizeHML:None\t sizeRMW:None\t sizeCMA:None\n",
      "\n",
      "None privuse marketcap tickerKey:2969\t month:138712\t closeAdjust:1055.25110782866\t currentYield:None\t numberOfOutstandingShares:None\t marketcap:None\t b2m:0.721838697340111\t rollingAverage:None\t momentum:None\t sizeLabel:None\t sizeHML:None\t sizeRMW:None\t sizeCMA:None\n",
      "\n",
      "None privuse marketcap tickerKey:2969\t month:138802\t closeAdjust:1056.24009668323\t currentYield:None\t numberOfOutstandingShares:None\t marketcap:None\t b2m:0.721838697340111\t rollingAverage:None\t momentum:None\t sizeLabel:None\t sizeHML:None\t sizeRMW:None\t sizeCMA:None\n",
      "\n",
      "None privuse marketcap tickerKey:2969\t month:138903\t closeAdjust:1269.86168927085\t currentYield:None\t numberOfOutstandingShares:None\t marketcap:None\t b2m:0.721838697340111\t rollingAverage:None\t momentum:None\t sizeLabel:None\t sizeHML:None\t sizeRMW:None\t sizeCMA:None\n",
      "\n",
      "None privuse marketcap tickerKey:2969\t month:138912\t closeAdjust:1376.67248556466\t currentYield:None\t numberOfOutstandingShares:None\t marketcap:None\t b2m:0.721838697340111\t rollingAverage:None\t momentum:None\t sizeLabel:None\t sizeHML:None\t sizeRMW:None\t sizeCMA:None\n",
      "\n",
      "None privuse marketcap tickerKey:2969\t month:139004\t closeAdjust:1376.67248556466\t currentYield:None\t numberOfOutstandingShares:None\t marketcap:None\t b2m:0.721838697340111\t rollingAverage:None\t momentum:None\t sizeLabel:None\t sizeHML:None\t sizeRMW:None\t sizeCMA:None\n",
      "\n",
      "None privuse marketcap tickerKey:3055\t month:138003\t closeAdjust:1899.96885619527\t currentYield:None\t numberOfOutstandingShares:None\t marketcap:None\t b2m:None\t rollingAverage:None\t momentum:None\t sizeLabel:None\t sizeHML:None\t sizeRMW:None\t sizeCMA:None\n",
      "\n",
      "None privuse marketcap tickerKey:3055\t month:138012\t closeAdjust:2802.72412622173\t currentYield:None\t numberOfOutstandingShares:None\t marketcap:None\t b2m:None\t rollingAverage:None\t momentum:None\t sizeLabel:None\t sizeHML:None\t sizeRMW:None\t sizeCMA:None\n",
      "\n",
      "None privuse marketcap tickerKey:3055\t month:138105\t closeAdjust:3229.21947622737\t currentYield:None\t numberOfOutstandingShares:None\t marketcap:None\t b2m:None\t rollingAverage:None\t momentum:None\t sizeLabel:None\t sizeHML:None\t sizeRMW:None\t sizeCMA:None\n",
      "\n",
      "None privuse marketcap tickerKey:3055\t month:138205\t closeAdjust:4438.05096084574\t currentYield:None\t numberOfOutstandingShares:None\t marketcap:None\t b2m:None\t rollingAverage:None\t momentum:None\t sizeLabel:None\t sizeHML:None\t sizeRMW:None\t sizeCMA:None\n",
      "\n",
      "None privuse marketcap tickerKey:3055\t month:138402\t closeAdjust:4445.30761853102\t currentYield:None\t numberOfOutstandingShares:None\t marketcap:None\t b2m:None\t rollingAverage:None\t momentum:None\t sizeLabel:None\t sizeHML:None\t sizeRMW:None\t sizeCMA:None\n",
      "\n",
      "None privuse marketcap tickerKey:3055\t month:138406\t closeAdjust:4562.97592917916\t currentYield:None\t numberOfOutstandingShares:None\t marketcap:None\t b2m:None\t rollingAverage:None\t momentum:None\t sizeLabel:None\t sizeHML:None\t sizeRMW:None\t sizeCMA:None\n",
      "\n",
      "None privuse marketcap tickerKey:3055\t month:138409\t closeAdjust:4643.38367119765\t currentYield:None\t numberOfOutstandingShares:None\t marketcap:None\t b2m:None\t rollingAverage:None\t momentum:None\t sizeLabel:None\t sizeHML:None\t sizeRMW:None\t sizeCMA:None\n",
      "\n",
      "***\tNo market cap while having closed adjust for TickerKey:3091 Month:138406\n",
      "None privuse marketcap tickerKey:3091\t month:138712\t closeAdjust:976.053286277965\t currentYield:None\t numberOfOutstandingShares:None\t marketcap:None\t b2m:None\t rollingAverage:None\t momentum:None\t sizeLabel:None\t sizeHML:None\t sizeRMW:None\t sizeCMA:None\n",
      "\n",
      "None privuse marketcap tickerKey:3091\t month:138808\t closeAdjust:1177.79658363857\t currentYield:None\t numberOfOutstandingShares:None\t marketcap:None\t b2m:None\t rollingAverage:None\t momentum:None\t sizeLabel:None\t sizeHML:None\t sizeRMW:None\t sizeCMA:None\n",
      "\n",
      "None privuse marketcap tickerKey:3091\t month:138912\t closeAdjust:851.164578388068\t currentYield:None\t numberOfOutstandingShares:None\t marketcap:None\t b2m:None\t rollingAverage:None\t momentum:None\t sizeLabel:None\t sizeHML:None\t sizeRMW:None\t sizeCMA:None\n",
      "\n",
      "None privuse marketcap tickerKey:76527\t month:138412\t closeAdjust:1462.0\t currentYield:None\t numberOfOutstandingShares:None\t marketcap:None\t b2m:None\t rollingAverage:None\t momentum:None\t sizeLabel:None\t sizeHML:None\t sizeRMW:None\t sizeCMA:None\n",
      "\n",
      "None privuse marketcap tickerKey:76527\t month:138803\t closeAdjust:2735.0\t currentYield:None\t numberOfOutstandingShares:None\t marketcap:None\t b2m:None\t rollingAverage:None\t momentum:None\t sizeLabel:None\t sizeHML:None\t sizeRMW:None\t sizeCMA:None\n",
      "\n",
      "None privuse marketcap tickerKey:76527\t month:138812\t closeAdjust:5304.0\t currentYield:None\t numberOfOutstandingShares:None\t marketcap:None\t b2m:None\t rollingAverage:None\t momentum:None\t sizeLabel:None\t sizeHML:None\t sizeRMW:None\t sizeCMA:None\n",
      "\n",
      "None privuse marketcap tickerKey:90926\t month:138303\t closeAdjust:107.949890355066\t currentYield:None\t numberOfOutstandingShares:None\t marketcap:None\t b2m:None\t rollingAverage:None\t momentum:None\t sizeLabel:None\t sizeHML:None\t sizeRMW:None\t sizeCMA:None\n",
      "\n",
      "None privuse marketcap tickerKey:90926\t month:138306\t closeAdjust:106.68116796796\t currentYield:None\t numberOfOutstandingShares:None\t marketcap:None\t b2m:None\t rollingAverage:None\t momentum:None\t sizeLabel:None\t sizeHML:None\t sizeRMW:None\t sizeCMA:None\n",
      "\n"
     ]
    }
   ],
   "source": [
    "def calculateCloseAdjust(tickerKey, monthIndex):\n",
    "  privuseMonthCompanyInfo:CompanyInfo = findCompanyInfo(tickerKey, allMonths[monthIndex-1])\n",
    "  if privuseMonthCompanyInfo is None:\n",
    "    return None\n",
    "  nextMonthCompanyInfo:CompanyInfo = findCompanyInfo(tickerKey, allMonths[monthIndex+1])\n",
    "\n",
    "  if nextMonthCompanyInfo is not None:\n",
    "    return ((nextMonthCompanyInfo.closeAdjust / privuseMonthCompanyInfo.closeAdjust) ** (1/2)) * privuseMonthCompanyInfo.closeAdjust\n",
    "\n",
    "  if monthIndex + 2 >= len(allMonths):\n",
    "    return None\n",
    "  secondNextMonthCompanyInfo:CompanyInfo = findCompanyInfo(tickerKey, allMonths[monthIndex+2])\n",
    "  if secondNextMonthCompanyInfo is None:\n",
    "    return None\n",
    "  return ((secondNextMonthCompanyInfo.closeAdjust / privuseMonthCompanyInfo.closeAdjust) ** (1/3)) * privuseMonthCompanyInfo.closeAdjust\n",
    "  \n",
    "def calculateMarketcapAdjust(tickerKey, monthIndex):\n",
    "  privuseMonthCompanyInfo:CompanyInfo = findCompanyInfo(tickerKey, allMonths[monthIndex-1])\n",
    "  if privuseMonthCompanyInfo is None or privuseMonthCompanyInfo.marketcap is None:\n",
    "    return None\n",
    "  nextMonthCompanyInfo:CompanyInfo = findCompanyInfo(tickerKey, allMonths[monthIndex+1])\n",
    "\n",
    "  if nextMonthCompanyInfo is not None and nextMonthCompanyInfo.marketcap is not None:\n",
    "    return ((nextMonthCompanyInfo.marketcap / privuseMonthCompanyInfo.marketcap) ** (1/2)) * privuseMonthCompanyInfo.marketcap\n",
    "\n",
    "  if monthIndex + 2 >= len(allMonths):\n",
    "    return None\n",
    "  secondNextMonthCompanyInfo:CompanyInfo = findCompanyInfo(tickerKey, allMonths[monthIndex+2])\n",
    "  if secondNextMonthCompanyInfo is None or secondNextMonthCompanyInfo.marketcap is None:\n",
    "    return None\n",
    "  return ((secondNextMonthCompanyInfo.marketcap / privuseMonthCompanyInfo.marketcap) ** (1/3)) * privuseMonthCompanyInfo.marketcap\n",
    "  \n",
    "  # print(calculatedCloseAdjust)\n",
    "\n",
    "_missingData = []\n",
    "for tickerKey in companyTickerSet:\n",
    "  # companyHistoricalData = [companyInfo for companyInfo in companyInfoList if companyInfo.tickerKey == tickerKey]\n",
    "  startOfData = False\n",
    "  for monthIndex in range(1,len(allMonths)-1):\n",
    "    currentCompanyInfo = findCompanyInfo(tickerKey,allMonths[monthIndex])\n",
    "    if currentCompanyInfo is not None:\n",
    "        startOfData = True\n",
    "        continue\n",
    "    if currentCompanyInfo is None:\n",
    "      closeAdjust = calculateCloseAdjust(tickerKey,monthIndex)\n",
    "      if closeAdjust is None: \n",
    "        if startOfData :\n",
    "          _missingData.append([\"closeAdjust for tick\",tickerKey,\" Month\",allMonths[monthIndex],\" Is None\"])\n",
    "        continue\n",
    "      privuseMonthCompanyInfo:CompanyInfo = findCompanyInfo(tickerKey, allMonths[monthIndex-1])\n",
    "\n",
    "      adjustedCompanyInfo = CompanyInfo(tickerKey,privuseMonthCompanyInfo.name,allMonths[monthIndex],None,None,None,None,None,None,privuseMonthCompanyInfo.sourceSubsectorCode)\n",
    "      adjustedCompanyInfo.closeAdjust = closeAdjust\n",
    "      # print(tickerKey,allMonths[month],privuseMonthCompanyInfo) # log before adjusted\n",
    "      if privuseMonthCompanyInfo.numberOfOutstandingShares == None:\n",
    "        print(\"None privuse marketcap\" ,privuseMonthCompanyInfo)\n",
    "        continue\n",
    "      adjustedCompanyInfo.marketcap = calculateMarketcapAdjust(tickerKey,monthIndex)\n",
    "      if adjustedCompanyInfo.marketcap is None:\n",
    "        print(\"***\\tNo market cap while having closed adjust for TickerKey:\" +  str(adjustedCompanyInfo.tickerKey) + \" Month:\" + str(adjustedCompanyInfo.month))\n",
    "        continue\n",
    "      if privuseMonthCompanyInfo.numberOfOutstandingShares == None:\n",
    "        print(\"None numberOfOutstandingShares\" ,privuseMonthCompanyInfo)\n",
    "        continue\n",
    "      adjustedCompanyInfo.numberOfOutstandingShares = privuseMonthCompanyInfo.numberOfOutstandingShares\n",
    "      addCompanyInfoToList(adjustedCompanyInfo)\n",
    "      # print(tickerKey,allMonths[month]) # log adjusted\n",
    "\n",
    "\n",
    "# print([companyInfo for companyInfo in _missingData if companyInfo[1] == 9])"
   ]
  },
  {
   "cell_type": "code",
   "execution_count": 9,
   "metadata": {},
   "outputs": [
    {
     "name": "stdout",
     "output_type": "stream",
     "text": [
      "6914 of 873870\n",
      "[['closeAdjust for tick', 9, ' Month', 138403, ' Is None'], ['closeAdjust for tick', 9, ' Month', 138404, ' Is None'], ['closeAdjust for tick', 9, ' Month', 138405, ' Is None'], ['closeAdjust for tick', 223, ' Month', 139307, ' Is None'], ['closeAdjust for tick', 223, ' Month', 139308, ' Is None'], ['closeAdjust for tick', 223, ' Month', 139309, ' Is None'], ['closeAdjust for tick', 234, ' Month', 138907, ' Is None'], ['closeAdjust for tick', 234, ' Month', 138908, ' Is None'], ['closeAdjust for tick', 234, ' Month', 138909, ' Is None'], ['closeAdjust for tick', 234, ' Month', 138910, ' Is None']]\n"
     ]
    }
   ],
   "source": [
    "print(\"{} of {}\".format(len(_missingData),data.size))\n",
    "print(_missingData[:10])"
   ]
  },
  {
   "cell_type": "markdown",
   "metadata": {},
   "source": [
    "# Test data"
   ]
  },
  {
   "cell_type": "code",
   "execution_count": 10,
   "metadata": {},
   "outputs": [
    {
     "name": "stdout",
     "output_type": "stream",
     "text": [
      "['tickerKey', 'name', 'month', 'rollingAverage', 'numberOfOutstandingShares', 'marketcap', 'b2m', 'closeAdjust', 'momentum', 'sizeMOM', 'sizeHML', 'sizeRMW', 'sizeCMA', 'sizeLabel', 'CMALabel', 'RMWLabel', 'B2MLabel', 'currentYield', 'inv', 'op', 'sourceSubsectorCode']\n",
      "[9, 'پاکسان\\u200c', 138001, None, 90000000.0, 460800000000.0, None, 10.2823076702193, None, None, None, None, None, None, None, None, None, None, None, None, 4424]\n",
      "[9, 'پاکسان\\u200c', 138002, None, 90000000.0, 481500000000.0, None, 10.7442082100924, None, None, None, None, None, None, None, None, None, None, None, None, 4424]\n",
      "[9, 'پاکسان\\u200c', 138003, None, 90000000.0, 494910000000.0, None, 11.0434394294015, None, None, None, None, None, None, None, None, None, None, None, None, 4424]\n"
     ]
    }
   ],
   "source": [
    "\n",
    "displayCompanyInfo(companyTickerSet[:3],allMonths[:3])"
   ]
  },
  {
   "cell_type": "markdown",
   "metadata": {},
   "source": [
    "# Yield calculations"
   ]
  },
  {
   "cell_type": "code",
   "execution_count": 11,
   "metadata": {},
   "outputs": [],
   "source": [
    "maximumCurrentYield = 0.30\n",
    "minimumCurrentYield = -0.30\n",
    "for tickerKey in companyTickerSet:\n",
    "  for monthIndex in range(1,len(allMonths)):\n",
    "    lastMonthData:CompanyInfo = findCompanyInfo(tickerKey,allMonths[monthIndex-1])\n",
    "    if lastMonthData is None:\n",
    "      continue\n",
    "    thisMonthData:CompanyInfo = findCompanyInfo(tickerKey,allMonths[monthIndex])\n",
    "    if thisMonthData is None:\n",
    "      continue\n",
    "    thisMonthData.currentYield = max(minimumCurrentYield,min(thisMonthData.closeAdjust / lastMonthData.closeAdjust - 1,maximumCurrentYield))"
   ]
  },
  {
   "cell_type": "code",
   "execution_count": 12,
   "metadata": {},
   "outputs": [
    {
     "name": "stdout",
     "output_type": "stream",
     "text": [
      "['tickerKey', 'name', 'month', 'rollingAverage', 'numberOfOutstandingShares', 'marketcap', 'b2m', 'closeAdjust', 'momentum', 'sizeMOM', 'sizeHML', 'sizeRMW', 'sizeCMA', 'sizeLabel', 'CMALabel', 'RMWLabel', 'B2MLabel', 'currentYield', 'inv', 'op', 'sourceSubsectorCode']\n",
      "[9, 'پاکسان\\u200c', 138001, None, 90000000.0, 460800000000.0, None, 10.2823076702193, None, None, None, None, None, None, None, None, None, None, None, None, 4424]\n",
      "[9, 'پاکسان\\u200c', 138002, None, 90000000.0, 481500000000.0, None, 10.7442082100924, None, None, None, None, None, None, None, None, None, 0.04492187499999689, None, None, 4424]\n",
      "[9, 'پاکسان\\u200c', 138003, None, 90000000.0, 494910000000.0, None, 11.0434394294015, None, None, None, None, None, None, None, None, None, 0.027850467289718184, None, None, 4424]\n"
     ]
    }
   ],
   "source": [
    "displayCompanyInfo(companyTickerSet[:3],allMonths[:3])"
   ]
  },
  {
   "cell_type": "markdown",
   "metadata": {},
   "source": [
    "# Calculate rolling average"
   ]
  },
  {
   "cell_type": "code",
   "execution_count": 13,
   "metadata": {},
   "outputs": [],
   "source": [
    "def getRollingDataWindow(tickerKey,rollingWindowSize,endMonthIndex):\n",
    "  rollingDataWindow = []\n",
    "  for monthIndex in range(endMonthIndex+1 - rollingWindowSize,endMonthIndex+1):\n",
    "    currentCompanyInfo = findCompanyInfo(tickerKey,allMonths[monthIndex])\n",
    "    if currentCompanyInfo is None:\n",
    "        continue\n",
    "    rollingDataWindow.append(currentCompanyInfo)\n",
    "  return rollingDataWindow"
   ]
  },
  {
   "cell_type": "code",
   "execution_count": 14,
   "metadata": {},
   "outputs": [],
   "source": [
    "def average(dataList):\n",
    "    if len(dataList)==0:\n",
    "        return None\n",
    "    data = [info.currentYield for info in dataList]\n",
    "    if None in data:\n",
    "      return None\n",
    "    # print(data)\n",
    "    return sum(data) / len(dataList)\n",
    "\n",
    "def valueWeightedAverage(dataList):\n",
    "    if len(dataList)==0:\n",
    "        return None\n",
    "    lastMonth = allMonths[allMonths.index(dataList[0].month) - 1]\n",
    "    data = [info.currentYield * findCompanyInfo(info.tickerKey,lastMonth).marketcap for info in dataList]\n",
    "    marketcapSum = sum([findCompanyInfo(info.tickerKey,lastMonth).marketcap for info in dataList])\n",
    "    if None in data:\n",
    "      return None\n",
    "    # print(data)\n",
    "    return sum(data) / marketcapSum\n",
    "\n",
    "# print(companyInfoList)\n",
    "rollingAverageWindowSize = 6     #Can be change\n",
    "for tickerKey in companyTickerSet:\n",
    "    # print(\"tickerKey\",tickerKey)\n",
    "    for endMonthIndex in range(rollingAverageWindowSize-1,len(allMonths)):\n",
    "      # print(\"endMonthIndex\",endMonthIndex)\n",
    "      rollingDataWindow = getRollingDataWindow(tickerKey, rollingAverageWindowSize,endMonthIndex)\n",
    "      if len(rollingDataWindow) != rollingAverageWindowSize: continue\n",
    "      currentCompanyInfo:CompanyInfo = findCompanyInfo(tickerKey,allMonths[endMonthIndex])\n",
    "      currentCompanyInfo.rollingAverage = average(rollingDataWindow)"
   ]
  },
  {
   "cell_type": "code",
   "execution_count": 15,
   "metadata": {},
   "outputs": [
    {
     "name": "stdout",
     "output_type": "stream",
     "text": [
      "['tickerKey', 'name', 'month', 'rollingAverage', 'numberOfOutstandingShares', 'marketcap', 'b2m', 'closeAdjust', 'momentum', 'sizeMOM', 'sizeHML', 'sizeRMW', 'sizeCMA', 'sizeLabel', 'CMALabel', 'RMWLabel', 'B2MLabel', 'currentYield', 'inv', 'op', 'sourceSubsectorCode']\n",
      "[9, 'پاکسان\\u200c', 138001, None, 90000000.0, 460800000000.0, None, 10.2823076702193, None, None, None, None, None, None, None, None, None, None, None, None, 4424]\n",
      "[9, 'پاکسان\\u200c', 138002, None, 90000000.0, 481500000000.0, None, 10.7442082100924, None, None, None, None, None, None, None, None, None, 0.04492187499999689, None, None, 4424]\n",
      "[9, 'پاکسان\\u200c', 138003, None, 90000000.0, 494910000000.0, None, 11.0434394294015, None, None, None, None, None, None, None, None, None, 0.027850467289718184, None, None, 4424]\n"
     ]
    }
   ],
   "source": [
    "displayCompanyInfo(companyTickerSet[:3],allMonths[:3])"
   ]
  },
  {
   "cell_type": "markdown",
   "metadata": {},
   "source": [
    "# set size"
   ]
  },
  {
   "cell_type": "code",
   "execution_count": 16,
   "metadata": {},
   "outputs": [],
   "source": [
    "def getCompaniesInMonth(month):\n",
    "  compainesInMonth = []\n",
    "  for tickerKey in companyInfoDict.keys():\n",
    "    if month in companyInfoDict[tickerKey]:\n",
    "      compainesInMonth.append(companyInfoDict[tickerKey][month])\n",
    "  return compainesInMonth"
   ]
  },
  {
   "cell_type": "code",
   "execution_count": 17,
   "metadata": {},
   "outputs": [
    {
     "name": "stdout",
     "output_type": "stream",
     "text": [
      "[]\n"
     ]
    }
   ],
   "source": [
    "import math\n",
    "for index,month in enumerate(allMonths[:-1]):\n",
    "    companiesInMonth = [x for x in getCompaniesInMonth(month) if x.rollingAverage is not None and x.marketcap is not None]\n",
    "    companiesInMonth = [x for x in companiesInMonth if findCompanyInfo(x.tickerKey,allMonths[index+1]) is not None and findCompanyInfo(x.tickerKey,allMonths[index+1]).currentYield is not None]\n",
    "    companiesInMonth.sort(key=operator.attrgetter(\"marketcap\"), reverse=True)\n",
    "    median = math.ceil(len(companiesInMonth) / 2)\n",
    "    for company in companiesInMonth[0:median]:\n",
    "        company.sizeMOM = \"Big\"\n",
    "    for company in companiesInMonth[median:]:\n",
    "        company.sizeMOM = \"Small\"\n",
    "\n",
    "print ([x for x in getCompaniesInMonth(allMonths[-1]) if x.sizeMOM ][-10:])"
   ]
  },
  {
   "cell_type": "code",
   "execution_count": 18,
   "metadata": {},
   "outputs": [
    {
     "name": "stdout",
     "output_type": "stream",
     "text": [
      "[]\n"
     ]
    }
   ],
   "source": [
    "import math\n",
    "for index,month in enumerate(allMonths[:-1]):\n",
    "    companiesInMonth = [x for x in getCompaniesInMonth(month) if x.marketcap is not None]\n",
    "    companiesInMonth.sort(key=operator.attrgetter(\"marketcap\"), reverse=True)\n",
    "    median = math.ceil(len(companiesInMonth) / 2)\n",
    "    for company in companiesInMonth[0:median]:\n",
    "        company.sizeLabel = \"Big\"\n",
    "    for company in companiesInMonth[median:]:\n",
    "        company.sizeLabel = \"Small\"\n",
    "\n",
    "print ([x for x in getCompaniesInMonth(allMonths[-1]) if x.sizeLabel ][-10:])"
   ]
  },
  {
   "cell_type": "code",
   "execution_count": 19,
   "metadata": {},
   "outputs": [
    {
     "name": "stdout",
     "output_type": "stream",
     "text": [
      "[tickerKey:101872\t month:140003\t closeAdjust:10080.0\t currentYield:0.1019041203760811\t numberOfOutstandingShares:2500000000.0\t marketcap:25050000000000.0\t b2m:0.118899219712526\t rollingAverage:-0.07669821603597977\t momentum:Low\t sizeLabel:Big\t sizeHML:None\t sizeRMW:None\t sizeCMA:None\n",
      ", tickerKey:102007\t month:140003\t closeAdjust:23163.0\t currentYield:-0.2792195668409261\t numberOfOutstandingShares:300000000.0\t marketcap:7307100000000.0\t b2m:0.0417117011278196\t rollingAverage:-0.089974746832983\t momentum:Low\t sizeLabel:Small\t sizeHML:None\t sizeRMW:None\t sizeCMA:None\n",
      ", tickerKey:102543\t month:140003\t closeAdjust:3660.0\t currentYield:-0.24380165289256195\t numberOfOutstandingShares:9358065000.0\t marketcap:33342785595000.0\t b2m:0.224278046895941\t rollingAverage:-0.10794014706127815\t momentum:Low\t sizeLabel:Big\t sizeHML:None\t sizeRMW:None\t sizeCMA:None\n",
      ", tickerKey:102749\t month:140003\t closeAdjust:14340.0\t currentYield:-0.21265030472739255\t numberOfOutstandingShares:700000000.0\t marketcap:10005100000000.0\t b2m:0.0926756564402314\t rollingAverage:-0.10963724652706598\t momentum:Low\t sizeLabel:Small\t sizeHML:None\t sizeRMW:None\t sizeCMA:None\n",
      ", tickerKey:102799\t month:140003\t closeAdjust:28544.0\t currentYield:-0.1832816158208399\t numberOfOutstandingShares:300000000.0\t marketcap:8653500000000.0\t b2m:0.054326005573226\t rollingAverage:-0.06275723950495421\t momentum:Low\t sizeLabel:Small\t sizeHML:None\t sizeRMW:None\t sizeCMA:None\n",
      ", tickerKey:103318\t month:140003\t closeAdjust:11528.0\t currentYield:0.13734747341582354\t numberOfOutstandingShares:3000000000.0\t marketcap:34200000000000.0\t b2m:0.0960423893436936\t rollingAverage:-0.09834221472086992\t momentum:Low\t sizeLabel:Big\t sizeHML:None\t sizeRMW:None\t sizeCMA:None\n",
      ", tickerKey:104894\t month:140003\t closeAdjust:51790.0\t currentYield:-0.17945313064335777\t numberOfOutstandingShares:4318749000.0\t marketcap:223594591977000.0\t b2m:0.0446993047517692\t rollingAverage:-0.07246633906602241\t momentum:Low\t sizeLabel:Big\t sizeHML:None\t sizeRMW:None\t sizeCMA:None\n",
      ", tickerKey:104978\t month:140003\t closeAdjust:33180.0\t currentYield:0.03957138828837303\t numberOfOutstandingShares:200000000.0\t marketcap:6553200000000.0\t b2m:0.0600733757961783\t rollingAverage:0.025937483707260667\t momentum:High\t sizeLabel:Small\t sizeHML:None\t sizeRMW:None\t sizeCMA:None\n",
      ", tickerKey:105765\t month:140003\t closeAdjust:39980.2413581509\t currentYield:0.0073710073710073765\t numberOfOutstandingShares:3500000000.0\t marketcap:158900000000000.0\t b2m:0.152382264937327\t rollingAverage:-0.029039467116164435\t momentum:Notural\t sizeLabel:Big\t sizeHML:None\t sizeRMW:None\t sizeCMA:None\n",
      ", tickerKey:108032\t month:140003\t closeAdjust:59800.0\t currentYield:0.04609777625921718\t numberOfOutstandingShares:1300000000.0\t marketcap:78026000000000.0\t b2m:0.16234807605624\t rollingAverage:0.0056112370507773\t momentum:High\t sizeLabel:Big\t sizeHML:None\t sizeRMW:None\t sizeCMA:None\n",
      "]\n"
     ]
    }
   ],
   "source": [
    "\n",
    "    \n",
    "    \n",
    "for index,month in enumerate(allMonths[:-1]):\n",
    "    companiesInMonth = [x for x in getCompaniesInMonth(month) if x.rollingAverage is not None]# and x.marketcap is not None\n",
    "    # companiesInMonth = [x for x in companiesInMonth if findCompanyInfo(x.tickerKey,allMonths[index+1]) is not None and findCompanyInfo(x.tickerKey,allMonths[index+1]).currentYield is not None]\n",
    "    companiesInMonth.sort(key=operator.attrgetter(\"rollingAverage\"), reverse=True)\n",
    "    count = math.floor(len(companiesInMonth) * 0.3) #It might be better to round it up instead of down to increase valid data\n",
    "    for company in companiesInMonth[0:count]:\n",
    "        company.momentum = \"High\"\n",
    "    for company in companiesInMonth[len(companiesInMonth) - count:]:\n",
    "        company.momentum = \"Low\"\n",
    "    for company in companiesInMonth[count:len(companiesInMonth) - count]:\n",
    "        company.momentum = \"Notural\"\n",
    "\n",
    "print ([x for x in getCompaniesInMonth(allMonths[-2]) if x.momentum is not None ][-10:])"
   ]
  },
  {
   "cell_type": "code",
   "execution_count": 20,
   "metadata": {},
   "outputs": [],
   "source": [
    "def avgTriple(first, second, third):\n",
    "    avg = 0\n",
    "    count = 0\n",
    "    if first is not None:\n",
    "        count += 1\n",
    "        avg += first\n",
    "    if second is not None:\n",
    "        count += 1\n",
    "        avg += second\n",
    "    if third is not None:\n",
    "        count += 1\n",
    "        avg += third\n",
    "    if count != 0:\n",
    "        avg /= count\n",
    "    return avg"
   ]
  },
  {
   "cell_type": "markdown",
   "metadata": {},
   "source": [
    "# MomentomFactor factor (MOM)"
   ]
  },
  {
   "cell_type": "code",
   "execution_count": 21,
   "metadata": {},
   "outputs": [
    {
     "name": "stdout",
     "output_type": "stream",
     "text": [
      "{138001: 0, 138002: 0, 138003: 0, 138004: 0, 138005: 0, 138006: 0, 138007: 0.05763324477299721, 138008: 0.04171650601688936, 138009: 0.07063193711431613, 138010: 0.014822309237620195, 138011: 0.10087845602200095, 138012: 0.03985713470693855, 138101: 0.11759863563538962, 138102: 0.058535507703336875, 138103: 0.08923499798006251, 138104: 0.023577580583179637, 138105: -0.007246346028337293, 138106: -0.0248437344096891, 138107: 0.027398964068663267, 138108: 0.039341730388192886, 138109: 0.06937376285859458, 138110: 0.03568534972862195, 138111: 0.019634803663860632, 138112: 0.03968893737579864, 138201: 0.08189458500792064, 138202: 0.10004402815173809, 138203: 0.08888940967324097, 138204: 0.11284849856310533, 138205: -0.02373344194475606, 138206: -0.04817757567400953, 138207: 0.037357490495020504, 138208: 0.004631493533325787, 138209: 0.011010321021447878, 138210: 0.005873582195452386, 138211: -0.025127423689172337, 138212: -0.0018108884443295142, 138301: 0.019517804513878564, 138302: -0.04344152244598267, 138303: 0.11215957209187086, 138304: 0.07395460428831926, 138305: 0.028830611321821187, 138306: 0.006448813300787816, 138307: -0.005061286871473301, 138308: -0.026317193071412906, 138309: -0.007291010764112829, 138310: 0.03889010138622481, 138311: -0.033757875816984806, 138312: -0.05008990206990581, 138401: 0.022349013007778695, 138402: 0.054156579414236766, 138403: 0.0156376609328142, 138404: 0.0023912604551570987, 138405: 0.026720956390027265, 138406: 0.0008336725740824766, 138407: 0.005876381857411898, 138408: -0.02559486430078399, 138409: 0.017771252879430252, 138410: 0.015417517338934796, 138411: -0.005807736737790901, 138412: 0.026964456915969055, 138501: 0.011552389652820658, 138502: 0.025770148911632054, 138503: 0.016557949940368473, 138504: 0.12828458864053657, 138505: 0.05500529673360438, 138506: 0.027954756377907248, 138507: 0.09678338708310906, 138508: 0.14961777957910555, 138509: -0.033660129593405565, 138510: -0.05986981958129018, 138511: -0.04877086160675467, 138512: -0.0011148376127830886, 138601: 0.028360187760318845, 138602: 0.01165304321473212, 138603: 0.005838817961529123, 138604: 0.005924172627202698, 138605: 0.08348820447030623, 138606: 0.02846407797682013, 138607: -0.024111744340817833, 138608: 0.007095971869848276, 138609: 0.05256570208844849, 138610: 0.024623116527323827, 138611: 0.04790130157594033, 138612: 0.025040542710019986, 138701: 0.09425211079563285, 138702: 0.05094427083980657, 138703: 0.0827873021308276, 138704: -0.09586105309920105, 138705: -0.07525603825416645, 138706: -0.054162850731785214, 138707: -0.006730800888433176, 138708: -0.017464518927159667, 138709: 0.04723994139701065, 138710: 0.05150950081539224, 138711: 0.057686662387701516, 138712: -0.04213824016683357, 138801: -0.006359316404327686, 138802: -0.0511827039825338, 138803: -0.014185678534681424, 138804: 0.07484735561551964, 138805: 0.054965815410912944, 138806: -0.02135118778792168, 138807: -0.026976706439470845, 138808: -0.003300617686811738, 138809: 0.06566241669155082, 138810: 0.045204989542839455, 138811: -0.011546641828725057, 138812: 0.061445274244965015, 138901: -0.06560913826656428, 138902: 0.024658758103140752, 138903: 0.05350527882872252, 138904: 0.035680571933309674, 138905: -0.006096817749495734, 138906: -0.05134978006582634, 138907: 0.014329660046460552, 138908: 0.026965245868671085, 138909: -0.010138653344362716, 138910: 0.03851626101214059, 138911: 0.03822827531225828, 138912: 0.061135784521482085, 139001: -0.004772453630988986, 139002: -0.002002088173631669, 139003: 0.007178435846946583, 139004: 0.017590215220646063, 139005: 0.02446955478070581, 139006: -0.03429831630334381, 139007: 0.06233742445824904, 139008: 0.10922801199226742, 139009: -0.08026270904145205, 139010: 0.12895722825014078, 139011: 0.014007730289526316, 139012: -0.010846281547023474, 139101: -0.026846429023109415, 139102: 0.02972778405274111, 139103: 0.029517914677672, 139104: -0.025070074851154145, 139105: 0.0240612389954597, 139106: 0.11525404221551458, 139107: 0.04448529619895111, 139108: 0.10334160596635808, 139109: 0.061014156691349006, 139110: 0.08036037647030117, 139111: -0.015609304873454905, 139112: 0.047719033043302564, 139201: 0.012634857261839327, 139202: 0.03604818765259596, 139203: 0.06289483163379692, 139204: -0.0020223003799440947, 139205: 7.92038286286309e-05, 139206: -0.029382263414414717, 139207: 0.05365201465542324, 139208: 0.04406992255568319, 139209: -0.002498522996389276, 139210: -0.03725120272347296, 139211: -0.008552527773600122, 139212: 0.01701638503280378, 139301: -0.04076240993666348, 139302: 0.050468818571798295, 139303: 0.0085537095183798, 139304: -0.001859055282665792, 139305: 0.016295864915886603, 139306: -0.01841211886711734, 139307: -0.012846628514749386, 139308: 0.0440368259831409, 139309: 0.026950809156582184, 139310: -0.009599704837833348, 139311: 0.0012081426838168076, 139312: 0.0074436502020579845, 139401: -0.00251079982744443, 139402: 0.017058964069336578, 139403: 0.02348575377026322, 139404: -0.004838989835591667, 139405: 0.01691385864611722, 139406: 0.003071292251622299, 139407: 0.02475954716669606, 139408: 0.05131296741052407, 139409: -0.013559662964582775, 139410: -0.07534761147570522, 139411: -0.03504771797007439, 139412: -0.024991368115281184, 139501: -0.011813275471102787, 139502: -0.045722525584567714, 139503: 0.02330339139927521, 139504: 0.057564573936094515, 139505: -0.025965558756007243, 139506: -0.02117456428851762, 139507: -0.043669554500597826, 139508: 0.004021115512051006, 139509: 0.027902693705027876, 139510: 0.02292950574628745, 139511: -0.02658479095813318, 139512: -0.07763281201384353, 139601: -0.03207652703351926, 139602: -0.00046806019775449265, 139603: -0.02915939652194402, 139604: -0.06756545167808256, 139605: 0.009498910582448356, 139606: 0.0499378250586085, 139607: 0.01119016780191584, 139608: 0.03861418776264204, 139609: 0.07502091574665766, 139610: 0.013203057826864185, 139611: 0.012596164022590901, 139612: 0.04743942867425504, 139701: 0.014402544234827057, 139702: 0.054367451670566475, 139703: -0.004468970363147733, 139704: 0.05556055294155733, 139705: -0.07802944398035677, 139706: 0.05454198863025705, 139707: -0.07087551864830852, 139708: -0.01315447085299662, 139709: -0.001752300149421751, 139710: -0.028032184170138592, 139711: -0.05887503734361241, 139712: -0.07149686152603427, 139801: 0.055489757727646, 139802: 0.0028365481019095584, 139803: -0.005550206519474077, 139804: 0.03159870123528294, 139805: -0.03830904583853097, 139806: -0.09182338065441854, 139807: 0.024297550859481508, 139808: 0.00032786186087435665, 139809: -0.03067337650985061, 139810: -0.01649295470410328, 139811: -0.020331531149202442, 139812: -0.025076908012597543, 139901: -0.03761530731486981, 139902: -0.004096244793187376, 139903: 0.03041076554722011, 139904: -0.05939171938270621, 139905: 0.07190347133394628, 139906: -0.11325972227088527, 139907: 0.015046605971621083, 139908: -0.08255491180379476, 139909: 0.04603308854187517, 139910: -0.06153606711505079, 139911: 0.033786303315242794, 139912: 0.043158486600445384, 140001: 0.01845181929957823, 140002: -0.03867521982652959, 140003: -0.024304832831069274}\n"
     ]
    }
   ],
   "source": [
    "\n",
    "\n",
    "MoMFactor = {}\n",
    "MoMAverages = {}\n",
    "\n",
    "for index,month in enumerate(allMonths[:-1]):\n",
    "    # Get companies of corrent month\n",
    "    companiesInMonth = getCompaniesInMonth(month)\n",
    "    # Get companis for these filters SL SH BL BH\n",
    "    SL = [company for company in companiesInMonth if company.sizeLabel == \"Small\" and company.momentum == \"Low\"]\n",
    "    SN = [company for company in companiesInMonth if company.sizeLabel == \"Small\" and company.momentum == \"Notural\"]\n",
    "    SH = [company for company in companiesInMonth if company.sizeLabel == \"Small\" and company.momentum == \"High\"]\n",
    "    BL = [company for company in companiesInMonth if company.sizeLabel == \"Big\" and company.momentum == \"Low\"]\n",
    "    BN = [company for company in companiesInMonth if company.sizeLabel == \"Big\" and company.momentum == \"Notural\"]\n",
    "    BH = [company for company in companiesInMonth if company.sizeLabel == \"Big\" and company.momentum == \"High\"]\n",
    "    # Get companies next month info\n",
    "    BH_nextMonth = [findCompanyInfo(company.tickerKey,allMonths[index+1]) for company in BH]\n",
    "    BN_nextMonth = [findCompanyInfo(company.tickerKey,allMonths[index+1]) for company in BN]\n",
    "    BL_nextMonth = [findCompanyInfo(company.tickerKey,allMonths[index+1]) for company in BL]\n",
    "    SH_nextMonth = [findCompanyInfo(company.tickerKey,allMonths[index+1]) for company in SH]\n",
    "    SN_nextMonth = [findCompanyInfo(company.tickerKey,allMonths[index+1]) for company in SN]\n",
    "    SL_nextMonth = [findCompanyInfo(company.tickerKey,allMonths[index+1]) for company in SL]\n",
    "    # Get companies next month currentYield\n",
    "    BH_average = valueWeightedAverage([x for x in BH_nextMonth if x is not None])\n",
    "    BN_average = valueWeightedAverage([x for x in BN_nextMonth if x is not None])\n",
    "    BL_average = valueWeightedAverage([x for x in BL_nextMonth if x is not None])\n",
    "    SH_average = valueWeightedAverage([x for x in SH_nextMonth if x is not None])\n",
    "    SN_average = valueWeightedAverage([x for x in SN_nextMonth if x is not None])\n",
    "    SL_average = valueWeightedAverage([x for x in SL_nextMonth if x is not None])\n",
    "    \n",
    "    MoMAverages[month] = [SH_average,SN_average,SL_average,BH_average,BN_average,BL_average]\n",
    "    MoMFactor[month]=avgTriple(SH_average, BH_average,None) - avgTriple(SL_average, BL_average,None)\n",
    "\n",
    "print(MoMFactor)\n"
   ]
  },
  {
   "cell_type": "markdown",
   "metadata": {},
   "source": [
    "# Book to market Calc"
   ]
  },
  {
   "cell_type": "code",
   "execution_count": 22,
   "metadata": {},
   "outputs": [
    {
     "name": "stdout",
     "output_type": "stream",
     "text": [
      "tickerKey:1\t month:138001\t closeAdjust:None\t currentYield:None\t numberOfOutstandingShares:None\t marketcap:None\t b2m:None\t rollingAverage:None\t momentum:None\t sizeLabel:None\t sizeHML:None\t sizeRMW:None\t sizeCMA:None\n",
      "\n",
      "tickerKey:1\t month:138002\t closeAdjust:None\t currentYield:None\t numberOfOutstandingShares:None\t marketcap:None\t b2m:None\t rollingAverage:None\t momentum:None\t sizeLabel:None\t sizeHML:None\t sizeRMW:None\t sizeCMA:None\n",
      "\n",
      "tickerKey:1\t month:138003\t closeAdjust:None\t currentYield:None\t numberOfOutstandingShares:None\t marketcap:None\t b2m:None\t rollingAverage:None\t momentum:None\t sizeLabel:None\t sizeHML:None\t sizeRMW:None\t sizeCMA:None\n",
      "\n",
      "tickerKey:1\t month:138004\t closeAdjust:None\t currentYield:None\t numberOfOutstandingShares:None\t marketcap:None\t b2m:None\t rollingAverage:None\t momentum:None\t sizeLabel:None\t sizeHML:None\t sizeRMW:None\t sizeCMA:None\n",
      "\n",
      "tickerKey:1\t month:138005\t closeAdjust:None\t currentYield:None\t numberOfOutstandingShares:None\t marketcap:None\t b2m:None\t rollingAverage:None\t momentum:None\t sizeLabel:None\t sizeHML:None\t sizeRMW:None\t sizeCMA:None\n",
      "\n",
      "tickerKey:1\t month:138006\t closeAdjust:None\t currentYield:None\t numberOfOutstandingShares:None\t marketcap:None\t b2m:None\t rollingAverage:None\t momentum:None\t sizeLabel:None\t sizeHML:None\t sizeRMW:None\t sizeCMA:None\n",
      "\n",
      "tickerKey:1\t month:138007\t closeAdjust:None\t currentYield:None\t numberOfOutstandingShares:None\t marketcap:None\t b2m:None\t rollingAverage:None\t momentum:None\t sizeLabel:None\t sizeHML:None\t sizeRMW:None\t sizeCMA:None\n",
      "\n",
      "tickerKey:1\t month:138008\t closeAdjust:None\t currentYield:None\t numberOfOutstandingShares:None\t marketcap:None\t b2m:None\t rollingAverage:None\t momentum:None\t sizeLabel:None\t sizeHML:None\t sizeRMW:None\t sizeCMA:None\n",
      "\n",
      "tickerKey:1\t month:138009\t closeAdjust:None\t currentYield:None\t numberOfOutstandingShares:None\t marketcap:None\t b2m:None\t rollingAverage:None\t momentum:None\t sizeLabel:None\t sizeHML:None\t sizeRMW:None\t sizeCMA:None\n",
      "\n",
      "tickerKey:1\t month:138010\t closeAdjust:None\t currentYield:None\t numberOfOutstandingShares:None\t marketcap:None\t b2m:None\t rollingAverage:None\t momentum:None\t sizeLabel:None\t sizeHML:None\t sizeRMW:None\t sizeCMA:None\n",
      "\n"
     ]
    }
   ],
   "source": [
    "#  Fill all marketcap based on the last one\n",
    "for companyTicker in companyTickerSet:\n",
    "  for index,month in enumerate(allMonths):\n",
    "    if month not in companyInfoDict[companyTicker]:\n",
    "      firstData:CompanyInfo = companyInfoDict[companyTicker][list(companyInfoDict[companyTicker].keys())[0]]\n",
    "      c = CompanyInfo(companyTicker,firstData.name,month,None,None,None,None,None,None, firstData.sourceSubsectorCode)\n",
    "      if index > 0 and allMonths[index-1] in companyInfoDict[companyTicker]:\n",
    "        c.marketcap = companyInfoDict[companyTicker][allMonths[index-1]].marketcap\n",
    "        c.b2m = companyInfoDict[companyTicker][allMonths[index-1]].b2m\n",
    "        c.inv = companyInfoDict[companyTicker][allMonths[index-1]].inv\n",
    "        c.op = companyInfoDict[companyTicker][allMonths[index-1]].op\n",
    "      companyInfoDict[companyTicker][month] = c\n",
    "  # print(companyInfoDict[companyTicker][139712])\n",
    "\n",
    "for month in sorted(companyInfoDict[1].keys())[:10]:\n",
    "  print(companyInfoDict[1][month])"
   ]
  },
  {
   "cell_type": "code",
   "execution_count": 23,
   "metadata": {},
   "outputs": [],
   "source": [
    "# Accounting data fixed for 12 months\n",
    "for companyTicker in companyTickerSet:\n",
    "  lastB2MOfTheYear = None\n",
    "  lastINVOfTheYear = None\n",
    "  lastOpOfTheYear = None\n",
    "  for month in allMonths:\n",
    "    if month % 100 == 4:\n",
    "      lastB2MOfTheYear = companyInfoDict[companyTicker][month].b2m\n",
    "      lastINVOfTheYear = companyInfoDict[companyTicker][month].inv\n",
    "      lastOpOfTheYear = companyInfoDict[companyTicker][month].op\n",
    "    companyInfoDict[companyTicker][month].b2m = lastB2MOfTheYear     \n",
    "    companyInfoDict[companyTicker][month].inv = lastINVOfTheYear     \n",
    "    companyInfoDict[companyTicker][month].op = lastOpOfTheYear     "
   ]
  },
  {
   "cell_type": "code",
   "execution_count": 24,
   "metadata": {},
   "outputs": [],
   "source": [
    "# for month in sorted(companyInfoDict[1].keys())[:10]:\n",
    "#   print(companyInfoDict[9][month])"
   ]
  },
  {
   "cell_type": "code",
   "execution_count": 25,
   "metadata": {},
   "outputs": [],
   "source": [
    "# Book To market ranking\n",
    "\n",
    "for index,month in enumerate(allMonths[:-1]):\n",
    "  b2mMonthList = []\n",
    "  for companyTicker in companyTickerSet:\n",
    "    if companyInfoDict[companyTicker][month].b2m == None :\n",
    "      # companyInfoDict[companyTicker][month].marketcap == None or \\\n",
    "      # findCompanyInfo(companyTicker,allMonths[index+1]).currentYield == None :\n",
    "      continue\n",
    "    b2mMonthList.append(companyInfoDict[companyTicker][month].b2m)\n",
    "  if len(b2mMonthList) == 0 :\n",
    "    continue\n",
    "  b2mMonthList.sort()\n",
    "  lowBookToMarket = b2mMonthList[int(len(b2mMonthList)*0.3)-1]\n",
    "  highBookToMarket = b2mMonthList[-int(len(b2mMonthList)*0.3)]\n",
    "\n",
    "  for companyTicker in companyTickerSet:\n",
    "    if companyInfoDict[companyTicker][month].b2m == None:\n",
    "      continue\n",
    "    # if companyInfoDict[companyTicker][month].currentYield == None:\n",
    "    #   continue\n",
    "    if companyInfoDict[companyTicker][month].b2m <= lowBookToMarket:\n",
    "      companyInfoDict[companyTicker][month].B2MLabel = \"Low\"\n",
    "    elif companyInfoDict[companyTicker][month].b2m >= highBookToMarket:\n",
    "      companyInfoDict[companyTicker][month].B2MLabel = \"High\"\n",
    "    else:\n",
    "      companyInfoDict[companyTicker][month].B2MLabel = \"Neutral\"\n",
    "\n"
   ]
  },
  {
   "cell_type": "code",
   "execution_count": 26,
   "metadata": {},
   "outputs": [],
   "source": [
    "# RMW (Operational profit) ranking\n",
    "\n",
    "for index,month in enumerate(allMonths[:-1]):\n",
    "  dataMonthList = []\n",
    "  for companyTicker in companyTickerSet:\n",
    "    if companyInfoDict[companyTicker][month].op == None :\n",
    "      # companyInfoDict[companyTicker][month].marketcap == None or \\\n",
    "      # findCompanyInfo(companyTicker,allMonths[index+1]).currentYield == None :\n",
    "      continue\n",
    "    dataMonthList.append(companyInfoDict[companyTicker][month].op)\n",
    "  if len(dataMonthList) == 0 :\n",
    "    continue\n",
    "  dataMonthList.sort()\n",
    "  weakValue = dataMonthList[int(len(dataMonthList)*0.3)-1]\n",
    "  robustValue = dataMonthList[-int(len(dataMonthList)*0.3)]\n",
    "  for companyTicker in companyTickerSet:\n",
    "    if companyInfoDict[companyTicker][month].op == None:\n",
    "      continue\n",
    "    # if companyInfoDict[companyTicker][month].currentYield == None:\n",
    "    #   continue\n",
    "    if companyInfoDict[companyTicker][month].op <= weakValue:\n",
    "      companyInfoDict[companyTicker][month].RMWLabel = \"Weak\"\n",
    "    elif companyInfoDict[companyTicker][month].op >= robustValue:\n",
    "      companyInfoDict[companyTicker][month].RMWLabel = \"Robust\"\n",
    "    else:\n",
    "      companyInfoDict[companyTicker][month].RMWLabel = \"Neutral\""
   ]
  },
  {
   "cell_type": "code",
   "execution_count": 27,
   "metadata": {},
   "outputs": [
    {
     "name": "stdout",
     "output_type": "stream",
     "text": [
      "None\n",
      "Robust\n",
      "Robust\n",
      "Neutral\n",
      "Robust\n",
      "Weak\n",
      "Robust\n",
      "Robust\n",
      "Robust\n",
      "Neutral\n"
     ]
    }
   ],
   "source": [
    "\n",
    "for companyTicker in companyTickerSet[:10]:\n",
    "  print(companyInfoDict[companyTicker][139807].RMWLabel)"
   ]
  },
  {
   "cell_type": "code",
   "execution_count": 28,
   "metadata": {},
   "outputs": [],
   "source": [
    "# CMA (Investment) ranking\n",
    "\n",
    "for index,month in enumerate(allMonths[:-1]):\n",
    "  dataMonthList = []\n",
    "  for companyTicker in companyTickerSet:\n",
    "    if companyInfoDict[companyTicker][month].inv == None :\n",
    "      # companyInfoDict[companyTicker][month].marketcap == None or \\\n",
    "      # findCompanyInfo(companyTicker,allMonths[index+1]).currentYield == None :\n",
    "      continue   \n",
    "    dataMonthList.append(companyInfoDict[companyTicker][month].inv)\n",
    "  if len(dataMonthList) == 0 :\n",
    "    continue\n",
    "  dataMonthList.sort()\n",
    "  weakValue = dataMonthList[int(len(dataMonthList)*0.3)-1]\n",
    "  robustValue = dataMonthList[-int(len(dataMonthList)*0.3)]\n",
    "  for companyTicker in companyTickerSet:\n",
    "    if companyInfoDict[companyTicker][month].inv == None:\n",
    "      continue\n",
    "    # if companyInfoDict[companyTicker][month].currentYield == None:\n",
    "    #   continue\n",
    "    if companyInfoDict[companyTicker][month].inv <= weakValue:\n",
    "      companyInfoDict[companyTicker][month].CMALabel = \"Conservative\"\n",
    "    elif companyInfoDict[companyTicker][month].inv >= robustValue:\n",
    "      companyInfoDict[companyTicker][month].CMALabel = \"Aggressive\"\n",
    "    else:\n",
    "      companyInfoDict[companyTicker][month].CMALabel = \"Neutral\""
   ]
  },
  {
   "cell_type": "code",
   "execution_count": 29,
   "metadata": {},
   "outputs": [],
   "source": [
    "def getNextMonth(currentMonth):\n",
    "  return allMonths[allMonths.index(currentMonth)+1]\n",
    "\n",
    "def getNextMonthCompaniesHavingYeild(companyInfoList):\n",
    "  response = []\n",
    "  for companyInfo in companyInfoList:\n",
    "    nextMoonth = companyInfoDict[companyInfo.tickerKey][getNextMonth(companyInfo.month)]\n",
    "    if nextMoonth.currentYield != None:\n",
    "      response.append(nextMoonth)\n",
    "  return response\n"
   ]
  },
  {
   "cell_type": "code",
   "execution_count": 30,
   "metadata": {},
   "outputs": [
    {
     "name": "stdout",
     "output_type": "stream",
     "text": [
      "[]\n"
     ]
    }
   ],
   "source": [
    "import math\n",
    "for index,month in enumerate(allMonths[:-1]):\n",
    "    companiesInMonth = [x for x in getCompaniesInMonth(month) if x.b2m is not None and x.marketcap is not None]\n",
    "    companiesInMonth = [x for x in companiesInMonth if findCompanyInfo(x.tickerKey,allMonths[index+1]) is not None and findCompanyInfo(x.tickerKey,allMonths[index+1]).currentYield is not None]\n",
    "    companiesInMonth.sort(key=operator.attrgetter(\"marketcap\"), reverse=True)\n",
    "    median = math.ceil(len(companiesInMonth) / 2)\n",
    "    for company in companiesInMonth[0:median]:\n",
    "        company.sizeHML = \"Big\"\n",
    "    for company in companiesInMonth[median:]:\n",
    "        company.sizeHML = \"Small\"\n",
    "\n",
    "print ([x for x in getCompaniesInMonth(allMonths[-1]) if x.sizeHML ][-10:])"
   ]
  },
  {
   "cell_type": "code",
   "execution_count": 31,
   "metadata": {},
   "outputs": [
    {
     "name": "stdout",
     "output_type": "stream",
     "text": [
      "0\n",
      "0\n",
      "0\n",
      "-0.014184660851324735\n",
      "0.21666869349229742\n",
      "-0.14980530123038793\n",
      "-0.14482780900691594\n",
      "-0.15167021928928115\n",
      "-0.07913669064748174\n",
      "-0.08186666666666653\n"
     ]
    }
   ],
   "source": [
    "HMLFactor = {}\n",
    "HMLAverages = {}\n",
    "SMBBTMFactor = {}\n",
    "for month in allMonths[:-1]:\n",
    "  SH = [companyInfoDict[companyTicker][month] for companyTicker in companyTickerSet if companyInfoDict[companyTicker][month].B2MLabel == \"High\" and \\\n",
    "        companyInfoDict[companyTicker][month].sizeLabel == \"Small\"]\n",
    "  SN = [companyInfoDict[companyTicker][month] for companyTicker in companyTickerSet if companyInfoDict[companyTicker][month].B2MLabel == \"Neutral\" and \\\n",
    "        companyInfoDict[companyTicker][month].sizeLabel == \"Small\"]\n",
    "  SL = [companyInfoDict[companyTicker][month] for companyTicker in companyTickerSet if companyInfoDict[companyTicker][month].B2MLabel == \"Low\" and \\\n",
    "        companyInfoDict[companyTicker][month].sizeLabel == \"Small\"]\n",
    "  BH = [companyInfoDict[companyTicker][month] for companyTicker in companyTickerSet if companyInfoDict[companyTicker][month].B2MLabel == \"High\" and \\\n",
    "        companyInfoDict[companyTicker][month].sizeLabel == \"Big\"]\n",
    "  BN = [companyInfoDict[companyTicker][month] for companyTicker in companyTickerSet if companyInfoDict[companyTicker][month].B2MLabel == \"Neutral\" and \\\n",
    "        companyInfoDict[companyTicker][month].sizeLabel == \"Big\"]\n",
    "  BL = [companyInfoDict[companyTicker][month] for companyTicker in companyTickerSet if companyInfoDict[companyTicker][month].B2MLabel == \"Low\" and \\\n",
    "        companyInfoDict[companyTicker][month].sizeLabel == \"Big\"]\n",
    "  \n",
    "  \n",
    "  SH_average = valueWeightedAverage(getNextMonthCompaniesHavingYeild(SH))\n",
    "  SN_average = valueWeightedAverage(getNextMonthCompaniesHavingYeild(SN))\n",
    "  SL_average = valueWeightedAverage(getNextMonthCompaniesHavingYeild(SL))\n",
    "  BH_average = valueWeightedAverage(getNextMonthCompaniesHavingYeild(BH))\n",
    "  BN_average = valueWeightedAverage(getNextMonthCompaniesHavingYeild(BN))\n",
    "  BL_average = valueWeightedAverage(getNextMonthCompaniesHavingYeild(BL))\n",
    "  \n",
    "  HMLAverages[month] = [SH_average,SN_average,SL_average,BH_average,BN_average,BL_average]\n",
    "  SMBBTMFactor[month] = avgTriple(SH_average,SN_average,SL_average) - avgTriple(BH_average, BN_average, BL_average)\n",
    "  HMLFactor[month] = avgTriple(SH_average, BH_average,None)  - avgTriple(SL_average , BL_average,None)\n",
    "for month in list(HMLFactor.keys())[:10]:\n",
    "  print(HMLFactor[month])"
   ]
  },
  {
   "cell_type": "code",
   "execution_count": 32,
   "metadata": {},
   "outputs": [
    {
     "name": "stdout",
     "output_type": "stream",
     "text": [
      "[]\n"
     ]
    }
   ],
   "source": [
    "import math\n",
    "for index,month in enumerate(allMonths[:-1]):\n",
    "    companiesInMonth = [x for x in getCompaniesInMonth(month) if x.op is not None and x.marketcap is not None]\n",
    "    companiesInMonth = [x for x in companiesInMonth if findCompanyInfo(x.tickerKey,allMonths[index+1]) is not None and findCompanyInfo(x.tickerKey,allMonths[index+1]).currentYield is not None]\n",
    "    companiesInMonth.sort(key=operator.attrgetter(\"marketcap\"), reverse=True)\n",
    "    median = math.ceil(len(companiesInMonth) / 2)\n",
    "    for company in companiesInMonth[0:median]:\n",
    "        company.sizeRMW = \"Big\"\n",
    "    for company in companiesInMonth[median:]:\n",
    "        company.sizeRMW = \"Small\"\n",
    "\n",
    "print ([x for x in getCompaniesInMonth(allMonths[-1]) if x.sizeRMW ][-10:])"
   ]
  },
  {
   "cell_type": "code",
   "execution_count": 33,
   "metadata": {},
   "outputs": [
    {
     "name": "stdout",
     "output_type": "stream",
     "text": [
      "0\n",
      "0\n",
      "0\n",
      "0\n",
      "0\n",
      "0\n",
      "0\n",
      "0\n",
      "0\n",
      "0\n"
     ]
    }
   ],
   "source": [
    "RMWFactor = {}\n",
    "RMWAverages = {}\n",
    "SMBRMWFactor = {}\n",
    "for month in allMonths[:-1]:\n",
    "  SR = [companyInfoDict[companyTicker][month] for companyTicker in companyTickerSet if companyInfoDict[companyTicker][month].RMWLabel == \"Robust\" and \\\n",
    "        companyInfoDict[companyTicker][month].sizeLabel == \"Small\"]\n",
    "  SN = [companyInfoDict[companyTicker][month] for companyTicker in companyTickerSet if companyInfoDict[companyTicker][month].RMWLabel == \"Neutral\" and \\\n",
    "        companyInfoDict[companyTicker][month].sizeLabel == \"Small\"]\n",
    "  SW = [companyInfoDict[companyTicker][month] for companyTicker in companyTickerSet if companyInfoDict[companyTicker][month].RMWLabel == \"Weak\" and \\\n",
    "        companyInfoDict[companyTicker][month].sizeLabel == \"Small\"]\n",
    "  BR = [companyInfoDict[companyTicker][month] for companyTicker in companyTickerSet if companyInfoDict[companyTicker][month].RMWLabel == \"Robust\" and \\\n",
    "        companyInfoDict[companyTicker][month].sizeLabel == \"Big\"]\n",
    "  BN = [companyInfoDict[companyTicker][month] for companyTicker in companyTickerSet if companyInfoDict[companyTicker][month].RMWLabel == \"Neutral\" and \\\n",
    "        companyInfoDict[companyTicker][month].sizeLabel == \"Big\"]\n",
    "  BW = [companyInfoDict[companyTicker][month] for companyTicker in companyTickerSet if companyInfoDict[companyTicker][month].RMWLabel == \"Weak\" and \\\n",
    "        companyInfoDict[companyTicker][month].sizeLabel == \"Big\"]\n",
    "  \n",
    "  SR_average = valueWeightedAverage(getNextMonthCompaniesHavingYeild(SR))\n",
    "  SN_average = valueWeightedAverage(getNextMonthCompaniesHavingYeild(SN))\n",
    "  SW_average = valueWeightedAverage(getNextMonthCompaniesHavingYeild(SW))\n",
    "  BR_average = valueWeightedAverage(getNextMonthCompaniesHavingYeild(BR))\n",
    "  BN_average = valueWeightedAverage(getNextMonthCompaniesHavingYeild(BN))\n",
    "  BW_average = valueWeightedAverage(getNextMonthCompaniesHavingYeild(BW))\n",
    "\n",
    "  RMWAverages[month] = [SR_average,SN_average,SW_average,BR_average,BN_average,BW_average]\n",
    "  SMBRMWFactor[month] = avgTriple(SR_average , SN_average, SW_average) - avgTriple(BR_average, BN_average, BW_average)\n",
    "  RMWFactor[month] = avgTriple(SR_average, BR_average,None) - avgTriple(SW_average, BW_average,None)\n",
    "for month in list(RMWFactor.keys())[:10]:\n",
    "  print(RMWFactor[month])"
   ]
  },
  {
   "cell_type": "code",
   "execution_count": 34,
   "metadata": {},
   "outputs": [
    {
     "name": "stdout",
     "output_type": "stream",
     "text": [
      "[]\n"
     ]
    }
   ],
   "source": [
    "import math\n",
    "for index,month in enumerate(allMonths[:-1]):\n",
    "    companiesInMonth = [x for x in getCompaniesInMonth(month) if x.op is not None and x.marketcap is not None]\n",
    "    companiesInMonth = [x for x in companiesInMonth if findCompanyInfo(x.tickerKey,allMonths[index+1]) is not None and findCompanyInfo(x.tickerKey,allMonths[index+1]).currentYield is not None]\n",
    "    companiesInMonth.sort(key=operator.attrgetter(\"marketcap\"), reverse=True)\n",
    "    median = math.ceil(len(companiesInMonth) / 2)\n",
    "    for company in companiesInMonth[0:median]:\n",
    "        company.sizeCMA = \"Big\"\n",
    "    for company in companiesInMonth[median:]:\n",
    "        company.sizeCMA = \"Small\"\n",
    "\n",
    "print ([x for x in getCompaniesInMonth(allMonths[-1]) if x.sizeCMA ][-10:])"
   ]
  },
  {
   "cell_type": "code",
   "execution_count": 35,
   "metadata": {},
   "outputs": [
    {
     "name": "stdout",
     "output_type": "stream",
     "text": [
      "0\n",
      "0\n",
      "0\n",
      "0\n",
      "0\n",
      "0\n",
      "0\n",
      "0\n",
      "0\n",
      "0\n"
     ]
    }
   ],
   "source": [
    "CMAFactor = {}\n",
    "CMAAverages = {}\n",
    "SMBCMAFactor = {}\n",
    "for month in allMonths[:-1]:\n",
    "  SA = [companyInfoDict[companyTicker][month] for companyTicker in companyTickerSet if companyInfoDict[companyTicker][month].CMALabel == \"Aggressive\" and \\\n",
    "        companyInfoDict[companyTicker][month].sizeLabel == \"Small\"]\n",
    "  SN = [companyInfoDict[companyTicker][month] for companyTicker in companyTickerSet if companyInfoDict[companyTicker][month].CMALabel == \"Neutral\" and \\\n",
    "        companyInfoDict[companyTicker][month].sizeLabel == \"Small\"]\n",
    "  SC = [companyInfoDict[companyTicker][month] for companyTicker in companyTickerSet if companyInfoDict[companyTicker][month].CMALabel == \"Conservative\" and \\\n",
    "        companyInfoDict[companyTicker][month].sizeLabel == \"Small\"]\n",
    "  BA = [companyInfoDict[companyTicker][month] for companyTicker in companyTickerSet if companyInfoDict[companyTicker][month].CMALabel == \"Aggressive\" and \\\n",
    "        companyInfoDict[companyTicker][month].sizeLabel == \"Big\"]\n",
    "  BN = [companyInfoDict[companyTicker][month] for companyTicker in companyTickerSet if companyInfoDict[companyTicker][month].CMALabel == \"Neutral\" and \\\n",
    "        companyInfoDict[companyTicker][month].sizeLabel == \"Big\"]\n",
    "  BC = [companyInfoDict[companyTicker][month] for companyTicker in companyTickerSet if companyInfoDict[companyTicker][month].CMALabel == \"Conservative\" and \\\n",
    "        companyInfoDict[companyTicker][month].sizeLabel == \"Big\"]\n",
    "  \n",
    "  SA_average = valueWeightedAverage(getNextMonthCompaniesHavingYeild(SA))\n",
    "  SN_average = valueWeightedAverage(getNextMonthCompaniesHavingYeild(SN))\n",
    "  SC_average = valueWeightedAverage(getNextMonthCompaniesHavingYeild(SC))\n",
    "  BA_average = valueWeightedAverage(getNextMonthCompaniesHavingYeild(BA))\n",
    "  BN_average = valueWeightedAverage(getNextMonthCompaniesHavingYeild(BN))\n",
    "  BC_average = valueWeightedAverage(getNextMonthCompaniesHavingYeild(BC))\n",
    "\n",
    "  CMAAverages[month] = [SA_average,SN_average,SC_average,BA_average,BN_average,BC_average]\n",
    "  SMBCMAFactor[month] = avgTriple(SA_average, SN_average, SC_average) - avgTriple(BA_average, BN_average, BC_average)\n",
    "  CMAFactor[month] = avgTriple(SC_average, BC_average,None)  - avgTriple(SA_average, BA_average,None)\n",
    "for month in list(CMAFactor.keys())[:10]:\n",
    "  print(CMAFactor[month])"
   ]
  },
  {
   "cell_type": "code",
   "execution_count": 36,
   "metadata": {},
   "outputs": [],
   "source": [
    "SMBFactor = {}\n",
    "for month in SMBBTMFactor.keys():\n",
    "  SMBFactor[month] = avgTriple(SMBBTMFactor[month], SMBCMAFactor[month], SMBRMWFactor[month])\n"
   ]
  },
  {
   "cell_type": "markdown",
   "metadata": {},
   "source": [
    "# Export company list to excel"
   ]
  },
  {
   "cell_type": "code",
   "execution_count": 37,
   "metadata": {},
   "outputs": [],
   "source": [
    "# Example to excel function\n",
    "exportCompanyListToExcel(\"calculations\")"
   ]
  },
  {
   "cell_type": "code",
   "execution_count": 38,
   "metadata": {},
   "outputs": [],
   "source": [
    "# Factors to excel\n",
    "rows = []\n",
    "for month in allMonths:\n",
    "    data_ = [month,\n",
    "      SMBFactor[month] if month in SMBFactor else None,\n",
    "      HMLFactor[month] if month in HMLFactor else None]\n",
    "    for i in range(6):\n",
    "      data_.append(HMLAverages[month][i] if month in HMLAverages else None)\n",
    "    \n",
    "    data_.append(RMWFactor[month] if month in RMWFactor else None)\n",
    "    for i in range(6):\n",
    "      data_.append(RMWAverages[month][i] if month in RMWAverages else None)\n",
    "    \n",
    "    data_.append(CMAFactor[month] if month in CMAFactor else None)\n",
    "    for i in range(6):\n",
    "      data_.append(CMAAverages[month][i] if month in CMAAverages else None)\n",
    "      \n",
    "    data_.append(MoMFactor[month] if month in MoMFactor else None)\n",
    "    for i in range(6):\n",
    "      data_.append(MoMAverages[month][i] if month in MoMAverages else None)\n",
    "      \n",
    "    rows.append(data_)\n",
    "\n",
    "dfOut = pd.DataFrame(rows, columns=['month',\"SMBFactor\", \"HMLFactor\",\"SH_average\",\"SN_average\",\"SL_average\",\"BH_average\",\"BN_average\",\"BL_average\", \"RMWFactor\",\"SR_average\",\"SN_average\",\"SW_average\",\"BR_average\",\"BN_average\",\"BW_average\", \"CMAFactor\",\"SA_average\",\"SN_average\",\"SC_average\",\"BA_average\",\"BN_average\",\"BC_average\", \"MoMFactor\",\"SH_average\",\"SN_average\",\"SL_average\",\"BH_average\",\"BN_average\",\"BL_average\"])\n",
    "dfOut.to_excel('Factors.xlsx', sheet_name='Factors')"
   ]
  }
 ],
 "metadata": {
  "interpreter": {
   "hash": "31f2aee4e71d21fbe5cf8b01ff0e069b9275f58929596ceb00d14d90e3e16cd6"
  },
  "kernelspec": {
   "display_name": "Python 3.8.10 64-bit",
   "name": "python3"
  },
  "language_info": {
   "codemirror_mode": {
    "name": "ipython",
    "version": 3
   },
   "file_extension": ".py",
   "mimetype": "text/x-python",
   "name": "python",
   "nbconvert_exporter": "python",
   "pygments_lexer": "ipython3",
   "version": "3.8.10"
  },
  "orig_nbformat": 4
 },
 "nbformat": 4,
 "nbformat_minor": 2
}
