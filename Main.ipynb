{
 "cells": [
  {
   "cell_type": "markdown",
   "metadata": {},
   "source": [
    "# Prepare excel read with pandas"
   ]
  },
  {
   "cell_type": "code",
   "execution_count": 1,
   "metadata": {},
   "outputs": [],
   "source": [
    "import pandas as pd\n",
    "# data = pd.read_excel(r'monthly_market_data - Copy.xlsx')\n",
    "data = pd.read_excel(r'monthly_market_data - Copy (3).xlsx')\n",
    "\n",
    "# print(data)\n"
   ]
  },
  {
   "cell_type": "markdown",
   "metadata": {},
   "source": [
    "# Read Excel to memnory and create classes"
   ]
  },
  {
   "cell_type": "code",
   "execution_count": 2,
   "metadata": {},
   "outputs": [],
   "source": [
    "import operator\n",
    "\n",
    "class CompanyInfo:\n",
    "    def __init__(self, tickerKey, name, month,numberOfOutstandingShares, marketcap,b2m, adjClose,inv,op,sourceSubsectorCode\n",
    "):\n",
    "        self.tickerKey = tickerKey\n",
    "        self.name = name\n",
    "        self.month = month\n",
    "        self.rollingAverage = None\n",
    "        self.numberOfOutstandingShares = numberOfOutstandingShares if not pd.isnull(numberOfOutstandingShares) else None\n",
    "        self.marketcap = marketcap if not pd.isnull(marketcap) else None\n",
    "        self.b2m = b2m if not pd.isnull(b2m) else None\n",
    "        self.closeAdjust = adjClose\n",
    "        self.momentum = None\n",
    "        self.size = None\n",
    "        self.RMWSize = None\n",
    "        self.CMASize = None\n",
    "        self.BperMSize = None\n",
    "        self.currentYield = None\n",
    "        self.inv = inv if not pd.isnull(inv) else None\n",
    "        self.op = op if not pd.isnull(op) else None\n",
    "        self.sourceSubsectorCode = sourceSubsectorCode\n",
    "\n",
    "\n",
    "    def __repr__(self):\n",
    "         return self.__str__()\n",
    "\n",
    "    def __str__(self):\n",
    "        return \"tickerKey:\"+str(self.tickerKey) + \\\n",
    "            \"\\t month:\" + str(self.month) + \\\n",
    "            \"\\t closeAdjust:\" + str(self.closeAdjust) + \\\n",
    "            \"\\t currentYield:\" + str(self.currentYield) + \\\n",
    "            \"\\t numberOfOutstandingShares:\" + str(self.numberOfOutstandingShares) + \\\n",
    "            \"\\t marketcap:\" + str(self.marketcap) + \\\n",
    "            \"\\t b2m:\" + str(self.b2m) + \\\n",
    "            \"\\t rollingAverage:\" + str(self.rollingAverage) + \\\n",
    "            \"\\t momentum:\" + str(self.momentum) + \\\n",
    "            \"\\t size:\" + str(self.size)+\"\\n\"\n",
    "\n",
    "    def convertToList(self):\n",
    "      return [getattr(self,atr) for atr in self.__dict__]\n",
    "\n",
    "\n",
    "companyInfoDict  = {}\n",
    "def addCompanyInfoToList(companyInfo:CompanyInfo):\n",
    "    if companyInfo.tickerKey not in companyInfoDict:\n",
    "      companyInfoDict[companyInfo.tickerKey]={}\n",
    "    if companyInfo.month not in companyInfoDict[companyInfo.tickerKey]:\n",
    "      companyInfoDict[companyInfo.tickerKey][companyInfo.month]=companyInfo\n",
    "    else:\n",
    "      raise Exception(\"Company info exists.\" + str(companyInfo))\n",
    "\n",
    "def findCompanyInfo(tickerKey, month):\n",
    "    if tickerKey in companyInfoDict and month in companyInfoDict[tickerKey]:\n",
    "      return companyInfoDict[tickerKey][month]\n",
    "    return None\n",
    "\n",
    "def displayCompanyInfoHeader():\n",
    "  for tickerKey in companyInfoDict.keys():\n",
    "      for month in companyInfoDict[tickerKey].keys():\n",
    "        company:CompanyInfo = findCompanyInfo(tickerKey,month)\n",
    "        if company is None:\n",
    "          continue\n",
    "        attrs = []\n",
    "        for attribute in vars(company):\n",
    "          attrs.append(attribute)\n",
    "        print(attrs)\n",
    "        return\n",
    "\n",
    "def displayCompanyInfo(tickerKeys:list,months:list):\n",
    "    displayCompanyInfoHeader()\n",
    "    for tickerKey in tickerKeys:\n",
    "      sortedMonths = sorted(months)\n",
    "      for month in sortedMonths:\n",
    "        company:CompanyInfo = findCompanyInfo(tickerKey,month)\n",
    "        if company is None:\n",
    "          continue\n",
    "        print(company.convertToList())\n",
    "\n",
    "allMonths = []\n",
    "\n",
    "\n",
    "for i, companyInfoPandas in data.iterrows():\n",
    "    ci = CompanyInfo(tickerKey=companyInfoPandas[\"TickerKey\"],\n",
    "                                       name=companyInfoPandas[\"TickerNamePooyaFA\"],\n",
    "                                       month=companyInfoPandas[\"DayKeyFA\"]// 100,\n",
    "                                       numberOfOutstandingShares=companyInfoPandas[\"NumberOfOutstandingShares\"],\n",
    "                                       marketcap=companyInfoPandas[\"marketcap\"],\n",
    "                                       b2m=companyInfoPandas[\"B2M\"],\n",
    "                                       adjClose=companyInfoPandas[\"AdjClose\"],\n",
    "                                       inv=companyInfoPandas[\"INV\"],\n",
    "                                       op=companyInfoPandas[\"OP\"],\n",
    "                                       sourceSubsectorCode=companyInfoPandas[\"SourceSubsectorCode\"],\n",
    "                                       )\n",
    "    addCompanyInfoToList(ci)\n",
    "    allMonths.append(ci.month)\n",
    "\n",
    "allMonths = list(set(allMonths))\n",
    "allMonths.sort()\n"
   ]
  },
  {
   "cell_type": "code",
   "execution_count": 3,
   "metadata": {},
   "outputs": [],
   "source": [
    "# companies to excel\n",
    "def exportCompanyListToExcel(excelFileName):\n",
    "  rows = []\n",
    "  for company in companyInfoDict.keys():\n",
    "    for month in companyInfoDict[company].keys():\n",
    "      rows.append(companyInfoDict[company][month].convertToList())\n",
    "\n",
    "  company_ = None\n",
    "  for tickerKey in companyInfoDict.keys():\n",
    "      for month in sorted(companyInfoDict[company].keys()):\n",
    "        company:CompanyInfo = findCompanyInfo(tickerKey,month)\n",
    "        if company is None:\n",
    "          continue\n",
    "        company_ = company\n",
    "        break\n",
    "      if company_ is not None:\n",
    "        break\n",
    "  dfOut = pd.DataFrame(rows,columns=company_.__dict__)\n",
    "  dfOut.to_excel(excelFileName+'.xlsx', sheet_name='TMPExport')"
   ]
  },
  {
   "cell_type": "markdown",
   "metadata": {},
   "source": [
    "# Dict access sample and test"
   ]
  },
  {
   "cell_type": "code",
   "execution_count": 4,
   "metadata": {},
   "outputs": [
    {
     "name": "stdout",
     "output_type": "stream",
     "text": [
      "[1, 9, 10, 219, 223, 231, 234, 239, 243, 247]\n",
      "[139712, 139801, 139802, 139803, 139804, 139805, 139806, 139807, 139808, 139809]\n",
      "tickerKey:1\t month:139712\t closeAdjust:802.5232992867204\t currentYield:None\t numberOfOutstandingShares:3000000000\t marketcap:4959000000000\t b2m:1.2906721802\t rollingAverage:None\t momentum:None\t size:None\n",
      "\n"
     ]
    }
   ],
   "source": [
    "print(list(companyInfoDict.keys())[:10])\n",
    "print(list(companyInfoDict[1].keys())[:10])\n",
    "print(companyInfoDict[1][139712])\n"
   ]
  },
  {
   "cell_type": "markdown",
   "metadata": {},
   "source": [
    "# Extract company names"
   ]
  },
  {
   "cell_type": "code",
   "execution_count": 5,
   "metadata": {},
   "outputs": [
    {
     "name": "stdout",
     "output_type": "stream",
     "text": [
      "[1, 9, 10, 219, 223, 231, 234, 239, 243, 247, 251, 255, 259, 263, 267, 271, 275, 279, 283, 287]\n"
     ]
    }
   ],
   "source": [
    "companyTickerSet = list(companyInfoDict.keys())\n",
    "print(companyTickerSet)\n"
   ]
  },
  {
   "cell_type": "markdown",
   "metadata": {},
   "source": [
    "# Extract company months"
   ]
  },
  {
   "cell_type": "code",
   "execution_count": 6,
   "metadata": {},
   "outputs": [
    {
     "name": "stdout",
     "output_type": "stream",
     "text": [
      "[138001, 138002, 138003, 138004, 138005, 138006, 138007, 138008, 138009, 138010, 138011, 138012, 138101, 138102, 138103, 138104, 138105, 138106, 138107, 138108, 138109, 138110, 138111, 138112, 138201, 138202, 138203, 138204, 138205, 138206, 138207, 138208, 138209, 138210, 138211, 138212, 138301, 138302, 138303, 138304, 138305, 138306, 138307, 138308, 138309, 138310, 138311, 138312, 138401, 138402, 138403, 138404, 138405, 138406, 138407, 138408, 138409, 138410, 138411, 138412, 138501, 138502, 138503, 138504, 138505, 138506, 138507, 138508, 138509, 138510, 138511, 138512, 138601, 138602, 138603, 138604, 138605, 138606, 138607, 138608, 138609, 138610, 138611, 138612, 138701, 138702, 138703, 138704, 138705, 138706, 138707, 138708, 138709, 138710, 138711, 138712, 138801, 138802, 138803, 138804, 138805, 138806, 138807, 138808, 138809, 138810, 138811, 138812, 138901, 138902, 138903, 138904, 138905, 138906, 138907, 138908, 138909, 138910, 138911, 138912, 139001, 139002, 139003, 139004, 139005, 139006, 139007, 139008, 139009, 139010, 139011, 139012, 139101, 139102, 139103, 139104, 139105, 139106, 139107, 139108, 139109, 139110, 139111, 139112, 139201, 139202, 139203, 139204, 139205, 139206, 139207, 139208, 139209, 139210, 139211, 139212, 139301, 139302, 139303, 139304, 139305, 139306, 139307, 139308, 139309, 139310, 139311, 139312, 139401, 139402, 139403, 139404, 139405, 139406, 139407, 139408, 139409, 139410, 139411, 139412, 139501, 139502, 139503, 139504, 139505, 139506, 139507, 139508, 139509, 139510, 139511, 139512, 139601, 139602, 139603, 139604, 139605, 139606, 139607, 139608, 139609, 139610, 139611, 139612, 139701, 139702, 139703, 139704, 139705, 139706, 139707, 139708, 139709, 139710, 139711, 139712, 139801, 139802, 139803, 139804, 139805, 139806, 139807, 139808, 139809, 139810, 139811, 139812, 139901, 139902, 139903, 139904, 139905, 139906, 139907, 139908, 139909, 139910, 139911, 139912, 140001, 140002, 140003, 140004]\n",
      "Total: 244\n"
     ]
    }
   ],
   "source": [
    "print(allMonths)\n",
    "print(\"Total:\",len(allMonths))"
   ]
  },
  {
   "cell_type": "code",
   "execution_count": 7,
   "metadata": {},
   "outputs": [
    {
     "name": "stdout",
     "output_type": "stream",
     "text": [
      "['tickerKey', 'name', 'month', 'rollingAverage', 'numberOfOutstandingShares', 'marketcap', 'b2m', 'closeAdjust', 'momentum', 'size', 'RMWSize', 'CMASize', 'BperMSize', 'currentYield', 'inv', 'op', 'sourceSubsectorCode']\n",
      "[9, 'پاکسان\\u200c', 138001, None, 90000000, 460800000000, 4.9385362299, 10.282307670219264, None, None, None, None, None, None, 5.9385362299, 6.9385362299, 4424]\n",
      "[9, 'پاکسان\\u200c', 138002, None, 90000000, 481500000000, 5.1603845371, 10.744208210092395, None, None, None, None, None, None, 6.1603845371, 7.1603845371, 4424]\n",
      "[9, 'پاکسان\\u200c', 138003, None, 90000000, 494910000000, 5.3041036578, 11.043439429401511, None, None, None, None, None, None, 6.3041036578, 7.3041036578, 4424]\n"
     ]
    }
   ],
   "source": [
    "displayCompanyInfo(companyTickerSet[:3],allMonths[:3])"
   ]
  },
  {
   "cell_type": "markdown",
   "metadata": {},
   "source": [
    "# Fill missing close adjust"
   ]
  },
  {
   "cell_type": "code",
   "execution_count": 8,
   "metadata": {},
   "outputs": [],
   "source": [
    "def calculateCloseAdjust(tickerKey, monthIndex):\n",
    "  privuseMonthCompanyInfo:CompanyInfo = findCompanyInfo(tickerKey, allMonths[monthIndex-1])\n",
    "  if privuseMonthCompanyInfo is None:\n",
    "    return None\n",
    "  nextMonthCompanyInfo:CompanyInfo = findCompanyInfo(tickerKey, allMonths[monthIndex+1])\n",
    "\n",
    "  if nextMonthCompanyInfo is not None:\n",
    "    return ((nextMonthCompanyInfo.closeAdjust / privuseMonthCompanyInfo.closeAdjust) ** (1/2)) * privuseMonthCompanyInfo.closeAdjust\n",
    "\n",
    "  if monthIndex + 2 >= len(allMonths):\n",
    "    return None\n",
    "  secondNextMonthCompanyInfo:CompanyInfo = findCompanyInfo(tickerKey, allMonths[monthIndex+2])\n",
    "  if secondNextMonthCompanyInfo is None:\n",
    "    return None\n",
    "  return ((secondNextMonthCompanyInfo.closeAdjust / privuseMonthCompanyInfo.closeAdjust) ** (1/3)) * privuseMonthCompanyInfo.closeAdjust\n",
    "  \n",
    "  # print(calculatedCloseAdjust)\n",
    "\n",
    "_missingData = []\n",
    "for tickerKey in companyTickerSet:\n",
    "  # companyHistoricalData = [companyInfo for companyInfo in companyInfoList if companyInfo.tickerKey == tickerKey]\n",
    "  startOfData = False\n",
    "  for monthIndex in range(1,len(allMonths)-1):\n",
    "    currentCompanyInfo = findCompanyInfo(tickerKey,allMonths[monthIndex])\n",
    "    if currentCompanyInfo is not None:\n",
    "        startOfData = True\n",
    "        continue\n",
    "    if currentCompanyInfo is None:\n",
    "      closeAdjust = calculateCloseAdjust(tickerKey,monthIndex)\n",
    "      if closeAdjust is None: \n",
    "        if startOfData :\n",
    "          _missingData.append([\"closeAdjust for tick\",tickerKey,\" Month\",allMonths[monthIndex],\" Is None\"])\n",
    "        continue\n",
    "      privuseMonthCompanyInfo:CompanyInfo = findCompanyInfo(tickerKey, allMonths[monthIndex-1])\n",
    "\n",
    "      adjustedCompanyInfo = CompanyInfo(tickerKey,privuseMonthCompanyInfo.name,allMonths[monthIndex],None,None,None,None,None,None,privuseMonthCompanyInfo.sourceSubsectorCode)\n",
    "      adjustedCompanyInfo.closeAdjust = closeAdjust\n",
    "      # print(tickerKey,allMonths[month],privuseMonthCompanyInfo) # log before adjusted\n",
    "      if privuseMonthCompanyInfo.numberOfOutstandingShares == None:\n",
    "        print(\"None privuse marketcap\" ,privuseMonthCompanyInfo)\n",
    "        continue;\n",
    "      adjustedCompanyInfo.marketcap = closeAdjust/privuseMonthCompanyInfo.closeAdjust * privuseMonthCompanyInfo.marketcap\n",
    "      if privuseMonthCompanyInfo.numberOfOutstandingShares == None:\n",
    "        print(\"None numberOfOutstandingShares\" ,privuseMonthCompanyInfo)\n",
    "        continue;\n",
    "      adjustedCompanyInfo.numberOfOutstandingShares = privuseMonthCompanyInfo.numberOfOutstandingShares\n",
    "      addCompanyInfoToList(adjustedCompanyInfo)\n",
    "      # print(tickerKey,allMonths[month]) # log adjusted\n",
    "\n",
    "\n",
    "# print([companyInfo for companyInfo in _missingData if companyInfo[1] == 9])"
   ]
  },
  {
   "cell_type": "code",
   "execution_count": 9,
   "metadata": {},
   "outputs": [
    {
     "name": "stdout",
     "output_type": "stream",
     "text": [
      "231 of 52318\n",
      "[['closeAdjust for tick', 9, ' Month', 138403, ' Is None'], ['closeAdjust for tick', 9, ' Month', 138404, ' Is None'], ['closeAdjust for tick', 9, ' Month', 138405, ' Is None'], ['closeAdjust for tick', 223, ' Month', 139307, ' Is None'], ['closeAdjust for tick', 223, ' Month', 139308, ' Is None'], ['closeAdjust for tick', 223, ' Month', 139309, ' Is None'], ['closeAdjust for tick', 231, ' Month', 138311, ' Is None'], ['closeAdjust for tick', 231, ' Month', 138312, ' Is None'], ['closeAdjust for tick', 231, ' Month', 138401, ' Is None'], ['closeAdjust for tick', 234, ' Month', 138907, ' Is None']]\n"
     ]
    }
   ],
   "source": [
    "print(\"{} of {}\".format(len(_missingData),data.size))\n",
    "print(_missingData[:10])"
   ]
  },
  {
   "cell_type": "markdown",
   "metadata": {},
   "source": [
    "# Test data"
   ]
  },
  {
   "cell_type": "code",
   "execution_count": 10,
   "metadata": {},
   "outputs": [
    {
     "name": "stdout",
     "output_type": "stream",
     "text": [
      "['tickerKey', 'name', 'month', 'rollingAverage', 'numberOfOutstandingShares', 'marketcap', 'b2m', 'closeAdjust', 'momentum', 'size', 'RMWSize', 'CMASize', 'BperMSize', 'currentYield', 'inv', 'op', 'sourceSubsectorCode']\n",
      "[9, 'پاکسان\\u200c', 138001, None, 90000000, 460800000000, 4.9385362299, 10.282307670219264, None, None, None, None, None, None, 5.9385362299, 6.9385362299, 4424]\n",
      "[9, 'پاکسان\\u200c', 138002, None, 90000000, 481500000000, 5.1603845371, 10.744208210092395, None, None, None, None, None, None, 6.1603845371, 7.1603845371, 4424]\n",
      "[9, 'پاکسان\\u200c', 138003, None, 90000000, 494910000000, 5.3041036578, 11.043439429401511, None, None, None, None, None, None, 6.3041036578, 7.3041036578, 4424]\n"
     ]
    }
   ],
   "source": [
    "\n",
    "displayCompanyInfo(companyTickerSet[:3],allMonths[:3])"
   ]
  },
  {
   "cell_type": "markdown",
   "metadata": {},
   "source": [
    "# Yield calculations"
   ]
  },
  {
   "cell_type": "code",
   "execution_count": 11,
   "metadata": {},
   "outputs": [],
   "source": [
    "for tickerKey in companyTickerSet:\n",
    "  for monthIndex in range(1,len(allMonths)):\n",
    "    lastMonthData:CompanyInfo = findCompanyInfo(tickerKey,allMonths[monthIndex-1])\n",
    "    if lastMonthData is None:\n",
    "      continue\n",
    "    thisMonthData:CompanyInfo = findCompanyInfo(tickerKey,allMonths[monthIndex])\n",
    "    if thisMonthData is None:\n",
    "      continue\n",
    "    thisMonthData.currentYield = thisMonthData.closeAdjust / lastMonthData.closeAdjust - 1"
   ]
  },
  {
   "cell_type": "code",
   "execution_count": 12,
   "metadata": {},
   "outputs": [
    {
     "name": "stdout",
     "output_type": "stream",
     "text": [
      "['tickerKey', 'name', 'month', 'rollingAverage', 'numberOfOutstandingShares', 'marketcap', 'b2m', 'closeAdjust', 'momentum', 'size', 'RMWSize', 'CMASize', 'BperMSize', 'currentYield', 'inv', 'op', 'sourceSubsectorCode']\n",
      "[9, 'پاکسان\\u200c', 138001, None, 90000000, 460800000000, 4.9385362299, 10.282307670219264, None, None, None, None, None, None, 5.9385362299, 6.9385362299, 4424]\n",
      "[9, 'پاکسان\\u200c', 138002, None, 90000000, 481500000000, 5.1603845371, 10.744208210092395, None, None, None, None, None, 0.044921875, 6.1603845371, 7.1603845371, 4424]\n",
      "[9, 'پاکسان\\u200c', 138003, None, 90000000, 494910000000, 5.3041036578, 11.043439429401511, None, None, None, None, None, 0.027850467289719738, 6.3041036578, 7.3041036578, 4424]\n"
     ]
    }
   ],
   "source": [
    "displayCompanyInfo(companyTickerSet[:3],allMonths[:3])"
   ]
  },
  {
   "cell_type": "markdown",
   "metadata": {},
   "source": [
    "# Calculate rolling average"
   ]
  },
  {
   "cell_type": "code",
   "execution_count": 13,
   "metadata": {},
   "outputs": [],
   "source": [
    "def getRollingDataWindow(tickerKey,rollingWindowSize,endMonthIndex):\n",
    "  rollingDataWindow = []\n",
    "  for monthIndex in range(endMonthIndex+1 - rollingWindowSize,endMonthIndex+1):\n",
    "    currentCompanyInfo = findCompanyInfo(tickerKey,allMonths[monthIndex])\n",
    "    if currentCompanyInfo is None:\n",
    "        continue\n",
    "    rollingDataWindow.append(currentCompanyInfo)\n",
    "  return rollingDataWindow"
   ]
  },
  {
   "cell_type": "code",
   "execution_count": 14,
   "metadata": {},
   "outputs": [],
   "source": [
    "def average(dataList):\n",
    "    if len(dataList)==0:\n",
    "        return None\n",
    "    data = [info.currentYield for info in dataList]\n",
    "    if None in data:\n",
    "      return None\n",
    "    # print(data)\n",
    "    return sum(data) / len(dataList)\n",
    "\n",
    "# print(companyInfoList)\n",
    "rollingAverageWindowSize = 6     #Can be change\n",
    "for tickerKey in companyTickerSet:\n",
    "    # print(\"tickerKey\",tickerKey)\n",
    "    for endMonthIndex in range(rollingAverageWindowSize-1,len(allMonths)):\n",
    "      # print(\"endMonthIndex\",endMonthIndex)\n",
    "      rollingDataWindow = getRollingDataWindow(tickerKey, rollingAverageWindowSize,endMonthIndex)\n",
    "      if len(rollingDataWindow) != rollingAverageWindowSize: continue\n",
    "      currentCompanyInfo:CompanyInfo = findCompanyInfo(tickerKey,allMonths[endMonthIndex])\n",
    "      currentCompanyInfo.rollingAverage = average(rollingDataWindow)"
   ]
  },
  {
   "cell_type": "code",
   "execution_count": 15,
   "metadata": {},
   "outputs": [
    {
     "name": "stdout",
     "output_type": "stream",
     "text": [
      "['tickerKey', 'name', 'month', 'rollingAverage', 'numberOfOutstandingShares', 'marketcap', 'b2m', 'closeAdjust', 'momentum', 'size', 'RMWSize', 'CMASize', 'BperMSize', 'currentYield', 'inv', 'op', 'sourceSubsectorCode']\n",
      "[9, 'پاکسان\\u200c', 138001, None, 90000000, 460800000000, 4.9385362299, 10.282307670219264, None, None, None, None, None, None, 5.9385362299, 6.9385362299, 4424]\n",
      "[9, 'پاکسان\\u200c', 138002, None, 90000000, 481500000000, 5.1603845371, 10.744208210092395, None, None, None, None, None, 0.044921875, 6.1603845371, 7.1603845371, 4424]\n",
      "[9, 'پاکسان\\u200c', 138003, None, 90000000, 494910000000, 5.3041036578, 11.043439429401511, None, None, None, None, None, 0.027850467289719738, 6.3041036578, 7.3041036578, 4424]\n"
     ]
    }
   ],
   "source": [
    "displayCompanyInfo(companyTickerSet[:3],allMonths[:3])"
   ]
  },
  {
   "cell_type": "markdown",
   "metadata": {},
   "source": [
    "# set size"
   ]
  },
  {
   "cell_type": "code",
   "execution_count": 16,
   "metadata": {},
   "outputs": [],
   "source": [
    "def getCompaniesInMonth(month):\n",
    "  compainesInMonth = []\n",
    "  for tickerKey in companyInfoDict.keys():\n",
    "    if month in companyInfoDict[tickerKey]:\n",
    "      compainesInMonth.append(companyInfoDict[tickerKey][month])\n",
    "  return compainesInMonth"
   ]
  },
  {
   "cell_type": "code",
   "execution_count": 17,
   "metadata": {},
   "outputs": [
    {
     "name": "stdout",
     "output_type": "stream",
     "text": [
      "[tickerKey:251\t month:140004\t closeAdjust:37960.0\t currentYield:0.04573002754820932\t numberOfOutstandingShares:840000000\t marketcap:31760400000000\t b2m:None\t rollingAverage:-0.053558532559853156\t momentum:None\t size:Big\n",
      ", tickerKey:255\t month:140004\t closeAdjust:14660.0\t currentYield:-0.011463250168577188\t numberOfOutstandingShares:1279000000\t marketcap:19121050000000\t b2m:None\t rollingAverage:-0.07897654465431342\t momentum:None\t size:Small\n",
      ", tickerKey:259\t month:140004\t closeAdjust:35270.0\t currentYield:0.054409566517189756\t numberOfOutstandingShares:360000000\t marketcap:12870000000000\t b2m:None\t rollingAverage:-0.0650800251564716\t momentum:None\t size:Small\n",
      ", tickerKey:263\t month:140004\t closeAdjust:1884.0\t currentYield:0.08525345622119818\t numberOfOutstandingShares:24131803999\t marketcap:45054078066133\t b2m:None\t rollingAverage:-0.06532536253116837\t momentum:None\t size:Big\n",
      ", tickerKey:267\t month:140004\t closeAdjust:10020.0\t currentYield:0.08559046587215602\t numberOfOutstandingShares:4500000000\t marketcap:45450000000000\t b2m:None\t rollingAverage:0.014555878983003664\t momentum:None\t size:Big\n",
      ", tickerKey:271\t month:140004\t closeAdjust:8480.0\t currentYield:-0.1468812877263581\t numberOfOutstandingShares:9102988662\t marketcap:78103642719960\t b2m:None\t rollingAverage:-0.04881422650503466\t momentum:None\t size:Big\n",
      ", tickerKey:275\t month:140004\t closeAdjust:4765.0\t currentYield:0.05048500881834217\t numberOfOutstandingShares:1250000000\t marketcap:6002500000000\t b2m:None\t rollingAverage:-0.00024035774404845833\t momentum:None\t size:Small\n",
      ", tickerKey:279\t month:140004\t closeAdjust:1190.0\t currentYield:-0.028248933378177132\t numberOfOutstandingShares:18126475000\t marketcap:21643011150000\t b2m:None\t rollingAverage:-0.02344937224619083\t momentum:None\t size:Small\n",
      ", tickerKey:283\t month:140004\t closeAdjust:2890.0\t currentYield:0.06289076866495025\t numberOfOutstandingShares:2645692846\t marketcap:7685737717630\t b2m:None\t rollingAverage:-0.06617289613971038\t momentum:None\t size:Small\n",
      ", tickerKey:287\t month:140004\t closeAdjust:40750.0\t currentYield:0.025673294739491537\t numberOfOutstandingShares:1215000000\t marketcap:50203800000000\t b2m:None\t rollingAverage:-0.03369695105957806\t momentum:None\t size:Big\n",
      "]\n"
     ]
    }
   ],
   "source": [
    "import math\n",
    "for month in allMonths:\n",
    "    companiesInMonth = [x for x in getCompaniesInMonth(month) if x.rollingAverage is not None and x.marketcap is not None]\n",
    "    companiesInMonth.sort(key=operator.attrgetter(\"marketcap\"), reverse=True)\n",
    "    median = math.ceil(len(companiesInMonth) / 2)\n",
    "    for company in companiesInMonth[0:median]:\n",
    "        company.size = \"Big\"\n",
    "    for company in companiesInMonth[median:]:\n",
    "        company.size = \"Small\"\n",
    "\n",
    "print ([x for x in getCompaniesInMonth(allMonths[-1]) if x.size ][-10:])"
   ]
  },
  {
   "cell_type": "code",
   "execution_count": 18,
   "metadata": {},
   "outputs": [
    {
     "name": "stdout",
     "output_type": "stream",
     "text": [
      "[tickerKey:251\t month:140003\t closeAdjust:36300.0\t currentYield:-0.07539480387162512\t numberOfOutstandingShares:840000000\t marketcap:30508800000000\t b2m:9.2280538648\t rollingAverage:-0.08849092161533151\t momentum:Low\t size:Big\n",
      ", tickerKey:255\t month:140003\t closeAdjust:14830.0\t currentYield:-0.187842278203724\t numberOfOutstandingShares:1279000000\t marketcap:19069890000000\t b2m:7.3866604045\t rollingAverage:-0.029776004360683044\t momentum:High\t size:Small\n",
      ", tickerKey:259\t month:140003\t closeAdjust:33450.0\t currentYield:-0.28875186051456514\t numberOfOutstandingShares:360000000\t marketcap:12189600000000\t b2m:5.1790563469\t rollingAverage:-0.022108740858892844\t momentum:High\t size:Small\n",
      ", tickerKey:263\t month:140003\t closeAdjust:1736.0\t currentYield:-0.032329988851728\t numberOfOutstandingShares:24131803999\t marketcap:41651493702274\t b2m:1.251196135\t rollingAverage:-0.10872790139556543\t momentum:Low\t size:Big\n",
      ", tickerKey:267\t month:140003\t closeAdjust:9230.0\t currentYield:-0.026371308016877593\t numberOfOutstandingShares:4500000000\t marketcap:41715000000000\t b2m:2.5987831676\t rollingAverage:-0.04724834855049884\t momentum:Notural\t size:Big\n",
      ", tickerKey:271\t month:140003\t closeAdjust:9940.0\t currentYield:-0.04167431885529549\t numberOfOutstandingShares:9102988662\t marketcap:90392677413660\t b2m:6.3981419632\t rollingAverage:-0.030248937632779416\t momentum:High\t size:Big\n",
      ", tickerKey:275\t month:140003\t closeAdjust:4536.0\t currentYield:-0.003076923076923088\t numberOfOutstandingShares:1250000000\t marketcap:5708750000000\t b2m:2.6135776975\t rollingAverage:-0.03548490332473166\t momentum:Notural\t size:Small\n",
      ", tickerKey:279\t month:140003\t closeAdjust:1224.5934590397658\t currentYield:-0.02824893337817691\t numberOfOutstandingShares:1000000000\t marketcap:22709822426952.004\t b2m:None\t rollingAverage:-0.07201990520775148\t momentum:Low\t size:Small\n",
      ", tickerKey:283\t month:140003\t closeAdjust:2719.0\t currentYield:-0.3951056729699667\t numberOfOutstandingShares:2645692846\t marketcap:7153953455584\t b2m:3.7047346394\t rollingAverage:-0.1230206057041695\t momentum:Low\t size:Small\n",
      ", tickerKey:287\t month:140003\t closeAdjust:39730.0\t currentYield:-0.1037672005413941\t numberOfOutstandingShares:1215000000\t marketcap:50531850000000\t b2m:30.7850737645\t rollingAverage:-0.05842043153504963\t momentum:Notural\t size:Big\n",
      "]\n"
     ]
    }
   ],
   "source": [
    "\n",
    "    \n",
    "    \n",
    "for index,month in enumerate(allMonths[:-1]):\n",
    "    companiesInMonth = [x for x in getCompaniesInMonth(month) if x.rollingAverage is not None and x.marketcap is not None]\n",
    "    companiesInMonth = [x for x in companiesInMonth if findCompanyInfo(x.tickerKey,allMonths[index+1]) is not None and findCompanyInfo(x.tickerKey,allMonths[index+1]).currentYield is not None]\n",
    "    companiesInMonth.sort(key=operator.attrgetter(\"rollingAverage\"), reverse=True)\n",
    "    count = math.floor(len(companiesInMonth) / 3) #It might be better to round it up instead of down to increase valid data\n",
    "    for company in companiesInMonth[0:count]:\n",
    "        company.momentum = \"High\"\n",
    "    for company in companiesInMonth[len(companiesInMonth) - count:]:\n",
    "        company.momentum = \"Low\"\n",
    "    for company in companiesInMonth[count:len(companiesInMonth) - count]:\n",
    "        company.momentum = \"Notural\"\n",
    "\n",
    "print ([x for x in getCompaniesInMonth(allMonths[-2]) if x.momentum is not None ][-10:])"
   ]
  },
  {
   "cell_type": "code",
   "execution_count": 19,
   "metadata": {},
   "outputs": [],
   "source": [
    "def avgTriple(first, second, third):\n",
    "    avg = 0\n",
    "    count = 0\n",
    "    if first is not None:\n",
    "        count += 1\n",
    "        avg += first\n",
    "    if second is not None:\n",
    "        count += 1\n",
    "        avg += second\n",
    "    if third is not None:\n",
    "        count += 1\n",
    "        avg += third\n",
    "    if count != 0:\n",
    "        avg /= count\n",
    "    return avg"
   ]
  },
  {
   "cell_type": "markdown",
   "metadata": {},
   "source": [
    "# MomentomFactor factor (MOM)"
   ]
  },
  {
   "cell_type": "code",
   "execution_count": 20,
   "metadata": {},
   "outputs": [
    {
     "name": "stdout",
     "output_type": "stream",
     "text": [
      "{138008: -0.10811388388764293, 138009: 0.1341950241247694, 138010: -0.013236726183325248, 138011: 0.13910395781762366, 138102: 0.05060203706891442, 138103: 0.03578384817674013, 138108: -0.037996426252533994, 138109: -0.06735904449901281, 138110: 0.026328142891619333, 138111: 0.07483217433129774, 138112: -0.00837665618342931, 138201: 0.08962260192987398, 138202: 0.08037159425114951, 138203: 0.16723490774257527, 138204: 0.28573276373668755, 138209: -0.00907953051077276, 138211: -0.04788706726276215, 138212: -0.05245349483114489, 138301: 0.06270642224238937, 138302: -0.13975740186798882, 138303: 0.05211980248889178, 138304: -0.05021346874857735, 138305: 0.3862988174658408, 138306: 0.053370180179440674, 138307: 0.10142182928143467, 138308: -0.22190496010551997, 138309: -0.06717768023290388, 138310: 0.056944150120439546, 138311: -0.06834891751725974, 138401: -0.016928813805789478, 138402: -0.027835700891215176, 138406: 0.044941841134925414, 138407: -0.03838987467089383, 138408: 0.021377424190480027, 138409: 0.09529565598211145, 138410: 0.07196044898969253, 138411: 0.007307686761550683, 138412: 0.21446985313748326, 138501: 0.23770149296746804, 138502: 0.11180639101326822, 138503: 0.12719047595310914, 138504: -0.006395960930253977, 138505: 0.1424467904471512, 138506: -0.03652325145261037, 138511: 0.04028461385736898, 138601: -0.05815616286270969, 138603: 0.007350357544253838, 138604: -0.15277746506005072, 138606: 0.006542900708636168, 138607: 0.00828514477747036, 138608: -0.06321349007401064, 138609: 0.0458673609776612, 138610: -0.014076552279080834, 138611: -0.09417712106967996, 138702: 0.010068786256878747, 138705: -0.009151367570480351, 138706: -0.0025134696234784364, 138707: 0.18785922143526668, 138708: -0.027929545704969368, 138709: 0.01679971652490061, 138710: -0.04279035302037582, 138711: 0.0648640882809521, 138712: 0.06412796033574608, 138801: 0.010068416371801572, 138802: -0.000784021901700134, 138803: -0.1253296719734712, 138804: 0.12533982899909318, 138805: 0.06177869021634537, 138806: 0.042607761818020125, 138807: -0.03411227531865826, 138809: 0.015502557701948028, 138810: 0.10737056279439808, 138811: -0.07693475281368012, 138812: 0.07478819377867606, 138901: 0.024210307957348395, 138902: 0.04670728239880591, 138903: 0.13753031516623554, 138904: 0.11934080754455988, 138905: 0.013312944872601137, 138906: -0.09057428194774705, 138907: -0.021544615418210324, 138908: -0.009740919799986498, 138909: -0.05769732746347547, 138910: -0.01895812927606738, 138911: -0.06897263526816963, 138912: -0.01059162747916928, 139001: 0.01883445704373704, 139002: -0.09625735535505989, 139003: 0.14786257326957958, 139004: 0.23849390350411193, 139005: 0.04896695719039633, 139006: 0.029817893648039558, 139007: -0.08546170931247529, 139008: 0.26701074191704294, 139009: -0.004628403765157694, 139010: -0.06814899199480925, 139011: 0.009151414454493405, 139012: 0.027316189695269503, 139101: 0.09296408637525219, 139102: -0.09754657522280125, 139103: 0.0931921247257074, 139104: 4.157011507378329e-05, 139105: 0.07001044951566726, 139107: 0.06356562927688596, 139108: 0.1354084892903059, 139109: -0.12094898521640356, 139110: -0.030998745909393156, 139111: -0.025616399033534853, 139112: 0.4027852655891805, 139201: -0.08251131050368664, 139202: 0.0069010320935394, 139204: 0.12757424794730898, 139205: 0.04845078198329322, 139206: -0.431866295345546, 139207: -0.11035526716174991, 139208: 0.0901105028014294, 139209: -0.0009116806342366196, 139210: -0.39283053710599053, 139211: 0.1991926409871119, 139301: -0.08794487285051253, 139302: 0.0056719742738731704, 139303: -0.14057155623635287, 139304: 0.02923314027243927, 139305: 0.13419540506940086, 139306: -0.16869801577112886, 139307: 0.29386995880374384, 139309: -0.146202493021285, 139310: -0.0037836845104586014, 139311: 0.029119610170330632, 139312: 0.03900255887864938, 139401: 0.027004482853179686, 139402: -0.09292140750756667, 139403: -0.011364322768119932, 139404: 0.009611066783148443, 139405: 0.031904672434517736, 139406: -0.04706634756207256, 139407: -0.015362483634215371, 139411: 0.7074859223082578, 139412: 0.22220488674666505, 139501: -0.10431407423087279, 139502: -0.0030498582662249127, 139503: 0.05500295020131013, 139504: 0.2120542589342276, 139505: 0.11185430316839981, 139506: 0.10161650318164873, 139507: -0.014356421520151597, 139508: 0.06338048359017022, 139509: 0.07833606201467333, 139510: 0.006812558359299392, 139511: 0.03970003463738405, 139512: -0.12411539656148952, 139601: -0.0617412403675469, 139602: 0.03850456019556074, 139603: 0.09592878791166692, 139604: -0.04353414577435896, 139605: -0.13972241776885033, 139606: 0.013199030708585704, 139607: -0.09904287434541412, 139608: 0.13666975627136707, 139609: 0.10759030273254089, 139610: -0.021421827717283404, 139612: 0.018568454299598205, 139701: -0.03291507251770481, 139702: -0.07492350530642304, 139703: 0.08274610436894166, 139704: 0.01051434237453619, 139705: -0.24772768302438364, 139706: -0.06500141819961736, 139707: -0.03228982296240088, 139708: 0.16771086563225757, 139709: 0.0016931863022363186, 139710: -0.015210145514350223, 139711: 0.18614628572002462, 139712: 0.14646378203577337, 139801: 0.24708489901100245, 139802: 0.07395062380770537, 139803: -0.06411977022210488, 139804: -0.016366318296777288, 139805: -0.06349149221218084, 139807: 0.08658699159300783, 139808: 0.0037645014881651506, 139809: -0.029867985423218696, 139810: 0.06937020040154751, 139811: 0.05362462236513896, 139812: -0.07980605205291191, 139901: -0.27929231660894616, 139902: -0.12173230259617304, 139903: -0.07268476188235204, 139904: 0.008438250559920146, 139905: -0.03913164238922373, 139906: -0.1004663084943686, 139907: -0.010627482605898377, 139908: -0.16396555924894302, 139909: 0.251792964590596, 139910: 0.029808743154851804, 139911: -0.0501585543755661, 139912: 0.07696323953162937, 140001: -0.06601891766392265, 140002: 0.03563191139544135, 140003: -0.08593941397532984}\n"
     ]
    }
   ],
   "source": [
    "\n",
    "\n",
    "MoMFactor = {}\n",
    "\n",
    "for index,month in enumerate(allMonths[:-1]):\n",
    "    # Get companies of corrent month\n",
    "    companiesInMonth = getCompaniesInMonth(month)\n",
    "    # Get companis for these filters SL SH BL BH\n",
    "    SL = [company for company in companiesInMonth if company.size == \"Small\" and company.momentum == \"Low\"]\n",
    "    SH = [company for company in companiesInMonth if company.size == \"Small\" and company.momentum == \"High\"]\n",
    "    BL = [company for company in companiesInMonth if company.size == \"Big\" and company.momentum == \"Low\"]\n",
    "    BH = [company for company in companiesInMonth if company.size == \"Big\" and company.momentum == \"High\"]\n",
    "    # Get companies next month info\n",
    "    BH_nextMonth = [findCompanyInfo(company.tickerKey,allMonths[index+1]) for company in BH]\n",
    "    BL_nextMonth = [findCompanyInfo(company.tickerKey,allMonths[index+1]) for company in BL]\n",
    "    SH_nextMonth = [findCompanyInfo(company.tickerKey,allMonths[index+1]) for company in SH]\n",
    "    SL_nextMonth = [findCompanyInfo(company.tickerKey,allMonths[index+1]) for company in SL]\n",
    "    # Get companies next month currentYield\n",
    "    BH_average = average([x for x in BH_nextMonth if x is not None])\n",
    "    BL_average = average([x for x in BL_nextMonth if x is not None])\n",
    "    SH_average = average([x for x in SH_nextMonth if x is not None])\n",
    "    SL_average = average([x for x in SL_nextMonth if x is not None])\n",
    "    \n",
    "    MoMFactor[month]=avgTriple(SH_average, BH_average,None) - avgTriple(SL_average, BL_average,None)\n",
    "\n",
    "print(MoMFactor)\n"
   ]
  },
  {
   "cell_type": "markdown",
   "metadata": {},
   "source": [
    "# Book to market Calc"
   ]
  },
  {
   "cell_type": "code",
   "execution_count": 21,
   "metadata": {},
   "outputs": [
    {
     "name": "stdout",
     "output_type": "stream",
     "text": [
      "tickerKey:1\t month:138001\t closeAdjust:None\t currentYield:None\t numberOfOutstandingShares:None\t marketcap:None\t b2m:None\t rollingAverage:None\t momentum:None\t size:None\n",
      "\n",
      "tickerKey:1\t month:138002\t closeAdjust:None\t currentYield:None\t numberOfOutstandingShares:None\t marketcap:None\t b2m:None\t rollingAverage:None\t momentum:None\t size:None\n",
      "\n",
      "tickerKey:1\t month:138003\t closeAdjust:None\t currentYield:None\t numberOfOutstandingShares:None\t marketcap:None\t b2m:None\t rollingAverage:None\t momentum:None\t size:None\n",
      "\n",
      "tickerKey:1\t month:138004\t closeAdjust:None\t currentYield:None\t numberOfOutstandingShares:None\t marketcap:None\t b2m:None\t rollingAverage:None\t momentum:None\t size:None\n",
      "\n",
      "tickerKey:1\t month:138005\t closeAdjust:None\t currentYield:None\t numberOfOutstandingShares:None\t marketcap:None\t b2m:None\t rollingAverage:None\t momentum:None\t size:None\n",
      "\n",
      "tickerKey:1\t month:138006\t closeAdjust:None\t currentYield:None\t numberOfOutstandingShares:None\t marketcap:None\t b2m:None\t rollingAverage:None\t momentum:None\t size:None\n",
      "\n",
      "tickerKey:1\t month:138007\t closeAdjust:None\t currentYield:None\t numberOfOutstandingShares:None\t marketcap:None\t b2m:None\t rollingAverage:None\t momentum:None\t size:None\n",
      "\n",
      "tickerKey:1\t month:138008\t closeAdjust:None\t currentYield:None\t numberOfOutstandingShares:None\t marketcap:None\t b2m:None\t rollingAverage:None\t momentum:None\t size:None\n",
      "\n",
      "tickerKey:1\t month:138009\t closeAdjust:None\t currentYield:None\t numberOfOutstandingShares:None\t marketcap:None\t b2m:None\t rollingAverage:None\t momentum:None\t size:None\n",
      "\n",
      "tickerKey:1\t month:138010\t closeAdjust:None\t currentYield:None\t numberOfOutstandingShares:None\t marketcap:None\t b2m:None\t rollingAverage:None\t momentum:None\t size:None\n",
      "\n"
     ]
    }
   ],
   "source": [
    "#  Fill all marketcap based on the last one\n",
    "for companyTicker in companyTickerSet:\n",
    "  for index,month in enumerate(allMonths):\n",
    "    if month not in companyInfoDict[companyTicker]:\n",
    "      firstData:CompanyInfo = companyInfoDict[companyTicker][list(companyInfoDict[companyTicker].keys())[0]]\n",
    "      c = CompanyInfo(companyTicker,firstData.name,month,None,None,None,None,None,None, firstData.sourceSubsectorCode)\n",
    "      if index > 0 and allMonths[index-1] in companyInfoDict[companyTicker]:\n",
    "        c.marketcap = companyInfoDict[companyTicker][allMonths[index-1]].marketcap\n",
    "        c.b2m = companyInfoDict[companyTicker][allMonths[index-1]].b2m\n",
    "        c.inv = companyInfoDict[companyTicker][allMonths[index-1]].inv\n",
    "        c.op = companyInfoDict[companyTicker][allMonths[index-1]].op\n",
    "      companyInfoDict[companyTicker][month] = c\n",
    "  # print(companyInfoDict[companyTicker][139712])\n",
    "\n",
    "for month in sorted(companyInfoDict[1].keys())[:10]:\n",
    "  print(companyInfoDict[1][month])"
   ]
  },
  {
   "cell_type": "code",
   "execution_count": 22,
   "metadata": {},
   "outputs": [],
   "source": [
    "for companyTicker in companyTickerSet:\n",
    "  lastB2MOfTheYear = None\n",
    "  lastINVOfTheYear = None\n",
    "  lastOpOfTheYear = None\n",
    "  for month in allMonths:\n",
    "    if month % 100 == 5:\n",
    "      lastB2MOfTheYear = companyInfoDict[companyTicker][month].b2m\n",
    "      lastINVOfTheYear = companyInfoDict[companyTicker][month].inv\n",
    "      lastOpOfTheYear = companyInfoDict[companyTicker][month].op\n",
    "    companyInfoDict[companyTicker][month].b2m = lastB2MOfTheYear     \n",
    "    companyInfoDict[companyTicker][month].inv = lastINVOfTheYear     \n",
    "    companyInfoDict[companyTicker][month].op = lastOpOfTheYear     \n",
    "\n"
   ]
  },
  {
   "cell_type": "code",
   "execution_count": 23,
   "metadata": {},
   "outputs": [],
   "source": [
    "# for month in sorted(companyInfoDict[1].keys())[:10]:\n",
    "#   print(companyInfoDict[9][month])"
   ]
  },
  {
   "cell_type": "code",
   "execution_count": 24,
   "metadata": {},
   "outputs": [],
   "source": [
    "# Book To market ranking\n",
    "\n",
    "for month in allMonths:\n",
    "  b2mMonthList = []\n",
    "  for companyTicker in companyTickerSet:\n",
    "    if companyInfoDict[companyTicker][month].b2m == None:\n",
    "      continue\n",
    "    if companyInfoDict[companyTicker][month].currentYield == None:\n",
    "      continue\n",
    "    b2mMonthList.append(companyInfoDict[companyTicker][month].b2m)\n",
    "  if len(b2mMonthList) == 0 :\n",
    "    continue\n",
    "  b2mMonthList.sort()\n",
    "  # print(len(b2mMonthList),int(len(b2mMonthList)*0.3))\n",
    "  lowBookToMarket = b2mMonthList[int(len(b2mMonthList)*0.3)]\n",
    "  highBookToMarket = b2mMonthList[int(-len(b2mMonthList)*0.3)]\n",
    "\n",
    "  for companyTicker in companyTickerSet:\n",
    "    if companyInfoDict[companyTicker][month].b2m == None:\n",
    "      continue\n",
    "    if companyInfoDict[companyTicker][month].currentYield == None:\n",
    "      continue\n",
    "    if companyInfoDict[companyTicker][month].b2m <= lowBookToMarket:\n",
    "      companyInfoDict[companyTicker][month].BperMSize = \"Low\"\n",
    "    elif companyInfoDict[companyTicker][month].b2m >= highBookToMarket:\n",
    "      companyInfoDict[companyTicker][month].BperMSize = \"High\"\n",
    "    else:\n",
    "      companyInfoDict[companyTicker][month].BperMSize = \"Neutral\"\n",
    "\n"
   ]
  },
  {
   "cell_type": "code",
   "execution_count": 25,
   "metadata": {},
   "outputs": [],
   "source": [
    "# RMW (Operational profit) ranking\n",
    "\n",
    "for month in allMonths:\n",
    "  dataMonthList = []\n",
    "  for companyTicker in companyTickerSet:\n",
    "    if companyInfoDict[companyTicker][month].op == None:\n",
    "      continue\n",
    "    if companyInfoDict[companyTicker][month].currentYield == None:\n",
    "      continue\n",
    "    dataMonthList.append(companyInfoDict[companyTicker][month].op)\n",
    "  if len(dataMonthList) == 0 :\n",
    "    continue\n",
    "  dataMonthList.sort()\n",
    "  # print(len(dataMonthList),int(len(dataMonthList)*0.3))\n",
    "  weakValue = dataMonthList[int(len(dataMonthList)*0.3)]\n",
    "  robustValue = dataMonthList[int(-len(dataMonthList)*0.3)]\n",
    "  # if month == 139902:\n",
    "  #   print(dataMonthList)\n",
    "  for companyTicker in companyTickerSet:\n",
    "    if companyInfoDict[companyTicker][month].op == None:\n",
    "      continue\n",
    "    if companyInfoDict[companyTicker][month].currentYield == None:\n",
    "      continue\n",
    "    if companyInfoDict[companyTicker][month].op <= weakValue:\n",
    "      companyInfoDict[companyTicker][month].RMWSize = \"Weak\"\n",
    "    elif companyInfoDict[companyTicker][month].op >= robustValue:\n",
    "      companyInfoDict[companyTicker][month].RMWSize = \"Robust\"\n",
    "    else:\n",
    "      companyInfoDict[companyTicker][month].RMWSize = \"Neutral\""
   ]
  },
  {
   "cell_type": "code",
   "execution_count": 26,
   "metadata": {},
   "outputs": [
    {
     "name": "stdout",
     "output_type": "stream",
     "text": [
      "Neutral\n",
      "Neutral\n",
      "Weak\n",
      "Neutral\n",
      "Robust\n",
      "Weak\n",
      "Weak\n",
      "Robust\n",
      "Robust\n",
      "Neutral\n"
     ]
    }
   ],
   "source": [
    "\n",
    "for companyTicker in companyTickerSet[:10]:\n",
    "  print(companyInfoDict[companyTicker][139807].RMWSize)"
   ]
  },
  {
   "cell_type": "code",
   "execution_count": 27,
   "metadata": {},
   "outputs": [],
   "source": [
    "# CMA (Investment) ranking\n",
    "\n",
    "for month in allMonths:\n",
    "  dataMonthList = []\n",
    "  for companyTicker in companyTickerSet:\n",
    "    if companyInfoDict[companyTicker][month].inv == None:\n",
    "      continue\n",
    "    if companyInfoDict[companyTicker][month].currentYield == None:\n",
    "      continue    \n",
    "    dataMonthList.append(companyInfoDict[companyTicker][month].inv)\n",
    "  if len(dataMonthList) == 0 :\n",
    "    continue\n",
    "  dataMonthList.sort()\n",
    "  # print(len(dataMonthList),int(len(dataMonthList)*0.3))\n",
    "  weakValue = dataMonthList[int(len(dataMonthList)*0.3)]\n",
    "  robustValue = dataMonthList[int(-len(dataMonthList)*0.3)]\n",
    "  # if month == 139902:\n",
    "  #   print(dataMonthList)\n",
    "  for companyTicker in companyTickerSet:\n",
    "    if companyInfoDict[companyTicker][month].inv == None:\n",
    "      continue\n",
    "    if companyInfoDict[companyTicker][month].currentYield == None:\n",
    "      continue\n",
    "    if companyInfoDict[companyTicker][month].inv <= weakValue:\n",
    "      companyInfoDict[companyTicker][month].CMASize = \"Conservative\"\n",
    "    elif companyInfoDict[companyTicker][month].inv >= robustValue:\n",
    "      companyInfoDict[companyTicker][month].CMASize = \"Aggressive\"\n",
    "    else:\n",
    "      companyInfoDict[companyTicker][month].CMASize = \"Neutral\""
   ]
  },
  {
   "cell_type": "code",
   "execution_count": 28,
   "metadata": {},
   "outputs": [],
   "source": [
    "def getNextMonth(currentMonth):\n",
    "  return allMonths[allMonths.index(currentMonth)+1]\n",
    "\n",
    "def getNextMonthCompaniesHavingYeild(companyInfoList):\n",
    "  response = []\n",
    "  for companyInfo in companyInfoList:\n",
    "    nextMoonth = companyInfoDict[companyInfo.tickerKey][getNextMonth(companyInfo.month)]\n",
    "    if nextMoonth.currentYield != None:\n",
    "      response.append(nextMoonth)\n",
    "  return response\n"
   ]
  },
  {
   "cell_type": "code",
   "execution_count": 29,
   "metadata": {},
   "outputs": [
    {
     "name": "stdout",
     "output_type": "stream",
     "text": [
      "0\n",
      "0\n",
      "0\n",
      "0\n",
      "0\n",
      "0\n",
      "0.004205131873668888\n",
      "0.08140214208484109\n",
      "0.01324088148787228\n",
      "-0.07933831973756245\n"
     ]
    }
   ],
   "source": [
    "HMLFactor = {}\n",
    "SMBBTMFactor = {}\n",
    "for month in allMonths[:-1]:\n",
    "  SH = [companyInfoDict[companyTicker][month] for companyTicker in companyTickerSet if companyInfoDict[companyTicker][month].BperMSize == \"High\" and \\\n",
    "        companyInfoDict[companyTicker][month].size == \"Small\"]\n",
    "  SN = [companyInfoDict[companyTicker][month] for companyTicker in companyTickerSet if companyInfoDict[companyTicker][month].BperMSize == \"Neutral\" and \\\n",
    "        companyInfoDict[companyTicker][month].size == \"Small\"]\n",
    "  SL = [companyInfoDict[companyTicker][month] for companyTicker in companyTickerSet if companyInfoDict[companyTicker][month].BperMSize == \"Low\" and \\\n",
    "        companyInfoDict[companyTicker][month].size == \"Small\"]\n",
    "  BH = [companyInfoDict[companyTicker][month] for companyTicker in companyTickerSet if companyInfoDict[companyTicker][month].BperMSize == \"High\" and \\\n",
    "        companyInfoDict[companyTicker][month].size == \"Big\"]\n",
    "  BN = [companyInfoDict[companyTicker][month] for companyTicker in companyTickerSet if companyInfoDict[companyTicker][month].BperMSize == \"Neutral\" and \\\n",
    "        companyInfoDict[companyTicker][month].size == \"Big\"]\n",
    "  BL = [companyInfoDict[companyTicker][month] for companyTicker in companyTickerSet if companyInfoDict[companyTicker][month].BperMSize == \"Low\" and \\\n",
    "        companyInfoDict[companyTicker][month].size == \"Big\"]\n",
    "  \n",
    "  \n",
    "  SH_average = average(getNextMonthCompaniesHavingYeild(SH))\n",
    "  SN_average = average(getNextMonthCompaniesHavingYeild(SN))\n",
    "  SL_average = average(getNextMonthCompaniesHavingYeild(SL))\n",
    "  BH_average = average(getNextMonthCompaniesHavingYeild(BH))\n",
    "  BN_average = average(getNextMonthCompaniesHavingYeild(BN))\n",
    "  BL_average = average(getNextMonthCompaniesHavingYeild(BL))\n",
    "  \n",
    "  SMBBTMFactor[month] = avgTriple(SH_average,SN_average,SL_average) - avgTriple(BH_average, BN_average, BL_average)\n",
    "  HMLFactor[month] = avgTriple(SH_average, BH_average,None)  - avgTriple(SL_average , BL_average,None)\n",
    "for month in list(HMLFactor.keys())[:10]:\n",
    "  print(HMLFactor[month])"
   ]
  },
  {
   "cell_type": "code",
   "execution_count": 30,
   "metadata": {},
   "outputs": [
    {
     "name": "stdout",
     "output_type": "stream",
     "text": [
      "0\n",
      "0\n",
      "0\n",
      "0\n",
      "0\n",
      "0\n",
      "-0.04682343234323416\n",
      "-0.009608016504568329\n",
      "0.024896265560165998\n",
      "0.053518044899119044\n"
     ]
    }
   ],
   "source": [
    "RMWFactor = {}\n",
    "SMBRMWFactor = {}\n",
    "for month in allMonths[:-1]:\n",
    "  SR = [companyInfoDict[companyTicker][month] for companyTicker in companyTickerSet if companyInfoDict[companyTicker][month].RMWSize == \"Robust\" and \\\n",
    "        companyInfoDict[companyTicker][month].size == \"Small\"]\n",
    "  SN = [companyInfoDict[companyTicker][month] for companyTicker in companyTickerSet if companyInfoDict[companyTicker][month].RMWSize == \"Neutral\" and \\\n",
    "        companyInfoDict[companyTicker][month].size == \"Small\"]\n",
    "  SW = [companyInfoDict[companyTicker][month] for companyTicker in companyTickerSet if companyInfoDict[companyTicker][month].RMWSize == \"Weak\" and \\\n",
    "        companyInfoDict[companyTicker][month].size == \"Small\"]\n",
    "  BR = [companyInfoDict[companyTicker][month] for companyTicker in companyTickerSet if companyInfoDict[companyTicker][month].RMWSize == \"Robust\" and \\\n",
    "        companyInfoDict[companyTicker][month].size == \"Big\"]\n",
    "  BN = [companyInfoDict[companyTicker][month] for companyTicker in companyTickerSet if companyInfoDict[companyTicker][month].RMWSize == \"Neutral\" and \\\n",
    "        companyInfoDict[companyTicker][month].size == \"Big\"]\n",
    "  BW = [companyInfoDict[companyTicker][month] for companyTicker in companyTickerSet if companyInfoDict[companyTicker][month].RMWSize == \"Weak\" and \\\n",
    "        companyInfoDict[companyTicker][month].size == \"Big\"]\n",
    "  \n",
    "  SR_average = average(getNextMonthCompaniesHavingYeild(SR))\n",
    "  SN_average = average(getNextMonthCompaniesHavingYeild(SN))\n",
    "  SW_average = average(getNextMonthCompaniesHavingYeild(SW))\n",
    "  BR_average = average(getNextMonthCompaniesHavingYeild(BR))\n",
    "  BN_average = average(getNextMonthCompaniesHavingYeild(BN))\n",
    "  BW_average = average(getNextMonthCompaniesHavingYeild(BW))\n",
    "\n",
    "  SMBRMWFactor[month] = avgTriple(SR_average , SN_average, SW_average) - avgTriple(BR_average, BN_average, BW_average)\n",
    "  RMWFactor[month] = avgTriple(SR_average, BW_average,None) - avgTriple(SW_average, BW_average,None)\n",
    "for month in list(RMWFactor.keys())[:10]:\n",
    "  print(RMWFactor[month])"
   ]
  },
  {
   "cell_type": "code",
   "execution_count": 31,
   "metadata": {},
   "outputs": [
    {
     "name": "stdout",
     "output_type": "stream",
     "text": [
      "0\n",
      "0\n",
      "0\n",
      "0\n",
      "0\n",
      "0\n",
      "-0.004205131873668888\n",
      "-0.08140214208484109\n",
      "-0.01324088148787228\n",
      "0.07933831973756245\n"
     ]
    }
   ],
   "source": [
    "CMAFactor = {}\n",
    "SMBCMAFactor = {}\n",
    "for month in allMonths[:-1]:\n",
    "  SA = [companyInfoDict[companyTicker][month] for companyTicker in companyTickerSet if companyInfoDict[companyTicker][month].CMASize == \"Aggressive\" and \\\n",
    "        companyInfoDict[companyTicker][month].size == \"Small\"]\n",
    "  SN = [companyInfoDict[companyTicker][month] for companyTicker in companyTickerSet if companyInfoDict[companyTicker][month].CMASize == \"Neutral\" and \\\n",
    "        companyInfoDict[companyTicker][month].size == \"Small\"]\n",
    "  SC = [companyInfoDict[companyTicker][month] for companyTicker in companyTickerSet if companyInfoDict[companyTicker][month].CMASize == \"Conservative\" and \\\n",
    "        companyInfoDict[companyTicker][month].size == \"Small\"]\n",
    "  BA = [companyInfoDict[companyTicker][month] for companyTicker in companyTickerSet if companyInfoDict[companyTicker][month].CMASize == \"Aggressive\" and \\\n",
    "        companyInfoDict[companyTicker][month].size == \"Big\"]\n",
    "  BN = [companyInfoDict[companyTicker][month] for companyTicker in companyTickerSet if companyInfoDict[companyTicker][month].CMASize == \"Neutral\" and \\\n",
    "        companyInfoDict[companyTicker][month].size == \"Big\"]\n",
    "  BC = [companyInfoDict[companyTicker][month] for companyTicker in companyTickerSet if companyInfoDict[companyTicker][month].CMASize == \"Conservative\" and \\\n",
    "        companyInfoDict[companyTicker][month].size == \"Big\"]\n",
    "  \n",
    "  SA_average = average(getNextMonthCompaniesHavingYeild(SA))\n",
    "  SN_average = average(getNextMonthCompaniesHavingYeild(SN))\n",
    "  SC_average = average(getNextMonthCompaniesHavingYeild(SC))\n",
    "  BA_average = average(getNextMonthCompaniesHavingYeild(BA))\n",
    "  BN_average = average(getNextMonthCompaniesHavingYeild(BN))\n",
    "  BC_average = average(getNextMonthCompaniesHavingYeild(BC))\n",
    "\n",
    "  SMBCMAFactor[month] = avgTriple(SA_average, SN_average, SC_average) - avgTriple(BA_average, BN_average, BC_average)\n",
    "  CMAFactor[month] = avgTriple(SC_average, BC_average,None)  - avgTriple(SA_average, BA_average,None)\n",
    "for month in list(CMAFactor.keys())[:10]:\n",
    "  print(CMAFactor[month])"
   ]
  },
  {
   "cell_type": "code",
   "execution_count": 32,
   "metadata": {},
   "outputs": [],
   "source": [
    "SMBFactor = {}\n",
    "for month in SMBBTMFactor.keys():\n",
    "  SMBFactor[month] = (SMBBTMFactor[month] + SMBCMAFactor[month] + SMBRMWFactor[month]) / 3\n"
   ]
  },
  {
   "cell_type": "markdown",
   "metadata": {},
   "source": [
    "# Export company list to excel"
   ]
  },
  {
   "cell_type": "code",
   "execution_count": 33,
   "metadata": {},
   "outputs": [],
   "source": [
    "# Example to excel function\n",
    "exportCompanyListToExcel(\"calculations\")"
   ]
  },
  {
   "cell_type": "code",
   "execution_count": 34,
   "metadata": {},
   "outputs": [],
   "source": [
    "# Factors to excel\n",
    "rows = []\n",
    "for month in allMonths:\n",
    "     rows.append([\n",
    "       month,\n",
    "       SMBFactor[month] if month in SMBFactor else None,\n",
    "       HMLFactor[month] if month in HMLFactor else None,\n",
    "       RMWFactor[month] if month in RMWFactor else None,\n",
    "       CMAFactor[month] if month in CMAFactor else None,\n",
    "       MoMFactor[month] if month in MoMFactor else None,\n",
    "     ])\n",
    "dfOut = pd.DataFrame(rows, columns=['month',\"SMBFactor\", \"HMLFactor\", \"RMWFactor\", \"CMAFactor\", \"MoMFactor\"])\n",
    "dfOut.to_excel('Factors.xlsx', sheet_name='Factors')"
   ]
  }
 ],
 "metadata": {
  "interpreter": {
   "hash": "31f2aee4e71d21fbe5cf8b01ff0e069b9275f58929596ceb00d14d90e3e16cd6"
  },
  "kernelspec": {
   "display_name": "Python 3.8.10 64-bit",
   "name": "python3"
  },
  "language_info": {
   "codemirror_mode": {
    "name": "ipython",
    "version": 3
   },
   "file_extension": ".py",
   "mimetype": "text/x-python",
   "name": "python",
   "nbconvert_exporter": "python",
   "pygments_lexer": "ipython3",
   "version": "3.8.10"
  },
  "orig_nbformat": 4
 },
 "nbformat": 4,
 "nbformat_minor": 2
}
