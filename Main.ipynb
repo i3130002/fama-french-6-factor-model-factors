{
 "cells": [
  {
   "cell_type": "markdown",
   "metadata": {},
   "source": [
    "# Prepare excel read with pandas"
   ]
  },
  {
   "cell_type": "code",
   "execution_count": 34,
   "metadata": {},
   "outputs": [],
   "source": [
    "import pandas as pd\n",
    "# data = pd.read_excel(r'monthly_market_data - Copy.xlsx')\n",
    "data = pd.read_excel(r'monthly market data.xlsx')\n",
    "\n",
    "# print(data)\n"
   ]
  },
  {
   "cell_type": "markdown",
   "metadata": {},
   "source": [
    "# Read Excel to memnory and create classes"
   ]
  },
  {
   "cell_type": "code",
   "execution_count": 35,
   "metadata": {},
   "outputs": [],
   "source": [
    "import operator\n",
    "\n",
    "class CompanyInfo:\n",
    "    def __init__(self, tickerKey, name, month,numberOfOutstandingShares, marketcap,b2m, adjClose,inv,op,sourceSubsectorCode\n",
    "):\n",
    "        self.tickerKey = tickerKey\n",
    "        self.name = name\n",
    "        self.month = month\n",
    "        self.rollingAverage = None\n",
    "        self.numberOfOutstandingShares = numberOfOutstandingShares if not pd.isnull(numberOfOutstandingShares) else None\n",
    "        self.marketcap = marketcap if not pd.isnull(marketcap) else None\n",
    "        self.b2m = b2m if not pd.isnull(b2m) else None\n",
    "        self.closeAdjust = adjClose\n",
    "        self.momentum = None\n",
    "        self.size = None\n",
    "        self.RMWSize = None\n",
    "        self.CMASize = None\n",
    "        self.BperMSize = None\n",
    "        self.currentYield = None\n",
    "        self.inv = inv if not pd.isnull(inv) else None\n",
    "        self.op = op if not pd.isnull(op) else None\n",
    "        self.sourceSubsectorCode = sourceSubsectorCode\n",
    "\n",
    "\n",
    "    def __repr__(self):\n",
    "         return self.__str__()\n",
    "\n",
    "    def __str__(self):\n",
    "        return \"tickerKey:\"+str(self.tickerKey) + \\\n",
    "            \"\\t month:\" + str(self.month) + \\\n",
    "            \"\\t closeAdjust:\" + str(self.closeAdjust) + \\\n",
    "            \"\\t currentYield:\" + str(self.currentYield) + \\\n",
    "            \"\\t numberOfOutstandingShares:\" + str(self.numberOfOutstandingShares) + \\\n",
    "            \"\\t marketcap:\" + str(self.marketcap) + \\\n",
    "            \"\\t b2m:\" + str(self.b2m) + \\\n",
    "            \"\\t rollingAverage:\" + str(self.rollingAverage) + \\\n",
    "            \"\\t momentum:\" + str(self.momentum) + \\\n",
    "            \"\\t size:\" + str(self.size)+\"\\n\"\n",
    "\n",
    "    def convertToList(self):\n",
    "      return [getattr(self,atr) for atr in self.__dict__]\n",
    "\n",
    "\n",
    "companyInfoDict  = {}\n",
    "def addCompanyInfoToList(companyInfo:CompanyInfo):\n",
    "    if companyInfo.tickerKey not in companyInfoDict:\n",
    "      companyInfoDict[companyInfo.tickerKey]={}\n",
    "    if companyInfo.month not in companyInfoDict[companyInfo.tickerKey]:\n",
    "      companyInfoDict[companyInfo.tickerKey][companyInfo.month]=companyInfo\n",
    "    else:\n",
    "      raise Exception(\"Company info exists.\" + str(companyInfo))\n",
    "\n",
    "def findCompanyInfo(tickerKey, month):\n",
    "    if tickerKey in companyInfoDict and month in companyInfoDict[tickerKey]:\n",
    "      return companyInfoDict[tickerKey][month]\n",
    "    return None\n",
    "\n",
    "def displayCompanyInfoHeader():\n",
    "  for tickerKey in companyInfoDict.keys():\n",
    "      for month in companyInfoDict[tickerKey].keys():\n",
    "        company:CompanyInfo = findCompanyInfo(tickerKey,month)\n",
    "        if company is None:\n",
    "          continue\n",
    "        attrs = []\n",
    "        for attribute in vars(company):\n",
    "          attrs.append(attribute)\n",
    "        print(attrs)\n",
    "        return\n",
    "\n",
    "def displayCompanyInfo(tickerKeys:list,months:list):\n",
    "    displayCompanyInfoHeader()\n",
    "    for tickerKey in tickerKeys:\n",
    "      sortedMonths = sorted(months)\n",
    "      for month in sortedMonths:\n",
    "        company:CompanyInfo = findCompanyInfo(tickerKey,month)\n",
    "        if company is None:\n",
    "          continue\n",
    "        print(company.convertToList())\n",
    "\n",
    "allMonths = []\n",
    "\n",
    "\n",
    "for i, companyInfoPandas in data.iterrows():\n",
    "    ci = CompanyInfo(tickerKey=companyInfoPandas[\"TickerKey\"],\n",
    "                                       name=companyInfoPandas[\"TickerNamePooyaFA\"],\n",
    "                                       month=companyInfoPandas[\"DayKeyFA\"]// 100,\n",
    "                                       numberOfOutstandingShares=companyInfoPandas[\"NumberOfOutstandingShares\"],\n",
    "                                       marketcap=companyInfoPandas[\"marketcap\"],\n",
    "                                       b2m=companyInfoPandas[\"B2M\"],\n",
    "                                       adjClose=companyInfoPandas[\"AdjClose\"],\n",
    "                                       inv=companyInfoPandas[\"INV\"],\n",
    "                                       op=companyInfoPandas[\"OP\"],\n",
    "                                       sourceSubsectorCode=companyInfoPandas[\"SourceSubsectorCode\"],\n",
    "                                       )\n",
    "    addCompanyInfoToList(ci)\n",
    "    allMonths.append(ci.month)\n",
    "\n",
    "allMonths = list(set(allMonths))\n",
    "allMonths.sort()\n"
   ]
  },
  {
   "cell_type": "code",
   "execution_count": 36,
   "metadata": {},
   "outputs": [],
   "source": [
    "# companies to excel\n",
    "def exportCompanyListToExcel(excelFileName):\n",
    "  rows = []\n",
    "  for company in companyInfoDict.keys():\n",
    "    for month in sorted(companyInfoDict[company].keys()):\n",
    "      rows.append(companyInfoDict[company][month].convertToList())\n",
    "\n",
    "  company_ = None\n",
    "  for tickerKey in companyInfoDict.keys():\n",
    "      for month in sorted(companyInfoDict[company].keys()):\n",
    "        company:CompanyInfo = findCompanyInfo(tickerKey,month)\n",
    "        if company is None:\n",
    "          continue\n",
    "        company_ = company\n",
    "        break\n",
    "      if company_ is not None:\n",
    "        break\n",
    "  dfOut = pd.DataFrame(rows,columns=company_.__dict__)\n",
    "  dfOut.to_excel(excelFileName+'.xlsx', sheet_name='TMPExport')"
   ]
  },
  {
   "cell_type": "markdown",
   "metadata": {},
   "source": [
    "# Dict access sample and test"
   ]
  },
  {
   "cell_type": "code",
   "execution_count": 37,
   "metadata": {},
   "outputs": [
    {
     "name": "stdout",
     "output_type": "stream",
     "text": [
      "[1, 9, 10, 219, 223, 231, 234, 239, 243, 247]\n",
      "[139712, 139801, 139802, 139803, 139804, 139805, 139806, 139807, 139808, 139809]\n",
      "tickerKey:1\t month:139712\t closeAdjust:802.5232992867204\t currentYield:None\t numberOfOutstandingShares:3000000000.0\t marketcap:4959000000000.0\t b2m:1.2906721802\t rollingAverage:None\t momentum:None\t size:None\n",
      "\n"
     ]
    }
   ],
   "source": [
    "print(list(companyInfoDict.keys())[:10])\n",
    "print(list(companyInfoDict[1].keys())[:10])\n",
    "print(companyInfoDict[1][139712])\n"
   ]
  },
  {
   "cell_type": "markdown",
   "metadata": {},
   "source": [
    "# Extract company names"
   ]
  },
  {
   "cell_type": "code",
   "execution_count": 38,
   "metadata": {},
   "outputs": [
    {
     "name": "stdout",
     "output_type": "stream",
     "text": [
      "[1, 9, 10, 219, 223, 231, 234, 239, 243, 247, 251, 255, 259, 263, 267, 271, 275, 279, 283, 287, 291, 295, 301, 303, 307, 311, 315, 320, 323, 327, 336, 340, 344, 347, 350, 355, 359, 363, 370, 375, 378, 383, 389, 395, 398, 403, 406, 411, 414, 422, 423, 430, 432, 434, 438, 446, 447, 450, 454, 458, 463, 466, 474, 475, 478, 483, 487, 490, 494, 499, 502, 510, 511, 515, 517, 526, 527, 534, 538, 547, 550, 558, 559, 563, 566, 574, 575, 578, 583, 587, 591, 599, 603, 607, 610, 615, 622, 627, 631, 635, 640, 646, 647, 654, 655, 659, 662, 667, 670, 675, 680, 687, 689, 698, 708, 711, 718, 724, 725, 731, 733, 743, 744, 747, 751, 754, 759, 762, 767, 772, 774, 779, 786, 787, 791, 794, 798, 801, 807, 810, 815, 820, 822, 827, 839, 842, 847, 852, 855, 863, 866, 871, 875, 879, 883, 887, 890, 893, 899, 902, 908, 909, 915, 922, 931, 935, 939, 943, 947, 951, 955, 958, 965, 968, 969, 981, 985, 990, 993, 1003, 1010, 1013, 1020, 1028, 1032, 1033, 1041, 1044, 1048, 1053, 1059, 1064, 1068, 1074, 1077, 1084, 1088, 1093, 1099, 1101, 1106, 1109, 1110, 1117, 1120, 1125, 1133, 1137, 1141, 1144, 1149, 1152, 1157, 1161, 1169, 1174, 1177, 1180, 1185, 1187, 1193, 1197, 1200, 1205, 1211, 1214, 1215, 1222, 1224, 1226, 1233, 1235, 1242, 1247, 1252, 1256, 1261, 1265, 1269, 1273, 1281, 1283, 1284, 1288, 1297, 1301, 1304, 1310, 1315, 1318, 1323, 1331, 1333, 1335, 1338, 1345, 1349, 1354, 1356, 1364, 1366, 1369, 1373, 1376, 1380, 1387, 1389, 1394, 1397, 1401, 1405, 1413, 1417, 1421, 1424, 1430, 1433, 1436, 1444, 1452, 1455, 1458, 1459, 1465, 1468, 1473, 1477, 1481, 1493, 1499, 1505, 1509, 1512, 1517, 1524, 1525, 1529, 1536, 1537, 1544, 1549, 1553, 1565, 1567, 1573, 1577, 1584, 1590, 1603, 1609, 1614, 1617, 1780, 1783, 1789, 1801, 1803, 1813, 1823, 1828, 1836, 1848, 1857, 1865, 1867, 1872, 1905, 2080, 2137, 2139, 2215, 2511, 2521, 2535, 2551, 2583, 2632, 2682, 2728, 2742, 2745, 2769, 2777, 2785, 2788, 2801, 2817, 2823, 2843, 2845, 2858, 2903, 2908, 2935, 2956, 2969, 2978, 3003, 3006, 3019, 3055, 3081, 3091, 3093, 4711, 4726, 4734, 4742, 4827, 4892, 5450, 5454, 5475, 5530, 5574, 5597, 5603, 5621, 5623, 5640, 74108, 74132, 74138, 74151, 74153, 74156, 74165, 74167, 74185, 74238, 74294, 74311, 74315, 74418, 74450, 74516, 74536, 74546, 74587, 74605, 74637, 74642, 74652, 74672, 74699, 74722, 74753, 74769, 74888, 74896, 74912, 74918, 74927, 74935, 74975, 74978, 74995, 75039, 75247, 75251, 75329, 75338, 75406, 75418, 75431, 75438, 75449, 75470, 75546, 75585, 75616, 75646, 75686, 75706, 75734, 75809, 75884, 75889, 75986, 75993, 76002, 76034, 76074, 76178, 76222, 76298, 76383, 76391, 76527, 77226, 78553, 78680, 78797, 78873, 78897, 78937, 79045, 79065, 79570, 79581, 79585, 79665, 79685, 79985, 80158, 80299, 80375, 80427, 80702, 81089, 81109, 81130, 81246, 81474, 82566, 82570, 82574, 82734, 83218, 83474, 83478, 83594, 83762, 85342, 85346, 85362, 85451, 85595, 85731, 85843, 86487, 86499, 86503, 86507, 86511, 86515, 86547, 86949, 87002, 87103, 87793, 89401, 90391, 90394, 90606, 90926, 91218, 91586, 91594, 92266, 92294, 92405, 93470, 93649, 94054, 94330, 94807, 96077, 96140, 96181, 96324, 96325, 96335, 96338, 96516, 96604, 96813, 99626, 100743, 101001, 101021, 101033, 101060, 101294, 101872, 102007, 102543, 102749, 102799, 102926, 102971, 103015, 103025, 103036, 103039, 103046, 103049, 103064, 103065, 103067, 103069, 103076, 103082, 103084, 103093, 103095, 103124, 103130, 103134, 103139, 103143, 103145, 103150, 103154, 103155, 103156, 103164, 103197, 103315, 103316, 103318, 103681, 103742, 104894, 104898, 104978, 105479, 105638, 105765, 105828, 106325, 106470, 106643, 107059, 107696, 107874, 108032]\n"
     ]
    }
   ],
   "source": [
    "companyTickerSet = list(companyInfoDict.keys())\n",
    "print(companyTickerSet)\n"
   ]
  },
  {
   "cell_type": "markdown",
   "metadata": {},
   "source": [
    "# Extract company months"
   ]
  },
  {
   "cell_type": "code",
   "execution_count": 39,
   "metadata": {},
   "outputs": [
    {
     "name": "stdout",
     "output_type": "stream",
     "text": [
      "[138001, 138002, 138003, 138004, 138005, 138006, 138007, 138008, 138009, 138010, 138011, 138012, 138101, 138102, 138103, 138104, 138105, 138106, 138107, 138108, 138109, 138110, 138111, 138112, 138201, 138202, 138203, 138204, 138205, 138206, 138207, 138208, 138209, 138210, 138211, 138212, 138301, 138302, 138303, 138304, 138305, 138306, 138307, 138308, 138309, 138310, 138311, 138312, 138401, 138402, 138403, 138404, 138405, 138406, 138407, 138408, 138409, 138410, 138411, 138412, 138501, 138502, 138503, 138504, 138505, 138506, 138507, 138508, 138509, 138510, 138511, 138512, 138601, 138602, 138603, 138604, 138605, 138606, 138607, 138608, 138609, 138610, 138611, 138612, 138701, 138702, 138703, 138704, 138705, 138706, 138707, 138708, 138709, 138710, 138711, 138712, 138801, 138802, 138803, 138804, 138805, 138806, 138807, 138808, 138809, 138810, 138811, 138812, 138901, 138902, 138903, 138904, 138905, 138906, 138907, 138908, 138909, 138910, 138911, 138912, 139001, 139002, 139003, 139004, 139005, 139006, 139007, 139008, 139009, 139010, 139011, 139012, 139101, 139102, 139103, 139104, 139105, 139106, 139107, 139108, 139109, 139110, 139111, 139112, 139201, 139202, 139203, 139204, 139205, 139206, 139207, 139208, 139209, 139210, 139211, 139212, 139301, 139302, 139303, 139304, 139305, 139306, 139307, 139308, 139309, 139310, 139311, 139312, 139401, 139402, 139403, 139404, 139405, 139406, 139407, 139408, 139409, 139410, 139411, 139412, 139501, 139502, 139503, 139504, 139505, 139506, 139507, 139508, 139509, 139510, 139511, 139512, 139601, 139602, 139603, 139604, 139605, 139606, 139607, 139608, 139609, 139610, 139611, 139612, 139701, 139702, 139703, 139704, 139705, 139706, 139707, 139708, 139709, 139710, 139711, 139712, 139801, 139802, 139803, 139804, 139805, 139806, 139807, 139808, 139809, 139810, 139811, 139812, 139901, 139902, 139903, 139904, 139905, 139906, 139907, 139908, 139909, 139910, 139911, 139912, 140001, 140002, 140003, 140004]\n",
      "Total: 244\n"
     ]
    }
   ],
   "source": [
    "print(allMonths)\n",
    "print(\"Total:\",len(allMonths))"
   ]
  },
  {
   "cell_type": "code",
   "execution_count": 40,
   "metadata": {},
   "outputs": [
    {
     "name": "stdout",
     "output_type": "stream",
     "text": [
      "['tickerKey', 'name', 'month', 'rollingAverage', 'numberOfOutstandingShares', 'marketcap', 'b2m', 'closeAdjust', 'momentum', 'size', 'RMWSize', 'CMASize', 'BperMSize', 'currentYield', 'inv', 'op', 'sourceSubsectorCode']\n",
      "[9, 'پاکسان\\u200c', 138001, None, 90000000.0, 460800000000.0, 4.9385362299, 10.282307670219264, None, None, None, None, None, None, 0.8095322274960436, 0.29584800863123173, 4424]\n",
      "[9, 'پاکسان\\u200c', 138002, None, 90000000.0, 481500000000.0, 5.1603845371, 10.744208210092395, None, None, None, None, None, None, 0.9470740522344644, 0.12900261418635073, 4424]\n",
      "[9, 'پاکسان\\u200c', 138003, None, 90000000.0, 494910000000.0, 5.3041036578, 11.043439429401511, None, None, None, None, None, None, 0.3608801681067647, 0.8296664347356032, 4424]\n"
     ]
    }
   ],
   "source": [
    "displayCompanyInfo(companyTickerSet[:3],allMonths[:3])"
   ]
  },
  {
   "cell_type": "markdown",
   "metadata": {},
   "source": [
    "# Fill missing close adjust"
   ]
  },
  {
   "cell_type": "code",
   "execution_count": 45,
   "metadata": {},
   "outputs": [
    {
     "name": "stdout",
     "output_type": "stream",
     "text": [
      "None privuse marketcap tickerKey:2511\t month:138608\t closeAdjust:306.273415\t currentYield:None\t numberOfOutstandingShares:None\t marketcap:None\t b2m:None\t rollingAverage:None\t momentum:None\t size:None\n",
      "\n",
      "None privuse marketcap tickerKey:2511\t month:139004\t closeAdjust:281.955124\t currentYield:None\t numberOfOutstandingShares:None\t marketcap:None\t b2m:None\t rollingAverage:None\t momentum:None\t size:None\n",
      "\n",
      "None privuse marketcap tickerKey:2551\t month:138502\t closeAdjust:22.141126906876828\t currentYield:None\t numberOfOutstandingShares:None\t marketcap:None\t b2m:None\t rollingAverage:None\t momentum:None\t size:None\n",
      "\n",
      "None privuse marketcap tickerKey:2551\t month:138708\t closeAdjust:83.16439779553711\t currentYield:None\t numberOfOutstandingShares:None\t marketcap:None\t b2m:None\t rollingAverage:None\t momentum:None\t size:None\n",
      "\n"
     ]
    },
    {
     "ename": "Exception",
     "evalue": "No market cap while having closed adjust2583:138804",
     "output_type": "error",
     "traceback": [
      "\u001b[0;31m---------------------------------------------------------------------------\u001b[0m",
      "\u001b[0;31mException\u001b[0m                                 Traceback (most recent call last)",
      "\u001b[0;32m/tmp/ipykernel_1495097/2607071898.py\u001b[0m in \u001b[0;36m<module>\u001b[0;34m\u001b[0m\n\u001b[1;32m     58\u001b[0m       \u001b[0madjustedCompanyInfo\u001b[0m\u001b[0;34m.\u001b[0m\u001b[0mmarketcap\u001b[0m \u001b[0;34m=\u001b[0m \u001b[0mcalculateMarketcapAdjust\u001b[0m\u001b[0;34m(\u001b[0m\u001b[0mtickerKey\u001b[0m\u001b[0;34m,\u001b[0m\u001b[0mmonthIndex\u001b[0m\u001b[0;34m)\u001b[0m\u001b[0;34m\u001b[0m\u001b[0;34m\u001b[0m\u001b[0m\n\u001b[1;32m     59\u001b[0m       \u001b[0;32mif\u001b[0m \u001b[0madjustedCompanyInfo\u001b[0m\u001b[0;34m.\u001b[0m\u001b[0mmarketcap\u001b[0m \u001b[0;32mis\u001b[0m \u001b[0;32mNone\u001b[0m\u001b[0;34m:\u001b[0m\u001b[0;34m\u001b[0m\u001b[0;34m\u001b[0m\u001b[0m\n\u001b[0;32m---> 60\u001b[0;31m         \u001b[0;32mraise\u001b[0m \u001b[0mException\u001b[0m\u001b[0;34m(\u001b[0m\u001b[0;34m\"No market cap while having closed adjust\"\u001b[0m \u001b[0;34m+\u001b[0m  \u001b[0mstr\u001b[0m\u001b[0;34m(\u001b[0m\u001b[0madjustedCompanyInfo\u001b[0m\u001b[0;34m.\u001b[0m\u001b[0mtickerKey\u001b[0m\u001b[0;34m)\u001b[0m \u001b[0;34m+\u001b[0m \u001b[0;34m\":\"\u001b[0m \u001b[0;34m+\u001b[0m \u001b[0mstr\u001b[0m\u001b[0;34m(\u001b[0m\u001b[0madjustedCompanyInfo\u001b[0m\u001b[0;34m.\u001b[0m\u001b[0mmonth\u001b[0m\u001b[0;34m)\u001b[0m\u001b[0;34m)\u001b[0m\u001b[0;34m\u001b[0m\u001b[0;34m\u001b[0m\u001b[0m\n\u001b[0m\u001b[1;32m     61\u001b[0m       \u001b[0;32mif\u001b[0m \u001b[0mprivuseMonthCompanyInfo\u001b[0m\u001b[0;34m.\u001b[0m\u001b[0mnumberOfOutstandingShares\u001b[0m \u001b[0;34m==\u001b[0m \u001b[0;32mNone\u001b[0m\u001b[0;34m:\u001b[0m\u001b[0;34m\u001b[0m\u001b[0;34m\u001b[0m\u001b[0m\n\u001b[1;32m     62\u001b[0m         \u001b[0mprint\u001b[0m\u001b[0;34m(\u001b[0m\u001b[0;34m\"None numberOfOutstandingShares\"\u001b[0m \u001b[0;34m,\u001b[0m\u001b[0mprivuseMonthCompanyInfo\u001b[0m\u001b[0;34m)\u001b[0m\u001b[0;34m\u001b[0m\u001b[0;34m\u001b[0m\u001b[0m\n",
      "\u001b[0;31mException\u001b[0m: No market cap while having closed adjust2583:138804"
     ]
    }
   ],
   "source": [
    "def calculateCloseAdjust(tickerKey, monthIndex):\n",
    "  privuseMonthCompanyInfo:CompanyInfo = findCompanyInfo(tickerKey, allMonths[monthIndex-1])\n",
    "  if privuseMonthCompanyInfo is None:\n",
    "    return None\n",
    "  nextMonthCompanyInfo:CompanyInfo = findCompanyInfo(tickerKey, allMonths[monthIndex+1])\n",
    "\n",
    "  if nextMonthCompanyInfo is not None:\n",
    "    return ((nextMonthCompanyInfo.closeAdjust / privuseMonthCompanyInfo.closeAdjust) ** (1/2)) * privuseMonthCompanyInfo.closeAdjust\n",
    "\n",
    "  if monthIndex + 2 >= len(allMonths):\n",
    "    return None\n",
    "  secondNextMonthCompanyInfo:CompanyInfo = findCompanyInfo(tickerKey, allMonths[monthIndex+2])\n",
    "  if secondNextMonthCompanyInfo is None:\n",
    "    return None\n",
    "  return ((secondNextMonthCompanyInfo.closeAdjust / privuseMonthCompanyInfo.closeAdjust) ** (1/3)) * privuseMonthCompanyInfo.closeAdjust\n",
    "  \n",
    "def calculateMarketcapAdjust(tickerKey, monthIndex):\n",
    "  privuseMonthCompanyInfo:CompanyInfo = findCompanyInfo(tickerKey, allMonths[monthIndex-1])\n",
    "  if privuseMonthCompanyInfo is None or privuseMonthCompanyInfo.marketcap is None:\n",
    "    return None\n",
    "  nextMonthCompanyInfo:CompanyInfo = findCompanyInfo(tickerKey, allMonths[monthIndex+1])\n",
    "\n",
    "  if nextMonthCompanyInfo is not None and nextMonthCompanyInfo.marketcap is not None:\n",
    "    return ((nextMonthCompanyInfo.marketcap / privuseMonthCompanyInfo.marketcap) ** (1/2)) * privuseMonthCompanyInfo.marketcap\n",
    "\n",
    "  if monthIndex + 2 >= len(allMonths):\n",
    "    return None\n",
    "  secondNextMonthCompanyInfo:CompanyInfo = findCompanyInfo(tickerKey, allMonths[monthIndex+2])\n",
    "  if secondNextMonthCompanyInfo is None or secondNextMonthCompanyInfo.marketcap is None:\n",
    "    return None\n",
    "  return ((secondNextMonthCompanyInfo.marketcap / privuseMonthCompanyInfo.marketcap) ** (1/3)) * privuseMonthCompanyInfo.marketcap\n",
    "  \n",
    "  # print(calculatedCloseAdjust)\n",
    "\n",
    "_missingData = []\n",
    "for tickerKey in companyTickerSet:\n",
    "  # companyHistoricalData = [companyInfo for companyInfo in companyInfoList if companyInfo.tickerKey == tickerKey]\n",
    "  startOfData = False\n",
    "  for monthIndex in range(1,len(allMonths)-1):\n",
    "    currentCompanyInfo = findCompanyInfo(tickerKey,allMonths[monthIndex])\n",
    "    if currentCompanyInfo is not None:\n",
    "        startOfData = True\n",
    "        continue\n",
    "    if currentCompanyInfo is None:\n",
    "      closeAdjust = calculateCloseAdjust(tickerKey,monthIndex)\n",
    "      if closeAdjust is None: \n",
    "        if startOfData :\n",
    "          _missingData.append([\"closeAdjust for tick\",tickerKey,\" Month\",allMonths[monthIndex],\" Is None\"])\n",
    "        continue\n",
    "      privuseMonthCompanyInfo:CompanyInfo = findCompanyInfo(tickerKey, allMonths[monthIndex-1])\n",
    "\n",
    "      adjustedCompanyInfo = CompanyInfo(tickerKey,privuseMonthCompanyInfo.name,allMonths[monthIndex],None,None,None,None,None,None,privuseMonthCompanyInfo.sourceSubsectorCode)\n",
    "      adjustedCompanyInfo.closeAdjust = closeAdjust\n",
    "      # print(tickerKey,allMonths[month],privuseMonthCompanyInfo) # log before adjusted\n",
    "      if privuseMonthCompanyInfo.numberOfOutstandingShares == None:\n",
    "        print(\"None privuse marketcap\" ,privuseMonthCompanyInfo)\n",
    "        continue;\n",
    "      adjustedCompanyInfo.marketcap = calculateMarketcapAdjust(tickerKey,monthIndex)\n",
    "      if adjustedCompanyInfo.marketcap is None:\n",
    "        raise Exception(\"No market cap while having closed adjust for TickerKey:\" +  str(adjustedCompanyInfo.tickerKey) + \" Month:\" + str(adjustedCompanyInfo.month))\n",
    "      if privuseMonthCompanyInfo.numberOfOutstandingShares == None:\n",
    "        print(\"None numberOfOutstandingShares\" ,privuseMonthCompanyInfo)\n",
    "        continue;\n",
    "      adjustedCompanyInfo.numberOfOutstandingShares = privuseMonthCompanyInfo.numberOfOutstandingShares\n",
    "      addCompanyInfoToList(adjustedCompanyInfo)\n",
    "      # print(tickerKey,allMonths[month]) # log adjusted\n",
    "\n",
    "\n",
    "# print([companyInfo for companyInfo in _missingData if companyInfo[1] == 9])"
   ]
  },
  {
   "cell_type": "code",
   "execution_count": null,
   "metadata": {},
   "outputs": [
    {
     "name": "stdout",
     "output_type": "stream",
     "text": [
      "231 of 52318\n",
      "[['closeAdjust for tick', 9, ' Month', 138403, ' Is None'], ['closeAdjust for tick', 9, ' Month', 138404, ' Is None'], ['closeAdjust for tick', 9, ' Month', 138405, ' Is None'], ['closeAdjust for tick', 223, ' Month', 139307, ' Is None'], ['closeAdjust for tick', 223, ' Month', 139308, ' Is None'], ['closeAdjust for tick', 223, ' Month', 139309, ' Is None'], ['closeAdjust for tick', 231, ' Month', 138311, ' Is None'], ['closeAdjust for tick', 231, ' Month', 138312, ' Is None'], ['closeAdjust for tick', 231, ' Month', 138401, ' Is None'], ['closeAdjust for tick', 234, ' Month', 138907, ' Is None']]\n"
     ]
    }
   ],
   "source": [
    "print(\"{} of {}\".format(len(_missingData),data.size))\n",
    "print(_missingData[:10])"
   ]
  },
  {
   "cell_type": "markdown",
   "metadata": {},
   "source": [
    "# Test data"
   ]
  },
  {
   "cell_type": "code",
   "execution_count": null,
   "metadata": {},
   "outputs": [
    {
     "name": "stdout",
     "output_type": "stream",
     "text": [
      "['tickerKey', 'name', 'month', 'rollingAverage', 'numberOfOutstandingShares', 'marketcap', 'b2m', 'closeAdjust', 'momentum', 'size', 'RMWSize', 'CMASize', 'BperMSize', 'currentYield', 'inv', 'op', 'sourceSubsectorCode']\n",
      "[9, 'پاکسان\\u200c', 138001, None, 90000000, 460800000000, 4.9385362299, 10.282307670219264, None, None, None, None, None, None, 5.9385362299, 6.9385362299, 4424]\n",
      "[9, 'پاکسان\\u200c', 138002, None, 90000000, 481500000000, 5.1603845371, 10.744208210092395, None, None, None, None, None, None, 6.1603845371, 7.1603845371, 4424]\n",
      "[9, 'پاکسان\\u200c', 138003, None, 90000000, 494910000000, 5.3041036578, 11.043439429401511, None, None, None, None, None, None, 6.3041036578, 7.3041036578, 4424]\n"
     ]
    }
   ],
   "source": [
    "\n",
    "displayCompanyInfo(companyTickerSet[:3],allMonths[:3])"
   ]
  },
  {
   "cell_type": "markdown",
   "metadata": {},
   "source": [
    "# Yield calculations"
   ]
  },
  {
   "cell_type": "code",
   "execution_count": null,
   "metadata": {},
   "outputs": [],
   "source": [
    "for tickerKey in companyTickerSet:\n",
    "  for monthIndex in range(1,len(allMonths)):\n",
    "    lastMonthData:CompanyInfo = findCompanyInfo(tickerKey,allMonths[monthIndex-1])\n",
    "    if lastMonthData is None:\n",
    "      continue\n",
    "    thisMonthData:CompanyInfo = findCompanyInfo(tickerKey,allMonths[monthIndex])\n",
    "    if thisMonthData is None:\n",
    "      continue\n",
    "    thisMonthData.currentYield = thisMonthData.closeAdjust / lastMonthData.closeAdjust - 1"
   ]
  },
  {
   "cell_type": "code",
   "execution_count": null,
   "metadata": {},
   "outputs": [
    {
     "name": "stdout",
     "output_type": "stream",
     "text": [
      "['tickerKey', 'name', 'month', 'rollingAverage', 'numberOfOutstandingShares', 'marketcap', 'b2m', 'closeAdjust', 'momentum', 'size', 'RMWSize', 'CMASize', 'BperMSize', 'currentYield', 'inv', 'op', 'sourceSubsectorCode']\n",
      "[9, 'پاکسان\\u200c', 138001, None, 90000000, 460800000000, 4.9385362299, 10.282307670219264, None, None, None, None, None, None, 5.9385362299, 6.9385362299, 4424]\n",
      "[9, 'پاکسان\\u200c', 138002, None, 90000000, 481500000000, 5.1603845371, 10.744208210092395, None, None, None, None, None, 0.044921875, 6.1603845371, 7.1603845371, 4424]\n",
      "[9, 'پاکسان\\u200c', 138003, None, 90000000, 494910000000, 5.3041036578, 11.043439429401511, None, None, None, None, None, 0.027850467289719738, 6.3041036578, 7.3041036578, 4424]\n"
     ]
    }
   ],
   "source": [
    "displayCompanyInfo(companyTickerSet[:3],allMonths[:3])"
   ]
  },
  {
   "cell_type": "markdown",
   "metadata": {},
   "source": [
    "# Calculate rolling average"
   ]
  },
  {
   "cell_type": "code",
   "execution_count": null,
   "metadata": {},
   "outputs": [],
   "source": [
    "def getRollingDataWindow(tickerKey,rollingWindowSize,endMonthIndex):\n",
    "  rollingDataWindow = []\n",
    "  for monthIndex in range(endMonthIndex+1 - rollingWindowSize,endMonthIndex+1):\n",
    "    currentCompanyInfo = findCompanyInfo(tickerKey,allMonths[monthIndex])\n",
    "    if currentCompanyInfo is None:\n",
    "        continue\n",
    "    rollingDataWindow.append(currentCompanyInfo)\n",
    "  return rollingDataWindow"
   ]
  },
  {
   "cell_type": "code",
   "execution_count": null,
   "metadata": {},
   "outputs": [],
   "source": [
    "def average(dataList):\n",
    "    if len(dataList)==0:\n",
    "        return None\n",
    "    data = [info.currentYield for info in dataList]\n",
    "    if None in data:\n",
    "      return None\n",
    "    # print(data)\n",
    "    return sum(data) / len(dataList)\n",
    "\n",
    "def valueWeightedAverage(dataList):\n",
    "    if len(dataList)==0:\n",
    "        return None\n",
    "    lastMonth = allMonths[allMonths.index(dataList[0].month) - 1]\n",
    "    data = [info.currentYield * findCompanyInfo(info.tickerKey,lastMonth).marketcap for info in dataList]\n",
    "    marketcapSum = sum([findCompanyInfo(info.tickerKey,lastMonth).marketcap for info in dataList])\n",
    "    if None in data:\n",
    "      return None\n",
    "    # print(data)\n",
    "    return sum(data) / marketcapSum\n",
    "\n",
    "# print(companyInfoList)\n",
    "rollingAverageWindowSize = 6     #Can be change\n",
    "for tickerKey in companyTickerSet:\n",
    "    # print(\"tickerKey\",tickerKey)\n",
    "    for endMonthIndex in range(rollingAverageWindowSize-1,len(allMonths)):\n",
    "      # print(\"endMonthIndex\",endMonthIndex)\n",
    "      rollingDataWindow = getRollingDataWindow(tickerKey, rollingAverageWindowSize,endMonthIndex)\n",
    "      if len(rollingDataWindow) != rollingAverageWindowSize: continue\n",
    "      currentCompanyInfo:CompanyInfo = findCompanyInfo(tickerKey,allMonths[endMonthIndex])\n",
    "      currentCompanyInfo.rollingAverage = average(rollingDataWindow)"
   ]
  },
  {
   "cell_type": "code",
   "execution_count": null,
   "metadata": {},
   "outputs": [
    {
     "name": "stdout",
     "output_type": "stream",
     "text": [
      "['tickerKey', 'name', 'month', 'rollingAverage', 'numberOfOutstandingShares', 'marketcap', 'b2m', 'closeAdjust', 'momentum', 'size', 'RMWSize', 'CMASize', 'BperMSize', 'currentYield', 'inv', 'op', 'sourceSubsectorCode']\n",
      "[9, 'پاکسان\\u200c', 138001, None, 90000000, 460800000000, 4.9385362299, 10.282307670219264, None, None, None, None, None, None, 5.9385362299, 6.9385362299, 4424]\n",
      "[9, 'پاکسان\\u200c', 138002, None, 90000000, 481500000000, 5.1603845371, 10.744208210092395, None, None, None, None, None, 0.044921875, 6.1603845371, 7.1603845371, 4424]\n",
      "[9, 'پاکسان\\u200c', 138003, None, 90000000, 494910000000, 5.3041036578, 11.043439429401511, None, None, None, None, None, 0.027850467289719738, 6.3041036578, 7.3041036578, 4424]\n"
     ]
    }
   ],
   "source": [
    "displayCompanyInfo(companyTickerSet[:3],allMonths[:3])"
   ]
  },
  {
   "cell_type": "markdown",
   "metadata": {},
   "source": [
    "# set size"
   ]
  },
  {
   "cell_type": "code",
   "execution_count": null,
   "metadata": {},
   "outputs": [],
   "source": [
    "def getCompaniesInMonth(month):\n",
    "  compainesInMonth = []\n",
    "  for tickerKey in companyInfoDict.keys():\n",
    "    if month in companyInfoDict[tickerKey]:\n",
    "      compainesInMonth.append(companyInfoDict[tickerKey][month])\n",
    "  return compainesInMonth"
   ]
  },
  {
   "cell_type": "code",
   "execution_count": null,
   "metadata": {},
   "outputs": [
    {
     "name": "stdout",
     "output_type": "stream",
     "text": [
      "[]\n"
     ]
    }
   ],
   "source": [
    "import math\n",
    "for index,month in enumerate(allMonths[:-1]):\n",
    "    companiesInMonth = [x for x in getCompaniesInMonth(month) if x.rollingAverage is not None and x.marketcap is not None]\n",
    "    companiesInMonth = [x for x in companiesInMonth if findCompanyInfo(x.tickerKey,allMonths[index+1]) is not None and findCompanyInfo(x.tickerKey,allMonths[index+1]).currentYield is not None]\n",
    "    companiesInMonth.sort(key=operator.attrgetter(\"marketcap\"), reverse=True)\n",
    "    median = math.ceil(len(companiesInMonth) / 2)\n",
    "    for company in companiesInMonth[0:median]:\n",
    "        company.size = \"Big\"\n",
    "    for company in companiesInMonth[median:]:\n",
    "        company.size = \"Small\"\n",
    "\n",
    "print ([x for x in getCompaniesInMonth(allMonths[-1]) if x.size ][-10:])"
   ]
  },
  {
   "cell_type": "code",
   "execution_count": null,
   "metadata": {},
   "outputs": [
    {
     "name": "stdout",
     "output_type": "stream",
     "text": [
      "[tickerKey:251\t month:140003\t closeAdjust:36300.0\t currentYield:-0.07539480387162512\t numberOfOutstandingShares:840000000\t marketcap:30508800000000\t b2m:9.2280538648\t rollingAverage:-0.08849092161533151\t momentum:Low\t size:Big\n",
      ", tickerKey:255\t month:140003\t closeAdjust:14830.0\t currentYield:-0.187842278203724\t numberOfOutstandingShares:1279000000\t marketcap:19069890000000\t b2m:7.3866604045\t rollingAverage:-0.029776004360683044\t momentum:High\t size:Small\n",
      ", tickerKey:259\t month:140003\t closeAdjust:33450.0\t currentYield:-0.28875186051456514\t numberOfOutstandingShares:360000000\t marketcap:12189600000000\t b2m:5.1790563469\t rollingAverage:-0.022108740858892844\t momentum:High\t size:Small\n",
      ", tickerKey:263\t month:140003\t closeAdjust:1736.0\t currentYield:-0.032329988851728\t numberOfOutstandingShares:24131803999\t marketcap:41651493702274\t b2m:1.251196135\t rollingAverage:-0.10872790139556543\t momentum:Low\t size:Big\n",
      ", tickerKey:267\t month:140003\t closeAdjust:9230.0\t currentYield:-0.026371308016877593\t numberOfOutstandingShares:4500000000\t marketcap:41715000000000\t b2m:2.5987831676\t rollingAverage:-0.04724834855049884\t momentum:Notural\t size:Big\n",
      ", tickerKey:271\t month:140003\t closeAdjust:9940.0\t currentYield:-0.04167431885529549\t numberOfOutstandingShares:9102988662\t marketcap:90392677413660\t b2m:6.3981419632\t rollingAverage:-0.030248937632779416\t momentum:High\t size:Big\n",
      ", tickerKey:275\t month:140003\t closeAdjust:4536.0\t currentYield:-0.003076923076923088\t numberOfOutstandingShares:1250000000\t marketcap:5708750000000\t b2m:2.6135776975\t rollingAverage:-0.03548490332473166\t momentum:Notural\t size:Small\n",
      ", tickerKey:279\t month:140003\t closeAdjust:1224.5934590397658\t currentYield:-0.02824893337817691\t numberOfOutstandingShares:1000000000\t marketcap:22489934872638.027\t b2m:None\t rollingAverage:-0.07201990520775148\t momentum:Low\t size:Small\n",
      ", tickerKey:283\t month:140003\t closeAdjust:2719.0\t currentYield:-0.3951056729699667\t numberOfOutstandingShares:2645692846\t marketcap:7153953455584\t b2m:3.7047346394\t rollingAverage:-0.1230206057041695\t momentum:Low\t size:Small\n",
      ", tickerKey:287\t month:140003\t closeAdjust:39730.0\t currentYield:-0.1037672005413941\t numberOfOutstandingShares:1215000000\t marketcap:50531850000000\t b2m:30.7850737645\t rollingAverage:-0.05842043153504963\t momentum:Notural\t size:Big\n",
      "]\n"
     ]
    }
   ],
   "source": [
    "\n",
    "    \n",
    "    \n",
    "for index,month in enumerate(allMonths[:-1]):\n",
    "    companiesInMonth = [x for x in getCompaniesInMonth(month) if x.rollingAverage is not None and x.marketcap is not None]\n",
    "    companiesInMonth = [x for x in companiesInMonth if findCompanyInfo(x.tickerKey,allMonths[index+1]) is not None and findCompanyInfo(x.tickerKey,allMonths[index+1]).currentYield is not None]\n",
    "    companiesInMonth.sort(key=operator.attrgetter(\"rollingAverage\"), reverse=True)\n",
    "    count = math.floor(len(companiesInMonth) * 0.3) #It might be better to round it up instead of down to increase valid data\n",
    "    for company in companiesInMonth[0:count]:\n",
    "        company.momentum = \"High\"\n",
    "    for company in companiesInMonth[len(companiesInMonth) - count:]:\n",
    "        company.momentum = \"Low\"\n",
    "    for company in companiesInMonth[count:len(companiesInMonth) - count]:\n",
    "        company.momentum = \"Notural\"\n",
    "\n",
    "print ([x for x in getCompaniesInMonth(allMonths[-2]) if x.momentum is not None ][-10:])"
   ]
  },
  {
   "cell_type": "code",
   "execution_count": null,
   "metadata": {},
   "outputs": [],
   "source": [
    "def avgTriple(first, second, third):\n",
    "    avg = 0\n",
    "    count = 0\n",
    "    if first is not None:\n",
    "        count += 1\n",
    "        avg += first\n",
    "    if second is not None:\n",
    "        count += 1\n",
    "        avg += second\n",
    "    if third is not None:\n",
    "        count += 1\n",
    "        avg += third\n",
    "    if count != 0:\n",
    "        avg /= count\n",
    "    return avg"
   ]
  },
  {
   "cell_type": "markdown",
   "metadata": {},
   "source": [
    "# MomentomFactor factor (MOM)"
   ]
  },
  {
   "cell_type": "code",
   "execution_count": null,
   "metadata": {},
   "outputs": [
    {
     "name": "stdout",
     "output_type": "stream",
     "text": [
      "{138001: 0, 138002: 0, 138003: 0, 138004: 0, 138005: 0, 138006: 0, 138007: 0.062113061301225694, 138008: -0.08460406138127463, 138009: 0.19421648390079593, 138010: 0.07207269422873716, 138011: 0.12275103847306693, 138012: 0.08968663010268037, 138101: 0.08290427031621754, 138102: 0.06718026336802117, 138103: 0.05055846107978826, 138104: 0.018441640786512448, 138105: -0.039003257554124426, 138106: 0.01903471331935969, 138107: 0.014508041513184591, 138108: -0.06510050025772374, 138109: -0.07617995309417216, 138110: 0.027751261193049978, 138111: 0.07859512660402776, 138112: -0.003267420480390054, 138201: 0.08954625280390358, 138202: 0.07461436179292436, 138203: 0.13636104819213155, 138204: 0.2798784224567953, 138205: -0.03806633918750371, 138206: -0.21315029003471703, 138207: 0.009880638988447217, 138208: 0.028126359699924677, 138209: -0.005169200609384278, 138210: -0.004533938826273488, 138211: -0.03964027194245895, 138212: -0.048176497383017755, 138301: 0.06249740289918129, 138302: -0.12248324849849579, 138303: 0.05497541841952896, 138304: -0.04736887736814148, 138305: 0.43691058236085134, 138306: 0.05083632857615305, 138307: 0.0951002345607592, 138308: -0.21138881928798986, 138309: -0.05622153917622465, 138310: 0.05226172438375358, 138311: -0.06763156363818193, 138312: 0.023821866372359446, 138401: -0.01388004755859118, 138402: -0.004320992884304042, 138403: 0.17989531064661923, 138404: 0.1363351401446133, 138405: 0.15268029377975373, 138406: 0.06260955826369247, 138407: -0.04308802149020341, 138408: -0.10701563798630605, 138409: 0.11335253405961443, 138410: 0.0884620418145135, 138411: 0.01168708751115146, 138412: 0.18919900605495177, 138501: 0.15715468222968101, 138502: 0.08938080737154902, 138503: 0.13302934229605745, 138504: -0.012018473890235831, 138505: 0.14345600061540956, 138506: -0.043391531539725615, 138507: -0.004544373326438356, 138508: -0.02928475635153434, 138509: -0.0014977054127279371, 138510: -0.018160487667471168, 138511: 0.022144097871217794, 138512: -0.04043189277691249, 138601: -0.06058574865897702, 138602: -0.10156568479556118, 138603: 0.009777107241582313, 138604: -0.15787721508782127, 138605: -0.013938558369322257, 138606: 0.030495160908193434, 138607: -0.006671455698439355, 138608: -0.08078049346037564, 138609: 0.028680867791597436, 138610: -0.03746978045210754, 138611: -0.00956335929755405, 138612: 0.049198270773197016, 138701: -0.0007263400878728629, 138702: -0.016904751675568732, 138703: 0.030848188119256208, 138704: -0.06544143600150845, 138705: -0.011062339769898354, 138706: 0.00792780169882925, 138707: 0.1854888231047581, 138708: 0.009607067759963082, 138709: -0.0007990558995741616, 138710: -0.04245046366748735, 138711: 0.13007066272302506, 138712: 0.0523867081678984, 138801: 0.02833525783532481, 138802: -0.05302173493894292, 138803: -0.0967312855851093, 138804: 0.25276975308332367, 138805: 0.10351106374807237, 138806: 0.1446954191797062, 138807: 0.022904544810458703, 138808: -0.05597922054601752, 138809: 0.018436550323374122, 138810: 0.08048277329123309, 138811: 0.09210388792989864, 138812: 0.13608971352238172, 138901: -0.013455833669194813, 138902: 0.032472586521285804, 138903: 0.1008662775972427, 138904: 0.14682205386038294, 138905: -0.018615502570216408, 138906: -0.06435128130606976, 138907: -0.0016543523136048656, 138908: -0.019602668573540788, 138909: -0.035789238454780464, 138910: -0.042516016205216625, 138911: -0.07150852874162941, 138912: -0.02744647932327439, 139001: 0.027079347040044697, 139002: -0.07510154009806311, 139003: 0.10263095457891946, 139004: 0.1428803072515175, 139005: 0.10285944473100417, 139006: 0.048732830042674674, 139007: -0.11644108941504697, 139008: 0.332894931164412, 139009: -0.007986963839378391, 139010: -0.08918636226586495, 139011: -0.012306027848138529, 139012: 0.10429838409860195, 139101: 0.06668197477775642, 139102: -0.09888978581858333, 139103: 0.0528765250038936, 139104: 0.027705188565639617, 139105: 0.08523226808637939, 139106: 0.2405211060373246, 139107: 0.07709241555126178, 139108: 0.22125686189484903, 139109: -0.09897930239715805, 139110: -0.04478204811604836, 139111: -0.14357030966780454, 139112: 0.2990946589005784, 139201: -0.10009198153701006, 139202: 0.08377564219807332, 139203: 0.21024280257304384, 139204: 0.08821928063162242, 139205: 0.06495108006732062, 139206: -0.25132138145354843, 139207: -0.23977851052029836, 139208: 0.06950025419878673, 139209: -0.12297124649950522, 139210: -0.12310949083628518, 139211: 0.1524398970273017, 139212: -0.08650111669114424, 139301: -0.09893223783328614, 139302: -0.04334706914994156, 139303: -0.08822542112826544, 139304: -0.005925044736634058, 139305: 0.1027664985842967, 139306: -0.16696060561938886, 139307: 0.13488795540598283, 139308: 0.009716084664365757, 139309: -0.09470799071669078, 139310: -0.04021309292813617, 139311: -0.00564211976148335, 139312: 0.03082539289169664, 139401: 0.029657229362105627, 139402: -0.09417707331616391, 139403: 0.01516288538273032, 139404: 0.03232030569529967, 139405: 0.03914833044439984, 139406: -0.07591013924515515, 139407: -0.06555762099064606, 139408: 0.15026594393751067, 139409: -0.18421583309377293, 139410: -0.20717080902495533, 139411: 0.6695912282590404, 139412: 0.2529586121573713, 139501: -0.09661849749513296, 139502: -0.006251928318214167, 139503: 0.04619783322125268, 139504: 0.19077454824099896, 139505: 0.08767664382669157, 139506: 0.08277051431489403, 139507: 0.0189611595536488, 139508: 0.08961754452240647, 139509: 0.08585898119646068, 139510: -0.008986383922312047, 139511: 0.08399751787431982, 139512: -0.09231567527533192, 139601: -0.053983153037244686, 139602: 0.06309177179023942, 139603: 0.0940493794895331, 139604: -0.06102490393132703, 139605: -0.12748445157796928, 139606: -0.012208446415480287, 139607: -0.08273255017213282, 139608: 0.18469222607552344, 139609: 0.08267623318098848, 139610: 0.025390289196109597, 139611: 0.0039767037757860065, 139612: 0.013509301935900636, 139701: 0.02839448669703154, 139702: -0.10170008608130715, 139703: 0.10158270401828154, 139704: 0.017579296791135623, 139705: -0.1468314003932693, 139706: -0.14177628811970272, 139707: -0.05750980398485621, 139708: 0.2012177189269827, 139709: 0.014255502682181315, 139710: -0.03894062719308725, 139711: 0.19878795956352, 139712: 0.20353997599683105, 139801: 0.261189719444367, 139802: 0.10264524206252364, 139803: -0.021134615507700107, 139804: 0.027663225832220556, 139805: -0.09948441221683982, 139806: -0.060359573771794656, 139807: 0.08875441606607548, 139808: 0.01589405970471336, 139809: -0.03685490925982046, 139810: 0.028111294085741367, 139811: 0.0913298858970471, 139812: 0.03300859398953526, 139901: -0.31466712880536374, 139902: -0.11329570626367425, 139903: -0.17811514462734282, 139904: -0.029476320573924547, 139905: -0.06216746347444668, 139906: -0.13796855939650077, 139907: 0.06074593560593454, 139908: -0.1459531377458321, 139909: 0.2334265482238537, 139910: -0.015279944410240342, 139911: -0.06579962351262889, 139912: 0.019135327766851597, 140001: -0.053672434286170925, 140002: -0.03721739266489388, 140003: -0.05144303390292006}\n"
     ]
    }
   ],
   "source": [
    "\n",
    "\n",
    "MoMFactor = {}\n",
    "\n",
    "for index,month in enumerate(allMonths[:-1]):\n",
    "    # Get companies of corrent month\n",
    "    companiesInMonth = getCompaniesInMonth(month)\n",
    "    # Get companis for these filters SL SH BL BH\n",
    "    SL = [company for company in companiesInMonth if company.size == \"Small\" and company.momentum == \"Low\"]\n",
    "    SH = [company for company in companiesInMonth if company.size == \"Small\" and company.momentum == \"High\"]\n",
    "    BL = [company for company in companiesInMonth if company.size == \"Big\" and company.momentum == \"Low\"]\n",
    "    BH = [company for company in companiesInMonth if company.size == \"Big\" and company.momentum == \"High\"]\n",
    "    # Get companies next month info\n",
    "    BH_nextMonth = [findCompanyInfo(company.tickerKey,allMonths[index+1]) for company in BH]\n",
    "    BL_nextMonth = [findCompanyInfo(company.tickerKey,allMonths[index+1]) for company in BL]\n",
    "    SH_nextMonth = [findCompanyInfo(company.tickerKey,allMonths[index+1]) for company in SH]\n",
    "    SL_nextMonth = [findCompanyInfo(company.tickerKey,allMonths[index+1]) for company in SL]\n",
    "    # Get companies next month currentYield\n",
    "    BH_average = valueWeightedAverage([x for x in BH_nextMonth if x is not None])\n",
    "    BL_average = valueWeightedAverage([x for x in BL_nextMonth if x is not None])\n",
    "    SH_average = valueWeightedAverage([x for x in SH_nextMonth if x is not None])\n",
    "    SL_average = valueWeightedAverage([x for x in SL_nextMonth if x is not None])\n",
    "    \n",
    "    MoMFactor[month]=avgTriple(SH_average, BH_average,None) - avgTriple(SL_average, BL_average,None)\n",
    "\n",
    "print(MoMFactor)\n"
   ]
  },
  {
   "cell_type": "markdown",
   "metadata": {},
   "source": [
    "# Book to market Calc"
   ]
  },
  {
   "cell_type": "code",
   "execution_count": null,
   "metadata": {},
   "outputs": [
    {
     "name": "stdout",
     "output_type": "stream",
     "text": [
      "tickerKey:1\t month:138001\t closeAdjust:None\t currentYield:None\t numberOfOutstandingShares:None\t marketcap:None\t b2m:None\t rollingAverage:None\t momentum:None\t size:None\n",
      "\n",
      "tickerKey:1\t month:138002\t closeAdjust:None\t currentYield:None\t numberOfOutstandingShares:None\t marketcap:None\t b2m:None\t rollingAverage:None\t momentum:None\t size:None\n",
      "\n",
      "tickerKey:1\t month:138003\t closeAdjust:None\t currentYield:None\t numberOfOutstandingShares:None\t marketcap:None\t b2m:None\t rollingAverage:None\t momentum:None\t size:None\n",
      "\n",
      "tickerKey:1\t month:138004\t closeAdjust:None\t currentYield:None\t numberOfOutstandingShares:None\t marketcap:None\t b2m:None\t rollingAverage:None\t momentum:None\t size:None\n",
      "\n",
      "tickerKey:1\t month:138005\t closeAdjust:None\t currentYield:None\t numberOfOutstandingShares:None\t marketcap:None\t b2m:None\t rollingAverage:None\t momentum:None\t size:None\n",
      "\n",
      "tickerKey:1\t month:138006\t closeAdjust:None\t currentYield:None\t numberOfOutstandingShares:None\t marketcap:None\t b2m:None\t rollingAverage:None\t momentum:None\t size:None\n",
      "\n",
      "tickerKey:1\t month:138007\t closeAdjust:None\t currentYield:None\t numberOfOutstandingShares:None\t marketcap:None\t b2m:None\t rollingAverage:None\t momentum:None\t size:None\n",
      "\n",
      "tickerKey:1\t month:138008\t closeAdjust:None\t currentYield:None\t numberOfOutstandingShares:None\t marketcap:None\t b2m:None\t rollingAverage:None\t momentum:None\t size:None\n",
      "\n",
      "tickerKey:1\t month:138009\t closeAdjust:None\t currentYield:None\t numberOfOutstandingShares:None\t marketcap:None\t b2m:None\t rollingAverage:None\t momentum:None\t size:None\n",
      "\n",
      "tickerKey:1\t month:138010\t closeAdjust:None\t currentYield:None\t numberOfOutstandingShares:None\t marketcap:None\t b2m:None\t rollingAverage:None\t momentum:None\t size:None\n",
      "\n"
     ]
    }
   ],
   "source": [
    "#  Fill all marketcap based on the last one\n",
    "for companyTicker in companyTickerSet:\n",
    "  for index,month in enumerate(allMonths):\n",
    "    if month not in companyInfoDict[companyTicker]:\n",
    "      firstData:CompanyInfo = companyInfoDict[companyTicker][list(companyInfoDict[companyTicker].keys())[0]]\n",
    "      c = CompanyInfo(companyTicker,firstData.name,month,None,None,None,None,None,None, firstData.sourceSubsectorCode)\n",
    "      if index > 0 and allMonths[index-1] in companyInfoDict[companyTicker]:\n",
    "        c.marketcap = companyInfoDict[companyTicker][allMonths[index-1]].marketcap\n",
    "        c.b2m = companyInfoDict[companyTicker][allMonths[index-1]].b2m\n",
    "        c.inv = companyInfoDict[companyTicker][allMonths[index-1]].inv\n",
    "        c.op = companyInfoDict[companyTicker][allMonths[index-1]].op\n",
    "      companyInfoDict[companyTicker][month] = c\n",
    "  # print(companyInfoDict[companyTicker][139712])\n",
    "\n",
    "for month in sorted(companyInfoDict[1].keys())[:10]:\n",
    "  print(companyInfoDict[1][month])"
   ]
  },
  {
   "cell_type": "code",
   "execution_count": null,
   "metadata": {},
   "outputs": [],
   "source": [
    "for companyTicker in companyTickerSet:\n",
    "  lastB2MOfTheYear = None\n",
    "  lastINVOfTheYear = None\n",
    "  lastOpOfTheYear = None\n",
    "  for month in allMonths:\n",
    "    if month % 100 == 5:\n",
    "      lastB2MOfTheYear = companyInfoDict[companyTicker][month].b2m\n",
    "      lastINVOfTheYear = companyInfoDict[companyTicker][month].inv\n",
    "      lastOpOfTheYear = companyInfoDict[companyTicker][month].op\n",
    "    companyInfoDict[companyTicker][month].b2m = lastB2MOfTheYear     \n",
    "    companyInfoDict[companyTicker][month].inv = lastINVOfTheYear     \n",
    "    companyInfoDict[companyTicker][month].op = lastOpOfTheYear     \n",
    "\n"
   ]
  },
  {
   "cell_type": "code",
   "execution_count": null,
   "metadata": {},
   "outputs": [],
   "source": [
    "# for month in sorted(companyInfoDict[1].keys())[:10]:\n",
    "#   print(companyInfoDict[9][month])"
   ]
  },
  {
   "cell_type": "code",
   "execution_count": null,
   "metadata": {},
   "outputs": [],
   "source": [
    "# Book To market ranking\n",
    "\n",
    "for month in allMonths:\n",
    "  b2mMonthList = []\n",
    "  for companyTicker in companyTickerSet:\n",
    "    if companyInfoDict[companyTicker][month].b2m == None:\n",
    "      continue\n",
    "    if companyInfoDict[companyTicker][month].currentYield == None:\n",
    "      continue\n",
    "    b2mMonthList.append(companyInfoDict[companyTicker][month].b2m)\n",
    "  if len(b2mMonthList) == 0 :\n",
    "    continue\n",
    "  b2mMonthList.sort()\n",
    "  # print(len(b2mMonthList),int(len(b2mMonthList)*0.3))\n",
    "  lowBookToMarket = b2mMonthList[int(len(b2mMonthList)*0.3)]\n",
    "  highBookToMarket = b2mMonthList[int(-len(b2mMonthList)*0.3)]\n",
    "\n",
    "  for companyTicker in companyTickerSet:\n",
    "    if companyInfoDict[companyTicker][month].b2m == None:\n",
    "      continue\n",
    "    if companyInfoDict[companyTicker][month].currentYield == None:\n",
    "      continue\n",
    "    if companyInfoDict[companyTicker][month].b2m <= lowBookToMarket:\n",
    "      companyInfoDict[companyTicker][month].BperMSize = \"Low\"\n",
    "    elif companyInfoDict[companyTicker][month].b2m >= highBookToMarket:\n",
    "      companyInfoDict[companyTicker][month].BperMSize = \"High\"\n",
    "    else:\n",
    "      companyInfoDict[companyTicker][month].BperMSize = \"Neutral\"\n",
    "\n"
   ]
  },
  {
   "cell_type": "code",
   "execution_count": null,
   "metadata": {},
   "outputs": [],
   "source": [
    "# RMW (Operational profit) ranking\n",
    "\n",
    "for month in allMonths:\n",
    "  dataMonthList = []\n",
    "  for companyTicker in companyTickerSet:\n",
    "    if companyInfoDict[companyTicker][month].op == None:\n",
    "      continue\n",
    "    if companyInfoDict[companyTicker][month].currentYield == None:\n",
    "      continue\n",
    "    dataMonthList.append(companyInfoDict[companyTicker][month].op)\n",
    "  if len(dataMonthList) == 0 :\n",
    "    continue\n",
    "  dataMonthList.sort()\n",
    "  # print(len(dataMonthList),int(len(dataMonthList)*0.3))\n",
    "  weakValue = dataMonthList[int(len(dataMonthList)*0.3)]\n",
    "  robustValue = dataMonthList[int(-len(dataMonthList)*0.3)]\n",
    "  # if month == 139902:\n",
    "  #   print(dataMonthList)\n",
    "  for companyTicker in companyTickerSet:\n",
    "    if companyInfoDict[companyTicker][month].op == None:\n",
    "      continue\n",
    "    if companyInfoDict[companyTicker][month].currentYield == None:\n",
    "      continue\n",
    "    if companyInfoDict[companyTicker][month].op <= weakValue:\n",
    "      companyInfoDict[companyTicker][month].RMWSize = \"Weak\"\n",
    "    elif companyInfoDict[companyTicker][month].op >= robustValue:\n",
    "      companyInfoDict[companyTicker][month].RMWSize = \"Robust\"\n",
    "    else:\n",
    "      companyInfoDict[companyTicker][month].RMWSize = \"Neutral\""
   ]
  },
  {
   "cell_type": "code",
   "execution_count": null,
   "metadata": {},
   "outputs": [
    {
     "name": "stdout",
     "output_type": "stream",
     "text": [
      "Neutral\n",
      "Neutral\n",
      "Weak\n",
      "Neutral\n",
      "Robust\n",
      "Weak\n",
      "Weak\n",
      "Robust\n",
      "Robust\n",
      "Neutral\n"
     ]
    }
   ],
   "source": [
    "\n",
    "for companyTicker in companyTickerSet[:10]:\n",
    "  print(companyInfoDict[companyTicker][139807].RMWSize)"
   ]
  },
  {
   "cell_type": "code",
   "execution_count": null,
   "metadata": {},
   "outputs": [],
   "source": [
    "# CMA (Investment) ranking\n",
    "\n",
    "for month in allMonths:\n",
    "  dataMonthList = []\n",
    "  for companyTicker in companyTickerSet:\n",
    "    if companyInfoDict[companyTicker][month].inv == None:\n",
    "      continue\n",
    "    if companyInfoDict[companyTicker][month].currentYield == None:\n",
    "      continue    \n",
    "    dataMonthList.append(companyInfoDict[companyTicker][month].inv)\n",
    "  if len(dataMonthList) == 0 :\n",
    "    continue\n",
    "  dataMonthList.sort()\n",
    "  # print(len(dataMonthList),int(len(dataMonthList)*0.3))\n",
    "  weakValue = dataMonthList[int(len(dataMonthList)*0.3)]\n",
    "  robustValue = dataMonthList[int(-len(dataMonthList)*0.3)]\n",
    "  # if month == 139902:\n",
    "  #   print(dataMonthList)\n",
    "  for companyTicker in companyTickerSet:\n",
    "    if companyInfoDict[companyTicker][month].inv == None:\n",
    "      continue\n",
    "    if companyInfoDict[companyTicker][month].currentYield == None:\n",
    "      continue\n",
    "    if companyInfoDict[companyTicker][month].inv <= weakValue:\n",
    "      companyInfoDict[companyTicker][month].CMASize = \"Conservative\"\n",
    "    elif companyInfoDict[companyTicker][month].inv >= robustValue:\n",
    "      companyInfoDict[companyTicker][month].CMASize = \"Aggressive\"\n",
    "    else:\n",
    "      companyInfoDict[companyTicker][month].CMASize = \"Neutral\""
   ]
  },
  {
   "cell_type": "code",
   "execution_count": null,
   "metadata": {},
   "outputs": [],
   "source": [
    "def getNextMonth(currentMonth):\n",
    "  return allMonths[allMonths.index(currentMonth)+1]\n",
    "\n",
    "def getNextMonthCompaniesHavingYeild(companyInfoList):\n",
    "  response = []\n",
    "  for companyInfo in companyInfoList:\n",
    "    nextMoonth = companyInfoDict[companyInfo.tickerKey][getNextMonth(companyInfo.month)]\n",
    "    if nextMoonth.currentYield != None:\n",
    "      response.append(nextMoonth)\n",
    "  return response\n"
   ]
  },
  {
   "cell_type": "code",
   "execution_count": null,
   "metadata": {},
   "outputs": [
    {
     "name": "stdout",
     "output_type": "stream",
     "text": [
      "0\n",
      "0\n",
      "0\n",
      "0\n",
      "0\n",
      "0\n",
      "0.004205131873668888\n",
      "0.08140214208484108\n",
      "0.013240881487872277\n",
      "-0.07933831973756245\n"
     ]
    }
   ],
   "source": [
    "HMLFactor = {}\n",
    "SMBBTMFactor = {}\n",
    "for month in allMonths[:-1]:\n",
    "  SH = [companyInfoDict[companyTicker][month] for companyTicker in companyTickerSet if companyInfoDict[companyTicker][month].BperMSize == \"High\" and \\\n",
    "        companyInfoDict[companyTicker][month].size == \"Small\"]\n",
    "  SN = [companyInfoDict[companyTicker][month] for companyTicker in companyTickerSet if companyInfoDict[companyTicker][month].BperMSize == \"Neutral\" and \\\n",
    "        companyInfoDict[companyTicker][month].size == \"Small\"]\n",
    "  SL = [companyInfoDict[companyTicker][month] for companyTicker in companyTickerSet if companyInfoDict[companyTicker][month].BperMSize == \"Low\" and \\\n",
    "        companyInfoDict[companyTicker][month].size == \"Small\"]\n",
    "  BH = [companyInfoDict[companyTicker][month] for companyTicker in companyTickerSet if companyInfoDict[companyTicker][month].BperMSize == \"High\" and \\\n",
    "        companyInfoDict[companyTicker][month].size == \"Big\"]\n",
    "  BN = [companyInfoDict[companyTicker][month] for companyTicker in companyTickerSet if companyInfoDict[companyTicker][month].BperMSize == \"Neutral\" and \\\n",
    "        companyInfoDict[companyTicker][month].size == \"Big\"]\n",
    "  BL = [companyInfoDict[companyTicker][month] for companyTicker in companyTickerSet if companyInfoDict[companyTicker][month].BperMSize == \"Low\" and \\\n",
    "        companyInfoDict[companyTicker][month].size == \"Big\"]\n",
    "  \n",
    "  \n",
    "  SH_average = valueWeightedAverage(getNextMonthCompaniesHavingYeild(SH))\n",
    "  SN_average = valueWeightedAverage(getNextMonthCompaniesHavingYeild(SN))\n",
    "  SL_average = valueWeightedAverage(getNextMonthCompaniesHavingYeild(SL))\n",
    "  BH_average = valueWeightedAverage(getNextMonthCompaniesHavingYeild(BH))\n",
    "  BN_average = valueWeightedAverage(getNextMonthCompaniesHavingYeild(BN))\n",
    "  BL_average = valueWeightedAverage(getNextMonthCompaniesHavingYeild(BL))\n",
    "  \n",
    "  SMBBTMFactor[month] = avgTriple(SH_average,SN_average,SL_average) - avgTriple(BH_average, BN_average, BL_average)\n",
    "  HMLFactor[month] = avgTriple(SH_average, BH_average,None)  - avgTriple(SL_average , BL_average,None)\n",
    "for month in list(HMLFactor.keys())[:10]:\n",
    "  print(HMLFactor[month])"
   ]
  },
  {
   "cell_type": "code",
   "execution_count": null,
   "metadata": {},
   "outputs": [
    {
     "name": "stdout",
     "output_type": "stream",
     "text": [
      "0\n",
      "0\n",
      "0\n",
      "0\n",
      "0\n",
      "0\n",
      "-0.04682343234323416\n",
      "-0.009608016504568329\n",
      "0.024896265560166\n",
      "0.053518044899119044\n"
     ]
    }
   ],
   "source": [
    "RMWFactor = {}\n",
    "SMBRMWFactor = {}\n",
    "for month in allMonths[:-1]:\n",
    "  SR = [companyInfoDict[companyTicker][month] for companyTicker in companyTickerSet if companyInfoDict[companyTicker][month].RMWSize == \"Robust\" and \\\n",
    "        companyInfoDict[companyTicker][month].size == \"Small\"]\n",
    "  SN = [companyInfoDict[companyTicker][month] for companyTicker in companyTickerSet if companyInfoDict[companyTicker][month].RMWSize == \"Neutral\" and \\\n",
    "        companyInfoDict[companyTicker][month].size == \"Small\"]\n",
    "  SW = [companyInfoDict[companyTicker][month] for companyTicker in companyTickerSet if companyInfoDict[companyTicker][month].RMWSize == \"Weak\" and \\\n",
    "        companyInfoDict[companyTicker][month].size == \"Small\"]\n",
    "  BR = [companyInfoDict[companyTicker][month] for companyTicker in companyTickerSet if companyInfoDict[companyTicker][month].RMWSize == \"Robust\" and \\\n",
    "        companyInfoDict[companyTicker][month].size == \"Big\"]\n",
    "  BN = [companyInfoDict[companyTicker][month] for companyTicker in companyTickerSet if companyInfoDict[companyTicker][month].RMWSize == \"Neutral\" and \\\n",
    "        companyInfoDict[companyTicker][month].size == \"Big\"]\n",
    "  BW = [companyInfoDict[companyTicker][month] for companyTicker in companyTickerSet if companyInfoDict[companyTicker][month].RMWSize == \"Weak\" and \\\n",
    "        companyInfoDict[companyTicker][month].size == \"Big\"]\n",
    "  \n",
    "  SR_average = valueWeightedAverage(getNextMonthCompaniesHavingYeild(SR))\n",
    "  SN_average = valueWeightedAverage(getNextMonthCompaniesHavingYeild(SN))\n",
    "  SW_average = valueWeightedAverage(getNextMonthCompaniesHavingYeild(SW))\n",
    "  BR_average = valueWeightedAverage(getNextMonthCompaniesHavingYeild(BR))\n",
    "  BN_average = valueWeightedAverage(getNextMonthCompaniesHavingYeild(BN))\n",
    "  BW_average = valueWeightedAverage(getNextMonthCompaniesHavingYeild(BW))\n",
    "\n",
    "  SMBRMWFactor[month] = avgTriple(SR_average , SN_average, SW_average) - avgTriple(BR_average, BN_average, BW_average)\n",
    "  RMWFactor[month] = avgTriple(SR_average, BW_average,None) - avgTriple(SW_average, BW_average,None)\n",
    "for month in list(RMWFactor.keys())[:10]:\n",
    "  print(RMWFactor[month])"
   ]
  },
  {
   "cell_type": "code",
   "execution_count": null,
   "metadata": {},
   "outputs": [
    {
     "name": "stdout",
     "output_type": "stream",
     "text": [
      "0\n",
      "0\n",
      "0\n",
      "0\n",
      "0\n",
      "0\n",
      "-0.004205131873668888\n",
      "-0.08140214208484108\n",
      "-0.013240881487872277\n",
      "0.07933831973756245\n"
     ]
    }
   ],
   "source": [
    "CMAFactor = {}\n",
    "SMBCMAFactor = {}\n",
    "for month in allMonths[:-1]:\n",
    "  SA = [companyInfoDict[companyTicker][month] for companyTicker in companyTickerSet if companyInfoDict[companyTicker][month].CMASize == \"Aggressive\" and \\\n",
    "        companyInfoDict[companyTicker][month].size == \"Small\"]\n",
    "  SN = [companyInfoDict[companyTicker][month] for companyTicker in companyTickerSet if companyInfoDict[companyTicker][month].CMASize == \"Neutral\" and \\\n",
    "        companyInfoDict[companyTicker][month].size == \"Small\"]\n",
    "  SC = [companyInfoDict[companyTicker][month] for companyTicker in companyTickerSet if companyInfoDict[companyTicker][month].CMASize == \"Conservative\" and \\\n",
    "        companyInfoDict[companyTicker][month].size == \"Small\"]\n",
    "  BA = [companyInfoDict[companyTicker][month] for companyTicker in companyTickerSet if companyInfoDict[companyTicker][month].CMASize == \"Aggressive\" and \\\n",
    "        companyInfoDict[companyTicker][month].size == \"Big\"]\n",
    "  BN = [companyInfoDict[companyTicker][month] for companyTicker in companyTickerSet if companyInfoDict[companyTicker][month].CMASize == \"Neutral\" and \\\n",
    "        companyInfoDict[companyTicker][month].size == \"Big\"]\n",
    "  BC = [companyInfoDict[companyTicker][month] for companyTicker in companyTickerSet if companyInfoDict[companyTicker][month].CMASize == \"Conservative\" and \\\n",
    "        companyInfoDict[companyTicker][month].size == \"Big\"]\n",
    "  \n",
    "  SA_average = valueWeightedAverage(getNextMonthCompaniesHavingYeild(SA))\n",
    "  SN_average = valueWeightedAverage(getNextMonthCompaniesHavingYeild(SN))\n",
    "  SC_average = valueWeightedAverage(getNextMonthCompaniesHavingYeild(SC))\n",
    "  BA_average = valueWeightedAverage(getNextMonthCompaniesHavingYeild(BA))\n",
    "  BN_average = valueWeightedAverage(getNextMonthCompaniesHavingYeild(BN))\n",
    "  BC_average = valueWeightedAverage(getNextMonthCompaniesHavingYeild(BC))\n",
    "\n",
    "  SMBCMAFactor[month] = avgTriple(SA_average, SN_average, SC_average) - avgTriple(BA_average, BN_average, BC_average)\n",
    "  CMAFactor[month] = avgTriple(SC_average, BC_average,None)  - avgTriple(SA_average, BA_average,None)\n",
    "for month in list(CMAFactor.keys())[:10]:\n",
    "  print(CMAFactor[month])"
   ]
  },
  {
   "cell_type": "code",
   "execution_count": null,
   "metadata": {},
   "outputs": [],
   "source": [
    "SMBFactor = {}\n",
    "for month in SMBBTMFactor.keys():\n",
    "  SMBFactor[month] = (SMBBTMFactor[month] + SMBCMAFactor[month] + SMBRMWFactor[month]) / 3\n"
   ]
  },
  {
   "cell_type": "markdown",
   "metadata": {},
   "source": [
    "# Export company list to excel"
   ]
  },
  {
   "cell_type": "code",
   "execution_count": null,
   "metadata": {},
   "outputs": [
    {
     "ename": "KeyboardInterrupt",
     "evalue": "",
     "output_type": "error",
     "traceback": [
      "\u001b[0;31m---------------------------------------------------------------------------\u001b[0m",
      "\u001b[0;31mKeyboardInterrupt\u001b[0m                         Traceback (most recent call last)",
      "\u001b[0;32m/tmp/ipykernel_1495097/215683014.py\u001b[0m in \u001b[0;36m<module>\u001b[0;34m\u001b[0m\n\u001b[1;32m      1\u001b[0m \u001b[0;31m# Example to excel function\u001b[0m\u001b[0;34m\u001b[0m\u001b[0;34m\u001b[0m\u001b[0;34m\u001b[0m\u001b[0m\n\u001b[0;32m----> 2\u001b[0;31m \u001b[0mexportCompanyListToExcel\u001b[0m\u001b[0;34m(\u001b[0m\u001b[0;34m\"calculations\"\u001b[0m\u001b[0;34m)\u001b[0m\u001b[0;34m\u001b[0m\u001b[0;34m\u001b[0m\u001b[0m\n\u001b[0m",
      "\u001b[0;32m/tmp/ipykernel_1495097/3225008412.py\u001b[0m in \u001b[0;36mexportCompanyListToExcel\u001b[0;34m(excelFileName)\u001b[0m\n\u001b[1;32m     17\u001b[0m         \u001b[0;32mbreak\u001b[0m\u001b[0;34m\u001b[0m\u001b[0;34m\u001b[0m\u001b[0m\n\u001b[1;32m     18\u001b[0m   \u001b[0mdfOut\u001b[0m \u001b[0;34m=\u001b[0m \u001b[0mpd\u001b[0m\u001b[0;34m.\u001b[0m\u001b[0mDataFrame\u001b[0m\u001b[0;34m(\u001b[0m\u001b[0mrows\u001b[0m\u001b[0;34m,\u001b[0m\u001b[0mcolumns\u001b[0m\u001b[0;34m=\u001b[0m\u001b[0mcompany_\u001b[0m\u001b[0;34m.\u001b[0m\u001b[0m__dict__\u001b[0m\u001b[0;34m)\u001b[0m\u001b[0;34m\u001b[0m\u001b[0;34m\u001b[0m\u001b[0m\n\u001b[0;32m---> 19\u001b[0;31m   \u001b[0mdfOut\u001b[0m\u001b[0;34m.\u001b[0m\u001b[0mto_excel\u001b[0m\u001b[0;34m(\u001b[0m\u001b[0mexcelFileName\u001b[0m\u001b[0;34m+\u001b[0m\u001b[0;34m'.xlsx'\u001b[0m\u001b[0;34m,\u001b[0m \u001b[0msheet_name\u001b[0m\u001b[0;34m=\u001b[0m\u001b[0;34m'TMPExport'\u001b[0m\u001b[0;34m)\u001b[0m\u001b[0;34m\u001b[0m\u001b[0;34m\u001b[0m\u001b[0m\n\u001b[0m",
      "\u001b[0;32m~/.local/lib/python3.8/site-packages/pandas/core/generic.py\u001b[0m in \u001b[0;36mto_excel\u001b[0;34m(self, excel_writer, sheet_name, na_rep, float_format, columns, header, index, index_label, startrow, startcol, engine, merge_cells, encoding, inf_rep, verbose, freeze_panes, storage_options)\u001b[0m\n\u001b[1;32m   2187\u001b[0m             \u001b[0minf_rep\u001b[0m\u001b[0;34m=\u001b[0m\u001b[0minf_rep\u001b[0m\u001b[0;34m,\u001b[0m\u001b[0;34m\u001b[0m\u001b[0;34m\u001b[0m\u001b[0m\n\u001b[1;32m   2188\u001b[0m         )\n\u001b[0;32m-> 2189\u001b[0;31m         formatter.write(\n\u001b[0m\u001b[1;32m   2190\u001b[0m             \u001b[0mexcel_writer\u001b[0m\u001b[0;34m,\u001b[0m\u001b[0;34m\u001b[0m\u001b[0;34m\u001b[0m\u001b[0m\n\u001b[1;32m   2191\u001b[0m             \u001b[0msheet_name\u001b[0m\u001b[0;34m=\u001b[0m\u001b[0msheet_name\u001b[0m\u001b[0;34m,\u001b[0m\u001b[0;34m\u001b[0m\u001b[0;34m\u001b[0m\u001b[0m\n",
      "\u001b[0;32m~/.local/lib/python3.8/site-packages/pandas/io/formats/excel.py\u001b[0m in \u001b[0;36mwrite\u001b[0;34m(self, writer, sheet_name, startrow, startcol, freeze_panes, engine, storage_options)\u001b[0m\n\u001b[1;32m    819\u001b[0m \u001b[0;34m\u001b[0m\u001b[0m\n\u001b[1;32m    820\u001b[0m         \u001b[0;32mtry\u001b[0m\u001b[0;34m:\u001b[0m\u001b[0;34m\u001b[0m\u001b[0;34m\u001b[0m\u001b[0m\n\u001b[0;32m--> 821\u001b[0;31m             writer.write_cells(\n\u001b[0m\u001b[1;32m    822\u001b[0m                 \u001b[0mformatted_cells\u001b[0m\u001b[0;34m,\u001b[0m\u001b[0;34m\u001b[0m\u001b[0;34m\u001b[0m\u001b[0m\n\u001b[1;32m    823\u001b[0m                 \u001b[0msheet_name\u001b[0m\u001b[0;34m,\u001b[0m\u001b[0;34m\u001b[0m\u001b[0;34m\u001b[0m\u001b[0m\n",
      "\u001b[0;32m~/.local/lib/python3.8/site-packages/pandas/io/excel/_openpyxl.py\u001b[0m in \u001b[0;36mwrite_cells\u001b[0;34m(self, cells, sheet_name, startrow, startcol, freeze_panes)\u001b[0m\n\u001b[1;32m    412\u001b[0m                 \u001b[0mrow\u001b[0m\u001b[0;34m=\u001b[0m\u001b[0mstartrow\u001b[0m \u001b[0;34m+\u001b[0m \u001b[0mcell\u001b[0m\u001b[0;34m.\u001b[0m\u001b[0mrow\u001b[0m \u001b[0;34m+\u001b[0m \u001b[0;36m1\u001b[0m\u001b[0;34m,\u001b[0m \u001b[0mcolumn\u001b[0m\u001b[0;34m=\u001b[0m\u001b[0mstartcol\u001b[0m \u001b[0;34m+\u001b[0m \u001b[0mcell\u001b[0m\u001b[0;34m.\u001b[0m\u001b[0mcol\u001b[0m \u001b[0;34m+\u001b[0m \u001b[0;36m1\u001b[0m\u001b[0;34m\u001b[0m\u001b[0;34m\u001b[0m\u001b[0m\n\u001b[1;32m    413\u001b[0m             )\n\u001b[0;32m--> 414\u001b[0;31m             \u001b[0mxcell\u001b[0m\u001b[0;34m.\u001b[0m\u001b[0mvalue\u001b[0m\u001b[0;34m,\u001b[0m \u001b[0mfmt\u001b[0m \u001b[0;34m=\u001b[0m \u001b[0mself\u001b[0m\u001b[0;34m.\u001b[0m\u001b[0m_value_with_fmt\u001b[0m\u001b[0;34m(\u001b[0m\u001b[0mcell\u001b[0m\u001b[0;34m.\u001b[0m\u001b[0mval\u001b[0m\u001b[0;34m)\u001b[0m\u001b[0;34m\u001b[0m\u001b[0;34m\u001b[0m\u001b[0m\n\u001b[0m\u001b[1;32m    415\u001b[0m             \u001b[0;32mif\u001b[0m \u001b[0mfmt\u001b[0m\u001b[0;34m:\u001b[0m\u001b[0;34m\u001b[0m\u001b[0;34m\u001b[0m\u001b[0m\n\u001b[1;32m    416\u001b[0m                 \u001b[0mxcell\u001b[0m\u001b[0;34m.\u001b[0m\u001b[0mnumber_format\u001b[0m \u001b[0;34m=\u001b[0m \u001b[0mfmt\u001b[0m\u001b[0;34m\u001b[0m\u001b[0;34m\u001b[0m\u001b[0m\n",
      "\u001b[0;32m~/.local/lib/python3.8/site-packages/pandas/io/excel/_base.py\u001b[0m in \u001b[0;36m_value_with_fmt\u001b[0;34m(self, val)\u001b[0m\n\u001b[1;32m    835\u001b[0m         \u001b[0;32mreturn\u001b[0m \u001b[0msheet_name\u001b[0m\u001b[0;34m\u001b[0m\u001b[0;34m\u001b[0m\u001b[0m\n\u001b[1;32m    836\u001b[0m \u001b[0;34m\u001b[0m\u001b[0m\n\u001b[0;32m--> 837\u001b[0;31m     \u001b[0;32mdef\u001b[0m \u001b[0m_value_with_fmt\u001b[0m\u001b[0;34m(\u001b[0m\u001b[0mself\u001b[0m\u001b[0;34m,\u001b[0m \u001b[0mval\u001b[0m\u001b[0;34m)\u001b[0m\u001b[0;34m:\u001b[0m\u001b[0;34m\u001b[0m\u001b[0;34m\u001b[0m\u001b[0m\n\u001b[0m\u001b[1;32m    838\u001b[0m         \"\"\"\n\u001b[1;32m    839\u001b[0m         \u001b[0mConvert\u001b[0m \u001b[0mnumpy\u001b[0m \u001b[0mtypes\u001b[0m \u001b[0mto\u001b[0m \u001b[0mPython\u001b[0m \u001b[0mtypes\u001b[0m \u001b[0;32mfor\u001b[0m \u001b[0mthe\u001b[0m \u001b[0mExcel\u001b[0m \u001b[0mwriters\u001b[0m\u001b[0;34m.\u001b[0m\u001b[0;34m\u001b[0m\u001b[0;34m\u001b[0m\u001b[0m\n",
      "\u001b[0;31mKeyboardInterrupt\u001b[0m: "
     ]
    }
   ],
   "source": [
    "# Example to excel function\n",
    "exportCompanyListToExcel(\"calculations\")"
   ]
  },
  {
   "cell_type": "code",
   "execution_count": null,
   "metadata": {},
   "outputs": [],
   "source": [
    "# Factors to excel\n",
    "rows = []\n",
    "for month in allMonths:\n",
    "     rows.append([\n",
    "       month,\n",
    "       SMBFactor[month] if month in SMBFactor else None,\n",
    "       HMLFactor[month] if month in HMLFactor else None,\n",
    "       RMWFactor[month] if month in RMWFactor else None,\n",
    "       CMAFactor[month] if month in CMAFactor else None,\n",
    "       MoMFactor[month] if month in MoMFactor else None,\n",
    "     ])\n",
    "dfOut = pd.DataFrame(rows, columns=['month',\"SMBFactor\", \"HMLFactor\", \"RMWFactor\", \"CMAFactor\", \"MoMFactor\"])\n",
    "dfOut.to_excel('Factors.xlsx', sheet_name='Factors')"
   ]
  }
 ],
 "metadata": {
  "interpreter": {
   "hash": "31f2aee4e71d21fbe5cf8b01ff0e069b9275f58929596ceb00d14d90e3e16cd6"
  },
  "kernelspec": {
   "display_name": "Python 3.8.10 64-bit",
   "name": "python3"
  },
  "language_info": {
   "codemirror_mode": {
    "name": "ipython",
    "version": 3
   },
   "file_extension": ".py",
   "mimetype": "text/x-python",
   "name": "python",
   "nbconvert_exporter": "python",
   "pygments_lexer": "ipython3",
   "version": "3.8.10"
  },
  "orig_nbformat": 4
 },
 "nbformat": 4,
 "nbformat_minor": 2
}
