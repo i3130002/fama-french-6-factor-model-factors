{
 "metadata": {
  "language_info": {
   "name": "python",
   "version": "3.8.10",
   "mimetype": "text/x-python",
   "codemirror_mode": {
    "name": "ipython",
    "version": 3
   },
   "pygments_lexer": "ipython3",
   "nbconvert_exporter": "python",
   "file_extension": ".py"
  },
  "orig_nbformat": 4,
  "kernelspec": {
   "name": "python3",
   "display_name": "Python 3.8.10 64-bit"
  },
  "interpreter": {
   "hash": "31f2aee4e71d21fbe5cf8b01ff0e069b9275f58929596ceb00d14d90e3e16cd6"
  }
 },
 "nbformat": 4,
 "nbformat_minor": 2,
 "cells": [
  {
   "cell_type": "markdown",
   "source": [
    "# Prepare excel read with pandas"
   ],
   "metadata": {}
  },
  {
   "cell_type": "code",
   "execution_count": 83,
   "source": [
    "import pandas as pd\n",
    "# data = pd.read_excel(r'monthly_market_data - Copy.xlsx')\n",
    "data = pd.read_excel(r'monthly_market_data - Copy (2).xlsx')\n",
    "\n",
    "# print(data)\n"
   ],
   "outputs": [],
   "metadata": {}
  },
  {
   "cell_type": "markdown",
   "source": [
    "# Read Excel to memnory and create classes"
   ],
   "metadata": {}
  },
  {
   "cell_type": "code",
   "execution_count": 84,
   "source": [
    "import operator\n",
    "\n",
    "class CompanyInfo:\n",
    "    def __init__(self, tickerKey, name, month, marketcap,bv, adjClose,inv,op,sourceSubsectorCode\n",
    "):\n",
    "        self.tickerKey = tickerKey\n",
    "        self.name = name\n",
    "        self.month = month\n",
    "        self.rollingAverage = None\n",
    "        self.marketcap = marketcap\n",
    "        self.bv = bv if not pd.isnull(bv) else None\n",
    "        self.closeAdjust = adjClose\n",
    "        self.momentum = None\n",
    "        self.size = None\n",
    "        self.RMWSize = None\n",
    "        self.BperMSize = None\n",
    "        self.currentYield = None\n",
    "        self.inv = inv if not pd.isnull(inv) else None\n",
    "        self.op = op if not pd.isnull(op) else None\n",
    "        self.sourceSubsectorCode = sourceSubsectorCode\n",
    "\n",
    "\n",
    "    def __repr__(self):\n",
    "         return self.__str__()\n",
    "\n",
    "    def __str__(self):\n",
    "        return \"tickerKey:\"+str(self.tickerKey) + \\\n",
    "            \"\\t month:\" + str(self.month) + \\\n",
    "            \"\\t closeAdjust:\" + str(self.closeAdjust) + \\\n",
    "            \"\\t currentYield:\" + str(self.currentYield) + \\\n",
    "            \"\\t marketcap:\" + str(self.marketcap) + \\\n",
    "            \"\\t bv:\" + str(self.bv) + \\\n",
    "            \"\\t rollingAverage:\" + str(self.rollingAverage) + \\\n",
    "            \"\\t momentum:\" + str(self.momentum) + \\\n",
    "            \"\\t size:\" + str(self.size)+\"\\n\"\n",
    "\n",
    "\n",
    "\n",
    "\n",
    "companyInfoList = []\n",
    "companyInfoDict  = {}\n",
    "\n",
    "for i, companyInfoPandas in data.iterrows():\n",
    "    ci = CompanyInfo(tickerKey=companyInfoPandas[\"TickerKey\"],\n",
    "                                       name=companyInfoPandas[\"TickerNamePooyaFA\"],\n",
    "                                       month=companyInfoPandas[\"DayKeyFA\"]// 100,\n",
    "                                       marketcap=companyInfoPandas[\"marketcap\"],\n",
    "                                       bv=companyInfoPandas[\"BV\"],\n",
    "                                       adjClose=companyInfoPandas[\"AdjClose\"],\n",
    "                                       inv=companyInfoPandas[\"INV\"],\n",
    "                                       op=companyInfoPandas[\"OP\"],\n",
    "                                       sourceSubsectorCode=companyInfoPandas[\"SourceSubsectorCode\"],\n",
    "                                       )\n",
    "    companyInfoList.append(ci)\n",
    "    if companyInfoPandas[\"TickerKey\"] not in companyInfoDict:\n",
    "      companyInfoDict[companyInfoPandas[\"TickerKey\"]]={}\n",
    "    companyInfoDict[companyInfoPandas[\"TickerKey\"]][companyInfoPandas[\"DayKeyFA\"]// 100]=ci\n",
    "    \n",
    "print(companyInfoList[:5])\n"
   ],
   "outputs": [
    {
     "output_type": "stream",
     "name": "stdout",
     "text": [
      "[tickerKey:1\t month:139712\t closeAdjust:802.52329928672\t currentYield:None\t marketcap:4959000000000.0\t bv:3842184000000.0\t rollingAverage:None\t momentum:None\t size:None\n",
      ", tickerKey:1\t month:139801\t closeAdjust:1424.9279391449\t currentYield:None\t marketcap:8469000000000.0\t bv:3842184000000.0\t rollingAverage:None\t momentum:None\t size:None\n",
      ", tickerKey:1\t month:139802\t closeAdjust:1550.67115421766\t currentYield:None\t marketcap:9537000000000.0\t bv:3842184000000.0\t rollingAverage:None\t momentum:None\t size:None\n",
      ", tickerKey:1\t month:139803\t closeAdjust:1688.06625022379\t currentYield:None\t marketcap:10419000000000.0\t bv:3899079000000.0\t rollingAverage:None\t momentum:None\t size:None\n",
      ", tickerKey:1\t month:139804\t closeAdjust:1810.8964950632\t currentYield:None\t marketcap:11298000000000.0\t bv:3899079000000.0\t rollingAverage:None\t momentum:None\t size:None\n",
      "]\n"
     ]
    }
   ],
   "metadata": {}
  },
  {
   "cell_type": "markdown",
   "source": [
    "# Dict access sample and test"
   ],
   "metadata": {}
  },
  {
   "cell_type": "code",
   "execution_count": 85,
   "source": [
    "print(list(companyInfoDict.keys())[:10])\n",
    "print(list(companyInfoDict[1].keys())[:10])\n",
    "print(companyInfoDict[1][139712])\n"
   ],
   "outputs": [
    {
     "output_type": "stream",
     "name": "stdout",
     "text": [
      "[1, 9, 10, 219, 223, 231, 234, 239, 243, 247]\n",
      "[139712, 139801, 139802, 139803, 139804, 139805, 139806, 139807, 139808, 139809]\n",
      "tickerKey:1\t month:139712\t closeAdjust:802.52329928672\t currentYield:None\t marketcap:4959000000000.0\t bv:3842184000000.0\t rollingAverage:None\t momentum:None\t size:None\n",
      "\n"
     ]
    }
   ],
   "metadata": {}
  },
  {
   "cell_type": "markdown",
   "source": [
    "# Extract company names"
   ],
   "metadata": {}
  },
  {
   "cell_type": "code",
   "execution_count": 86,
   "source": [
    "companyTickerSet = list(set([companyInfo.tickerKey for companyInfo in companyInfoList]))\n",
    "print(companyTickerSet[0:5])\n"
   ],
   "outputs": [
    {
     "output_type": "stream",
     "name": "stdout",
     "text": [
      "[1, 9, 10, 2080, 75809]\n"
     ]
    }
   ],
   "metadata": {}
  },
  {
   "cell_type": "markdown",
   "source": [
    "# Extract company months"
   ],
   "metadata": {}
  },
  {
   "cell_type": "code",
   "execution_count": 87,
   "source": [
    "allMonths = list(set([companyInfo.month for companyInfo in companyInfoList]))\n",
    "allMonths.sort()\n",
    "print(allMonths)\n",
    "print(\"Total:\",len(allMonths))"
   ],
   "outputs": [
    {
     "output_type": "stream",
     "name": "stdout",
     "text": [
      "[138001, 138002, 138003, 138004, 138005, 138006, 138007, 138008, 138009, 138010, 138011, 138012, 138101, 138102, 138103, 138104, 138105, 138106, 138107, 138108, 138109, 138110, 138111, 138112, 138201, 138202, 138203, 138204, 138205, 138206, 138207, 138208, 138209, 138210, 138211, 138212, 138301, 138302, 138303, 138304, 138305, 138306, 138307, 138308, 138309, 138310, 138311, 138312, 138401, 138402, 138403, 138404, 138405, 138406, 138407, 138408, 138409, 138410, 138411, 138412, 138501, 138502, 138503, 138504, 138505, 138506, 138507, 138508, 138509, 138510, 138511, 138512, 138601, 138602, 138603, 138604, 138605, 138606, 138607, 138608, 138609, 138610, 138611, 138612, 138701, 138702, 138703, 138704, 138705, 138706, 138707, 138708, 138709, 138710, 138711, 138712, 138801, 138802, 138803, 138804, 138805, 138806, 138807, 138808, 138809, 138810, 138811, 138812, 138901, 138902, 138903, 138904, 138905, 138906, 138907, 138908, 138909, 138910, 138911, 138912, 139001, 139002, 139003, 139004, 139005, 139006, 139007, 139008, 139009, 139010, 139011, 139012, 139101, 139102, 139103, 139104, 139105, 139106, 139107, 139108, 139109, 139110, 139111, 139112, 139201, 139202, 139203, 139204, 139205, 139206, 139207, 139208, 139209, 139210, 139211, 139212, 139301, 139302, 139303, 139304, 139305, 139306, 139307, 139308, 139309, 139310, 139311, 139312, 139401, 139402, 139403, 139404, 139405, 139406, 139407, 139408, 139409, 139410, 139411, 139412, 139501, 139502, 139503, 139504, 139505, 139506, 139507, 139508, 139509, 139510, 139511, 139512, 139601, 139602, 139603, 139604, 139605, 139606, 139607, 139608, 139609, 139610, 139611, 139612, 139701, 139702, 139703, 139704, 139705, 139706, 139707, 139708, 139709, 139710, 139711, 139712, 139801, 139802, 139803, 139804, 139805, 139806, 139807, 139808, 139809, 139810, 139811, 139812, 139901, 139902, 139903, 139904, 139905, 139906, 139907, 139908, 139909, 139910, 139911, 139912, 140001, 140002, 140003, 140004]\n",
      "Total: 244\n"
     ]
    }
   ],
   "metadata": {}
  },
  {
   "cell_type": "markdown",
   "source": [
    "# Fill missing close adjust"
   ],
   "metadata": {}
  },
  {
   "cell_type": "code",
   "execution_count": 88,
   "source": [
    "def calculateCloseAdjust(companyHistoricalData, allMonths, monthIndex):\n",
    "  privuseMonthCompanyInfo = [x for x in companyHistoricalData if x.month == allMonths[monthIndex - 1]]\n",
    "  if len(privuseMonthCompanyInfo) == 0:\n",
    "    return None\n",
    "  privuseMonthCompanyInfo:CompanyInfo = privuseMonthCompanyInfo[0]\n",
    "  nextMonthCompanyInfo = [x for x in companyHistoricalData if x.month == allMonths[monthIndex + 1 ]]\n",
    "\n",
    "  if len(nextMonthCompanyInfo) == 1:\n",
    "    nextMonthCompanyInfo:CompanyInfo = nextMonthCompanyInfo[0]\n",
    "    return privuseMonthCompanyInfo.closeAdjust * (1 + (nextMonthCompanyInfo.closeAdjust - privuseMonthCompanyInfo.closeAdjust )   / privuseMonthCompanyInfo.closeAdjust) ** (1/2)\n",
    "\n",
    "  if monthIndex + 2 == len(allMonths):\n",
    "    return None\n",
    "  secondNextMonthCompanyInfo = [x for x in companyHistoricalData if x.month == allMonths[monthIndex + 2 ]]\n",
    "  if len(secondNextMonthCompanyInfo) == 0:\n",
    "    return None\n",
    "  secondNextMonthCompanyInfo:CompanyInfo = secondNextMonthCompanyInfo[0]\n",
    "  return privuseMonthCompanyInfo.closeAdjust * (1 + (secondNextMonthCompanyInfo.closeAdjust - privuseMonthCompanyInfo.closeAdjust )   / privuseMonthCompanyInfo.closeAdjust) ** (1/3)\n",
    "  # print(calculatedCloseAdjust)\n",
    "\n",
    "_missingData = []\n",
    "for tickerKey in companyTickerSet:\n",
    "  companyHistoricalData = [companyInfo for companyInfo in companyInfoList if companyInfo.tickerKey == tickerKey]\n",
    "  startOfData = False\n",
    "  for month in range(1,len(allMonths)-1):\n",
    "    currentCompanyInfo = [x for x in companyHistoricalData if x.month == allMonths[month]]\n",
    "    if len(currentCompanyInfo) > 1:\n",
    "        raise Exception(\"A company cannot have two similar months:\"+ tickerKey+\" month:\"+ allMonths[month])\n",
    "    if len(currentCompanyInfo) == 1:\n",
    "        startOfData = True\n",
    "        continue\n",
    "    if len(currentCompanyInfo) == 0:\n",
    "      closeAdjust = calculateCloseAdjust(companyHistoricalData,allMonths,month)\n",
    "      if closeAdjust is None: \n",
    "        if startOfData :\n",
    "          _missingData.append([\"closeAdjust for tick\",tickerKey,\" Month\",allMonths[month],\" Is None\"])\n",
    "        continue\n",
    "      if type(closeAdjust) != float :\n",
    "        print(\"different type \" ,(closeAdjust))\n",
    "\n",
    "      adjustedCompanyInfo = CompanyInfo(tickerKey,companyHistoricalData[0].name,allMonths[month],None,None,None,None,None,companyHistoricalData[0].sourceSubsectorCode)\n",
    "      adjustedCompanyInfo.closeAdjust = closeAdjust\n",
    "      lastData:CompanyInfo = [companyInfo for companyInfo in companyInfoList if companyInfo.tickerKey == tickerKey][0]\n",
    "      adjustedCompanyInfo.marketcap = lastData.marketcap\n",
    "      companyInfoList.append(adjustedCompanyInfo)\n",
    "      # print(tickerKey,allMonths[month]) # log adjusted\n",
    "\n",
    "print(_missingData[:10])"
   ],
   "outputs": [
    {
     "output_type": "stream",
     "name": "stdout",
     "text": [
      "[['closeAdjust for tick', 9, ' Month', 138403, ' Is None'], ['closeAdjust for tick', 9, ' Month', 138404, ' Is None'], ['closeAdjust for tick', 9, ' Month', 138405, ' Is None'], ['closeAdjust for tick', 9, ' Month', 139203, ' Is None'], ['closeAdjust for tick', 2080, ' Month', 139106, ' Is None'], ['closeAdjust for tick', 2080, ' Month', 139107, ' Is None'], ['closeAdjust for tick', 2080, ' Month', 139108, ' Is None'], ['closeAdjust for tick', 2080, ' Month', 139109, ' Is None'], ['closeAdjust for tick', 2080, ' Month', 139110, ' Is None'], ['closeAdjust for tick', 2080, ' Month', 139111, ' Is None']]\n"
     ]
    }
   ],
   "metadata": {}
  },
  {
   "cell_type": "markdown",
   "source": [
    "# Test data"
   ],
   "metadata": {}
  },
  {
   "cell_type": "code",
   "execution_count": 89,
   "source": [
    "\n",
    "dataToShow = [companyInfo for companyInfo in companyInfoList if companyInfo.tickerKey == 9]\n",
    "dataToShow.sort(key=operator.attrgetter(\"month\"), reverse=False)\n",
    "print(dataToShow[:10])"
   ],
   "outputs": [
    {
     "output_type": "stream",
     "name": "stdout",
     "text": [
      "[tickerKey:9\t month:138001\t closeAdjust:10.2823076702193\t currentYield:None\t marketcap:460800000000.0\t bv:None\t rollingAverage:None\t momentum:None\t size:None\n",
      ", tickerKey:9\t month:138002\t closeAdjust:10.7442082100924\t currentYield:None\t marketcap:481500000000.0\t bv:None\t rollingAverage:None\t momentum:None\t size:None\n",
      ", tickerKey:9\t month:138003\t closeAdjust:11.0434394294015\t currentYield:None\t marketcap:494910000000.0\t bv:None\t rollingAverage:None\t momentum:None\t size:None\n",
      ", tickerKey:9\t month:138004\t closeAdjust:11.5314473910936\t currentYield:None\t marketcap:516780000000.0\t bv:None\t rollingAverage:None\t momentum:None\t size:None\n",
      ", tickerKey:9\t month:138005\t closeAdjust:15.7183394944309\t currentYield:None\t marketcap:552150000000.0\t bv:None\t rollingAverage:None\t momentum:None\t size:None\n",
      ", tickerKey:9\t month:138006\t closeAdjust:15.3929557754753\t currentYield:None\t marketcap:540720000000.0\t bv:None\t rollingAverage:None\t momentum:None\t size:None\n",
      ", tickerKey:9\t month:138007\t closeAdjust:15.1316239696999\t currentYield:None\t marketcap:531540000000.0\t bv:None\t rollingAverage:None\t momentum:None\t size:None\n",
      ", tickerKey:9\t month:138008\t closeAdjust:16.0898405908763\t currentYield:None\t marketcap:565200000000.0\t bv:None\t rollingAverage:None\t momentum:None\t size:None\n",
      ", tickerKey:9\t month:138009\t closeAdjust:16.1257096622572\t currentYield:None\t marketcap:566460000000.0\t bv:None\t rollingAverage:None\t momentum:None\t size:None\n",
      ", tickerKey:9\t month:138010\t closeAdjust:15.4595697651827\t currentYield:None\t marketcap:543060000000.0\t bv:None\t rollingAverage:None\t momentum:None\t size:None\n",
      "]\n"
     ]
    }
   ],
   "metadata": {}
  },
  {
   "cell_type": "markdown",
   "source": [
    "# Yield calculations"
   ],
   "metadata": {}
  },
  {
   "cell_type": "code",
   "execution_count": 90,
   "source": [
    "for tickerKey in companyTickerSet:\n",
    "  companyHistoricalData = [companyInfo for companyInfo in companyInfoList if companyInfo.tickerKey == tickerKey]\n",
    "  for month in range(1,len(allMonths)):\n",
    "    lastMonthData = [companyInfo for companyInfo in companyHistoricalData if companyInfo.month == allMonths[month - 1]]\n",
    "    if len(lastMonthData)==0:\n",
    "      continue\n",
    "    thisMonthData = [companyInfo for companyInfo in companyHistoricalData if companyInfo.month == allMonths[month]]\n",
    "    if len(thisMonthData)==0:\n",
    "      continue\n",
    "    lastMonthData:CompanyInfo = lastMonthData[0]\n",
    "    thisMonthData:CompanyInfo = thisMonthData[0]\n",
    "    thisMonthData.currentYield = thisMonthData.closeAdjust / lastMonthData.closeAdjust - 1\n",
    "    \n",
    "\n",
    "dataToShow = [companyInfo for companyInfo in companyInfoList if companyInfo.tickerKey == 9]\n",
    "dataToShow.sort(key=operator.attrgetter(\"month\"), reverse=False)\n",
    "print(dataToShow[:10])"
   ],
   "outputs": [
    {
     "output_type": "stream",
     "name": "stdout",
     "text": [
      "[tickerKey:9\t month:138001\t closeAdjust:10.2823076702193\t currentYield:None\t marketcap:460800000000.0\t bv:None\t rollingAverage:None\t momentum:None\t size:None\n",
      ", tickerKey:9\t month:138002\t closeAdjust:10.7442082100924\t currentYield:0.04492187499999689\t marketcap:481500000000.0\t bv:None\t rollingAverage:None\t momentum:None\t size:None\n",
      ", tickerKey:9\t month:138003\t closeAdjust:11.0434394294015\t currentYield:0.027850467289718184\t marketcap:494910000000.0\t bv:None\t rollingAverage:None\t momentum:None\t size:None\n",
      ", tickerKey:9\t month:138004\t closeAdjust:11.5314473910936\t currentYield:0.0441898527004958\t marketcap:516780000000.0\t bv:None\t rollingAverage:None\t momentum:None\t size:None\n",
      ", tickerKey:9\t month:138005\t closeAdjust:15.7183394944309\t currentYield:0.36308469885324857\t marketcap:552150000000.0\t bv:None\t rollingAverage:None\t momentum:None\t size:None\n",
      ", tickerKey:9\t month:138006\t closeAdjust:15.3929557754753\t currentYield:-0.020700896495516208\t marketcap:540720000000.0\t bv:None\t rollingAverage:None\t momentum:None\t size:None\n",
      ", tickerKey:9\t month:138007\t closeAdjust:15.1316239696999\t currentYield:-0.016977363515314314\t marketcap:531540000000.0\t bv:None\t rollingAverage:None\t momentum:None\t size:None\n",
      ", tickerKey:9\t month:138008\t closeAdjust:16.0898405908763\t currentYield:0.06332543176430816\t marketcap:565200000000.0\t bv:None\t rollingAverage:None\t momentum:None\t size:None\n",
      ", tickerKey:9\t month:138009\t closeAdjust:16.1257096622572\t currentYield:0.0022292993630552704\t marketcap:566460000000.0\t bv:None\t rollingAverage:None\t momentum:None\t size:None\n",
      ", tickerKey:9\t month:138010\t closeAdjust:15.4595697651827\t currentYield:-0.041309183349221845\t marketcap:543060000000.0\t bv:None\t rollingAverage:None\t momentum:None\t size:None\n",
      "]\n"
     ]
    }
   ],
   "metadata": {}
  },
  {
   "cell_type": "markdown",
   "source": [
    "# Calculate rolling average"
   ],
   "metadata": {}
  },
  {
   "cell_type": "code",
   "execution_count": 91,
   "source": [
    "def getRollingDataWindow(companyHistoricalData,allMonths,rollingWindowSize,endMonthIndex):\n",
    "  rollingDataWindow = []\n",
    "  for monthIndex in range(endMonthIndex+1 - rollingWindowSize,endMonthIndex+1):\n",
    "    currentCompanyInfo = [x for x in companyHistoricalData if x.month == allMonths[monthIndex]]\n",
    "    if len(currentCompanyInfo) == 0:\n",
    "        return rollingDataWindow\n",
    "    if len(currentCompanyInfo) > 1:\n",
    "        raise Exception(\"A company cannot have two similar months:\"+ tickerKey+\" month:\"+ allMonths[monthIndex])\n",
    "    rollingDataWindow.append(currentCompanyInfo[0])\n",
    "  return rollingDataWindow"
   ],
   "outputs": [],
   "metadata": {}
  },
  {
   "cell_type": "code",
   "execution_count": 92,
   "source": [
    "def average(dataList):\n",
    "    if len(dataList)==0:\n",
    "        return None\n",
    "    data = [info.currentYield for info in dataList]\n",
    "    if None in data:\n",
    "      return None\n",
    "    # print(data)\n",
    "    return sum(data) / len(dataList)\n",
    "\n",
    "# print(companyInfoList)\n",
    "rollingAverageWindowSize = 12     #Can be change\n",
    "for tickerKey in companyTickerSet:\n",
    "    # print(\"tickerKey\",tickerKey)\n",
    "    companyHistoricalData = [companyInfo for companyInfo in companyInfoList if companyInfo.tickerKey == tickerKey]\n",
    "    for endMonthIndex in range(rollingAverageWindowSize-1,len(allMonths)):\n",
    "      # print(\"endMonthIndex\",endMonthIndex)\n",
    "      rollingDataWindow = getRollingDataWindow(companyHistoricalData,allMonths, rollingAverageWindowSize,endMonthIndex)\n",
    "      if len(rollingDataWindow) != rollingAverageWindowSize: continue\n",
    "      currentCompanyInfo = [x for x in companyHistoricalData if x.month == allMonths[endMonthIndex]]\n",
    "      currentCompanyInfo:CompanyInfo = currentCompanyInfo[0]\n",
    "      currentCompanyInfo.rollingAverage = average(rollingDataWindow)\n",
    "\n",
    "print(companyInfoList[:10])"
   ],
   "outputs": [
    {
     "output_type": "stream",
     "name": "stdout",
     "text": [
      "[tickerKey:1\t month:139712\t closeAdjust:802.52329928672\t currentYield:None\t marketcap:4959000000000.0\t bv:3842184000000.0\t rollingAverage:None\t momentum:None\t size:None\n",
      ", tickerKey:1\t month:139801\t closeAdjust:1424.9279391449\t currentYield:0.7755595886267366\t marketcap:8469000000000.0\t bv:3842184000000.0\t rollingAverage:None\t momentum:None\t size:None\n",
      ", tickerKey:1\t month:139802\t closeAdjust:1550.67115421766\t currentYield:0.08824531516184497\t marketcap:9537000000000.0\t bv:3842184000000.0\t rollingAverage:None\t momentum:None\t size:None\n",
      ", tickerKey:1\t month:139803\t closeAdjust:1688.06625022379\t currentYield:0.08860363180963926\t marketcap:10419000000000.0\t bv:3899079000000.0\t rollingAverage:None\t momentum:None\t size:None\n",
      ", tickerKey:1\t month:139804\t closeAdjust:1810.8964950632\t currentYield:0.07276387690538\t marketcap:11298000000000.0\t bv:3899079000000.0\t rollingAverage:None\t momentum:None\t size:None\n",
      ", tickerKey:1\t month:139805\t closeAdjust:2593.30717941068\t currentYield:0.43205709795146174\t marketcap:15483000000000.0\t bv:3994065000000.0\t rollingAverage:None\t momentum:None\t size:None\n",
      ", tickerKey:1\t month:139806\t closeAdjust:3179.23425358436\t currentYield:0.22593816838421343\t marketcap:18915000000000.0\t bv:3994065000000.0\t rollingAverage:None\t momentum:None\t size:None\n",
      ", tickerKey:1\t month:139807\t closeAdjust:2508.09059117028\t currentYield:-0.21110229976209316\t marketcap:15198000000000.0\t bv:3985889000000.0\t rollingAverage:None\t momentum:None\t size:None\n",
      ", tickerKey:1\t month:139808\t closeAdjust:3007.79259676934\t currentYield:0.1992360273421776\t marketcap:18000000000000.0\t bv:3985889000000.0\t rollingAverage:None\t momentum:None\t size:None\n",
      ", tickerKey:1\t month:139809\t closeAdjust:3799.95389928814\t currentYield:0.2633696563285839\t marketcap:22653000000000.0\t bv:3985601000000.0\t rollingAverage:None\t momentum:None\t size:None\n",
      "]\n"
     ]
    }
   ],
   "metadata": {}
  },
  {
   "cell_type": "markdown",
   "source": [
    "# set size"
   ],
   "metadata": {}
  },
  {
   "cell_type": "code",
   "execution_count": 93,
   "source": [
    "for month in allMonths:\n",
    "    companiesInMonth = [x for x in companyInfoList if x.month== month]\n",
    "    companiesInMonth.sort(key=operator.attrgetter(\"marketcap\"), reverse=True)\n",
    "    for company in companiesInMonth[0:len(companiesInMonth) // 2]:\n",
    "        company.size = \"Big\"\n",
    "    for company in companiesInMonth[len(companiesInMonth) // 2:]:\n",
    "        company.size = \"Small\"\n",
    "\n",
    "print ([x for x in companiesInMonth if x.size ][-10:])"
   ],
   "outputs": [
    {
     "output_type": "stream",
     "name": "stdout",
     "text": [
      "[tickerKey:1215\t month:140004\t closeAdjust:4600.0\t currentYield:-0.039665970772442605\t marketcap:3826368106560.0\t bv:None\t rollingAverage:-0.06542554575790921\t momentum:None\t size:Small\n",
      ", tickerKey:239\t month:140004\t closeAdjust:78810.0\t currentYield:0.18120503597122295\t marketcap:3822654380660.0\t bv:None\t rollingAverage:-0.009663578698073763\t momentum:None\t size:Small\n",
      ", tickerKey:3006\t month:140004\t closeAdjust:24390.0\t currentYield:0.0567590987868285\t marketcap:3507115000000.0\t bv:None\t rollingAverage:-0.04895767997992262\t momentum:None\t size:Small\n",
      ", tickerKey:1413\t month:140004\t closeAdjust:15440.0\t currentYield:-0.055657492354740046\t marketcap:3110000000000.0\t bv:None\t rollingAverage:-0.04277452500822851\t momentum:None\t size:Small\n",
      ", tickerKey:74108\t month:140004\t closeAdjust:16901.0\t currentYield:-0.033400057191878774\t marketcap:2128654080000.0\t bv:None\t rollingAverage:0.08212308618264089\t momentum:None\t size:Small\n",
      ", tickerKey:2769\t month:140004\t closeAdjust:9794.0\t currentYield:0.0012267429973420452\t marketcap:1865600000000.0\t bv:None\t rollingAverage:0.006001988871454607\t momentum:None\t size:Small\n",
      ", tickerKey:2551\t month:140004\t closeAdjust:6868.0\t currentYield:0.0027741276098700585\t marketcap:1520304000000.0\t bv:None\t rollingAverage:0.04759793880966137\t momentum:None\t size:Small\n",
      ", tickerKey:76298\t month:140004\t closeAdjust:19300.0\t currentYield:0.0\t marketcap:949367000000.0\t bv:-65085000000.0\t rollingAverage:0.02125127970490952\t momentum:None\t size:Small\n",
      ", tickerKey:2511\t month:140004\t closeAdjust:5314.0\t currentYield:-0.009690644800596337\t marketcap:495134700000.0\t bv:None\t rollingAverage:0.018694012886716137\t momentum:None\t size:Small\n",
      ", tickerKey:74132\t month:140004\t closeAdjust:19517.0\t currentYield:0.0\t marketcap:229680000000.0\t bv:None\t rollingAverage:None\t momentum:None\t size:Small\n",
      "]\n"
     ]
    }
   ],
   "metadata": {}
  },
  {
   "cell_type": "code",
   "execution_count": 94,
   "source": [
    "for month in allMonths:\n",
    "    companiesInMonth = [x for x in companyInfoList if x.month== month and x.rollingAverage is not None]\n",
    "    companiesInMonth.sort(key=operator.attrgetter(\"rollingAverage\"), reverse=True)\n",
    "    for company in companiesInMonth[0:len(companiesInMonth) // 2]:\n",
    "        company.momentum = \"High\"\n",
    "    for company in companiesInMonth[len(companiesInMonth) // 2:]:\n",
    "        company.momentum = \"Low\"\n",
    "\n",
    "print ([x for x in companyInfoList if x.rollingAverage ][-10:])"
   ],
   "outputs": [
    {
     "output_type": "stream",
     "name": "stdout",
     "text": [
      "[tickerKey:75686\t month:138411\t closeAdjust:125.89968004447354\t currentYield:0.01644337569404586\t marketcap:21073500000.0\t bv:None\t rollingAverage:0.036746986342645505\t momentum:High\t size:Small\n",
      ", tickerKey:75686\t month:138503\t closeAdjust:139.90566907716092\t currentYield:0.0008644113960807331\t marketcap:21073500000.0\t bv:None\t rollingAverage:0.027257326794709397\t momentum:High\t size:Small\n",
      ", tickerKey:75686\t month:138611\t closeAdjust:147.178239139628\t currentYield:0.0\t marketcap:21073500000.0\t bv:None\t rollingAverage:0.004166800550339578\t momentum:Low\t size:Small\n",
      ", tickerKey:75686\t month:139007\t closeAdjust:2267.24803212713\t currentYield:-0.06217437718838692\t marketcap:21073500000.0\t bv:None\t rollingAverage:0.17979126555748523\t momentum:High\t size:Small\n",
      ", tickerKey:75686\t month:139011\t closeAdjust:1896.4339945054705\t currentYield:-0.10651595750609077\t marketcap:21073500000.0\t bv:None\t rollingAverage:0.04718787585100546\t momentum:High\t size:Small\n",
      ", tickerKey:75686\t month:139104\t closeAdjust:1660.0620388620948\t currentYield:-0.00023880027653533364\t marketcap:21073500000.0\t bv:None\t rollingAverage:-0.040182980697274634\t momentum:Low\t size:Small\n",
      ", tickerKey:75686\t month:139609\t closeAdjust:5511.817690180777\t currentYield:1.7543551871446184e-05\t marketcap:21073500000.0\t bv:None\t rollingAverage:-0.013072609206744265\t momentum:Low\t size:Small\n",
      ", tickerKey:75686\t month:139801\t closeAdjust:5683.924317463954\t currentYield:-0.012317983574067548\t marketcap:21073500000.0\t bv:None\t rollingAverage:0.002616128498235115\t momentum:Low\t size:Small\n",
      ", tickerKey:75686\t month:139804\t closeAdjust:6505.380762971873\t currentYield:0.009897372897590406\t marketcap:21073500000.0\t bv:None\t rollingAverage:0.013368565337343347\t momentum:Low\t size:Small\n",
      ", tickerKey:75686\t month:140001\t closeAdjust:7862.499856915739\t currentYield:0.00019079721609704947\t marketcap:21073500000.0\t bv:None\t rollingAverage:0.0010844296396516258\t momentum:Low\t size:Small\n",
      "]\n"
     ]
    }
   ],
   "metadata": {}
  },
  {
   "cell_type": "markdown",
   "source": [
    "# MomentomFactor factor (MOM)"
   ],
   "metadata": {}
  },
  {
   "cell_type": "code",
   "execution_count": 95,
   "source": [
    "\n",
    "\n",
    "def findCompanyInfo(companyInfoListToSearch, month, tickerKey):\n",
    "    for companyInfo in companyInfoListToSearch:\n",
    "        if companyInfo.month == month and companyInfo.tickerKey == tickerKey:\n",
    "            return companyInfo\n",
    "    return None\n",
    "\n",
    "\n",
    "momentomFactor = {}\n",
    "\n",
    "for index,month in enumerate(allMonths[:-1]):\n",
    "    # Get companies of corrent month\n",
    "    companiesInMonth = [x for x in companyInfoList if x.month== month]\n",
    "    companiesInNextMonth = [x for x in companyInfoList if x.month== allMonths[index+1]]\n",
    "    # Get companis for these filters SL SH BL BH\n",
    "    SL = [company for company in companiesInMonth if company.size == \"Small\" and company.momentum == \"Low\"]\n",
    "    SH = [company for company in companiesInMonth if company.size == \"Small\" and company.momentum == \"High\"]\n",
    "    BL = [company for company in companiesInMonth if company.size == \"Big\" and company.momentum == \"Low\"]\n",
    "    BH = [company for company in companiesInMonth if company.size == \"Big\" and company.momentum == \"High\"]\n",
    "    # Get companies next month info\n",
    "    BH_average = [findCompanyInfo(companiesInNextMonth,allMonths[index+1],company.tickerKey) for company in BH]\n",
    "    BL_average = [findCompanyInfo(companiesInNextMonth,allMonths[index+1],company.tickerKey) for company in BL]\n",
    "    SH_average = [findCompanyInfo(companiesInNextMonth,allMonths[index+1],company.tickerKey) for company in SH]\n",
    "    SL_average = [findCompanyInfo(companiesInNextMonth,allMonths[index+1],company.tickerKey) for company in SL]\n",
    "    # Get companies next month currentYield\n",
    "    BH_average = average([x for x in BH_average if x is not None])\n",
    "    BL_average = average([x for x in BL_average if x is not None])\n",
    "    SH_average = average([x for x in SH_average if x is not None])\n",
    "    SL_average = average([x for x in SL_average if x is not None])\n",
    "    \n",
    "    # If all were filled, Add to momentomFactor\n",
    "    if (BH_average and BL_average and SH_average and SL_average ):\n",
    "        momentomFactor[month]=(0.5 * (SH_average + BH_average) - 0.5 * (SL_average + BL_average))\n",
    "\n",
    "print(momentomFactor)\n"
   ],
   "outputs": [
    {
     "output_type": "stream",
     "name": "stdout",
     "text": [
      "{138101: 0.07206941759554952, 138102: 0.0697847137243832, 138103: 0.06744335914377779, 138104: -0.0015105458573093783, 138105: -0.040339805468873974, 138106: -0.029171114147337363, 138107: 0.0241790707186645, 138108: -0.02290140230842469, 138109: 0.025830105452405612, 138110: 0.009904427836935428, 138111: -0.02824440386050234, 138112: -0.013254188105080542, 138201: 0.028277700392848, 138202: 0.03599469705629717, 138203: 0.08891377930564487, 138204: 0.05921205928369964, 138205: -0.007943948491297058, 138206: -0.0166705797659299, 138207: 0.016450687834585594, 138208: 0.026730305837196724, 138209: 0.0425430076721426, 138210: 0.006396807310781823, 138211: 0.011910859642527687, 138212: 0.043709477034975026, 138301: 0.024034971110660656, 138302: 0.06583821891286633, 138303: 0.08946487859934239, 138304: 0.0656837472612771, 138305: -0.013551574204424731, 138306: -0.03549957311981686, 138307: -0.006367417777503333, 138308: -0.0620321273758678, 138309: -0.010242012210547255, 138310: -0.0403513783330673, 138311: -0.01023956876950229, 138312: 0.03095640749527194, 138401: 0.02459982616805347, 138402: 0.01602914186347908, 138403: -0.14223435004590973, 138404: 0.014720914751289439, 138405: 0.015392333448934224, 138406: -0.01120640327899678, 138407: -0.01012483245505072, 138408: 0.03482389675989547, 138409: 0.006135885739341738, 138410: 0.025311839845218516, 138411: 0.03433729961811771, 138412: 0.014987996080588081, 138501: 0.02092650781741449, 138502: 0.011732902916999868, 138503: 0.002060934385651053, 138504: 0.0783635340791791, 138505: 0.023163812250821876, 138506: 0.018363672109991822, 138507: 0.03948112332788417, 138508: 0.05002243335015012, 138509: -0.028593084119607065, 138510: -0.014567606046510901, 138511: 0.004365054928328553, 138512: 0.011007046050539732, 138601: 0.014461590517158032, 138602: 0.02729844518194261, 138603: 0.04334781354239722, 138604: 0.08127597771883421, 138605: 0.03639803524649975, 138606: 0.015336255798403578, 138607: 0.013291596638636702, 138608: 0.0167375135448413, 138609: 0.02087487462747123, 138610: 0.0459397118374364, 138611: 0.0313809803262628, 138612: 0.027548479889765234, 138701: 0.038272574646347285, 138702: 0.04709824412216494, 138703: 0.028806220980276687, 138704: -0.05769667544487307, 138705: -0.03798895591634865, 138706: -0.016923723406056138, 138707: 0.020793824187346856, 138708: -0.006413153978642734, 138709: -0.008259716377486433, 138710: 0.02148046790353783, 138711: 0.022753081448690433, 138712: -0.013743131023628966, 138801: -0.07409552707184414, 138802: -0.03761215904285399, 138803: 0.08984313269267719, 138804: -0.0009969260985507045, 138805: -0.057636618056087545, 138806: 0.018811961486525836, 138807: 0.0021371751794210907, 138808: -0.023769848397101886, 138809: 0.01916765446640818, 138810: 0.05430170761616774, 138811: 0.03689391540240182, 138812: 0.004195027819536484, 138901: -0.0029588054216625193, 138902: 0.007834413924113624, 138903: 0.029471319483098377, 138904: 0.012957833823981552, 138905: -0.025727447815829613, 138906: -0.004381741061059163, 138907: -0.004351340295725165, 138908: -0.003103505455297806, 138909: 0.00935737008079493, 138910: 0.005096823167780963, 138911: 0.04285232058648803, 138912: 0.03174803191490287, 139001: 0.0017832441640789343, 139002: 0.005714514054997975, 139003: -0.022650058213997782, 139004: 0.02406516662159526, 139005: 0.01924389711663721, 139006: -0.008161138451292769, 139007: 0.07688551937136896, 139008: 0.026612868066450187, 139009: -0.004992640937380447, 139010: 0.07791409605847566, 139011: -0.04313434518318422, 139012: -0.025686391367273756, 139101: -0.023253604536127445, 139102: 0.004602052811674626, 139103: -0.01661505722142071, 139104: 0.031098998194569183, 139105: 0.014310137868239703, 139106: 0.034162105183842356, 139107: 0.059572414675488496, 139108: 0.029986632710478266, 139109: 0.03704349143909379, 139110: 0.05925805817312227, 139111: -0.031288109748996776, 139112: 0.06427414143489524, 139201: 0.05624964515731956, 139202: 0.05168083271066942, 139203: -0.05729583589767012, 139204: 0.00022009239467682407, 139205: -0.012919279799926783, 139206: 0.027930214980282336, 139207: -0.0017616894693306129, 139208: -0.07519170422472407, 139209: -0.018195724235270744, 139210: -0.08590185764035663, 139211: 0.0024642469278333716, 139212: -0.00515233653102308, 139301: -0.011673096134653116, 139302: -0.008919800446101862, 139303: -0.019848236343235737, 139304: -0.0011422055898244517, 139305: 0.009369270687239114, 139306: 0.015133049141156596, 139307: 0.017303552458999616, 139308: 0.02194418940606064, 139309: 0.005617423934966073, 139310: 0.0006224995826938327, 139311: 0.006315946169312105, 139312: -0.025628682836404293, 139401: 0.003593833563587754, 139402: 0.010973648687425633, 139403: 0.014009003895541973, 139404: 0.008620085598247722, 139405: -0.014057530386253184, 139406: -0.01041189052548688, 139407: -0.00505636809478326, 139408: 0.018091812072721064, 139409: -0.06304426566205747, 139410: -0.030239006185930395, 139411: -0.02003946571139025, 139412: -0.023955587448967523, 139501: -0.005865520846999921, 139502: 0.010656225070407706, 139503: 0.004975515876092976, 139504: 0.001372829415415347, 139505: 0.01536856883108405, 139506: 0.015982173224068863, 139507: -0.03291337711279323, 139508: -0.034091924754306516, 139509: 0.010714380279670869, 139510: 0.012975064659483632, 139511: 0.005133596299973425, 139512: -0.02618392032789381, 139601: 0.011263380344907106, 139602: -0.0012085579583284989, 139603: 0.04963581631347817, 139604: 0.029976825523985163, 139605: -0.023345326919024006, 139606: 0.02410647304245789, 139607: 0.01986737578273203, 139608: 0.0018140898001573307, 139609: 0.0367538771629555, 139610: 0.015914052164546742, 139611: -0.004348345899425999, 139612: 0.03269996769870698, 139701: -0.01109774306259359, 139702: 0.016725898374162287, 139703: 0.01604611758547051, 139704: 0.07665715353229828, 139705: -0.1279336335756558, 139706: 0.03691427823923027, 139707: -0.015876163631028183, 139708: 0.0036238481468044773, 139709: -0.006696751011540103, 139710: -0.001686105853822506, 139711: 0.024424796183567188, 139712: -0.006287128029605404, 139801: -0.01785010039710111, 139802: -0.012261531924637858, 139803: 0.024773404914056843, 139804: 0.0231690318445259, 139805: -0.03144334094613671, 139806: -0.01206496735468128, 139807: 0.030627086203446993, 139808: 0.015615629497892858, 139809: -0.01855039192286151, 139810: 0.017644576352035812, 139811: 0.002836383046910085, 139812: -0.10182765804124883, 139901: -0.11971496989197128, 139902: -0.03330306963158228, 139903: -0.05890173652979491, 139904: 0.0010261203981764833, 139905: -0.03856911615097677, 139906: -0.035241472709951496, 139907: -0.008024224669657402, 139908: -0.04814515683866144, 139909: -0.08729560579386643, 139910: -0.04200020155068458, 139911: 0.008421542158414036, 139912: -0.00984658843328249, 140001: 0.0031082771782463964, 140002: -0.005608634069062306, 140003: -0.03396344327841083}\n"
     ]
    }
   ],
   "metadata": {}
  },
  {
   "cell_type": "code",
   "execution_count": 96,
   "source": [
    "# Display\n",
    " \n",
    "output = \"\"\n",
    "companyTickerSet.sort()\n",
    "output+=\"Data\\TickerKey,\"\n",
    "\n",
    "for company in companyTickerSet:\n",
    "  output+=str(company) + \",\"\n",
    "output += \"\\n\"\n",
    "for month in allMonths:\n",
    "    \n",
    "    output+=str(month) + \",\"\n",
    "    for company in companyTickerSet[:10]:\n",
    "      dataToShow = [x for x in companyInfoList if x.month== month and x.tickerKey==company]\n",
    "      if len(dataToShow)!=1:\n",
    "        output+= \",\"\n",
    "      else:\n",
    "        output+=str(dataToShow[0].currentYield) + \",\"\n",
    "    output += \"\\n\"\n",
    "    \n",
    "\n",
    "print(output[:1000])"
   ],
   "outputs": [
    {
     "output_type": "stream",
     "name": "stdout",
     "text": [
      "Data\\TickerKey,1,9,10,219,223,231,234,239,243,247,251,255,259,263,267,271,275,279,283,287,291,295,301,303,307,311,315,320,323,327,336,340,344,347,350,355,359,363,370,375,378,383,389,395,398,403,406,411,414,422,423,430,432,434,438,446,447,450,454,458,463,466,474,475,478,483,487,490,494,499,502,510,511,515,517,526,527,534,538,547,550,558,559,563,566,574,575,578,583,587,591,599,603,607,610,615,622,627,631,635,640,646,647,654,655,659,662,667,670,675,680,687,689,698,708,711,718,724,725,731,733,743,744,747,751,754,759,762,767,772,774,779,786,787,791,794,798,801,807,810,815,820,822,827,839,842,847,852,855,863,866,871,875,879,883,887,890,893,899,902,908,909,915,922,931,935,939,943,947,951,955,958,965,968,969,981,985,990,993,1003,1010,1013,1020,1028,1032,1033,1041,1044,1048,1053,1059,1064,1068,1074,1077,1084,1088,1093,1099,1101,1106,1109,1110,1117,1120,1125,1133,1137,1141,1144,1149,1152,1157,1161,1169,1174,1177,1180,1185,1187,1193,1197,1200,1205,1211,1214,1215,1222,1224,1226,1233,1235,1242,1247\n"
     ]
    }
   ],
   "metadata": {}
  },
  {
   "cell_type": "markdown",
   "source": [
    "# Book to market Calc"
   ],
   "metadata": {}
  },
  {
   "cell_type": "code",
   "execution_count": 97,
   "source": [
    "#  Fill all marketcap based on the last one\n",
    "for companyTicker in companyTickerSet:\n",
    "  for index,month in enumerate(allMonths):\n",
    "    if month not in companyInfoDict[companyTicker]:\n",
    "      firstData:CompanyInfo = companyInfoDict[companyTicker][list(companyInfoDict[companyTicker].keys())[0]]\n",
    "      c = CompanyInfo(companyTicker,firstData.name,month,None,None,None,None,None,firstData.sourceSubsectorCode)\n",
    "      if index > 0 and allMonths[index-1] in companyInfoDict[companyTicker]:\n",
    "        c.marketcap = companyInfoDict[companyTicker][allMonths[index-1]].marketcap\n",
    "        c.bv = companyInfoDict[companyTicker][allMonths[index-1]].bv\n",
    "        c.inv = companyInfoDict[companyTicker][allMonths[index-1]].inv\n",
    "        c.op = companyInfoDict[companyTicker][allMonths[index-1]].op\n",
    "      companyInfoDict[companyTicker][month] = c\n",
    "  # print(companyInfoDict[companyTicker][139712])\n",
    "\n",
    "for month in sorted(companyInfoDict[1].keys())[:10]:\n",
    "  print(companyInfoDict[9][month])"
   ],
   "outputs": [
    {
     "output_type": "stream",
     "name": "stdout",
     "text": [
      "tickerKey:9\t month:138001\t closeAdjust:10.2823076702193\t currentYield:None\t marketcap:460800000000.0\t bv:None\t rollingAverage:None\t momentum:None\t size:Big\n",
      "\n",
      "tickerKey:9\t month:138002\t closeAdjust:10.7442082100924\t currentYield:0.04492187499999689\t marketcap:481500000000.0\t bv:None\t rollingAverage:None\t momentum:None\t size:Big\n",
      "\n",
      "tickerKey:9\t month:138003\t closeAdjust:11.0434394294015\t currentYield:0.027850467289718184\t marketcap:494910000000.0\t bv:None\t rollingAverage:None\t momentum:None\t size:Big\n",
      "\n",
      "tickerKey:9\t month:138004\t closeAdjust:11.5314473910936\t currentYield:0.0441898527004958\t marketcap:516780000000.0\t bv:None\t rollingAverage:None\t momentum:None\t size:Big\n",
      "\n",
      "tickerKey:9\t month:138005\t closeAdjust:15.7183394944309\t currentYield:0.36308469885324857\t marketcap:552150000000.0\t bv:None\t rollingAverage:None\t momentum:None\t size:Big\n",
      "\n",
      "tickerKey:9\t month:138006\t closeAdjust:15.3929557754753\t currentYield:-0.020700896495516208\t marketcap:540720000000.0\t bv:None\t rollingAverage:None\t momentum:None\t size:Big\n",
      "\n",
      "tickerKey:9\t month:138007\t closeAdjust:15.1316239696999\t currentYield:-0.016977363515314314\t marketcap:531540000000.0\t bv:None\t rollingAverage:None\t momentum:None\t size:Big\n",
      "\n",
      "tickerKey:9\t month:138008\t closeAdjust:16.0898405908763\t currentYield:0.06332543176430816\t marketcap:565200000000.0\t bv:None\t rollingAverage:None\t momentum:None\t size:Big\n",
      "\n",
      "tickerKey:9\t month:138009\t closeAdjust:16.1257096622572\t currentYield:0.0022292993630552704\t marketcap:566460000000.0\t bv:None\t rollingAverage:None\t momentum:None\t size:Big\n",
      "\n",
      "tickerKey:9\t month:138010\t closeAdjust:15.4595697651827\t currentYield:-0.041309183349221845\t marketcap:543060000000.0\t bv:None\t rollingAverage:None\t momentum:None\t size:Big\n",
      "\n"
     ]
    }
   ],
   "metadata": {}
  },
  {
   "cell_type": "code",
   "execution_count": 98,
   "source": [
    "for companyTicker in companyTickerSet:\n",
    "  lastBvOfTheYear = None\n",
    "  lastINVOfTheYear = None\n",
    "  lastOpOfTheYear = None\n",
    "  for month in allMonths:\n",
    "    if month % 100 == 5:\n",
    "      lastBvOfTheYear = companyInfoDict[companyTicker][month].bv\n",
    "      lastBvOfTheYear = companyInfoDict[companyTicker][month].inv\n",
    "      lastBvOfTheYear = companyInfoDict[companyTicker][month].op\n",
    "    # TODO ASK if we should keep values before the first month of 5\n",
    "    # if lastBvOfTheYear != None:\n",
    "    companyInfoDict[companyTicker][month].bv = lastBvOfTheYear     \n",
    "\n"
   ],
   "outputs": [],
   "metadata": {}
  },
  {
   "cell_type": "code",
   "execution_count": 99,
   "source": [
    "# for month in sorted(companyInfoDict[1].keys())[:10]:\n",
    "#   print(companyInfoDict[9][month])"
   ],
   "outputs": [],
   "metadata": {}
  },
  {
   "cell_type": "code",
   "execution_count": 100,
   "source": [
    "# Book To market ranking\n",
    "\n",
    "for month in allMonths:\n",
    "  bvMonthList = []\n",
    "  for companyTicker in companyTickerSet:\n",
    "    if companyInfoDict[companyTicker][month].bv == None:\n",
    "      continue\n",
    "    bvMonthList.append(companyInfoDict[companyTicker][month].bv)\n",
    "  if len(bvMonthList) == 0 :\n",
    "    continue\n",
    "  bvMonthList.sort()\n",
    "  # print(len(bvMonthList),int(len(bvMonthList)*0.3))\n",
    "  lowBookToMarket = bvMonthList[int(len(bvMonthList)*0.3)]\n",
    "  highBookToMarket = bvMonthList[int(-len(bvMonthList)*0.3)]\n",
    "\n",
    "  for companyTicker in companyTickerSet:\n",
    "    if companyInfoDict[companyTicker][month].bv == None:\n",
    "      continue\n",
    "    if companyInfoDict[companyTicker][month].bv <= lowBookToMarket:\n",
    "      companyInfoDict[companyTicker][month].BperMSize = \"Low\"\n",
    "    elif companyInfoDict[companyTicker][month].bv >= highBookToMarket:\n",
    "      companyInfoDict[companyTicker][month].BperMSize = \"High\"\n",
    "    else:\n",
    "      companyInfoDict[companyTicker][month].BperMSize = \"Neutral\"\n",
    "\n"
   ],
   "outputs": [],
   "metadata": {}
  },
  {
   "cell_type": "code",
   "execution_count": 103,
   "source": [
    "# RMW (Operational profit) ranking\n",
    "\n",
    "for month in allMonths:\n",
    "  dataMonthList = []\n",
    "  for companyTicker in companyTickerSet:\n",
    "    if companyInfoDict[companyTicker][month].op == None:\n",
    "      continue\n",
    "    dataMonthList.append(companyInfoDict[companyTicker][month].op)\n",
    "  if len(dataMonthList) == 0 :\n",
    "    continue\n",
    "  dataMonthList.sort()\n",
    "  # print(len(dataMonthList),int(len(dataMonthList)*0.3))\n",
    "  weakValue = dataMonthList[int(len(dataMonthList)*0.3)]\n",
    "  robustValue = dataMonthList[int(-len(dataMonthList)*0.3)]\n",
    "  # if month == 139902:\n",
    "  #   print(dataMonthList)\n",
    "  for companyTicker in companyTickerSet:\n",
    "    if companyInfoDict[companyTicker][month].op == None:\n",
    "      continue\n",
    "    if companyInfoDict[companyTicker][month].op <= weakValue:\n",
    "      companyInfoDict[companyTicker][month].RMWSize = \"Weak\"\n",
    "    elif companyInfoDict[companyTicker][month].op >= robustValue:\n",
    "      companyInfoDict[companyTicker][month].RMWSize = \"Robust\"\n",
    "    else:\n",
    "      companyInfoDict[companyTicker][month].RMWSize = \"Neutral\""
   ],
   "outputs": [],
   "metadata": {}
  },
  {
   "cell_type": "code",
   "execution_count": 105,
   "source": [
    "\n",
    "for companyTicker in companyTickerSet[:10]:\n",
    "  print(companyInfoDict[companyTicker][139902].RMWSize)"
   ],
   "outputs": [
    {
     "output_type": "stream",
     "name": "stdout",
     "text": [
      "Neutral\n",
      "Neutral\n",
      "Weak\n",
      "Neutral\n",
      "Neutral\n",
      "Neutral\n",
      "Weak\n",
      "Robust\n",
      "Neutral\n",
      "Neutral\n"
     ]
    }
   ],
   "metadata": {}
  },
  {
   "cell_type": "code",
   "execution_count": null,
   "source": [
    "# CMA (Investment) ranking\n",
    "\n",
    "for month in allMonths:\n",
    "  dataMonthList = []\n",
    "  for companyTicker in companyTickerSet:\n",
    "    if companyInfoDict[companyTicker][month].inv == None:\n",
    "      continue\n",
    "    dataMonthList.append(companyInfoDict[companyTicker][month].inv)\n",
    "  if len(dataMonthList) == 0 :\n",
    "    continue\n",
    "  dataMonthList.sort()\n",
    "  # print(len(dataMonthList),int(len(dataMonthList)*0.3))\n",
    "  weakValue = dataMonthList[int(len(dataMonthList)*0.3)]\n",
    "  robustValue = dataMonthList[int(-len(dataMonthList)*0.3)]\n",
    "  # if month == 139902:\n",
    "  #   print(dataMonthList)\n",
    "  for companyTicker in companyTickerSet:\n",
    "    if companyInfoDict[companyTicker][month].inv == None:\n",
    "      continue\n",
    "    if companyInfoDict[companyTicker][month].inv <= weakValue:\n",
    "      companyInfoDict[companyTicker][month].CMASize = \"Conservative\"\n",
    "    elif companyInfoDict[companyTicker][month].inv >= robustValue:\n",
    "      companyInfoDict[companyTicker][month].CMASize = \"Aggressive\"\n",
    "    else:\n",
    "      companyInfoDict[companyTicker][month].CMASize = \"Neutral\""
   ],
   "outputs": [],
   "metadata": {}
  }
 ]
}