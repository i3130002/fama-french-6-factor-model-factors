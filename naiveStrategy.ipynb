{
 "cells": [
  {
   "cell_type": "code",
   "execution_count": 1,
   "metadata": {},
   "outputs": [
    {
     "name": "stdout",
     "output_type": "stream",
     "text": [
      "0.9324334195579067\n"
     ]
    }
   ],
   "source": [
    "import pandas\n",
    "from sklearn import linear_model\n",
    "from sklearn.metrics import *\n",
    "\n",
    "\n",
    "def saveDFToExcel(dataFrame,fileName,sheetName):\n",
    "  regressionDF = pandas.DataFrame(dataFrame)\n",
    "  regressionDF.to_excel(fileName + '.xlsx', sheet_name=sheetName,index=False)\n",
    "\n",
    "df = pandas.read_excel(\"Factors (with market & industries).xlsx\", \"Factors\")\n",
    "offsetMonths = 36\n",
    "industryCount = 50\n",
    "\n",
    "strategyYield = 1\n",
    "monthlyYieldHistory = {\"month\":[],\"yield\":[],\"strategyYield\":[]}\n",
    "\n",
    "for monthIndex in range(offsetMonths,len(df)-1):\n",
    "  weight = 1/ industryCount\n",
    "  monthYield = 0\n",
    "  for i in range(1,industryCount+1):\n",
    "      monthYield += weight* df[\"Industry\"+str(i)][monthIndex+1]\n",
    "  strategyYield *= 1+monthYield\n",
    "  monthlyYieldHistory[\"month\"].append(df[\"month\"][monthIndex+1])\n",
    "  monthlyYieldHistory[\"yield\"].append(monthYield)\n",
    "  monthlyYieldHistory[\"strategyYield\"].append(strategyYield)\n",
    "\n",
    "\n",
    "print(strategyYield)\n",
    "\n",
    "saveDFToExcel(monthlyYieldHistory,\"NaiveStrategy\",\"Monthly yields\")"
   ]
  }
 ],
 "metadata": {
  "interpreter": {
   "hash": "1448b48b023bcc9c3d4a79e814720a10ca6d4244f75e0f7ce4af58f96ba2b7d3"
  },
  "kernelspec": {
   "display_name": "Python 3.8.8 64-bit ('base': conda)",
   "name": "python3"
  },
  "language_info": {
   "codemirror_mode": {
    "name": "ipython",
    "version": 3
   },
   "file_extension": ".py",
   "mimetype": "text/x-python",
   "name": "python",
   "nbconvert_exporter": "python",
   "pygments_lexer": "ipython3",
   "version": "3.8.8"
  },
  "orig_nbformat": 4
 },
 "nbformat": 4,
 "nbformat_minor": 2
}
