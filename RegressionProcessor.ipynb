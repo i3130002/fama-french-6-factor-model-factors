{
 "cells": [
  {
   "cell_type": "code",
   "execution_count": 30,
   "metadata": {},
   "outputs": [],
   "source": [
    "import pandas\n",
    "from sklearn import linear_model\n",
    "from sklearn.metrics import *\n",
    "\n",
    "axis = [\"SMBFactor\", \"HMLFactor\", \"RMWFactor\",\n",
    "        \"CMAFactor\", \"MoMFactor\", \"Market\"]\n",
    "df = pandas.read_excel(\"Factors (with market & industries).xlsx\", \"Factors\")\n",
    "\n",
    "def calculateRegression(x, y):\n",
    "    regr = linear_model.LinearRegression()\n",
    "    regr.fit(x, y)\n",
    "    yPredict = regr.predict(x)\n",
    "    return regr, yPredict\n",
    "\n",
    "\n",
    "def prepareRegressionDF():\n",
    "    regressionDF = {\n",
    "        \"month\": []\n",
    "    }\n",
    "    for i in axis:\n",
    "        regressionDF[i] = []\n",
    "    regressionDF[\"IndustryYield\"]= []\n",
    "    regressionDF[\"R2\"]= []\n",
    "    regressionDF[\"intercept\"]= []\n",
    "    for i in axis:\n",
    "        regressionDF[\"coefficient_\" + i] = []\n",
    "    return regressionDF\n",
    "\n",
    "\n",
    "def fillRegressionDF(month,IndustryYield,factors,regressionDF,r2, intercept, coef_):\n",
    "    regressionDF[\"month\"].append(month)\n",
    "    regressionDF[\"IndustryYield\"].append(IndustryYield)\n",
    "    for i in range(len(factors)):\n",
    "      regressionDF[axis[i]].append(factors[i])\n",
    "    regressionDF[\"R2\"].append(r2)\n",
    "    regressionDF[\"intercept\"].append(intercept)\n",
    "    for i in axis:\n",
    "        regressionDF[\"coefficient_\" +\n",
    "                     i].append(coef_[axis.index(i)])\n",
    "\n",
    "\n",
    "def produceRegressionDF(x,y):\n",
    "    regressionDF = prepareRegressionDF()\n",
    "    for i in range(len(y)):\n",
    "        factors = []\n",
    "        for factor in axis:\n",
    "          factors.append(df[factor][i])\n",
    "        if i < rollingSize-1:\n",
    "            fillRegressionDF(df[\"month\"][i],y.iloc[i],factors,regressionDF,None, None, [None]*6)\n",
    "            continue\n",
    "\n",
    "        start = i - rollingSize + 1\n",
    "        end = i\n",
    "        regr, yPredict = calculateRegression(x[start:end], y[start:end])\n",
    "        fillRegressionDF(df[\"month\"][i],y.iloc[i],factors,regressionDF,\n",
    "            r2_score(y[start:end], yPredict), regr.intercept_, regr.coef_)\n",
    "    return regressionDF\n",
    "\n",
    "\n",
    "def saveDFToExcel(dataFrame,fileName,sheetName):\n",
    "  regressionDF = pandas.DataFrame(dataFrame)\n",
    "  regressionDF.to_excel(fileName + '.xlsx', sheet_name=sheetName,index=False)\n",
    "\n",
    "def saveRegressionDF(isDisplay,regressionDF):\n",
    "    regressionDF = pandas.DataFrame(regressionDF)\n",
    "    regressionDF.to_excel('regressionOutput.xlsx', sheet_name='regression')\n",
    "    if isDisplay:\n",
    "        print(regressionDF[rollingSize-1-1:rollingSize-1+4])\n",
    "\n",
    "\n",
    "\n",
    "\n",
    "rollingSize = 36\n",
    "x = df[axis]\n",
    "# y = df['IndustryExcessReturn']\n",
    "industryCount = 50\n",
    "industryColumns = [\"Industry\" + str(x) for x in range(1,industryCount+1)]\n",
    "\n",
    "# regressionDF = produceRegressionDF(x,y)\n",
    "# saveRegressionDF(True,regressionDF)\n"
   ]
  },
  {
   "cell_type": "code",
   "execution_count": 31,
   "metadata": {},
   "outputs": [
    {
     "name": "stdout",
     "output_type": "stream",
     "text": [
      "-0.08\n"
     ]
    }
   ],
   "source": [
    "print(y.iloc[1])"
   ]
  },
  {
   "cell_type": "code",
   "execution_count": 32,
   "metadata": {},
   "outputs": [
    {
     "name": "stdout",
     "output_type": "stream",
     "text": [
      "50\n",
      "['Industry1', 'Industry2', 'Industry3', 'Industry4', 'Industry5', 'Industry6', 'Industry7', 'Industry8', 'Industry9', 'Industry10', 'Industry11', 'Industry12', 'Industry13', 'Industry14', 'Industry15', 'Industry16', 'Industry17', 'Industry18', 'Industry19', 'Industry20', 'Industry21', 'Industry22', 'Industry23', 'Industry24', 'Industry25', 'Industry26', 'Industry27', 'Industry28', 'Industry29', 'Industry30', 'Industry31', 'Industry32', 'Industry33', 'Industry34', 'Industry35', 'Industry36', 'Industry37', 'Industry38', 'Industry39', 'Industry40', 'Industry41', 'Industry42', 'Industry43', 'Industry44', 'Industry45', 'Industry46', 'Industry47', 'Industry48', 'Industry49', 'Industry50']\n"
     ]
    }
   ],
   "source": [
    "\n",
    "industryCount = 50\n",
    "industryColumns = [\"Industry\" + str(x) for x in range(1,industryCount+1)]\n",
    "print(industryCount)\n",
    "print(industryColumns)\n",
    "regressionOutput = {}\n",
    "for i in industryColumns:\n",
    "  y = df[i]\n",
    "  regressionOutput[i] = produceRegressionDF(x,y)\n",
    "\n",
    "\n"
   ]
  },
  {
   "cell_type": "code",
   "execution_count": 33,
   "metadata": {},
   "outputs": [
    {
     "name": "stderr",
     "output_type": "stream",
     "text": [
      "/home/user/anaconda3/lib/python3.8/site-packages/xlsxwriter/workbook.py:336: UserWarning: Calling close() on already closed file.\n",
      "  warn(\"Calling close() on already closed file.\")\n"
     ]
    }
   ],
   "source": [
    "import time\n",
    "writer = pandas.ExcelWriter(\"regressionOutput.xlsx\", engine = 'xlsxwriter')\n",
    "for i in industryColumns:\n",
    "  regressionDF = pandas.DataFrame(regressionOutput[i])\n",
    "  regressionDF.to_excel(writer, sheet_name = i)\n",
    "  \n",
    "writer.save()\n",
    "time.sleep(3)\n",
    "writer.close()\n",
    "\n"
   ]
  },
  {
   "cell_type": "code",
   "execution_count": 36,
   "metadata": {},
   "outputs": [
    {
     "name": "stdout",
     "output_type": "stream",
     "text": [
      "[['Industry17', 'Industry23', 'Industry35', 'Industry36', 'Industry43'], ['Industry8', 'Industry17', 'Industry21', 'Industry23', 'Industry36']]\n"
     ]
    }
   ],
   "source": [
    "acceptedIndustriesList = []\n",
    "for monthIndex in range(rollingSize, len(df)):\n",
    "  allIntercepts = []\n",
    "  for i in industryColumns:\n",
    "    allIntercepts.append(regressionOutput[i][\"intercept\"][monthIndex])\n",
    "  allIntercepts.sort()\n",
    "  lastAcceptable = allIntercepts[int(industryCount * -0.1)]\n",
    "  acceptedIndustries = []\n",
    "  for i in industryColumns:\n",
    "    if regressionOutput[i][\"intercept\"][monthIndex]>= lastAcceptable and regressionOutput[i][\"intercept\"][monthIndex]> 0:\n",
    "      acceptedIndustries.append(i)\n",
    "  acceptedIndustriesList.append(acceptedIndustries)\n",
    "\n",
    "print(acceptedIndustriesList[:2])"
   ]
  },
  {
   "cell_type": "code",
   "execution_count": 40,
   "metadata": {},
   "outputs": [
    {
     "name": "stdout",
     "output_type": "stream",
     "text": [
      "0.4767599899373884\n"
     ]
    }
   ],
   "source": [
    "strategyYield = 1\n",
    "monthlyYieldHistory = {\"month\":[],\"yield\":[],\"strategyYield\":[]}\n",
    "for monthIndex in range(rollingSize, len(df)-1):\n",
    "  weight = 1/ int(industryCount * 0.1)\n",
    "  monthYield = 0\n",
    "  for acceptedIndustry in acceptedIndustriesList[monthIndex-rollingSize]:\n",
    "      monthYield += weight* regressionOutput[acceptedIndustry][\"IndustryYield\"][monthIndex+1]\n",
    "  strategyYield *= 1+monthYield\n",
    "  monthlyYieldHistory[\"month\"].append(df[\"month\"][monthIndex+1])\n",
    "  monthlyYieldHistory[\"yield\"].append(monthYield)\n",
    "  monthlyYieldHistory[\"strategyYield\"].append(strategyYield)\n",
    "\n",
    "print(strategyYield)\n",
    "\n",
    "saveDFToExcel(monthlyYieldHistory,\"SectorRotation6AxisNaive\",\"Monthly yields\")"
   ]
  }
 ],
 "metadata": {
  "interpreter": {
   "hash": "1448b48b023bcc9c3d4a79e814720a10ca6d4244f75e0f7ce4af58f96ba2b7d3"
  },
  "kernelspec": {
   "display_name": "Python 3.8.8 64-bit ('base': conda)",
   "name": "python3"
  },
  "language_info": {
   "codemirror_mode": {
    "name": "ipython",
    "version": 3
   },
   "file_extension": ".py",
   "mimetype": "text/x-python",
   "name": "python",
   "nbconvert_exporter": "python",
   "pygments_lexer": "ipython3",
   "version": "3.8.8"
  },
  "orig_nbformat": 4
 },
 "nbformat": 4,
 "nbformat_minor": 2
}
